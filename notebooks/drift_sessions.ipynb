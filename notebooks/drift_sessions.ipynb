{
 "cells": [
  {
   "cell_type": "markdown",
   "metadata": {},
   "source": [
    "## adding KS4 data\n",
    "1. Export spike times:\n",
    "    https://codeocean.allenneuraldynamics.org/capsule/2210357/tree\n",
    "    - attach new ks4 sorted asset\n",
    "    - use `dump_timing_info.py` with `npc_sessions` and put .json file in `/code` \n",
    "    - run capsule to create individual session parquet files in /results, and a consolidate file\n",
    "      (without spike times) at `s3://aind-scratch-data/dynamic-routing/unit-rasters-ks4/units.parquet`\n",
    "    - create asset with parquet files in `/ks4` folder\n",
    "2. https://codeocean.allenneuraldynamics.org/capsule/6421158/tree\n",
    "    - attach new asset with ks4 session unit parquet files\n",
    "    - run capsule to create R^2 values for spike count vs time\n",
    "    - download `corr_values_ks4.parquet` to `\\\\allen\\programs\\mindscope\\workgroups\\dynamicrouting\\ben`\n",
    "3. run `run_unit_drift_lda.py` \n",
    "    - uses corr values and consolidated units table (for `presence_ratio`)\n",
    "4. restart this notebook "
   ]
  },
  {
   "cell_type": "code",
   "execution_count": 1,
   "metadata": {},
   "outputs": [],
   "source": [
    "import pathlib\n",
    "import sys\n",
    "sys.path.append(str(pathlib.Path.cwd().absolute().parent))\n",
    "\n",
    "import polars as pl\n",
    "import altair as alt\n",
    "\n",
    "from app_charts import lda_all_df, get_roc_curve_df, lda_all_ks4_df\n",
    "import db_utils\n",
    "from db_utils import get_df"
   ]
  },
  {
   "cell_type": "markdown",
   "metadata": {},
   "source": [
    "---\n",
    "Annotated units"
   ]
  },
  {
   "cell_type": "code",
   "execution_count": null,
   "metadata": {},
   "outputs": [
    {
     "data": {
      "text/html": [
       "<div><style>\n",
       ".dataframe > thead > tr,\n",
       ".dataframe > tbody > tr {\n",
       "  text-align: right;\n",
       "  white-space: pre-wrap;\n",
       "}\n",
       "</style>\n",
       "<small>shape: (3, 2)</small><table border=\"1\" class=\"dataframe\"><thead><tr><th>drift_rating</th><th>proportion</th></tr><tr><td>str</td><td>f64</td></tr></thead><tbody><tr><td>&quot;drift&quot;</td><td>0.15475</td></tr><tr><td>&quot;unsure&quot;</td><td>0.35144</td></tr><tr><td>&quot;no drift&quot;</td><td>0.49381</td></tr></tbody></table></div>"
      ],
      "text/plain": [
       "shape: (3, 2)\n",
       "┌──────────────┬────────────┐\n",
       "│ drift_rating ┆ proportion │\n",
       "│ ---          ┆ ---        │\n",
       "│ str          ┆ f64        │\n",
       "╞══════════════╪════════════╡\n",
       "│ drift        ┆ 0.15475    │\n",
       "│ unsure       ┆ 0.35144    │\n",
       "│ no drift     ┆ 0.49381    │\n",
       "└──────────────┴────────────┘"
      ]
     },
     "metadata": {},
     "output_type": "display_data"
    },
    {
     "data": {
      "text/html": [
       "\n",
       "<style>\n",
       "  #altair-viz-fa50a5cc5d5a4b0eaaa67027f27c05da.vega-embed {\n",
       "    width: 100%;\n",
       "    display: flex;\n",
       "  }\n",
       "\n",
       "  #altair-viz-fa50a5cc5d5a4b0eaaa67027f27c05da.vega-embed details,\n",
       "  #altair-viz-fa50a5cc5d5a4b0eaaa67027f27c05da.vega-embed details summary {\n",
       "    position: relative;\n",
       "  }\n",
       "</style>\n",
       "<div id=\"altair-viz-fa50a5cc5d5a4b0eaaa67027f27c05da\"></div>\n",
       "<script type=\"text/javascript\">\n",
       "  var VEGA_DEBUG = (typeof VEGA_DEBUG == \"undefined\") ? {} : VEGA_DEBUG;\n",
       "  (function(spec, embedOpt){\n",
       "    let outputDiv = document.currentScript.previousElementSibling;\n",
       "    if (outputDiv.id !== \"altair-viz-fa50a5cc5d5a4b0eaaa67027f27c05da\") {\n",
       "      outputDiv = document.getElementById(\"altair-viz-fa50a5cc5d5a4b0eaaa67027f27c05da\");\n",
       "    }\n",
       "    const paths = {\n",
       "      \"vega\": \"https://cdn.jsdelivr.net/npm/vega@5?noext\",\n",
       "      \"vega-lib\": \"https://cdn.jsdelivr.net/npm/vega-lib?noext\",\n",
       "      \"vega-lite\": \"https://cdn.jsdelivr.net/npm/vega-lite@5.20.1?noext\",\n",
       "      \"vega-embed\": \"https://cdn.jsdelivr.net/npm/vega-embed@6?noext\",\n",
       "    };\n",
       "\n",
       "    function maybeLoadScript(lib, version) {\n",
       "      var key = `${lib.replace(\"-\", \"\")}_version`;\n",
       "      return (VEGA_DEBUG[key] == version) ?\n",
       "        Promise.resolve(paths[lib]) :\n",
       "        new Promise(function(resolve, reject) {\n",
       "          var s = document.createElement('script');\n",
       "          document.getElementsByTagName(\"head\")[0].appendChild(s);\n",
       "          s.async = true;\n",
       "          s.onload = () => {\n",
       "            VEGA_DEBUG[key] = version;\n",
       "            return resolve(paths[lib]);\n",
       "          };\n",
       "          s.onerror = () => reject(`Error loading script: ${paths[lib]}`);\n",
       "          s.src = paths[lib];\n",
       "        });\n",
       "    }\n",
       "\n",
       "    function showError(err) {\n",
       "      outputDiv.innerHTML = `<div class=\"error\" style=\"color:red;\">${err}</div>`;\n",
       "      throw err;\n",
       "    }\n",
       "\n",
       "    function displayChart(vegaEmbed) {\n",
       "      vegaEmbed(outputDiv, spec, embedOpt)\n",
       "        .catch(err => showError(`Javascript Error: ${err.message}<br>This usually means there's a typo in your chart specification. See the javascript console for the full traceback.`));\n",
       "    }\n",
       "\n",
       "    if(typeof define === \"function\" && define.amd) {\n",
       "      requirejs.config({paths});\n",
       "      require([\"vega-embed\"], displayChart, err => showError(`Error loading script: ${err.message}`));\n",
       "    } else {\n",
       "      maybeLoadScript(\"vega\", \"5\")\n",
       "        .then(() => maybeLoadScript(\"vega-lite\", \"5.20.1\"))\n",
       "        .then(() => maybeLoadScript(\"vega-embed\", \"6\"))\n",
       "        .catch(showError)\n",
       "        .then(() => displayChart(vegaEmbed));\n",
       "    }\n",
       "  })({\"config\": {\"view\": {\"continuousWidth\": 300, \"continuousHeight\": 300}}, \"layer\": [{\"mark\": {\"type\": \"arc\", \"outerRadius\": 120}, \"encoding\": {\"color\": {\"field\": \"drift_rating\", \"legend\": null, \"scale\": {\"scheme\": \"blues\", \"reverse\": true}, \"type\": \"nominal\"}, \"theta\": {\"field\": \"proportion\", \"stack\": true, \"type\": \"quantitative\"}, \"tooltip\": [{\"field\": \"drift_rating\", \"type\": \"nominal\"}, {\"field\": \"proportion\", \"type\": \"quantitative\"}]}, \"title\": \"7916 annotated units (KS2.5)\"}, {\"mark\": {\"type\": \"text\", \"radius\": 160, \"size\": 16}, \"encoding\": {\"color\": {\"field\": \"drift_rating\", \"legend\": null, \"scale\": {\"scheme\": \"blues\", \"reverse\": true}, \"type\": \"nominal\"}, \"text\": {\"field\": \"drift_rating\", \"type\": \"nominal\"}, \"theta\": {\"field\": \"proportion\", \"stack\": true, \"type\": \"quantitative\"}, \"tooltip\": [{\"field\": \"drift_rating\", \"type\": \"nominal\"}, {\"field\": \"proportion\", \"type\": \"quantitative\"}]}, \"title\": \"7916 annotated units (KS2.5)\"}], \"data\": {\"name\": \"data-cf108a9db816478a58d88f27a2b4afa9\"}, \"$schema\": \"https://vega.github.io/schema/vega-lite/v5.20.1.json\", \"datasets\": {\"data-cf108a9db816478a58d88f27a2b4afa9\": [{\"drift_rating\": \"drift\", \"proportion\": 0.1547498736735725}, {\"drift_rating\": \"unsure\", \"proportion\": 0.3514401212733704}, {\"drift_rating\": \"no drift\", \"proportion\": 0.4938100050530571}]}}, {\"mode\": \"vega-lite\"});\n",
       "</script>"
      ],
      "text/plain": [
       "alt.LayerChart(...)"
      ]
     },
     "execution_count": 100,
     "metadata": {},
     "output_type": "execute_result"
    }
   ],
   "source": [
    "df = (\n",
    "    get_df()\n",
    "    .drop_nulls('drift_rating')\n",
    "    .with_columns(\n",
    "        drift_rating=pl.when(pl.col(\"drift_rating\") == db_utils.UnitDriftRating.YES)\n",
    "        .then(pl.lit('drift'))\n",
    "        .when(pl.col(\"drift_rating\") == db_utils.UnitDriftRating.NO)\n",
    "        .then(pl.lit('no drift'))\n",
    "        .when(pl.col(\"drift_rating\") == db_utils.UnitDriftRating.UNSURE)\n",
    "        .then(pl.lit('unsure'))\n",
    "    ) \n",
    "    .get_column('drift_rating')\n",
    "    .value_counts(normalize=True)\n",
    "    .sort('proportion')\n",
    ")\n",
    "\n",
    "display(df)\n",
    "base = (\n",
    "    alt.Chart(df)\n",
    "    .encode(\n",
    "        theta=alt.Theta(\"proportion:Q\").stack(True),\n",
    "        color=alt.Color(\"drift_rating\").scale(scheme=\"blues\", reverse=True).legend(None),\n",
    "        tooltip=[\"drift_rating\", \"proportion\"],\n",
    "    )\n",
    "    .properties(title=f\"{len(get_df().drop_nulls('drift_rating'))} annotated units (KS2.5)\")\n",
    ")\n",
    "base.mark_arc(outerRadius=120) + base.mark_text(radius=160, size=16).encode(text=\"drift_rating:N\")"
   ]
  },
  {
   "cell_type": "code",
   "execution_count": 101,
   "metadata": {},
   "outputs": [
    {
     "data": {
      "text/html": [
       "<div><style>\n",
       ".dataframe > thead > tr,\n",
       ".dataframe > tbody > tr {\n",
       "  text-align: right;\n",
       "  white-space: pre-wrap;\n",
       "}\n",
       "</style>\n",
       "<small>shape: (138, 2)</small><table border=\"1\" class=\"dataframe\"><thead><tr><th>session_id</th><th>lda_median</th></tr><tr><td>str</td><td>f64</td></tr></thead><tbody><tr><td>&quot;715710_2024-07-17&quot;</td><td>-0.204278</td></tr><tr><td>&quot;741148_2024-10-18&quot;</td><td>-0.220592</td></tr><tr><td>&quot;699847_2024-04-15&quot;</td><td>-0.244285</td></tr><tr><td>&quot;649943_2023-02-14&quot;</td><td>-0.29585</td></tr><tr><td>&quot;741148_2024-10-16&quot;</td><td>-0.31744</td></tr><tr><td>&hellip;</td><td>&hellip;</td></tr><tr><td>&quot;708016_2024-04-29&quot;</td><td>-0.533534</td></tr><tr><td>&quot;681532_2023-10-17&quot;</td><td>-0.53596</td></tr><tr><td>&quot;666986_2023-08-15&quot;</td><td>-0.536073</td></tr><tr><td>&quot;737403_2024-09-26&quot;</td><td>-0.53659</td></tr><tr><td>&quot;702136_2024-03-05&quot;</td><td>-0.54674</td></tr></tbody></table></div>"
      ],
      "text/plain": [
       "shape: (138, 2)\n",
       "┌───────────────────┬────────────┐\n",
       "│ session_id        ┆ lda_median │\n",
       "│ ---               ┆ ---        │\n",
       "│ str               ┆ f64        │\n",
       "╞═══════════════════╪════════════╡\n",
       "│ 715710_2024-07-17 ┆ -0.204278  │\n",
       "│ 741148_2024-10-18 ┆ -0.220592  │\n",
       "│ 699847_2024-04-15 ┆ -0.244285  │\n",
       "│ 649943_2023-02-14 ┆ -0.29585   │\n",
       "│ 741148_2024-10-16 ┆ -0.31744   │\n",
       "│ …                 ┆ …          │\n",
       "│ 708016_2024-04-29 ┆ -0.533534  │\n",
       "│ 681532_2023-10-17 ┆ -0.53596   │\n",
       "│ 666986_2023-08-15 ┆ -0.536073  │\n",
       "│ 737403_2024-09-26 ┆ -0.53659   │\n",
       "│ 702136_2024-03-05 ┆ -0.54674   │\n",
       "└───────────────────┴────────────┘"
      ]
     },
     "metadata": {},
     "output_type": "display_data"
    },
    {
     "data": {
      "text/html": [
       "<div><style>\n",
       ".dataframe > thead > tr,\n",
       ".dataframe > tbody > tr {\n",
       "  text-align: right;\n",
       "  white-space: pre-wrap;\n",
       "}\n",
       "</style>\n",
       "<small>shape: (8, 2)</small><table border=\"1\" class=\"dataframe\"><thead><tr><th>statistic</th><th>value</th></tr><tr><td>str</td><td>f64</td></tr></thead><tbody><tr><td>&quot;count&quot;</td><td>138.0</td></tr><tr><td>&quot;null_count&quot;</td><td>0.0</td></tr><tr><td>&quot;mean&quot;</td><td>-0.447178</td></tr><tr><td>&quot;std&quot;</td><td>0.069481</td></tr><tr><td>&quot;min&quot;</td><td>-0.54674</td></tr><tr><td>&quot;10%&quot;</td><td>-0.523033</td></tr><tr><td>&quot;90%&quot;</td><td>-0.352652</td></tr><tr><td>&quot;max&quot;</td><td>-0.204278</td></tr></tbody></table></div>"
      ],
      "text/plain": [
       "shape: (8, 2)\n",
       "┌────────────┬───────────┐\n",
       "│ statistic  ┆ value     │\n",
       "│ ---        ┆ ---       │\n",
       "│ str        ┆ f64       │\n",
       "╞════════════╪═══════════╡\n",
       "│ count      ┆ 138.0     │\n",
       "│ null_count ┆ 0.0       │\n",
       "│ mean       ┆ -0.447178 │\n",
       "│ std        ┆ 0.069481  │\n",
       "│ min        ┆ -0.54674  │\n",
       "│ 10%        ┆ -0.523033 │\n",
       "│ 90%        ┆ -0.352652 │\n",
       "│ max        ┆ -0.204278 │\n",
       "└────────────┴───────────┘"
      ]
     },
     "metadata": {},
     "output_type": "display_data"
    }
   ],
   "source": [
    "df = (\n",
    "    get_df()\n",
    "    .drop_nulls('drift_rating')\n",
    "    .join(lda_all_df, on='unit_id', how='left')\n",
    "    .group_by('session_id')\n",
    "    .agg(\n",
    "        pl.col('lda').median().alias('lda_median'),\n",
    "    )\n",
    "    .sort('lda_median', descending=True)\n",
    "    .drop_nulls('lda_median')\n",
    ")\n",
    "display(df)\n",
    "display(df['lda_median'].describe(percentiles=(0.1, 0.9)))"
   ]
  },
  {
   "cell_type": "markdown",
   "metadata": {},
   "source": [
    "---\n",
    "All units (KS2.5)"
   ]
  },
  {
   "cell_type": "code",
   "execution_count": 93,
   "metadata": {},
   "outputs": [
    {
     "data": {
      "text/html": [
       "<div><style>\n",
       ".dataframe > thead > tr,\n",
       ".dataframe > tbody > tr {\n",
       "  text-align: right;\n",
       "  white-space: pre-wrap;\n",
       "}\n",
       "</style>\n",
       "<small>shape: (138, 2)</small><table border=\"1\" class=\"dataframe\"><thead><tr><th>session_id</th><th>lda_median</th></tr><tr><td>str</td><td>f64</td></tr></thead><tbody><tr><td>&quot;715710_2024-07-17&quot;</td><td>-0.215176</td></tr><tr><td>&quot;741148_2024-10-18&quot;</td><td>-0.243859</td></tr><tr><td>&quot;699847_2024-04-15&quot;</td><td>-0.245339</td></tr><tr><td>&quot;649943_2023-02-14&quot;</td><td>-0.306642</td></tr><tr><td>&quot;741148_2024-10-16&quot;</td><td>-0.325689</td></tr><tr><td>&hellip;</td><td>&hellip;</td></tr><tr><td>&quot;708016_2024-04-29&quot;</td><td>-0.55204</td></tr><tr><td>&quot;737403_2024-09-26&quot;</td><td>-0.552929</td></tr><tr><td>&quot;681532_2023-10-17&quot;</td><td>-0.554601</td></tr><tr><td>&quot;666986_2023-08-15&quot;</td><td>-0.554789</td></tr><tr><td>&quot;702136_2024-03-05&quot;</td><td>-0.566598</td></tr></tbody></table></div>"
      ],
      "text/plain": [
       "shape: (138, 2)\n",
       "┌───────────────────┬────────────┐\n",
       "│ session_id        ┆ lda_median │\n",
       "│ ---               ┆ ---        │\n",
       "│ str               ┆ f64        │\n",
       "╞═══════════════════╪════════════╡\n",
       "│ 715710_2024-07-17 ┆ -0.215176  │\n",
       "│ 741148_2024-10-18 ┆ -0.243859  │\n",
       "│ 699847_2024-04-15 ┆ -0.245339  │\n",
       "│ 649943_2023-02-14 ┆ -0.306642  │\n",
       "│ 741148_2024-10-16 ┆ -0.325689  │\n",
       "│ …                 ┆ …          │\n",
       "│ 708016_2024-04-29 ┆ -0.55204   │\n",
       "│ 737403_2024-09-26 ┆ -0.552929  │\n",
       "│ 681532_2023-10-17 ┆ -0.554601  │\n",
       "│ 666986_2023-08-15 ┆ -0.554789  │\n",
       "│ 702136_2024-03-05 ┆ -0.566598  │\n",
       "└───────────────────┴────────────┘"
      ]
     },
     "metadata": {},
     "output_type": "display_data"
    },
    {
     "data": {
      "text/html": [
       "<div><style>\n",
       ".dataframe > thead > tr,\n",
       ".dataframe > tbody > tr {\n",
       "  text-align: right;\n",
       "  white-space: pre-wrap;\n",
       "}\n",
       "</style>\n",
       "<small>shape: (8, 2)</small><table border=\"1\" class=\"dataframe\"><thead><tr><th>statistic</th><th>value</th></tr><tr><td>str</td><td>f64</td></tr></thead><tbody><tr><td>&quot;count&quot;</td><td>138.0</td></tr><tr><td>&quot;null_count&quot;</td><td>0.0</td></tr><tr><td>&quot;mean&quot;</td><td>-0.465545</td></tr><tr><td>&quot;std&quot;</td><td>0.071457</td></tr><tr><td>&quot;min&quot;</td><td>-0.566598</td></tr><tr><td>&quot;10%&quot;</td><td>-0.539867</td></tr><tr><td>&quot;90%&quot;</td><td>-0.367935</td></tr><tr><td>&quot;max&quot;</td><td>-0.215176</td></tr></tbody></table></div>"
      ],
      "text/plain": [
       "shape: (8, 2)\n",
       "┌────────────┬───────────┐\n",
       "│ statistic  ┆ value     │\n",
       "│ ---        ┆ ---       │\n",
       "│ str        ┆ f64       │\n",
       "╞════════════╪═══════════╡\n",
       "│ count      ┆ 138.0     │\n",
       "│ null_count ┆ 0.0       │\n",
       "│ mean       ┆ -0.465545 │\n",
       "│ std        ┆ 0.071457  │\n",
       "│ min        ┆ -0.566598 │\n",
       "│ 10%        ┆ -0.539867 │\n",
       "│ 90%        ┆ -0.367935 │\n",
       "│ max        ┆ -0.215176 │\n",
       "└────────────┴───────────┘"
      ]
     },
     "metadata": {},
     "output_type": "display_data"
    }
   ],
   "source": [
    "df = (\n",
    "    lda_all_df\n",
    "    .drop_nulls('drift_rating')\n",
    "    .with_columns(\n",
    "            session_id=pl.col('unit_id').str.split('_').list.slice(0, 2).list.join('_'),\n",
    "    )\n",
    "    .group_by('session_id')\n",
    "    .agg(\n",
    "        pl.col('lda').median().alias('lda_median'),\n",
    "    )\n",
    "    .sort('lda_median', descending=True)\n",
    ")\n",
    "display(df)\n",
    "display(df['lda_median'].describe(percentiles=(0.1, 0.9)))"
   ]
  },
  {
   "cell_type": "code",
   "execution_count": 2,
   "metadata": {},
   "outputs": [
    {
     "data": {
      "text/html": [
       "\n",
       "<style>\n",
       "  #altair-viz-e25172aaa7fb468e8677f31ba00ca23e.vega-embed {\n",
       "    width: 100%;\n",
       "    display: flex;\n",
       "  }\n",
       "\n",
       "  #altair-viz-e25172aaa7fb468e8677f31ba00ca23e.vega-embed details,\n",
       "  #altair-viz-e25172aaa7fb468e8677f31ba00ca23e.vega-embed details summary {\n",
       "    position: relative;\n",
       "  }\n",
       "</style>\n",
       "<div id=\"altair-viz-e25172aaa7fb468e8677f31ba00ca23e\"></div>\n",
       "<script type=\"text/javascript\">\n",
       "  var VEGA_DEBUG = (typeof VEGA_DEBUG == \"undefined\") ? {} : VEGA_DEBUG;\n",
       "  (function(spec, embedOpt){\n",
       "    let outputDiv = document.currentScript.previousElementSibling;\n",
       "    if (outputDiv.id !== \"altair-viz-e25172aaa7fb468e8677f31ba00ca23e\") {\n",
       "      outputDiv = document.getElementById(\"altair-viz-e25172aaa7fb468e8677f31ba00ca23e\");\n",
       "    }\n",
       "    const paths = {\n",
       "      \"vega\": \"https://cdn.jsdelivr.net/npm/vega@5?noext\",\n",
       "      \"vega-lib\": \"https://cdn.jsdelivr.net/npm/vega-lib?noext\",\n",
       "      \"vega-lite\": \"https://cdn.jsdelivr.net/npm/vega-lite@5.20.1?noext\",\n",
       "      \"vega-embed\": \"https://cdn.jsdelivr.net/npm/vega-embed@6?noext\",\n",
       "    };\n",
       "\n",
       "    function maybeLoadScript(lib, version) {\n",
       "      var key = `${lib.replace(\"-\", \"\")}_version`;\n",
       "      return (VEGA_DEBUG[key] == version) ?\n",
       "        Promise.resolve(paths[lib]) :\n",
       "        new Promise(function(resolve, reject) {\n",
       "          var s = document.createElement('script');\n",
       "          document.getElementsByTagName(\"head\")[0].appendChild(s);\n",
       "          s.async = true;\n",
       "          s.onload = () => {\n",
       "            VEGA_DEBUG[key] = version;\n",
       "            return resolve(paths[lib]);\n",
       "          };\n",
       "          s.onerror = () => reject(`Error loading script: ${paths[lib]}`);\n",
       "          s.src = paths[lib];\n",
       "        });\n",
       "    }\n",
       "\n",
       "    function showError(err) {\n",
       "      outputDiv.innerHTML = `<div class=\"error\" style=\"color:red;\">${err}</div>`;\n",
       "      throw err;\n",
       "    }\n",
       "\n",
       "    function displayChart(vegaEmbed) {\n",
       "      vegaEmbed(outputDiv, spec, embedOpt)\n",
       "        .catch(err => showError(`Javascript Error: ${err.message}<br>This usually means there's a typo in your chart specification. See the javascript console for the full traceback.`));\n",
       "    }\n",
       "\n",
       "    if(typeof define === \"function\" && define.amd) {\n",
       "      requirejs.config({paths});\n",
       "      require([\"vega-embed\"], displayChart, err => showError(`Error loading script: ${err.message}`));\n",
       "    } else {\n",
       "      maybeLoadScript(\"vega\", \"5\")\n",
       "        .then(() => maybeLoadScript(\"vega-lite\", \"5.20.1\"))\n",
       "        .then(() => maybeLoadScript(\"vega-embed\", \"6\"))\n",
       "        .catch(showError)\n",
       "        .then(() => displayChart(vegaEmbed));\n",
       "    }\n",
       "  })({\"config\": {\"view\": {\"continuousWidth\": 300, \"continuousHeight\": 300}}, \"data\": {\"name\": \"data-6406041ed5badf664d7d7299e6ec8c99\"}, \"mark\": {\"type\": \"bar\"}, \"encoding\": {\"color\": {\"field\": \"above_threshold\", \"type\": \"quantitative\"}, \"order\": {\"field\": \"session_id\", \"type\": \"nominal\"}, \"tooltip\": [{\"field\": \"units_group\", \"type\": \"nominal\"}, {\"field\": \"session_id\", \"type\": \"nominal\"}, {\"field\": \"n_units_with_lda_score\", \"type\": \"quantitative\"}, {\"field\": \"above_threshold\", \"type\": \"quantitative\"}], \"x\": {\"field\": \"subject_id\", \"sort\": \"x\", \"type\": \"nominal\"}, \"xOffset\": {\"field\": \"units_group\", \"sort\": [\"annotated_ks2.5\", \"predicted_ks2.5\", \"predicted_ks4\"], \"type\": \"nominal\"}, \"y\": {\"field\": \"above_threshold\", \"type\": \"quantitative\"}}, \"height\": 300, \"params\": [{\"name\": \"param_7\", \"select\": {\"type\": \"interval\", \"encodings\": [\"x\", \"y\"]}, \"bind\": \"scales\"}], \"title\": [\"Fraction of units above lda_threshold=-0.45 (FPR=0.2) (some sessions missing LDA metric for units)\", \"\", \"annotated_ks2.5 units    |    predicted_ks2.5 (all units)    |    predicted_ks4 (all units)\"], \"width\": 1800, \"$schema\": \"https://vega.github.io/schema/vega-lite/v5.20.1.json\", \"datasets\": {\"data-6406041ed5badf664d7d7299e6ec8c99\": [{\"session_id\": \"714753_2024-07-01\", \"subject_id\": \"714753\", \"above_threshold\": 0.3448275862068966, \"n_units_with_lda_score\": 29, \"subject_total_above_threshold\": 0.8648275862068966, \"units_group\": \"annotated_ks2.5\"}, {\"session_id\": \"662892_2023-08-24\", \"subject_id\": \"662892\", \"above_threshold\": 0.2222222222222222, \"n_units_with_lda_score\": 27, \"subject_total_above_threshold\": 1.562169312169312, \"units_group\": \"annotated_ks2.5\"}, {\"session_id\": \"703882_2024-04-25\", \"subject_id\": \"703882\", \"above_threshold\": 0.3076923076923077, \"n_units_with_lda_score\": 26, \"subject_total_above_threshold\": 1.3964970214970216, \"units_group\": \"annotated_ks2.5\"}, {\"session_id\": \"662892_2023-08-23\", \"subject_id\": \"662892\", \"above_threshold\": 0.35714285714285715, \"n_units_with_lda_score\": 28, \"subject_total_above_threshold\": 1.562169312169312, \"units_group\": \"annotated_ks2.5\"}, {\"session_id\": \"733891_2024-09-17\", \"subject_id\": \"733891\", \"above_threshold\": 0.2692307692307692, \"n_units_with_lda_score\": 26, \"subject_total_above_threshold\": 2.088962536411695, \"units_group\": \"annotated_ks2.5\"}, {\"session_id\": \"644867_2023-02-20\", \"subject_id\": \"644867\", \"above_threshold\": 0.5652173913043478, \"n_units_with_lda_score\": 23, \"subject_total_above_threshold\": 1.5366459627329192, \"units_group\": \"annotated_ks2.5\"}, {\"session_id\": \"644866_2023-02-10\", \"subject_id\": \"644866\", \"above_threshold\": 0.7586206896551724, \"n_units_with_lda_score\": 29, \"subject_total_above_threshold\": 1.9038587848932678, \"units_group\": \"annotated_ks2.5\"}, {\"session_id\": \"666986_2023-08-17\", \"subject_id\": \"666986\", \"above_threshold\": 0.47058823529411764, \"n_units_with_lda_score\": 34, \"subject_total_above_threshold\": 1.303921568627451, \"units_group\": \"annotated_ks2.5\"}, {\"session_id\": \"649943_2023-02-16\", \"subject_id\": \"649943\", \"above_threshold\": 0.7, \"n_units_with_lda_score\": 30, \"subject_total_above_threshold\": 2.4848214285714283, \"units_group\": \"annotated_ks2.5\"}, {\"session_id\": \"737403_2024-09-27\", \"subject_id\": \"737403\", \"above_threshold\": 0.5416666666666666, \"n_units_with_lda_score\": 24, \"subject_total_above_threshold\": 1.9298387096774192, \"units_group\": \"annotated_ks2.5\"}, {\"session_id\": \"676909_2023-12-13\", \"subject_id\": \"676909\", \"above_threshold\": 0.6451612903225806, \"n_units_with_lda_score\": 31, \"subject_total_above_threshold\": 2.001457586618877, \"units_group\": \"annotated_ks2.5\"}, {\"session_id\": \"703880_2024-04-18\", \"subject_id\": \"703880\", \"above_threshold\": 0.17857142857142858, \"n_units_with_lda_score\": 28, \"subject_total_above_threshold\": 1.4116483516483518, \"units_group\": \"annotated_ks2.5\"}, {\"session_id\": \"662892_2023-08-21\", \"subject_id\": \"662892\", \"above_threshold\": 0.5185185185185185, \"n_units_with_lda_score\": 27, \"subject_total_above_threshold\": 1.562169312169312, \"units_group\": \"annotated_ks2.5\"}, {\"session_id\": \"737403_2024-09-25\", \"subject_id\": \"737403\", \"above_threshold\": 0.5, \"n_units_with_lda_score\": 32, \"subject_total_above_threshold\": 1.9298387096774192, \"units_group\": \"annotated_ks2.5\"}, {\"session_id\": \"676909_2023-12-14\", \"subject_id\": \"676909\", \"above_threshold\": 0.5, \"n_units_with_lda_score\": 24, \"subject_total_above_threshold\": 2.001457586618877, \"units_group\": \"annotated_ks2.5\"}, {\"session_id\": \"712815_2024-05-21\", \"subject_id\": \"712815\", \"above_threshold\": 0.6666666666666666, \"n_units_with_lda_score\": 18, \"subject_total_above_threshold\": 1.5897435897435896, \"units_group\": \"annotated_ks2.5\"}, {\"session_id\": \"706401_2024-04-23\", \"subject_id\": \"706401\", \"above_threshold\": 0.5862068965517241, \"n_units_with_lda_score\": 29, \"subject_total_above_threshold\": 1.2188905547226387, \"units_group\": \"annotated_ks2.5\"}, {\"session_id\": \"703333_2024-04-10\", \"subject_id\": \"703333\", \"above_threshold\": 0.4, \"n_units_with_lda_score\": 25, \"subject_total_above_threshold\": 1.7246376811594204, \"units_group\": \"annotated_ks2.5\"}, {\"session_id\": \"742903_2024-10-21\", \"subject_id\": \"742903\", \"above_threshold\": 0.41228070175438597, \"n_units_with_lda_score\": 114, \"subject_total_above_threshold\": 1.8497267902002887, \"units_group\": \"annotated_ks2.5\"}, {\"session_id\": \"649943_2023-02-15\", \"subject_id\": \"649943\", \"above_threshold\": 0.65625, \"n_units_with_lda_score\": 32, \"subject_total_above_threshold\": 2.4848214285714283, \"units_group\": \"annotated_ks2.5\"}, {\"session_id\": \"686740_2023-10-23\", \"subject_id\": \"686740\", \"above_threshold\": 0.3333333333333333, \"n_units_with_lda_score\": 24, \"subject_total_above_threshold\": 1.686202686202686, \"units_group\": \"annotated_ks2.5\"}, {\"session_id\": \"703333_2024-04-09\", \"subject_id\": \"703333\", \"above_threshold\": 0.43333333333333335, \"n_units_with_lda_score\": 30, \"subject_total_above_threshold\": 1.7246376811594204, \"units_group\": \"annotated_ks2.5\"}, {\"session_id\": \"681532_2023-10-18\", \"subject_id\": \"681532\", \"above_threshold\": 0.4482758620689655, \"n_units_with_lda_score\": 29, \"subject_total_above_threshold\": 0.9990004997501248, \"units_group\": \"annotated_ks2.5\"}, {\"session_id\": \"703880_2024-04-15\", \"subject_id\": \"703880\", \"above_threshold\": 0.25, \"n_units_with_lda_score\": 24, \"subject_total_above_threshold\": 1.4116483516483518, \"units_group\": \"annotated_ks2.5\"}, {\"session_id\": \"676909_2023-12-11\", \"subject_id\": \"676909\", \"above_threshold\": 0.2962962962962963, \"n_units_with_lda_score\": 27, \"subject_total_above_threshold\": 2.001457586618877, \"units_group\": \"annotated_ks2.5\"}, {\"session_id\": \"626791_2022-08-15\", \"subject_id\": \"626791\", \"above_threshold\": 0.6551724137931034, \"n_units_with_lda_score\": 29, \"subject_total_above_threshold\": 1.6669371196754565, \"units_group\": \"annotated_ks2.5\"}, {\"session_id\": \"715710_2024-07-17\", \"subject_id\": \"715710\", \"above_threshold\": 0.7777777777777778, \"n_units_with_lda_score\": 27, \"subject_total_above_threshold\": 2.30887314439946, \"units_group\": \"annotated_ks2.5\"}, {\"session_id\": \"667252_2023-09-28\", \"subject_id\": \"667252\", \"above_threshold\": 0.5172413793103449, \"n_units_with_lda_score\": 29, \"subject_total_above_threshold\": 1.424292661361627, \"units_group\": \"annotated_ks2.5\"}, {\"session_id\": \"715710_2024-07-16\", \"subject_id\": \"715710\", \"above_threshold\": 0.42105263157894735, \"n_units_with_lda_score\": 19, \"subject_total_above_threshold\": 2.30887314439946, \"units_group\": \"annotated_ks2.5\"}, {\"session_id\": \"666986_2023-08-14\", \"subject_id\": \"666986\", \"above_threshold\": 0.5, \"n_units_with_lda_score\": 28, \"subject_total_above_threshold\": 1.303921568627451, \"units_group\": \"annotated_ks2.5\"}, {\"session_id\": \"742903_2024-10-23\", \"subject_id\": \"742903\", \"above_threshold\": 0.4666666666666667, \"n_units_with_lda_score\": 30, \"subject_total_above_threshold\": 1.8497267902002887, \"units_group\": \"annotated_ks2.5\"}, {\"session_id\": \"644867_2023-02-22\", \"subject_id\": \"644867\", \"above_threshold\": 0.5714285714285714, \"n_units_with_lda_score\": 28, \"subject_total_above_threshold\": 1.5366459627329192, \"units_group\": \"annotated_ks2.5\"}, {\"session_id\": \"733891_2024-09-20\", \"subject_id\": \"733891\", \"above_threshold\": 0.391304347826087, \"n_units_with_lda_score\": 23, \"subject_total_above_threshold\": 2.088962536411695, \"units_group\": \"annotated_ks2.5\"}, {\"session_id\": \"713655_2024-08-09\", \"subject_id\": \"713655\", \"above_threshold\": 0.40625, \"n_units_with_lda_score\": 32, \"subject_total_above_threshold\": 2.0156006493506493, \"units_group\": \"annotated_ks2.5\"}, {\"session_id\": \"686740_2023-10-24\", \"subject_id\": \"686740\", \"above_threshold\": 0.4444444444444444, \"n_units_with_lda_score\": 27, \"subject_total_above_threshold\": 1.686202686202686, \"units_group\": \"annotated_ks2.5\"}, {\"session_id\": \"726088_2024-06-17\", \"subject_id\": \"726088\", \"above_threshold\": 0.46153846153846156, \"n_units_with_lda_score\": 26, \"subject_total_above_threshold\": 1.5854557255766935, \"units_group\": \"annotated_ks2.5\"}, {\"session_id\": \"681532_2023-10-16\", \"subject_id\": \"681532\", \"above_threshold\": 0.3333333333333333, \"n_units_with_lda_score\": 27, \"subject_total_above_threshold\": 0.9990004997501248, \"units_group\": \"annotated_ks2.5\"}, {\"session_id\": \"741148_2024-10-17\", \"subject_id\": \"741148\", \"above_threshold\": 0.3225806451612903, \"n_units_with_lda_score\": 31, \"subject_total_above_threshold\": 2.090674620151817, \"units_group\": \"annotated_ks2.5\"}, {\"session_id\": \"626791_2022-08-17\", \"subject_id\": \"626791\", \"above_threshold\": 0.4117647058823529, \"n_units_with_lda_score\": 34, \"subject_total_above_threshold\": 1.6669371196754565, \"units_group\": \"annotated_ks2.5\"}, {\"session_id\": \"714748_2024-06-27\", \"subject_id\": \"714748\", \"above_threshold\": 0.375, \"n_units_with_lda_score\": 24, \"subject_total_above_threshold\": 1.4409814323607428, \"units_group\": \"annotated_ks2.5\"}, {\"session_id\": \"733891_2024-09-19\", \"subject_id\": \"733891\", \"above_threshold\": 0.7096774193548387, \"n_units_with_lda_score\": 31, \"subject_total_above_threshold\": 2.088962536411695, \"units_group\": \"annotated_ks2.5\"}, {\"session_id\": \"733780_2024-09-03\", \"subject_id\": \"733780\", \"above_threshold\": 0.35, \"n_units_with_lda_score\": 20, \"subject_total_above_threshold\": 2.9210390395619594, \"units_group\": \"annotated_ks2.5\"}, {\"session_id\": \"703333_2024-04-11\", \"subject_id\": \"703333\", \"above_threshold\": 0.5, \"n_units_with_lda_score\": 28, \"subject_total_above_threshold\": 1.7246376811594204, \"units_group\": \"annotated_ks2.5\"}, {\"session_id\": \"737403_2024-09-24\", \"subject_id\": \"737403\", \"above_threshold\": 0.5333333333333333, \"n_units_with_lda_score\": 30, \"subject_total_above_threshold\": 1.9298387096774192, \"units_group\": \"annotated_ks2.5\"}, {\"session_id\": \"742903_2024-10-22\", \"subject_id\": \"742903\", \"above_threshold\": 0.3500897666068223, \"n_units_with_lda_score\": 3342, \"subject_total_above_threshold\": 1.8497267902002887, \"units_group\": \"annotated_ks2.5\"}, {\"session_id\": \"742903_2024-10-24\", \"subject_id\": \"742903\", \"above_threshold\": 0.6206896551724138, \"n_units_with_lda_score\": 29, \"subject_total_above_threshold\": 1.8497267902002887, \"units_group\": \"annotated_ks2.5\"}, {\"session_id\": \"741148_2024-10-16\", \"subject_id\": \"741148\", \"above_threshold\": 0.6153846153846154, \"n_units_with_lda_score\": 26, \"subject_total_above_threshold\": 2.090674620151817, \"units_group\": \"annotated_ks2.5\"}, {\"session_id\": \"644864_2023-01-31\", \"subject_id\": \"644864\", \"above_threshold\": 0.5833333333333334, \"n_units_with_lda_score\": 24, \"subject_total_above_threshold\": 1.5833333333333335, \"units_group\": \"annotated_ks2.5\"}, {\"session_id\": \"668755_2023-08-31\", \"subject_id\": \"668755\", \"above_threshold\": 0.38461538461538464, \"n_units_with_lda_score\": 26, \"subject_total_above_threshold\": 1.2623931623931623, \"units_group\": \"annotated_ks2.5\"}, {\"session_id\": \"644864_2023-02-02\", \"subject_id\": \"644864\", \"above_threshold\": 0.34615384615384615, \"n_units_with_lda_score\": 26, \"subject_total_above_threshold\": 1.5833333333333335, \"units_group\": \"annotated_ks2.5\"}, {\"session_id\": \"726088_2024-06-18\", \"subject_id\": \"726088\", \"above_threshold\": 0.2962962962962963, \"n_units_with_lda_score\": 27, \"subject_total_above_threshold\": 1.5854557255766935, \"units_group\": \"annotated_ks2.5\"}, {\"session_id\": \"713655_2024-08-07\", \"subject_id\": \"713655\", \"above_threshold\": 0.36363636363636365, \"n_units_with_lda_score\": 22, \"subject_total_above_threshold\": 2.0156006493506493, \"units_group\": \"annotated_ks2.5\"}, {\"session_id\": \"636766_2023-01-25\", \"subject_id\": \"636766\", \"above_threshold\": 0.3333333333333333, \"n_units_with_lda_score\": 24, \"subject_total_above_threshold\": 1.973901937919929, \"units_group\": \"annotated_ks2.5\"}, {\"session_id\": \"715710_2024-07-19\", \"subject_id\": \"715710\", \"above_threshold\": 0.34615384615384615, \"n_units_with_lda_score\": 26, \"subject_total_above_threshold\": 2.30887314439946, \"units_group\": \"annotated_ks2.5\"}, {\"session_id\": \"703880_2024-04-16\", \"subject_id\": \"703880\", \"above_threshold\": 0.56, \"n_units_with_lda_score\": 25, \"subject_total_above_threshold\": 1.4116483516483518, \"units_group\": \"annotated_ks2.5\"}, {\"session_id\": \"708016_2024-04-30\", \"subject_id\": \"708016\", \"above_threshold\": 0.2, \"n_units_with_lda_score\": 25, \"subject_total_above_threshold\": 0.9600000000000001, \"units_group\": \"annotated_ks2.5\"}, {\"session_id\": \"741148_2024-10-18\", \"subject_id\": \"741148\", \"above_threshold\": 0.7241379310344828, \"n_units_with_lda_score\": 29, \"subject_total_above_threshold\": 2.090674620151817, \"units_group\": \"annotated_ks2.5\"}, {\"session_id\": \"733780_2024-08-29\", \"subject_id\": \"733780\", \"above_threshold\": 0.5789473684210527, \"n_units_with_lda_score\": 19, \"subject_total_above_threshold\": 2.9210390395619594, \"units_group\": \"annotated_ks2.5\"}, {\"session_id\": \"733780_2024-08-26\", \"subject_id\": \"733780\", \"above_threshold\": 0.3684210526315789, \"n_units_with_lda_score\": 19, \"subject_total_above_threshold\": 2.9210390395619594, \"units_group\": \"annotated_ks2.5\"}, {\"session_id\": \"662892_2023-08-22\", \"subject_id\": \"662892\", \"above_threshold\": 0.4642857142857143, \"n_units_with_lda_score\": 28, \"subject_total_above_threshold\": 1.562169312169312, \"units_group\": \"annotated_ks2.5\"}, {\"session_id\": \"741137_2024-10-08\", \"subject_id\": \"741137\", \"above_threshold\": 0.5925925925925926, \"n_units_with_lda_score\": 27, \"subject_total_above_threshold\": 2.2503101623791277, \"units_group\": \"annotated_ks2.5\"}, {\"session_id\": \"726088_2024-06-20\", \"subject_id\": \"726088\", \"above_threshold\": 0.4838709677419355, \"n_units_with_lda_score\": 31, \"subject_total_above_threshold\": 1.5854557255766935, \"units_group\": \"annotated_ks2.5\"}, {\"session_id\": \"674562_2023-10-05\", \"subject_id\": \"674562\", \"above_threshold\": 0.37037037037037035, \"n_units_with_lda_score\": 27, \"subject_total_above_threshold\": 1.634870990717765, \"units_group\": \"annotated_ks2.5\"}, {\"session_id\": \"666986_2023-08-15\", \"subject_id\": \"666986\", \"above_threshold\": 0.3333333333333333, \"n_units_with_lda_score\": 27, \"subject_total_above_threshold\": 1.303921568627451, \"units_group\": \"annotated_ks2.5\"}, {\"session_id\": \"649943_2023-02-14\", \"subject_id\": \"649943\", \"above_threshold\": 0.7, \"n_units_with_lda_score\": 30, \"subject_total_above_threshold\": 2.4848214285714283, \"units_group\": \"annotated_ks2.5\"}, {\"session_id\": \"686176_2023-12-04\", \"subject_id\": \"686176\", \"above_threshold\": 0.41379310344827586, \"n_units_with_lda_score\": 29, \"subject_total_above_threshold\": 1.2758620689655171, \"units_group\": \"annotated_ks2.5\"}, {\"session_id\": \"714748_2024-06-25\", \"subject_id\": \"714748\", \"above_threshold\": 0.375, \"n_units_with_lda_score\": 32, \"subject_total_above_threshold\": 1.4409814323607428, \"units_group\": \"annotated_ks2.5\"}, {\"session_id\": \"699847_2024-04-16\", \"subject_id\": \"699847\", \"above_threshold\": 0.56, \"n_units_with_lda_score\": 25, \"subject_total_above_threshold\": 2.2152706552706554, \"units_group\": \"annotated_ks2.5\"}, {\"session_id\": \"636766_2023-01-26\", \"subject_id\": \"636766\", \"above_threshold\": 0.5652173913043478, \"n_units_with_lda_score\": 23, \"subject_total_above_threshold\": 1.973901937919929, \"units_group\": \"annotated_ks2.5\"}, {\"session_id\": \"668755_2023-08-28\", \"subject_id\": \"668755\", \"above_threshold\": 0.4444444444444444, \"n_units_with_lda_score\": 27, \"subject_total_above_threshold\": 1.2623931623931623, \"units_group\": \"annotated_ks2.5\"}, {\"session_id\": \"644864_2023-01-30\", \"subject_id\": \"644864\", \"above_threshold\": 0.6538461538461539, \"n_units_with_lda_score\": 26, \"subject_total_above_threshold\": 1.5833333333333335, \"units_group\": \"annotated_ks2.5\"}, {\"session_id\": \"733891_2024-09-18\", \"subject_id\": \"733891\", \"above_threshold\": 0.46875, \"n_units_with_lda_score\": 32, \"subject_total_above_threshold\": 2.088962536411695, \"units_group\": \"annotated_ks2.5\"}, {\"session_id\": \"713655_2024-08-08\", \"subject_id\": \"713655\", \"above_threshold\": 0.56, \"n_units_with_lda_score\": 25, \"subject_total_above_threshold\": 2.0156006493506493, \"units_group\": \"annotated_ks2.5\"}, {\"session_id\": \"726088_2024-06-21\", \"subject_id\": \"726088\", \"above_threshold\": 0.34375, \"n_units_with_lda_score\": 32, \"subject_total_above_threshold\": 1.5854557255766935, \"units_group\": \"annotated_ks2.5\"}, {\"session_id\": \"702136_2024-03-07\", \"subject_id\": \"702136\", \"above_threshold\": 0.2857142857142857, \"n_units_with_lda_score\": 28, \"subject_total_above_threshold\": 1.2954936974789917, \"units_group\": \"annotated_ks2.5\"}, {\"session_id\": \"702131_2024-02-26\", \"subject_id\": \"702131\", \"above_threshold\": 0.35714285714285715, \"n_units_with_lda_score\": 28, \"subject_total_above_threshold\": 0.35714285714285715, \"units_group\": \"annotated_ks2.5\"}, {\"session_id\": \"714753_2024-07-02\", \"subject_id\": \"714753\", \"above_threshold\": 0.52, \"n_units_with_lda_score\": 25, \"subject_total_above_threshold\": 0.8648275862068966, \"units_group\": \"annotated_ks2.5\"}, {\"session_id\": \"699847_2024-04-18\", \"subject_id\": \"699847\", \"above_threshold\": 0.6923076923076923, \"n_units_with_lda_score\": 26, \"subject_total_above_threshold\": 2.2152706552706554, \"units_group\": \"annotated_ks2.5\"}, {\"session_id\": \"702136_2024-03-06\", \"subject_id\": \"702136\", \"above_threshold\": 0.3235294117647059, \"n_units_with_lda_score\": 34, \"subject_total_above_threshold\": 1.2954936974789917, \"units_group\": \"annotated_ks2.5\"}, {\"session_id\": \"713655_2024-08-06\", \"subject_id\": \"713655\", \"above_threshold\": 0.2857142857142857, \"n_units_with_lda_score\": 21, \"subject_total_above_threshold\": 2.0156006493506493, \"units_group\": \"annotated_ks2.5\"}, {\"session_id\": \"676909_2023-12-12\", \"subject_id\": \"676909\", \"above_threshold\": 0.56, \"n_units_with_lda_score\": 25, \"subject_total_above_threshold\": 2.001457586618877, \"units_group\": \"annotated_ks2.5\"}, {\"session_id\": \"668755_2023-08-30\", \"subject_id\": \"668755\", \"above_threshold\": 0.43333333333333335, \"n_units_with_lda_score\": 30, \"subject_total_above_threshold\": 1.2623931623931623, \"units_group\": \"annotated_ks2.5\"}, {\"session_id\": \"664851_2023-11-14\", \"subject_id\": \"664851\", \"above_threshold\": 0.5483870967741935, \"n_units_with_lda_score\": 31, \"subject_total_above_threshold\": 1.8179991657397108, \"units_group\": \"annotated_ks2.5\"}, {\"session_id\": \"714748_2024-06-26\", \"subject_id\": \"714748\", \"above_threshold\": 0.34615384615384615, \"n_units_with_lda_score\": 26, \"subject_total_above_threshold\": 1.4409814323607428, \"units_group\": \"annotated_ks2.5\"}, {\"session_id\": \"703882_2024-04-22\", \"subject_id\": \"703882\", \"above_threshold\": 0.375, \"n_units_with_lda_score\": 24, \"subject_total_above_threshold\": 1.3964970214970216, \"units_group\": \"annotated_ks2.5\"}, {\"session_id\": \"702136_2024-03-05\", \"subject_id\": \"702136\", \"above_threshold\": 0.28, \"n_units_with_lda_score\": 25, \"subject_total_above_threshold\": 1.2954936974789917, \"units_group\": \"annotated_ks2.5\"}, {\"session_id\": \"644866_2023-02-08\", \"subject_id\": \"644866\", \"above_threshold\": 0.6785714285714286, \"n_units_with_lda_score\": 28, \"subject_total_above_threshold\": 1.9038587848932678, \"units_group\": \"annotated_ks2.5\"}, {\"session_id\": \"741137_2024-10-09\", \"subject_id\": \"741137\", \"above_threshold\": 0.6071428571428571, \"n_units_with_lda_score\": 28, \"subject_total_above_threshold\": 2.2503101623791277, \"units_group\": \"annotated_ks2.5\"}, {\"session_id\": \"690706_2023-11-28\", \"subject_id\": \"690706\", \"above_threshold\": 0.3793103448275862, \"n_units_with_lda_score\": 29, \"subject_total_above_threshold\": 1.9533914361500566, \"units_group\": \"annotated_ks2.5\"}, {\"session_id\": \"667252_2023-09-25\", \"subject_id\": \"667252\", \"above_threshold\": 0.2916666666666667, \"n_units_with_lda_score\": 24, \"subject_total_above_threshold\": 1.424292661361627, \"units_group\": \"annotated_ks2.5\"}, {\"session_id\": \"664851_2023-11-16\", \"subject_id\": \"664851\", \"above_threshold\": 0.4, \"n_units_with_lda_score\": 30, \"subject_total_above_threshold\": 1.8179991657397108, \"units_group\": \"annotated_ks2.5\"}, {\"session_id\": \"699847_2024-04-15\", \"subject_id\": \"699847\", \"above_threshold\": 0.7407407407407407, \"n_units_with_lda_score\": 27, \"subject_total_above_threshold\": 2.2152706552706554, \"units_group\": \"annotated_ks2.5\"}, {\"session_id\": \"686176_2023-12-07\", \"subject_id\": \"686176\", \"above_threshold\": 0.4482758620689655, \"n_units_with_lda_score\": 29, \"subject_total_above_threshold\": 1.2758620689655171, \"units_group\": \"annotated_ks2.5\"}, {\"session_id\": \"733891_2024-09-16\", \"subject_id\": \"733891\", \"above_threshold\": 0.25, \"n_units_with_lda_score\": 28, \"subject_total_above_threshold\": 2.088962536411695, \"units_group\": \"annotated_ks2.5\"}, {\"session_id\": \"715710_2024-07-15\", \"subject_id\": \"715710\", \"above_threshold\": 0.5555555555555556, \"n_units_with_lda_score\": 27, \"subject_total_above_threshold\": 2.30887314439946, \"units_group\": \"annotated_ks2.5\"}, {\"session_id\": \"733780_2024-09-06\", \"subject_id\": \"733780\", \"above_threshold\": 0.37037037037037035, \"n_units_with_lda_score\": 27, \"subject_total_above_threshold\": 2.9210390395619594, \"units_group\": \"annotated_ks2.5\"}, {\"session_id\": \"690706_2023-11-30\", \"subject_id\": \"690706\", \"above_threshold\": 0.6923076923076923, \"n_units_with_lda_score\": 26, \"subject_total_above_threshold\": 1.9533914361500566, \"units_group\": \"annotated_ks2.5\"}, {\"session_id\": \"702136_2024-03-04\", \"subject_id\": \"702136\", \"above_threshold\": 0.40625, \"n_units_with_lda_score\": 32, \"subject_total_above_threshold\": 1.2954936974789917, \"units_group\": \"annotated_ks2.5\"}, {\"session_id\": \"713655_2024-08-05\", \"subject_id\": \"713655\", \"above_threshold\": 0.4, \"n_units_with_lda_score\": 20, \"subject_total_above_threshold\": 2.0156006493506493, \"units_group\": \"annotated_ks2.5\"}, {\"session_id\": \"686740_2023-10-25\", \"subject_id\": \"686740\", \"above_threshold\": 0.38461538461538464, \"n_units_with_lda_score\": 26, \"subject_total_above_threshold\": 1.686202686202686, \"units_group\": \"annotated_ks2.5\"}, {\"session_id\": \"715710_2024-07-18\", \"subject_id\": \"715710\", \"above_threshold\": 0.20833333333333334, \"n_units_with_lda_score\": 24, \"subject_total_above_threshold\": 2.30887314439946, \"units_group\": \"annotated_ks2.5\"}, {\"session_id\": \"703880_2024-04-17\", \"subject_id\": \"703880\", \"above_threshold\": 0.4230769230769231, \"n_units_with_lda_score\": 26, \"subject_total_above_threshold\": 1.4116483516483518, \"units_group\": \"annotated_ks2.5\"}, {\"session_id\": \"706401_2024-04-22\", \"subject_id\": \"706401\", \"above_threshold\": 0.391304347826087, \"n_units_with_lda_score\": 23, \"subject_total_above_threshold\": 1.2188905547226387, \"units_group\": \"annotated_ks2.5\"}, {\"session_id\": \"636766_2023-01-24\", \"subject_id\": \"636766\", \"above_threshold\": 0.4827586206896552, \"n_units_with_lda_score\": 29, \"subject_total_above_threshold\": 1.973901937919929, \"units_group\": \"annotated_ks2.5\"}, {\"session_id\": \"733780_2024-09-04\", \"subject_id\": \"733780\", \"above_threshold\": 0.3548387096774194, \"n_units_with_lda_score\": 31, \"subject_total_above_threshold\": 2.9210390395619594, \"units_group\": \"annotated_ks2.5\"}, {\"session_id\": \"703882_2024-04-24\", \"subject_id\": \"703882\", \"above_threshold\": 0.25925925925925924, \"n_units_with_lda_score\": 27, \"subject_total_above_threshold\": 1.3964970214970216, \"units_group\": \"annotated_ks2.5\"}, {\"session_id\": \"649943_2023-02-13\", \"subject_id\": \"649943\", \"above_threshold\": 0.42857142857142855, \"n_units_with_lda_score\": 28, \"subject_total_above_threshold\": 2.4848214285714283, \"units_group\": \"annotated_ks2.5\"}, {\"session_id\": \"636766_2023-01-23\", \"subject_id\": \"636766\", \"above_threshold\": 0.5925925925925926, \"n_units_with_lda_score\": 27, \"subject_total_above_threshold\": 1.973901937919929, \"units_group\": \"annotated_ks2.5\"}, {\"session_id\": \"664851_2023-11-13\", \"subject_id\": \"664851\", \"above_threshold\": 0.27586206896551724, \"n_units_with_lda_score\": 29, \"subject_total_above_threshold\": 1.8179991657397108, \"units_group\": \"annotated_ks2.5\"}, {\"session_id\": \"737403_2024-09-26\", \"subject_id\": \"737403\", \"above_threshold\": 0.3548387096774194, \"n_units_with_lda_score\": 31, \"subject_total_above_threshold\": 1.9298387096774192, \"units_group\": \"annotated_ks2.5\"}, {\"session_id\": \"644866_2023-02-09\", \"subject_id\": \"644866\", \"above_threshold\": 0.4666666666666667, \"n_units_with_lda_score\": 30, \"subject_total_above_threshold\": 1.9038587848932678, \"units_group\": \"annotated_ks2.5\"}, {\"session_id\": \"686176_2023-12-05\", \"subject_id\": \"686176\", \"above_threshold\": 0.41379310344827586, \"n_units_with_lda_score\": 29, \"subject_total_above_threshold\": 1.2758620689655171, \"units_group\": \"annotated_ks2.5\"}, {\"session_id\": \"674562_2023-10-03\", \"subject_id\": \"674562\", \"above_threshold\": 0.34615384615384615, \"n_units_with_lda_score\": 26, \"subject_total_above_threshold\": 1.634870990717765, \"units_group\": \"annotated_ks2.5\"}, {\"session_id\": \"644867_2023-02-23\", \"subject_id\": \"644867\", \"above_threshold\": 0.4, \"n_units_with_lda_score\": 25, \"subject_total_above_threshold\": 1.5366459627329192, \"units_group\": \"annotated_ks2.5\"}, {\"session_id\": \"741137_2024-10-10\", \"subject_id\": \"741137\", \"above_threshold\": 0.5172413793103449, \"n_units_with_lda_score\": 29, \"subject_total_above_threshold\": 2.2503101623791277, \"units_group\": \"annotated_ks2.5\"}, {\"session_id\": \"664851_2023-11-15\", \"subject_id\": \"664851\", \"above_threshold\": 0.59375, \"n_units_with_lda_score\": 32, \"subject_total_above_threshold\": 1.8179991657397108, \"units_group\": \"annotated_ks2.5\"}, {\"session_id\": \"667252_2023-09-26\", \"subject_id\": \"667252\", \"above_threshold\": 0.6153846153846154, \"n_units_with_lda_score\": 26, \"subject_total_above_threshold\": 1.424292661361627, \"units_group\": \"annotated_ks2.5\"}, {\"session_id\": \"733780_2024-08-30\", \"subject_id\": \"733780\", \"above_threshold\": 0.36, \"n_units_with_lda_score\": 25, \"subject_total_above_threshold\": 2.9210390395619594, \"units_group\": \"annotated_ks2.5\"}, {\"session_id\": \"733780_2024-09-05\", \"subject_id\": \"733780\", \"above_threshold\": 0.5384615384615384, \"n_units_with_lda_score\": 26, \"subject_total_above_threshold\": 2.9210390395619594, \"units_group\": \"annotated_ks2.5\"}, {\"session_id\": \"703333_2024-04-08\", \"subject_id\": \"703333\", \"above_threshold\": 0.391304347826087, \"n_units_with_lda_score\": 23, \"subject_total_above_threshold\": 1.7246376811594204, \"units_group\": \"annotated_ks2.5\"}, {\"session_id\": \"703882_2024-04-23\", \"subject_id\": \"703882\", \"above_threshold\": 0.45454545454545453, \"n_units_with_lda_score\": 22, \"subject_total_above_threshold\": 1.3964970214970216, \"units_group\": \"annotated_ks2.5\"}, {\"session_id\": \"714748_2024-06-24\", \"subject_id\": \"714748\", \"above_threshold\": 0.3448275862068966, \"n_units_with_lda_score\": 29, \"subject_total_above_threshold\": 1.4409814323607428, \"units_group\": \"annotated_ks2.5\"}, {\"session_id\": \"741148_2024-10-15\", \"subject_id\": \"741148\", \"above_threshold\": 0.42857142857142855, \"n_units_with_lda_score\": 28, \"subject_total_above_threshold\": 2.090674620151817, \"units_group\": \"annotated_ks2.5\"}, {\"session_id\": \"674562_2023-10-04\", \"subject_id\": \"674562\", \"above_threshold\": 0.3870967741935484, \"n_units_with_lda_score\": 31, \"subject_total_above_threshold\": 1.634870990717765, \"units_group\": \"annotated_ks2.5\"}, {\"session_id\": \"690706_2023-11-29\", \"subject_id\": \"690706\", \"above_threshold\": 0.5714285714285714, \"n_units_with_lda_score\": 28, \"subject_total_above_threshold\": 1.9533914361500566, \"units_group\": \"annotated_ks2.5\"}, {\"session_id\": \"686740_2023-10-26\", \"subject_id\": \"686740\", \"above_threshold\": 0.5238095238095238, \"n_units_with_lda_score\": 21, \"subject_total_above_threshold\": 1.686202686202686, \"units_group\": \"annotated_ks2.5\"}, {\"session_id\": \"626791_2022-08-16\", \"subject_id\": \"626791\", \"above_threshold\": 0.6, \"n_units_with_lda_score\": 25, \"subject_total_above_threshold\": 1.6669371196754565, \"units_group\": \"annotated_ks2.5\"}, {\"session_id\": \"712815_2024-05-23\", \"subject_id\": \"712815\", \"above_threshold\": 0.4230769230769231, \"n_units_with_lda_score\": 26, \"subject_total_above_threshold\": 1.5897435897435896, \"units_group\": \"annotated_ks2.5\"}, {\"session_id\": \"674562_2023-10-02\", \"subject_id\": \"674562\", \"above_threshold\": 0.53125, \"n_units_with_lda_score\": 32, \"subject_total_above_threshold\": 1.634870990717765, \"units_group\": \"annotated_ks2.5\"}, {\"session_id\": \"706401_2024-04-24\", \"subject_id\": \"706401\", \"above_threshold\": 0.2413793103448276, \"n_units_with_lda_score\": 29, \"subject_total_above_threshold\": 1.2188905547226387, \"units_group\": \"annotated_ks2.5\"}, {\"session_id\": \"708016_2024-04-29\", \"subject_id\": \"708016\", \"above_threshold\": 0.2, \"n_units_with_lda_score\": 25, \"subject_total_above_threshold\": 0.9600000000000001, \"units_group\": \"annotated_ks2.5\"}, {\"session_id\": \"690706_2023-11-27\", \"subject_id\": \"690706\", \"above_threshold\": 0.3103448275862069, \"n_units_with_lda_score\": 29, \"subject_total_above_threshold\": 1.9533914361500566, \"units_group\": \"annotated_ks2.5\"}, {\"session_id\": \"660023_2023-08-09\", \"subject_id\": \"660023\", \"above_threshold\": 0.44, \"n_units_with_lda_score\": 25, \"subject_total_above_threshold\": 0.44, \"units_group\": \"annotated_ks2.5\"}, {\"session_id\": \"712815_2024-05-22\", \"subject_id\": \"712815\", \"above_threshold\": 0.5, \"n_units_with_lda_score\": 22, \"subject_total_above_threshold\": 1.5897435897435896, \"units_group\": \"annotated_ks2.5\"}, {\"session_id\": \"681532_2023-10-17\", \"subject_id\": \"681532\", \"above_threshold\": 0.21739130434782608, \"n_units_with_lda_score\": 23, \"subject_total_above_threshold\": 0.9990004997501248, \"units_group\": \"annotated_ks2.5\"}, {\"session_id\": \"699847_2024-04-17\", \"subject_id\": \"699847\", \"above_threshold\": 0.2222222222222222, \"n_units_with_lda_score\": 27, \"subject_total_above_threshold\": 2.2152706552706554, \"units_group\": \"annotated_ks2.5\"}, {\"session_id\": \"708016_2024-05-01\", \"subject_id\": \"708016\", \"above_threshold\": 0.56, \"n_units_with_lda_score\": 25, \"subject_total_above_threshold\": 0.9600000000000001, \"units_group\": \"annotated_ks2.5\"}, {\"session_id\": \"741137_2024-10-11\", \"subject_id\": \"741137\", \"above_threshold\": 0.5333333333333333, \"n_units_with_lda_score\": 30, \"subject_total_above_threshold\": 2.2503101623791277, \"units_group\": \"annotated_ks2.5\"}, {\"session_id\": \"703333_2024-04-10\", \"subject_id\": \"703333\", \"above_threshold\": 0.5401858939311099, \"n_units_with_lda_score\": 1829, \"subject_total_above_threshold\": 1.8841808484902705, \"units_group\": \"predicted_ks2.5\"}, {\"session_id\": \"703333_2024-04-09\", \"subject_id\": \"703333\", \"above_threshold\": 0.517170045510964, \"n_units_with_lda_score\": 2417, \"subject_total_above_threshold\": 1.8841808484902705, \"units_group\": \"predicted_ks2.5\"}, {\"session_id\": \"708016_2024-04-29\", \"subject_id\": \"708016\", \"above_threshold\": 0.30522088353413657, \"n_units_with_lda_score\": 1494, \"subject_total_above_threshold\": 1.1128870612733461, \"units_group\": \"predicted_ks2.5\"}, {\"session_id\": \"674562_2023-10-04\", \"subject_id\": \"674562\", \"above_threshold\": 0.4417808219178082, \"n_units_with_lda_score\": 2920, \"subject_total_above_threshold\": 1.794635731150514, \"units_group\": \"predicted_ks2.5\"}, {\"session_id\": \"733780_2024-08-29\", \"subject_id\": \"733780\", \"above_threshold\": 0.4745644599303136, \"n_units_with_lda_score\": 2870, \"subject_total_above_threshold\": 3.049894668607106, \"units_group\": \"predicted_ks2.5\"}, {\"session_id\": \"686740_2023-10-23\", \"subject_id\": \"686740\", \"above_threshold\": 0.38910812943962114, \"n_units_with_lda_score\": 2534, \"subject_total_above_threshold\": 1.8841268184953979, \"units_group\": \"predicted_ks2.5\"}, {\"session_id\": \"733891_2024-09-16\", \"subject_id\": \"733891\", \"above_threshold\": 0.4955357142857143, \"n_units_with_lda_score\": 3808, \"subject_total_above_threshold\": 2.5699866636780766, \"units_group\": \"predicted_ks2.5\"}, {\"session_id\": \"714748_2024-06-24\", \"subject_id\": \"714748\", \"above_threshold\": 0.30927835051546393, \"n_units_with_lda_score\": 1455, \"subject_total_above_threshold\": 1.419273997761644, \"units_group\": \"predicted_ks2.5\"}, {\"session_id\": \"715710_2024-07-19\", \"subject_id\": \"715710\", \"above_threshold\": 0.4280415430267062, \"n_units_with_lda_score\": 2696, \"subject_total_above_threshold\": 2.4536996111538265, \"units_group\": \"predicted_ks2.5\"}, {\"session_id\": \"713655_2024-08-05\", \"subject_id\": \"713655\", \"above_threshold\": 0.3023560209424084, \"n_units_with_lda_score\": 3056, \"subject_total_above_threshold\": 1.7944227121671878, \"units_group\": \"predicted_ks2.5\"}, {\"session_id\": \"733780_2024-09-06\", \"subject_id\": \"733780\", \"above_threshold\": 0.35961968680089484, \"n_units_with_lda_score\": 1788, \"subject_total_above_threshold\": 3.049894668607106, \"units_group\": \"predicted_ks2.5\"}, {\"session_id\": \"708016_2024-04-30\", \"subject_id\": \"708016\", \"above_threshold\": 0.31810490693739424, \"n_units_with_lda_score\": 591, \"subject_total_above_threshold\": 1.1128870612733461, \"units_group\": \"predicted_ks2.5\"}, {\"session_id\": \"676909_2023-12-12\", \"subject_id\": \"676909\", \"above_threshold\": 0.4768641320365458, \"n_units_with_lda_score\": 3393, \"subject_total_above_threshold\": 1.9996823245329232, \"units_group\": \"predicted_ks2.5\"}, {\"session_id\": \"662892_2023-08-22\", \"subject_id\": \"662892\", \"above_threshold\": 0.39250493096646943, \"n_units_with_lda_score\": 1014, \"subject_total_above_threshold\": 1.5243566788903435, \"units_group\": \"predicted_ks2.5\"}, {\"session_id\": \"726088_2024-06-21\", \"subject_id\": \"726088\", \"above_threshold\": 0.41246056782334384, \"n_units_with_lda_score\": 1268, \"subject_total_above_threshold\": 1.825039743147233, \"units_group\": \"predicted_ks2.5\"}, {\"session_id\": \"702136_2024-03-05\", \"subject_id\": \"702136\", \"above_threshold\": 0.2766859344894027, \"n_units_with_lda_score\": 2595, \"subject_total_above_threshold\": 1.256306187617818, \"units_group\": \"predicted_ks2.5\"}, {\"session_id\": \"699847_2024-04-18\", \"subject_id\": \"699847\", \"above_threshold\": 0.637636761487965, \"n_units_with_lda_score\": 2285, \"subject_total_above_threshold\": 2.2445860234303714, \"units_group\": \"predicted_ks2.5\"}, {\"session_id\": \"662892_2023-08-23\", \"subject_id\": \"662892\", \"above_threshold\": 0.42045454545454547, \"n_units_with_lda_score\": 1056, \"subject_total_above_threshold\": 1.5243566788903435, \"units_group\": \"predicted_ks2.5\"}, {\"session_id\": \"726088_2024-06-18\", \"subject_id\": \"726088\", \"above_threshold\": 0.35457413249211356, \"n_units_with_lda_score\": 1585, \"subject_total_above_threshold\": 1.825039743147233, \"units_group\": \"predicted_ks2.5\"}, {\"session_id\": \"715710_2024-07-18\", \"subject_id\": \"715710\", \"above_threshold\": 0.41936280563102, \"n_units_with_lda_score\": 4049, \"subject_total_above_threshold\": 2.4536996111538265, \"units_group\": \"predicted_ks2.5\"}, {\"session_id\": \"703333_2024-04-08\", \"subject_id\": \"703333\", \"above_threshold\": 0.39435146443514646, \"n_units_with_lda_score\": 1912, \"subject_total_above_threshold\": 1.8841808484902705, \"units_group\": \"predicted_ks2.5\"}, {\"session_id\": \"644864_2023-01-31\", \"subject_id\": \"644864\", \"above_threshold\": 0.6534090909090909, \"n_units_with_lda_score\": 3344, \"subject_total_above_threshold\": 1.7915576042224337, \"units_group\": \"predicted_ks2.5\"}, {\"session_id\": \"626791_2022-08-17\", \"subject_id\": \"626791\", \"above_threshold\": 0.542245140817136, \"n_units_with_lda_score\": 2521, \"subject_total_above_threshold\": 1.7925586377605853, \"units_group\": \"predicted_ks2.5\"}, {\"session_id\": \"733780_2024-08-26\", \"subject_id\": \"733780\", \"above_threshold\": 0.547644888213588, \"n_units_with_lda_score\": 4607, \"subject_total_above_threshold\": 3.049894668607106, \"units_group\": \"predicted_ks2.5\"}, {\"session_id\": \"644864_2023-02-02\", \"subject_id\": \"644864\", \"above_threshold\": 0.44371224601867104, \"n_units_with_lda_score\": 1821, \"subject_total_above_threshold\": 1.7915576042224337, \"units_group\": \"predicted_ks2.5\"}, {\"session_id\": \"699847_2024-04-17\", \"subject_id\": \"699847\", \"above_threshold\": 0.40138109624514456, \"n_units_with_lda_score\": 2317, \"subject_total_above_threshold\": 2.2445860234303714, \"units_group\": \"predicted_ks2.5\"}, {\"session_id\": \"666986_2023-08-17\", \"subject_id\": \"666986\", \"above_threshold\": 0.44222483352918135, \"n_units_with_lda_score\": 2553, \"subject_total_above_threshold\": 1.2990093659865036, \"units_group\": \"predicted_ks2.5\"}, {\"session_id\": \"660023_2023-08-09\", \"subject_id\": \"660023\", \"above_threshold\": 0.4413145539906103, \"n_units_with_lda_score\": 2130, \"subject_total_above_threshold\": 0.4413145539906103, \"units_group\": \"predicted_ks2.5\"}, {\"session_id\": \"712815_2024-05-23\", \"subject_id\": \"712815\", \"above_threshold\": 0.42016806722689076, \"n_units_with_lda_score\": 833, \"subject_total_above_threshold\": 1.3896484502031745, \"units_group\": \"predicted_ks2.5\"}, {\"session_id\": \"742903_2024-10-23\", \"subject_id\": \"742903\", \"above_threshold\": 0.5815032477575007, \"n_units_with_lda_score\": 3233, \"subject_total_above_threshold\": 2.1500514491214155, \"units_group\": \"predicted_ks2.5\"}, {\"session_id\": \"741148_2024-10-17\", \"subject_id\": \"741148\", \"above_threshold\": 0.4950229709035222, \"n_units_with_lda_score\": 2612, \"subject_total_above_threshold\": 2.2317532560700752, \"units_group\": \"predicted_ks2.5\"}, {\"session_id\": \"713655_2024-08-09\", \"subject_id\": \"713655\", \"above_threshold\": 0.42105263157894735, \"n_units_with_lda_score\": 3306, \"subject_total_above_threshold\": 1.7944227121671878, \"units_group\": \"predicted_ks2.5\"}, {\"session_id\": \"741148_2024-10-18\", \"subject_id\": \"741148\", \"above_threshold\": 0.594139989148128, \"n_units_with_lda_score\": 1843, \"subject_total_above_threshold\": 2.2317532560700752, \"units_group\": \"predicted_ks2.5\"}, {\"session_id\": \"667252_2023-09-26\", \"subject_id\": \"667252\", \"above_threshold\": 0.4539057002111189, \"n_units_with_lda_score\": 2842, \"subject_total_above_threshold\": 1.343883316203495, \"units_group\": \"predicted_ks2.5\"}, {\"session_id\": \"702136_2024-03-04\", \"subject_id\": \"702136\", \"above_threshold\": 0.4543230016313214, \"n_units_with_lda_score\": 1226, \"subject_total_above_threshold\": 1.256306187617818, \"units_group\": \"predicted_ks2.5\"}, {\"session_id\": \"644866_2023-02-08\", \"subject_id\": \"644866\", \"above_threshold\": 0.6013107591480066, \"n_units_with_lda_score\": 1831, \"subject_total_above_threshold\": 1.6981721952824502, \"units_group\": \"predicted_ks2.5\"}, {\"session_id\": \"674562_2023-10-02\", \"subject_id\": \"674562\", \"above_threshold\": 0.568685376661743, \"n_units_with_lda_score\": 3385, \"subject_total_above_threshold\": 1.794635731150514, \"units_group\": \"predicted_ks2.5\"}, {\"session_id\": \"666986_2023-08-15\", \"subject_id\": \"666986\", \"above_threshold\": 0.378076062639821, \"n_units_with_lda_score\": 2682, \"subject_total_above_threshold\": 1.2990093659865036, \"units_group\": \"predicted_ks2.5\"}, {\"session_id\": \"699847_2024-04-16\", \"subject_id\": \"699847\", \"above_threshold\": 0.5244360902255639, \"n_units_with_lda_score\": 2128, \"subject_total_above_threshold\": 2.2445860234303714, \"units_group\": \"predicted_ks2.5\"}, {\"session_id\": \"726088_2024-06-20\", \"subject_id\": \"726088\", \"above_threshold\": 0.6248568155784651, \"n_units_with_lda_score\": 1746, \"subject_total_above_threshold\": 1.825039743147233, \"units_group\": \"predicted_ks2.5\"}, {\"session_id\": \"668755_2023-08-30\", \"subject_id\": \"668755\", \"above_threshold\": 0.466877971473851, \"n_units_with_lda_score\": 3155, \"subject_total_above_threshold\": 1.4016477911156309, \"units_group\": \"predicted_ks2.5\"}, {\"session_id\": \"703880_2024-04-18\", \"subject_id\": \"703880\", \"above_threshold\": 0.2603550295857988, \"n_units_with_lda_score\": 1859, \"subject_total_above_threshold\": 1.3942729311875262, \"units_group\": \"predicted_ks2.5\"}, {\"session_id\": \"626791_2022-08-15\", \"subject_id\": \"626791\", \"above_threshold\": 0.5920084121976866, \"n_units_with_lda_score\": 2853, \"subject_total_above_threshold\": 1.7925586377605853, \"units_group\": \"predicted_ks2.5\"}, {\"session_id\": \"714748_2024-06-26\", \"subject_id\": \"714748\", \"above_threshold\": 0.36517719568567025, \"n_units_with_lda_score\": 1947, \"subject_total_above_threshold\": 1.419273997761644, \"units_group\": \"predicted_ks2.5\"}, {\"session_id\": \"733891_2024-09-17\", \"subject_id\": \"733891\", \"above_threshold\": 0.3794524580512217, \"n_units_with_lda_score\": 3397, \"subject_total_above_threshold\": 2.5699866636780766, \"units_group\": \"predicted_ks2.5\"}, {\"session_id\": \"644866_2023-02-09\", \"subject_id\": \"644866\", \"above_threshold\": 0.4678832116788321, \"n_units_with_lda_score\": 2740, \"subject_total_above_threshold\": 1.6981721952824502, \"units_group\": \"predicted_ks2.5\"}, {\"session_id\": \"741137_2024-10-08\", \"subject_id\": \"741137\", \"above_threshold\": 0.529639175257732, \"n_units_with_lda_score\": 1552, \"subject_total_above_threshold\": 2.2228862169943655, \"units_group\": \"predicted_ks2.5\"}, {\"session_id\": \"714748_2024-06-25\", \"subject_id\": \"714748\", \"above_threshold\": 0.3956460009465215, \"n_units_with_lda_score\": 2113, \"subject_total_above_threshold\": 1.419273997761644, \"units_group\": \"predicted_ks2.5\"}, {\"session_id\": \"649943_2023-02-14\", \"subject_id\": \"649943\", \"above_threshold\": 0.7075172048703018, \"n_units_with_lda_score\": 3778, \"subject_total_above_threshold\": 2.2948776158008997, \"units_group\": \"predicted_ks2.5\"}, {\"session_id\": \"686176_2023-12-04\", \"subject_id\": \"686176\", \"above_threshold\": 0.4146341463414634, \"n_units_with_lda_score\": 4182, \"subject_total_above_threshold\": 1.3736044568655943, \"units_group\": \"predicted_ks2.5\"}, {\"session_id\": \"726088_2024-06-17\", \"subject_id\": \"726088\", \"above_threshold\": 0.43314822725331054, \"n_units_with_lda_score\": 2341, \"subject_total_above_threshold\": 1.825039743147233, \"units_group\": \"predicted_ks2.5\"}, {\"session_id\": \"681532_2023-10-16\", \"subject_id\": \"681532\", \"above_threshold\": 0.3023390124169795, \"n_units_with_lda_score\": 3463, \"subject_total_above_threshold\": 1.109051765698806, \"units_group\": \"predicted_ks2.5\"}, {\"session_id\": \"636766_2023-01-26\", \"subject_id\": \"636766\", \"above_threshold\": 0.4878444084278768, \"n_units_with_lda_score\": 1851, \"subject_total_above_threshold\": 2.066946222648299, \"units_group\": \"predicted_ks2.5\"}, {\"session_id\": \"636766_2023-01-25\", \"subject_id\": \"636766\", \"above_threshold\": 0.5436851211072664, \"n_units_with_lda_score\": 2312, \"subject_total_above_threshold\": 2.066946222648299, \"units_group\": \"predicted_ks2.5\"}, {\"session_id\": \"674562_2023-10-05\", \"subject_id\": \"674562\", \"above_threshold\": 0.383327266108482, \"n_units_with_lda_score\": 2747, \"subject_total_above_threshold\": 1.794635731150514, \"units_group\": \"predicted_ks2.5\"}, {\"session_id\": \"668755_2023-08-31\", \"subject_id\": \"668755\", \"above_threshold\": 0.48603773584905663, \"n_units_with_lda_score\": 2650, \"subject_total_above_threshold\": 1.4016477911156309, \"units_group\": \"predicted_ks2.5\"}, {\"session_id\": \"742903_2024-10-24\", \"subject_id\": \"742903\", \"above_threshold\": 0.635755258126195, \"n_units_with_lda_score\": 3138, \"subject_total_above_threshold\": 2.1500514491214155, \"units_group\": \"predicted_ks2.5\"}, {\"session_id\": \"676909_2023-12-11\", \"subject_id\": \"676909\", \"above_threshold\": 0.3664100370687197, \"n_units_with_lda_score\": 3507, \"subject_total_above_threshold\": 1.9996823245329232, \"units_group\": \"predicted_ks2.5\"}, {\"session_id\": \"686176_2023-12-07\", \"subject_id\": \"686176\", \"above_threshold\": 0.49403275048570633, \"n_units_with_lda_score\": 3603, \"subject_total_above_threshold\": 1.3736044568655943, \"units_group\": \"predicted_ks2.5\"}, {\"session_id\": \"733891_2024-09-18\", \"subject_id\": \"733891\", \"above_threshold\": 0.5284947610529006, \"n_units_with_lda_score\": 3913, \"subject_total_above_threshold\": 2.5699866636780766, \"units_group\": \"predicted_ks2.5\"}, {\"session_id\": \"737403_2024-09-24\", \"subject_id\": \"737403\", \"above_threshold\": 0.618018018018018, \"n_units_with_lda_score\": 3330, \"subject_total_above_threshold\": 2.0816137058512787, \"units_group\": \"predicted_ks2.5\"}, {\"session_id\": \"686740_2023-10-25\", \"subject_id\": \"686740\", \"above_threshold\": 0.48752282410225195, \"n_units_with_lda_score\": 1643, \"subject_total_above_threshold\": 1.8841268184953979, \"units_group\": \"predicted_ks2.5\"}, {\"session_id\": \"742903_2024-10-21\", \"subject_id\": \"742903\", \"above_threshold\": 0.46138870863075926, \"n_units_with_lda_score\": 1541, \"subject_total_above_threshold\": 2.1500514491214155, \"units_group\": \"predicted_ks2.5\"}, {\"session_id\": \"703880_2024-04-16\", \"subject_id\": \"703880\", \"above_threshold\": 0.32231404958677684, \"n_units_with_lda_score\": 1452, \"subject_total_above_threshold\": 1.3942729311875262, \"units_group\": \"predicted_ks2.5\"}, {\"session_id\": \"664851_2023-11-16\", \"subject_id\": \"664851\", \"above_threshold\": 0.5394426074633916, \"n_units_with_lda_score\": 2117, \"subject_total_above_threshold\": 1.8881928451498025, \"units_group\": \"predicted_ks2.5\"}, {\"session_id\": \"703882_2024-04-24\", \"subject_id\": \"703882\", \"above_threshold\": 0.35194174757281554, \"n_units_with_lda_score\": 2060, \"subject_total_above_threshold\": 1.5346698458650132, \"units_group\": \"predicted_ks2.5\"}, {\"session_id\": \"690706_2023-11-28\", \"subject_id\": \"690706\", \"above_threshold\": 0.43716814159292033, \"n_units_with_lda_score\": 2260, \"subject_total_above_threshold\": 1.9863770765728024, \"units_group\": \"predicted_ks2.5\"}, {\"session_id\": \"714753_2024-07-01\", \"subject_id\": \"714753\", \"above_threshold\": 0.3463587921847247, \"n_units_with_lda_score\": 1126, \"subject_total_above_threshold\": 0.7896443202160155, \"units_group\": \"predicted_ks2.5\"}, {\"session_id\": \"664851_2023-11-13\", \"subject_id\": \"664851\", \"above_threshold\": 0.27584985835694054, \"n_units_with_lda_score\": 2824, \"subject_total_above_threshold\": 1.8881928451498025, \"units_group\": \"predicted_ks2.5\"}, {\"session_id\": \"644866_2023-02-10\", \"subject_id\": \"644866\", \"above_threshold\": 0.6289782244556114, \"n_units_with_lda_score\": 2388, \"subject_total_above_threshold\": 1.6981721952824502, \"units_group\": \"predicted_ks2.5\"}, {\"session_id\": \"644867_2023-02-20\", \"subject_id\": \"644867\", \"above_threshold\": 0.5514416775884666, \"n_units_with_lda_score\": 3052, \"subject_total_above_threshold\": 1.5943333537896651, \"units_group\": \"predicted_ks2.5\"}, {\"session_id\": \"713655_2024-08-07\", \"subject_id\": \"713655\", \"above_threshold\": 0.33810986011600136, \"n_units_with_lda_score\": 2931, \"subject_total_above_threshold\": 1.7944227121671878, \"units_group\": \"predicted_ks2.5\"}, {\"session_id\": \"733780_2024-09-04\", \"subject_id\": \"733780\", \"above_threshold\": 0.38334642576590733, \"n_units_with_lda_score\": 3819, \"subject_total_above_threshold\": 3.049894668607106, \"units_group\": \"predicted_ks2.5\"}, {\"session_id\": \"690706_2023-11-30\", \"subject_id\": \"690706\", \"above_threshold\": 0.5487152034261242, \"n_units_with_lda_score\": 1868, \"subject_total_above_threshold\": 1.9863770765728024, \"units_group\": \"predicted_ks2.5\"}, {\"session_id\": \"741137_2024-10-11\", \"subject_id\": \"741137\", \"above_threshold\": 0.5222972972972973, \"n_units_with_lda_score\": 1480, \"subject_total_above_threshold\": 2.2228862169943655, \"units_group\": \"predicted_ks2.5\"}, {\"session_id\": \"676909_2023-12-14\", \"subject_id\": \"676909\", \"above_threshold\": 0.41445270988310307, \"n_units_with_lda_score\": 2823, \"subject_total_above_threshold\": 1.9996823245329232, \"units_group\": \"predicted_ks2.5\"}, {\"session_id\": \"713655_2024-08-08\", \"subject_id\": \"713655\", \"above_threshold\": 0.44086021505376344, \"n_units_with_lda_score\": 3720, \"subject_total_above_threshold\": 1.7944227121671878, \"units_group\": \"predicted_ks2.5\"}, {\"session_id\": \"733780_2024-09-05\", \"subject_id\": \"733780\", \"above_threshold\": 0.415311004784689, \"n_units_with_lda_score\": 2090, \"subject_total_above_threshold\": 3.049894668607106, \"units_group\": \"predicted_ks2.5\"}, {\"session_id\": \"662892_2023-08-21\", \"subject_id\": \"662892\", \"above_threshold\": 0.42408376963350786, \"n_units_with_lda_score\": 955, \"subject_total_above_threshold\": 1.5243566788903435, \"units_group\": \"predicted_ks2.5\"}, {\"session_id\": \"676909_2023-12-13\", \"subject_id\": \"676909\", \"above_threshold\": 0.7419554455445545, \"n_units_with_lda_score\": 3232, \"subject_total_above_threshold\": 1.9996823245329232, \"units_group\": \"predicted_ks2.5\"}, {\"session_id\": \"681532_2023-10-17\", \"subject_id\": \"681532\", \"above_threshold\": 0.3658215344089562, \"n_units_with_lda_score\": 3037, \"subject_total_above_threshold\": 1.109051765698806, \"units_group\": \"predicted_ks2.5\"}, {\"session_id\": \"706401_2024-04-23\", \"subject_id\": \"706401\", \"above_threshold\": 0.5517661388550548, \"n_units_with_lda_score\": 2463, \"subject_total_above_threshold\": 1.2435438950095745, \"units_group\": \"predicted_ks2.5\"}, {\"session_id\": \"690706_2023-11-27\", \"subject_id\": \"690706\", \"above_threshold\": 0.4351567301782422, \"n_units_with_lda_score\": 3254, \"subject_total_above_threshold\": 1.9863770765728024, \"units_group\": \"predicted_ks2.5\"}, {\"session_id\": \"715710_2024-07-16\", \"subject_id\": \"715710\", \"above_threshold\": 0.476280834914611, \"n_units_with_lda_score\": 2108, \"subject_total_above_threshold\": 2.4536996111538265, \"units_group\": \"predicted_ks2.5\"}, {\"session_id\": \"626791_2022-08-16\", \"subject_id\": \"626791\", \"above_threshold\": 0.6583050847457627, \"n_units_with_lda_score\": 1475, \"subject_total_above_threshold\": 1.7925586377605853, \"units_group\": \"predicted_ks2.5\"}, {\"session_id\": \"741148_2024-10-15\", \"subject_id\": \"741148\", \"above_threshold\": 0.5215736040609137, \"n_units_with_lda_score\": 2364, \"subject_total_above_threshold\": 2.2317532560700752, \"units_group\": \"predicted_ks2.5\"}, {\"session_id\": \"636766_2023-01-23\", \"subject_id\": \"636766\", \"above_threshold\": 0.5251373046049852, \"n_units_with_lda_score\": 2367, \"subject_total_above_threshold\": 2.066946222648299, \"units_group\": \"predicted_ks2.5\"}, {\"session_id\": \"686740_2023-10-24\", \"subject_id\": \"686740\", \"above_threshold\": 0.41074130105900153, \"n_units_with_lda_score\": 2644, \"subject_total_above_threshold\": 1.8841268184953979, \"units_group\": \"predicted_ks2.5\"}, {\"session_id\": \"713655_2024-08-06\", \"subject_id\": \"713655\", \"above_threshold\": 0.2920439844760673, \"n_units_with_lda_score\": 3092, \"subject_total_above_threshold\": 1.7944227121671878, \"units_group\": \"predicted_ks2.5\"}, {\"session_id\": \"703882_2024-04-25\", \"subject_id\": \"703882\", \"above_threshold\": 0.3600713012477718, \"n_units_with_lda_score\": 1122, \"subject_total_above_threshold\": 1.5346698458650132, \"units_group\": \"predicted_ks2.5\"}, {\"session_id\": \"706401_2024-04-24\", \"subject_id\": \"706401\", \"above_threshold\": 0.34449093444909346, \"n_units_with_lda_score\": 2151, \"subject_total_above_threshold\": 1.2435438950095745, \"units_group\": \"predicted_ks2.5\"}, {\"session_id\": \"699847_2024-04-15\", \"subject_id\": \"699847\", \"above_threshold\": 0.6811320754716981, \"n_units_with_lda_score\": 1060, \"subject_total_above_threshold\": 2.2445860234303714, \"units_group\": \"predicted_ks2.5\"}, {\"session_id\": \"712815_2024-05-21\", \"subject_id\": \"712815\", \"above_threshold\": 0.4355495251017639, \"n_units_with_lda_score\": 1474, \"subject_total_above_threshold\": 1.3896484502031745, \"units_group\": \"predicted_ks2.5\"}, {\"session_id\": \"666986_2023-08-14\", \"subject_id\": \"666986\", \"above_threshold\": 0.47870846981750115, \"n_units_with_lda_score\": 2137, \"subject_total_above_threshold\": 1.2990093659865036, \"units_group\": \"predicted_ks2.5\"}, {\"session_id\": \"681532_2023-10-18\", \"subject_id\": \"681532\", \"above_threshold\": 0.44089121887287025, \"n_units_with_lda_score\": 3815, \"subject_total_above_threshold\": 1.109051765698806, \"units_group\": \"predicted_ks2.5\"}, {\"session_id\": \"703882_2024-04-23\", \"subject_id\": \"703882\", \"above_threshold\": 0.4213995943204868, \"n_units_with_lda_score\": 1972, \"subject_total_above_threshold\": 1.5346698458650132, \"units_group\": \"predicted_ks2.5\"}, {\"session_id\": \"690706_2023-11-29\", \"subject_id\": \"690706\", \"above_threshold\": 0.5653370013755158, \"n_units_with_lda_score\": 2181, \"subject_total_above_threshold\": 1.9863770765728024, \"units_group\": \"predicted_ks2.5\"}, {\"session_id\": \"702136_2024-03-07\", \"subject_id\": \"702136\", \"above_threshold\": 0.2869022869022869, \"n_units_with_lda_score\": 1924, \"subject_total_above_threshold\": 1.256306187617818, \"units_group\": \"predicted_ks2.5\"}, {\"session_id\": \"702131_2024-02-26\", \"subject_id\": \"702131\", \"above_threshold\": 0.36615678776290633, \"n_units_with_lda_score\": 2092, \"subject_total_above_threshold\": 0.36615678776290633, \"units_group\": \"predicted_ks2.5\"}, {\"session_id\": \"712815_2024-05-22\", \"subject_id\": \"712815\", \"above_threshold\": 0.5339308578745199, \"n_units_with_lda_score\": 781, \"subject_total_above_threshold\": 1.3896484502031745, \"units_group\": \"predicted_ks2.5\"}, {\"session_id\": \"742903_2024-10-22\", \"subject_id\": \"742903\", \"above_threshold\": 0.47140423460696035, \"n_units_with_lda_score\": 4109, \"subject_total_above_threshold\": 2.1500514491214155, \"units_group\": \"predicted_ks2.5\"}, {\"session_id\": \"737403_2024-09-27\", \"subject_id\": \"737403\", \"above_threshold\": 0.5071469411092052, \"n_units_with_lda_score\": 3498, \"subject_total_above_threshold\": 2.0816137058512787, \"units_group\": \"predicted_ks2.5\"}, {\"session_id\": \"636766_2023-01-24\", \"subject_id\": \"636766\", \"above_threshold\": 0.5102793885081708, \"n_units_with_lda_score\": 1897, \"subject_total_above_threshold\": 2.066946222648299, \"units_group\": \"predicted_ks2.5\"}, {\"session_id\": \"715710_2024-07-15\", \"subject_id\": \"715710\", \"above_threshold\": 0.5361279646993933, \"n_units_with_lda_score\": 1813, \"subject_total_above_threshold\": 2.4536996111538265, \"units_group\": \"predicted_ks2.5\"}, {\"session_id\": \"686740_2023-10-26\", \"subject_id\": \"686740\", \"above_threshold\": 0.5967545638945233, \"n_units_with_lda_score\": 2465, \"subject_total_above_threshold\": 1.8841268184953979, \"units_group\": \"predicted_ks2.5\"}, {\"session_id\": \"662892_2023-08-24\", \"subject_id\": \"662892\", \"above_threshold\": 0.2873134328358209, \"n_units_with_lda_score\": 1072, \"subject_total_above_threshold\": 1.5243566788903435, \"units_group\": \"predicted_ks2.5\"}, {\"session_id\": \"667252_2023-09-28\", \"subject_id\": \"667252\", \"above_threshold\": 0.46955719557195574, \"n_units_with_lda_score\": 1084, \"subject_total_above_threshold\": 1.343883316203495, \"units_group\": \"predicted_ks2.5\"}, {\"session_id\": \"714753_2024-07-02\", \"subject_id\": \"714753\", \"above_threshold\": 0.44328552803129073, \"n_units_with_lda_score\": 767, \"subject_total_above_threshold\": 0.7896443202160155, \"units_group\": \"predicted_ks2.5\"}, {\"session_id\": \"708016_2024-05-01\", \"subject_id\": \"708016\", \"above_threshold\": 0.48956127080181544, \"n_units_with_lda_score\": 3305, \"subject_total_above_threshold\": 1.1128870612733461, \"units_group\": \"predicted_ks2.5\"}, {\"session_id\": \"664851_2023-11-14\", \"subject_id\": \"664851\", \"above_threshold\": 0.5528455284552846, \"n_units_with_lda_score\": 2952, \"subject_total_above_threshold\": 1.8881928451498025, \"units_group\": \"predicted_ks2.5\"}, {\"session_id\": \"703882_2024-04-22\", \"subject_id\": \"703882\", \"above_threshold\": 0.4012572027239392, \"n_units_with_lda_score\": 1909, \"subject_total_above_threshold\": 1.5346698458650132, \"units_group\": \"predicted_ks2.5\"}, {\"session_id\": \"649943_2023-02-16\", \"subject_id\": \"649943\", \"above_threshold\": 0.5628649279875438, \"n_units_with_lda_score\": 2569, \"subject_total_above_threshold\": 2.2948776158008997, \"units_group\": \"predicted_ks2.5\"}, {\"session_id\": \"703880_2024-04-17\", \"subject_id\": \"703880\", \"above_threshold\": 0.43384785005512677, \"n_units_with_lda_score\": 1814, \"subject_total_above_threshold\": 1.3942729311875262, \"units_group\": \"predicted_ks2.5\"}, {\"session_id\": \"741137_2024-10-09\", \"subject_id\": \"741137\", \"above_threshold\": 0.6416632694659601, \"n_units_with_lda_score\": 2453, \"subject_total_above_threshold\": 2.2228862169943655, \"units_group\": \"predicted_ks2.5\"}, {\"session_id\": \"741148_2024-10-16\", \"subject_id\": \"741148\", \"above_threshold\": 0.6210166919575114, \"n_units_with_lda_score\": 2636, \"subject_total_above_threshold\": 2.2317532560700752, \"units_group\": \"predicted_ks2.5\"}, {\"session_id\": \"703880_2024-04-15\", \"subject_id\": \"703880\", \"above_threshold\": 0.3777560019598236, \"n_units_with_lda_score\": 2041, \"subject_total_above_threshold\": 1.3942729311875262, \"units_group\": \"predicted_ks2.5\"}, {\"session_id\": \"668755_2023-08-28\", \"subject_id\": \"668755\", \"above_threshold\": 0.4487320837927233, \"n_units_with_lda_score\": 907, \"subject_total_above_threshold\": 1.4016477911156309, \"units_group\": \"predicted_ks2.5\"}, {\"session_id\": \"733891_2024-09-20\", \"subject_id\": \"733891\", \"above_threshold\": 0.504035216434336, \"n_units_with_lda_score\": 2726, \"subject_total_above_threshold\": 2.5699866636780766, \"units_group\": \"predicted_ks2.5\"}, {\"session_id\": \"733891_2024-09-19\", \"subject_id\": \"733891\", \"above_threshold\": 0.6624685138539043, \"n_units_with_lda_score\": 3573, \"subject_total_above_threshold\": 2.5699866636780766, \"units_group\": \"predicted_ks2.5\"}, {\"session_id\": \"733780_2024-09-03\", \"subject_id\": \"733780\", \"above_threshold\": 0.5145341614906832, \"n_units_with_lda_score\": 4025, \"subject_total_above_threshold\": 3.049894668607106, \"units_group\": \"predicted_ks2.5\"}, {\"session_id\": \"664851_2023-11-15\", \"subject_id\": \"664851\", \"above_threshold\": 0.5200548508741858, \"n_units_with_lda_score\": 2917, \"subject_total_above_threshold\": 1.8881928451498025, \"units_group\": \"predicted_ks2.5\"}, {\"session_id\": \"703333_2024-04-11\", \"subject_id\": \"703333\", \"above_threshold\": 0.4324734446130501, \"n_units_with_lda_score\": 2636, \"subject_total_above_threshold\": 1.8841808484902705, \"units_group\": \"predicted_ks2.5\"}, {\"session_id\": \"644864_2023-01-30\", \"subject_id\": \"644864\", \"above_threshold\": 0.6944362672946718, \"n_units_with_lda_score\": 3397, \"subject_total_above_threshold\": 1.7915576042224337, \"units_group\": \"predicted_ks2.5\"}, {\"session_id\": \"702136_2024-03-06\", \"subject_id\": \"702136\", \"above_threshold\": 0.23839496459480725, \"n_units_with_lda_score\": 1271, \"subject_total_above_threshold\": 1.256306187617818, \"units_group\": \"predicted_ks2.5\"}, {\"session_id\": \"737403_2024-09-26\", \"subject_id\": \"737403\", \"above_threshold\": 0.4565896314803248, \"n_units_with_lda_score\": 3202, \"subject_total_above_threshold\": 2.0816137058512787, \"units_group\": \"predicted_ks2.5\"}, {\"session_id\": \"715710_2024-07-17\", \"subject_id\": \"715710\", \"above_threshold\": 0.5938864628820961, \"n_units_with_lda_score\": 1145, \"subject_total_above_threshold\": 2.4536996111538265, \"units_group\": \"predicted_ks2.5\"}, {\"session_id\": \"649943_2023-02-15\", \"subject_id\": \"649943\", \"above_threshold\": 0.5508112724167379, \"n_units_with_lda_score\": 2342, \"subject_total_above_threshold\": 2.2948776158008997, \"units_group\": \"predicted_ks2.5\"}, {\"session_id\": \"737403_2024-09-25\", \"subject_id\": \"737403\", \"above_threshold\": 0.4998591152437306, \"n_units_with_lda_score\": 3549, \"subject_total_above_threshold\": 2.0816137058512787, \"units_group\": \"predicted_ks2.5\"}, {\"session_id\": \"706401_2024-04-22\", \"subject_id\": \"706401\", \"above_threshold\": 0.34728682170542635, \"n_units_with_lda_score\": 3870, \"subject_total_above_threshold\": 1.2435438950095745, \"units_group\": \"predicted_ks2.5\"}, {\"session_id\": \"714748_2024-06-27\", \"subject_id\": \"714748\", \"above_threshold\": 0.34917245061398827, \"n_units_with_lda_score\": 1873, \"subject_total_above_threshold\": 1.419273997761644, \"units_group\": \"predicted_ks2.5\"}, {\"session_id\": \"644867_2023-02-23\", \"subject_id\": \"644867\", \"above_threshold\": 0.4790502793296089, \"n_units_with_lda_score\": 2864, \"subject_total_above_threshold\": 1.5943333537896651, \"units_group\": \"predicted_ks2.5\"}, {\"session_id\": \"644867_2023-02-22\", \"subject_id\": \"644867\", \"above_threshold\": 0.5638413968715896, \"n_units_with_lda_score\": 2749, \"subject_total_above_threshold\": 1.5943333537896651, \"units_group\": \"predicted_ks2.5\"}, {\"session_id\": \"649943_2023-02-13\", \"subject_id\": \"649943\", \"above_threshold\": 0.47368421052631576, \"n_units_with_lda_score\": 3382, \"subject_total_above_threshold\": 2.2948776158008997, \"units_group\": \"predicted_ks2.5\"}, {\"session_id\": \"667252_2023-09-25\", \"subject_id\": \"667252\", \"above_threshold\": 0.42042042042042044, \"n_units_with_lda_score\": 2331, \"subject_total_above_threshold\": 1.343883316203495, \"units_group\": \"predicted_ks2.5\"}, {\"session_id\": \"686176_2023-12-05\", \"subject_id\": \"686176\", \"above_threshold\": 0.46493756003842457, \"n_units_with_lda_score\": 3123, \"subject_total_above_threshold\": 1.3736044568655943, \"units_group\": \"predicted_ks2.5\"}, {\"session_id\": \"733780_2024-08-30\", \"subject_id\": \"733780\", \"above_threshold\": 0.3548740416210296, \"n_units_with_lda_score\": 1826, \"subject_total_above_threshold\": 3.049894668607106, \"units_group\": \"predicted_ks2.5\"}, {\"session_id\": \"674562_2023-10-03\", \"subject_id\": \"674562\", \"above_threshold\": 0.40084226646248083, \"n_units_with_lda_score\": 2612, \"subject_total_above_threshold\": 1.794635731150514, \"units_group\": \"predicted_ks2.5\"}, {\"session_id\": \"741137_2024-10-10\", \"subject_id\": \"741137\", \"above_threshold\": 0.5292864749733759, \"n_units_with_lda_score\": 1878, \"subject_total_above_threshold\": 2.2228862169943655, \"units_group\": \"predicted_ks2.5\"}, {\"session_id\": \"742903_2024-10-22\", \"subject_id\": \"742903\", \"above_threshold\": 0.3203932442651878, \"n_units_with_lda_score\": 3967, \"subject_total_above_threshold\": 0.3203932442651878, \"units_group\": \"predicted_ks4\"}]}}, {\"mode\": \"vega-lite\"});\n",
       "</script>"
      ],
      "text/plain": [
       "alt.Chart(...)"
      ]
     },
     "execution_count": 2,
     "metadata": {},
     "output_type": "execute_result"
    }
   ],
   "source": [
    "def fpr_to_lda_threshold(fpr_threshold: float) -> float:\n",
    "    return (\n",
    "        get_roc_curve_df(metric='lda')\n",
    "        .select(\n",
    "            pl.col('value').sort_by((pl.col('fpr') - fpr_threshold).abs())\n",
    "        )\n",
    "        .get_column('value')\n",
    "        .first()\n",
    "    )\n",
    "    \n",
    "def get_above_lda_threshold_df(df: pl.DataFrame, lda_threshold: float, drop_empty: bool = True) -> pl.DataFrame:\n",
    "    return (\n",
    "        df\n",
    "        .with_columns(\n",
    "            session_id=pl.col('unit_id').str.split('_').list.slice(0, 2).list.join('_'),\n",
    "            subject_id=pl.col('unit_id').str.split('_').list.get(0),\n",
    "        )\n",
    "        .group_by('session_id')\n",
    "        .agg(\n",
    "            pl.col('subject_id').first(),\n",
    "            above_threshold=pl.col('lda').ge(lda_threshold).sum().truediv(pl.col('lda').count()),\n",
    "            n_units_with_lda_score=pl.col('lda').count(),\n",
    "        )\n",
    "        .filter(\n",
    "            (pl.col('n_units_with_lda_score') > 0) if drop_empty else pl.lit(True)\n",
    "        )\n",
    "        .with_columns(\n",
    "            subject_total_above_threshold=pl.col('above_threshold').sum().over('subject_id'),\n",
    "        )\n",
    "    )\n",
    "    \n",
    "def get_sessions_above_threshold_chart(df: pl.DataFrame, fpr_threshold: float) -> alt.Chart:\n",
    "    lda_threshold = fpr_to_lda_threshold(fpr_threshold)\n",
    "    return (\n",
    "        alt.Chart(df.pipe(get_above_lda_threshold_df, lda_threshold=lda_threshold)).mark_bar().encode(\n",
    "            color=alt.Color('above_threshold:Q'),#.scale(domain=[0, 1]),\n",
    "            x=alt.X('subject_id:N', sort='x'),\n",
    "            y=alt.Y('above_threshold:Q'),\n",
    "            tooltip=['session_id', 'above_threshold'],\n",
    "        ).properties(\n",
    "            title=[f'Fraction of units above {lda_threshold=:.2f} (FPR={fpr_threshold})', '(some sessions missing LDA metric for all units)'],\n",
    "            width=1600,\n",
    "            height=200,\n",
    "        )\n",
    "        .interactive()\n",
    "    )\n",
    "    \n",
    "def get_combined_above_threshold_chart(annotated_units_df: pl.DataFrame, all_units_df: pl.DataFrame, fpr_threshold: float) -> alt.Chart:\n",
    "    lda_threshold = fpr_to_lda_threshold(fpr_threshold)\n",
    "    source = pl.concat([\n",
    "        (\n",
    "            annotated_units_df.pipe(get_above_lda_threshold_df, lda_threshold=lda_threshold)\n",
    "            .with_columns(\n",
    "                units_group=pl.lit('annotated_ks2.5'),\n",
    "            )\n",
    "        ),\n",
    "        (\n",
    "            all_units_df.pipe(get_above_lda_threshold_df, lda_threshold=lda_threshold)\n",
    "            .with_columns(\n",
    "                units_group=pl.lit('predicted_ks2.5'),\n",
    "            )\n",
    "        ),\n",
    "        (\n",
    "            lda_all_ks4_df.pipe(get_above_lda_threshold_df, lda_threshold=lda_threshold)\n",
    "            .with_columns(\n",
    "                units_group=pl.lit('predicted_ks4'),\n",
    "            )\n",
    "        ),\n",
    "    ])\n",
    "    order = ['annotated_ks2.5', 'predicted_ks2.5', 'predicted_ks4']\n",
    "    assert all(name in source['units_group'].unique() for name in order)\n",
    "    return (\n",
    "        alt.Chart(source).mark_bar().encode(\n",
    "            color=alt.Color('above_threshold:Q'),#.scale(domain=[0, 1]),\n",
    "            x=alt.X('subject_id:N', sort='x'),\n",
    "            y=alt.Y('above_threshold:Q'),\n",
    "            order=alt.Order('session_id:N'),\n",
    "            xOffset=alt.XOffset('units_group:N', sort=order),\n",
    "            tooltip=['units_group', 'session_id', 'n_units_with_lda_score', 'above_threshold'],\n",
    "        ).properties(\n",
    "            title=[f'Fraction of units above {lda_threshold=:.2f} (FPR={fpr_threshold}) (some sessions missing LDA metric for units)', '', '{} units    |    {} (all units)    |    {} (all units)'.format(*order)],\n",
    "            width=1800,\n",
    "            height=300,\n",
    "        )\n",
    "        .interactive()\n",
    "    )\n",
    "\n",
    "fpr_threshold = 0.2\n",
    "get_combined_above_threshold_chart(\n",
    "    annotated_units_df=get_df().drop_nulls('drift_rating').join(lda_all_df, on='unit_id', how='left'), \n",
    "    all_units_df=lda_all_df, \n",
    "    fpr_threshold=fpr_threshold,\n",
    ")"
   ]
  },
  {
   "cell_type": "markdown",
   "metadata": {},
   "source": [
    "---\n",
    "LDA in annotated vs whole population"
   ]
  },
  {
   "cell_type": "code",
   "execution_count": 7,
   "metadata": {},
   "outputs": [
    {
     "data": {
      "image/png": "[encoded data removed]",
      "text/plain": [
       "<Figure size 640x480 with 1 Axes>"
      ]
     },
     "metadata": {},
     "output_type": "display_data"
    }
   ],
   "source": [
    "import seaborn as sns\n",
    "\n",
    "df = (\n",
    "    get_df()\n",
    "    .drop_nulls('drift_rating')\n",
    "    .join(lda_all_df.select('unit_id', 'lda'), on='unit_id', how='left')\n",
    "    .select('lda')\n",
    "    .with_columns(units=pl.lit('annotated'))\n",
    "    .merge_sorted(\n",
    "        other=(\n",
    "            lda_all_df\n",
    "            .select('lda')\n",
    "            .with_columns(units=pl.lit('all'))\n",
    "        ),\n",
    "        key='lda',\n",
    "    )\n",
    "    .fill_nan(None)\n",
    "    .drop_nulls()\n",
    ")\n",
    "\n",
    "sns.histplot(df.to_pandas(), x='lda', hue='units', cumulative=True, stat='density', common_norm=False, element='step', fill=False);"
   ]
  },
  {
   "cell_type": "markdown",
   "metadata": {},
   "source": [
    "---\n",
    "LDA in KS2.5 vs KS4"
   ]
  },
  {
   "cell_type": "code",
   "execution_count": 8,
   "metadata": {},
   "outputs": [
    {
     "data": {
      "image/png": "[encoded data removed]",
      "text/plain": [
       "<Figure size 640x480 with 1 Axes>"
      ]
     },
     "metadata": {},
     "output_type": "display_data"
    }
   ],
   "source": [
    "import seaborn as sns\n",
    "\n",
    "df = (\n",
    "    lda_all_ks4_df\n",
    "    .select('lda')\n",
    "    .with_columns(sorter=pl.lit('ks4'))\n",
    "    .merge_sorted(\n",
    "        other=(\n",
    "            lda_all_df\n",
    "            .select('lda')\n",
    "            .with_columns(sorter=pl.lit('ks2.5'))\n",
    "        ),\n",
    "        key='lda',\n",
    "    )\n",
    "    .fill_nan(None)\n",
    "    .drop_nulls()\n",
    "    .sort('lda')\n",
    "    .with_columns(\n",
    "        cdf=(pl.col('lda').cum_count() / pl.col('lda').count()).over('sorter'),\n",
    "    )\n",
    ")\n",
    "\n",
    "sns.histplot(df.to_pandas(), x='lda', hue='sorter', cumulative=True, stat='density', common_norm=False, element='step', fill=False);\n"
   ]
  },
  {
   "cell_type": "code",
   "execution_count": null,
   "metadata": {},
   "outputs": [],
   "source": []
  }
 ],
 "metadata": {
  "kernelspec": {
   "display_name": ".venv",
   "language": "python",
   "name": "python3"
  },
  "language_info": {
   "codemirror_mode": {
    "name": "ipython",
    "version": 3
   },
   "file_extension": ".py",
   "mimetype": "text/x-python",
   "name": "python",
   "nbconvert_exporter": "python",
   "pygments_lexer": "ipython3",
   "version": "3.11.5"
  }
 },
 "nbformat": 4,
 "nbformat_minor": 2
}
