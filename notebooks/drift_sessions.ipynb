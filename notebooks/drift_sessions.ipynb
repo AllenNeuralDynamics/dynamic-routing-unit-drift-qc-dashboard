{
 "cells": [
  {
   "cell_type": "markdown",
   "metadata": {},
   "source": [
    "## adding KS4 data\n",
    "1. Export spike times:\n",
    "    https://codeocean.allenneuraldynamics.org/capsule/2210357/tree\n",
    "    - attach new ks4 sorted asset\n",
    "    - use `dump_timing_info.py` with `npc_sessions` and put .json file in `/code` \n",
    "    - run capsule to create individual session parquet files in /results, and a consolidate file\n",
    "      (without spike times) at `s3://aind-scratch-data/dynamic-routing/unit-rasters-ks4/units.parquet`\n",
    "    - create asset with parquet files in `/ks4` folder\n",
    "2. https://codeocean.allenneuraldynamics.org/capsule/6421158/tree\n",
    "    - attach new asset with ks4 session unit parquet files\n",
    "    - run capsule to create R^2 values for spike count vs time\n",
    "    - download `corr_values_ks4.parquet` to `\\\\allen\\programs\\mindscope\\workgroups\\dynamicrouting\\ben`\n",
    "3. run `run_unit_drift_lda.py` \n",
    "    - uses corr values and consolidated units table (for `presence_ratio`)\n",
    "4. restart this notebook "
   ]
  },
  {
   "cell_type": "code",
   "execution_count": 1,
   "metadata": {},
   "outputs": [],
   "source": [
    "import pathlib\n",
    "import sys\n",
    "sys.path.append(str(pathlib.Path.cwd().absolute().parent))\n",
    "\n",
    "import polars as pl\n",
    "import altair as alt\n",
    "\n",
    "from app_charts import lda_all_df, get_roc_curve_df, lda_all_ks4_df\n",
    "import db_utils\n",
    "from db_utils import get_df"
   ]
  },
  {
   "cell_type": "markdown",
   "metadata": {},
   "source": [
    "---\n",
    "Annotated units"
   ]
  },
  {
   "cell_type": "code",
   "execution_count": null,
   "metadata": {},
   "outputs": [
    {
     "data": {
      "text/html": [
       "<div><style>\n",
       ".dataframe > thead > tr,\n",
       ".dataframe > tbody > tr {\n",
       "  text-align: right;\n",
       "  white-space: pre-wrap;\n",
       "}\n",
       "</style>\n",
       "<small>shape: (3, 2)</small><table border=\"1\" class=\"dataframe\"><thead><tr><th>drift_rating</th><th>proportion</th></tr><tr><td>str</td><td>f64</td></tr></thead><tbody><tr><td>&quot;drift&quot;</td><td>0.15475</td></tr><tr><td>&quot;unsure&quot;</td><td>0.35144</td></tr><tr><td>&quot;no drift&quot;</td><td>0.49381</td></tr></tbody></table></div>"
      ],
      "text/plain": [
       "shape: (3, 2)\n",
       "┌──────────────┬────────────┐\n",
       "│ drift_rating ┆ proportion │\n",
       "│ ---          ┆ ---        │\n",
       "│ str          ┆ f64        │\n",
       "╞══════════════╪════════════╡\n",
       "│ drift        ┆ 0.15475    │\n",
       "│ unsure       ┆ 0.35144    │\n",
       "│ no drift     ┆ 0.49381    │\n",
       "└──────────────┴────────────┘"
      ]
     },
     "metadata": {},
     "output_type": "display_data"
    },
    {
     "data": {
      "text/html": [
       "\n",
       "<style>\n",
       "  #altair-viz-fa50a5cc5d5a4b0eaaa67027f27c05da.vega-embed {\n",
       "    width: 100%;\n",
       "    display: flex;\n",
       "  }\n",
       "\n",
       "  #altair-viz-fa50a5cc5d5a4b0eaaa67027f27c05da.vega-embed details,\n",
       "  #altair-viz-fa50a5cc5d5a4b0eaaa67027f27c05da.vega-embed details summary {\n",
       "    position: relative;\n",
       "  }\n",
       "</style>\n",
       "<div id=\"altair-viz-fa50a5cc5d5a4b0eaaa67027f27c05da\"></div>\n",
       "<script type=\"text/javascript\">\n",
       "  var VEGA_DEBUG = (typeof VEGA_DEBUG == \"undefined\") ? {} : VEGA_DEBUG;\n",
       "  (function(spec, embedOpt){\n",
       "    let outputDiv = document.currentScript.previousElementSibling;\n",
       "    if (outputDiv.id !== \"altair-viz-fa50a5cc5d5a4b0eaaa67027f27c05da\") {\n",
       "      outputDiv = document.getElementById(\"altair-viz-fa50a5cc5d5a4b0eaaa67027f27c05da\");\n",
       "    }\n",
       "    const paths = {\n",
       "      \"vega\": \"https://cdn.jsdelivr.net/npm/vega@5?noext\",\n",
       "      \"vega-lib\": \"https://cdn.jsdelivr.net/npm/vega-lib?noext\",\n",
       "      \"vega-lite\": \"https://cdn.jsdelivr.net/npm/vega-lite@5.20.1?noext\",\n",
       "      \"vega-embed\": \"https://cdn.jsdelivr.net/npm/vega-embed@6?noext\",\n",
       "    };\n",
       "\n",
       "    function maybeLoadScript(lib, version) {\n",
       "      var key = `${lib.replace(\"-\", \"\")}_version`;\n",
       "      return (VEGA_DEBUG[key] == version) ?\n",
       "        Promise.resolve(paths[lib]) :\n",
       "        new Promise(function(resolve, reject) {\n",
       "          var s = document.createElement('script');\n",
       "          document.getElementsByTagName(\"head\")[0].appendChild(s);\n",
       "          s.async = true;\n",
       "          s.onload = () => {\n",
       "            VEGA_DEBUG[key] = version;\n",
       "            return resolve(paths[lib]);\n",
       "          };\n",
       "          s.onerror = () => reject(`Error loading script: ${paths[lib]}`);\n",
       "          s.src = paths[lib];\n",
       "        });\n",
       "    }\n",
       "\n",
       "    function showError(err) {\n",
       "      outputDiv.innerHTML = `<div class=\"error\" style=\"color:red;\">${err}</div>`;\n",
       "      throw err;\n",
       "    }\n",
       "\n",
       "    function displayChart(vegaEmbed) {\n",
       "      vegaEmbed(outputDiv, spec, embedOpt)\n",
       "        .catch(err => showError(`Javascript Error: ${err.message}<br>This usually means there's a typo in your chart specification. See the javascript console for the full traceback.`));\n",
       "    }\n",
       "\n",
       "    if(typeof define === \"function\" && define.amd) {\n",
       "      requirejs.config({paths});\n",
       "      require([\"vega-embed\"], displayChart, err => showError(`Error loading script: ${err.message}`));\n",
       "    } else {\n",
       "      maybeLoadScript(\"vega\", \"5\")\n",
       "        .then(() => maybeLoadScript(\"vega-lite\", \"5.20.1\"))\n",
       "        .then(() => maybeLoadScript(\"vega-embed\", \"6\"))\n",
       "        .catch(showError)\n",
       "        .then(() => displayChart(vegaEmbed));\n",
       "    }\n",
       "  })({\"config\": {\"view\": {\"continuousWidth\": 300, \"continuousHeight\": 300}}, \"layer\": [{\"mark\": {\"type\": \"arc\", \"outerRadius\": 120}, \"encoding\": {\"color\": {\"field\": \"drift_rating\", \"legend\": null, \"scale\": {\"scheme\": \"blues\", \"reverse\": true}, \"type\": \"nominal\"}, \"theta\": {\"field\": \"proportion\", \"stack\": true, \"type\": \"quantitative\"}, \"tooltip\": [{\"field\": \"drift_rating\", \"type\": \"nominal\"}, {\"field\": \"proportion\", \"type\": \"quantitative\"}]}, \"title\": \"7916 annotated units (KS2.5)\"}, {\"mark\": {\"type\": \"text\", \"radius\": 160, \"size\": 16}, \"encoding\": {\"color\": {\"field\": \"drift_rating\", \"legend\": null, \"scale\": {\"scheme\": \"blues\", \"reverse\": true}, \"type\": \"nominal\"}, \"text\": {\"field\": \"drift_rating\", \"type\": \"nominal\"}, \"theta\": {\"field\": \"proportion\", \"stack\": true, \"type\": \"quantitative\"}, \"tooltip\": [{\"field\": \"drift_rating\", \"type\": \"nominal\"}, {\"field\": \"proportion\", \"type\": \"quantitative\"}]}, \"title\": \"7916 annotated units (KS2.5)\"}], \"data\": {\"name\": \"data-cf108a9db816478a58d88f27a2b4afa9\"}, \"$schema\": \"https://vega.github.io/schema/vega-lite/v5.20.1.json\", \"datasets\": {\"data-cf108a9db816478a58d88f27a2b4afa9\": [{\"drift_rating\": \"drift\", \"proportion\": 0.1547498736735725}, {\"drift_rating\": \"unsure\", \"proportion\": 0.3514401212733704}, {\"drift_rating\": \"no drift\", \"proportion\": 0.4938100050530571}]}}, {\"mode\": \"vega-lite\"});\n",
       "</script>"
      ],
      "text/plain": [
       "alt.LayerChart(...)"
      ]
     },
     "execution_count": 100,
     "metadata": {},
     "output_type": "execute_result"
    }
   ],
   "source": [
    "df = (\n",
    "    get_df()\n",
    "    .drop_nulls('drift_rating')\n",
    "    .with_columns(\n",
    "        drift_rating=pl.when(pl.col(\"drift_rating\") == db_utils.UnitDriftRating.YES)\n",
    "        .then(pl.lit('drift'))\n",
    "        .when(pl.col(\"drift_rating\") == db_utils.UnitDriftRating.NO)\n",
    "        .then(pl.lit('no drift'))\n",
    "        .when(pl.col(\"drift_rating\") == db_utils.UnitDriftRating.UNSURE)\n",
    "        .then(pl.lit('unsure'))\n",
    "    ) \n",
    "    .get_column('drift_rating')\n",
    "    .value_counts(normalize=True)\n",
    "    .sort('proportion')\n",
    ")\n",
    "\n",
    "display(df)\n",
    "base = (\n",
    "    alt.Chart(df)\n",
    "    .encode(\n",
    "        theta=alt.Theta(\"proportion:Q\").stack(True),\n",
    "        color=alt.Color(\"drift_rating\").scale(scheme=\"blues\", reverse=True).legend(None),\n",
    "        tooltip=[\"drift_rating\", \"proportion\"],\n",
    "    )\n",
    "    .properties(title=f\"{len(get_df().drop_nulls('drift_rating'))} annotated units (KS2.5)\")\n",
    ")\n",
    "base.mark_arc(outerRadius=120) + base.mark_text(radius=160, size=16).encode(text=\"drift_rating:N\")"
   ]
  },
  {
   "cell_type": "code",
   "execution_count": 101,
   "metadata": {},
   "outputs": [
    {
     "data": {
      "text/html": [
       "<div><style>\n",
       ".dataframe > thead > tr,\n",
       ".dataframe > tbody > tr {\n",
       "  text-align: right;\n",
       "  white-space: pre-wrap;\n",
       "}\n",
       "</style>\n",
       "<small>shape: (138, 2)</small><table border=\"1\" class=\"dataframe\"><thead><tr><th>session_id</th><th>lda_median</th></tr><tr><td>str</td><td>f64</td></tr></thead><tbody><tr><td>&quot;715710_2024-07-17&quot;</td><td>-0.204278</td></tr><tr><td>&quot;741148_2024-10-18&quot;</td><td>-0.220592</td></tr><tr><td>&quot;699847_2024-04-15&quot;</td><td>-0.244285</td></tr><tr><td>&quot;649943_2023-02-14&quot;</td><td>-0.29585</td></tr><tr><td>&quot;741148_2024-10-16&quot;</td><td>-0.31744</td></tr><tr><td>&hellip;</td><td>&hellip;</td></tr><tr><td>&quot;708016_2024-04-29&quot;</td><td>-0.533534</td></tr><tr><td>&quot;681532_2023-10-17&quot;</td><td>-0.53596</td></tr><tr><td>&quot;666986_2023-08-15&quot;</td><td>-0.536073</td></tr><tr><td>&quot;737403_2024-09-26&quot;</td><td>-0.53659</td></tr><tr><td>&quot;702136_2024-03-05&quot;</td><td>-0.54674</td></tr></tbody></table></div>"
      ],
      "text/plain": [
       "shape: (138, 2)\n",
       "┌───────────────────┬────────────┐\n",
       "│ session_id        ┆ lda_median │\n",
       "│ ---               ┆ ---        │\n",
       "│ str               ┆ f64        │\n",
       "╞═══════════════════╪════════════╡\n",
       "│ 715710_2024-07-17 ┆ -0.204278  │\n",
       "│ 741148_2024-10-18 ┆ -0.220592  │\n",
       "│ 699847_2024-04-15 ┆ -0.244285  │\n",
       "│ 649943_2023-02-14 ┆ -0.29585   │\n",
       "│ 741148_2024-10-16 ┆ -0.31744   │\n",
       "│ …                 ┆ …          │\n",
       "│ 708016_2024-04-29 ┆ -0.533534  │\n",
       "│ 681532_2023-10-17 ┆ -0.53596   │\n",
       "│ 666986_2023-08-15 ┆ -0.536073  │\n",
       "│ 737403_2024-09-26 ┆ -0.53659   │\n",
       "│ 702136_2024-03-05 ┆ -0.54674   │\n",
       "└───────────────────┴────────────┘"
      ]
     },
     "metadata": {},
     "output_type": "display_data"
    },
    {
     "data": {
      "text/html": [
       "<div><style>\n",
       ".dataframe > thead > tr,\n",
       ".dataframe > tbody > tr {\n",
       "  text-align: right;\n",
       "  white-space: pre-wrap;\n",
       "}\n",
       "</style>\n",
       "<small>shape: (8, 2)</small><table border=\"1\" class=\"dataframe\"><thead><tr><th>statistic</th><th>value</th></tr><tr><td>str</td><td>f64</td></tr></thead><tbody><tr><td>&quot;count&quot;</td><td>138.0</td></tr><tr><td>&quot;null_count&quot;</td><td>0.0</td></tr><tr><td>&quot;mean&quot;</td><td>-0.447178</td></tr><tr><td>&quot;std&quot;</td><td>0.069481</td></tr><tr><td>&quot;min&quot;</td><td>-0.54674</td></tr><tr><td>&quot;10%&quot;</td><td>-0.523033</td></tr><tr><td>&quot;90%&quot;</td><td>-0.352652</td></tr><tr><td>&quot;max&quot;</td><td>-0.204278</td></tr></tbody></table></div>"
      ],
      "text/plain": [
       "shape: (8, 2)\n",
       "┌────────────┬───────────┐\n",
       "│ statistic  ┆ value     │\n",
       "│ ---        ┆ ---       │\n",
       "│ str        ┆ f64       │\n",
       "╞════════════╪═══════════╡\n",
       "│ count      ┆ 138.0     │\n",
       "│ null_count ┆ 0.0       │\n",
       "│ mean       ┆ -0.447178 │\n",
       "│ std        ┆ 0.069481  │\n",
       "│ min        ┆ -0.54674  │\n",
       "│ 10%        ┆ -0.523033 │\n",
       "│ 90%        ┆ -0.352652 │\n",
       "│ max        ┆ -0.204278 │\n",
       "└────────────┴───────────┘"
      ]
     },
     "metadata": {},
     "output_type": "display_data"
    }
   ],
   "source": [
    "df = (\n",
    "    get_df()\n",
    "    .drop_nulls('drift_rating')\n",
    "    .join(lda_all_df, on='unit_id', how='left')\n",
    "    .group_by('session_id')\n",
    "    .agg(\n",
    "        pl.col('lda').median().alias('lda_median'),\n",
    "    )\n",
    "    .sort('lda_median', descending=True)\n",
    "    .drop_nulls('lda_median')\n",
    ")\n",
    "display(df)\n",
    "display(df['lda_median'].describe(percentiles=(0.1, 0.9)))"
   ]
  },
  {
   "cell_type": "markdown",
   "metadata": {},
   "source": [
    "---\n",
    "All units (KS2.5)"
   ]
  },
  {
   "cell_type": "code",
   "execution_count": 25,
   "metadata": {},
   "outputs": [
    {
     "data": {
      "text/html": [
       "<div><style>\n",
       ".dataframe > thead > tr,\n",
       ".dataframe > tbody > tr {\n",
       "  text-align: right;\n",
       "  white-space: pre-wrap;\n",
       "}\n",
       "</style>\n",
       "<small>shape: (138, 2)</small><table border=\"1\" class=\"dataframe\"><thead><tr><th>session_id</th><th>lda_median</th></tr><tr><td>str</td><td>f64</td></tr></thead><tbody><tr><td>&quot;741148_2024-10-18&quot;</td><td>-0.193454</td></tr><tr><td>&quot;715710_2024-07-17&quot;</td><td>-0.206137</td></tr><tr><td>&quot;699847_2024-04-15&quot;</td><td>-0.291405</td></tr><tr><td>&quot;644867_2023-02-20&quot;</td><td>-0.298015</td></tr><tr><td>&quot;713655_2024-08-08&quot;</td><td>-0.310214</td></tr><tr><td>&hellip;</td><td>&hellip;</td></tr><tr><td>&quot;681532_2023-10-17&quot;</td><td>-0.540436</td></tr><tr><td>&quot;666986_2023-08-15&quot;</td><td>-0.542345</td></tr><tr><td>&quot;702136_2024-03-05&quot;</td><td>-0.543165</td></tr><tr><td>&quot;667252_2023-09-25&quot;</td><td>-0.551671</td></tr><tr><td>&quot;733891_2024-09-20&quot;</td><td>-0.554267</td></tr></tbody></table></div>"
      ],
      "text/plain": [
       "shape: (138, 2)\n",
       "┌───────────────────┬────────────┐\n",
       "│ session_id        ┆ lda_median │\n",
       "│ ---               ┆ ---        │\n",
       "│ str               ┆ f64        │\n",
       "╞═══════════════════╪════════════╡\n",
       "│ 741148_2024-10-18 ┆ -0.193454  │\n",
       "│ 715710_2024-07-17 ┆ -0.206137  │\n",
       "│ 699847_2024-04-15 ┆ -0.291405  │\n",
       "│ 644867_2023-02-20 ┆ -0.298015  │\n",
       "│ 713655_2024-08-08 ┆ -0.310214  │\n",
       "│ …                 ┆ …          │\n",
       "│ 681532_2023-10-17 ┆ -0.540436  │\n",
       "│ 666986_2023-08-15 ┆ -0.542345  │\n",
       "│ 702136_2024-03-05 ┆ -0.543165  │\n",
       "│ 667252_2023-09-25 ┆ -0.551671  │\n",
       "│ 733891_2024-09-20 ┆ -0.554267  │\n",
       "└───────────────────┴────────────┘"
      ]
     },
     "metadata": {},
     "output_type": "display_data"
    },
    {
     "data": {
      "text/html": [
       "<div><style>\n",
       ".dataframe > thead > tr,\n",
       ".dataframe > tbody > tr {\n",
       "  text-align: right;\n",
       "  white-space: pre-wrap;\n",
       "}\n",
       "</style>\n",
       "<small>shape: (8, 2)</small><table border=\"1\" class=\"dataframe\"><thead><tr><th>statistic</th><th>value</th></tr><tr><td>str</td><td>f64</td></tr></thead><tbody><tr><td>&quot;count&quot;</td><td>138.0</td></tr><tr><td>&quot;null_count&quot;</td><td>0.0</td></tr><tr><td>&quot;mean&quot;</td><td>-0.450507</td></tr><tr><td>&quot;std&quot;</td><td>0.070944</td></tr><tr><td>&quot;min&quot;</td><td>-0.554267</td></tr><tr><td>&quot;10%&quot;</td><td>-0.52845</td></tr><tr><td>&quot;90%&quot;</td><td>-0.349397</td></tr><tr><td>&quot;max&quot;</td><td>-0.193454</td></tr></tbody></table></div>"
      ],
      "text/plain": [
       "shape: (8, 2)\n",
       "┌────────────┬───────────┐\n",
       "│ statistic  ┆ value     │\n",
       "│ ---        ┆ ---       │\n",
       "│ str        ┆ f64       │\n",
       "╞════════════╪═══════════╡\n",
       "│ count      ┆ 138.0     │\n",
       "│ null_count ┆ 0.0       │\n",
       "│ mean       ┆ -0.450507 │\n",
       "│ std        ┆ 0.070944  │\n",
       "│ min        ┆ -0.554267 │\n",
       "│ 10%        ┆ -0.52845  │\n",
       "│ 90%        ┆ -0.349397 │\n",
       "│ max        ┆ -0.193454 │\n",
       "└────────────┴───────────┘"
      ]
     },
     "metadata": {},
     "output_type": "display_data"
    }
   ],
   "source": [
    "df = (\n",
    "    lda_all_df\n",
    "    .drop_nulls('drift_rating')\n",
    "    .with_columns(\n",
    "            session_id=pl.col('unit_id').str.split('_').list.slice(0, 2).list.join('_'),\n",
    "    )\n",
    "    .group_by('session_id')\n",
    "    .agg(\n",
    "        pl.col('lda').median().alias('lda_median'),\n",
    "    )\n",
    "    .sort('lda_median', descending=True)\n",
    ")\n",
    "display(df)\n",
    "display(df['lda_median'].describe(percentiles=(0.1, 0.9)))"
   ]
  },
  {
   "cell_type": "code",
   "execution_count": 2,
   "metadata": {},
   "outputs": [
    {
     "data": {
      "text/html": [
       "\n",
       "<style>\n",
       "  #altair-viz-1103b2f1a190423aaba42502eebd395b.vega-embed {\n",
       "    width: 100%;\n",
       "    display: flex;\n",
       "  }\n",
       "\n",
       "  #altair-viz-1103b2f1a190423aaba42502eebd395b.vega-embed details,\n",
       "  #altair-viz-1103b2f1a190423aaba42502eebd395b.vega-embed details summary {\n",
       "    position: relative;\n",
       "  }\n",
       "</style>\n",
       "<div id=\"altair-viz-1103b2f1a190423aaba42502eebd395b\"></div>\n",
       "<script type=\"text/javascript\">\n",
       "  var VEGA_DEBUG = (typeof VEGA_DEBUG == \"undefined\") ? {} : VEGA_DEBUG;\n",
       "  (function(spec, embedOpt){\n",
       "    let outputDiv = document.currentScript.previousElementSibling;\n",
       "    if (outputDiv.id !== \"altair-viz-1103b2f1a190423aaba42502eebd395b\") {\n",
       "      outputDiv = document.getElementById(\"altair-viz-1103b2f1a190423aaba42502eebd395b\");\n",
       "    }\n",
       "    const paths = {\n",
       "      \"vega\": \"https://cdn.jsdelivr.net/npm/vega@5?noext\",\n",
       "      \"vega-lib\": \"https://cdn.jsdelivr.net/npm/vega-lib?noext\",\n",
       "      \"vega-lite\": \"https://cdn.jsdelivr.net/npm/vega-lite@5.20.1?noext\",\n",
       "      \"vega-embed\": \"https://cdn.jsdelivr.net/npm/vega-embed@6?noext\",\n",
       "    };\n",
       "\n",
       "    function maybeLoadScript(lib, version) {\n",
       "      var key = `${lib.replace(\"-\", \"\")}_version`;\n",
       "      return (VEGA_DEBUG[key] == version) ?\n",
       "        Promise.resolve(paths[lib]) :\n",
       "        new Promise(function(resolve, reject) {\n",
       "          var s = document.createElement('script');\n",
       "          document.getElementsByTagName(\"head\")[0].appendChild(s);\n",
       "          s.async = true;\n",
       "          s.onload = () => {\n",
       "            VEGA_DEBUG[key] = version;\n",
       "            return resolve(paths[lib]);\n",
       "          };\n",
       "          s.onerror = () => reject(`Error loading script: ${paths[lib]}`);\n",
       "          s.src = paths[lib];\n",
       "        });\n",
       "    }\n",
       "\n",
       "    function showError(err) {\n",
       "      outputDiv.innerHTML = `<div class=\"error\" style=\"color:red;\">${err}</div>`;\n",
       "      throw err;\n",
       "    }\n",
       "\n",
       "    function displayChart(vegaEmbed) {\n",
       "      vegaEmbed(outputDiv, spec, embedOpt)\n",
       "        .catch(err => showError(`Javascript Error: ${err.message}<br>This usually means there's a typo in your chart specification. See the javascript console for the full traceback.`));\n",
       "    }\n",
       "\n",
       "    if(typeof define === \"function\" && define.amd) {\n",
       "      requirejs.config({paths});\n",
       "      require([\"vega-embed\"], displayChart, err => showError(`Error loading script: ${err.message}`));\n",
       "    } else {\n",
       "      maybeLoadScript(\"vega\", \"5\")\n",
       "        .then(() => maybeLoadScript(\"vega-lite\", \"5.20.1\"))\n",
       "        .then(() => maybeLoadScript(\"vega-embed\", \"6\"))\n",
       "        .catch(showError)\n",
       "        .then(() => displayChart(vegaEmbed));\n",
       "    }\n",
       "  })({\"config\": {\"view\": {\"continuousWidth\": 300, \"continuousHeight\": 300}}, \"data\": {\"name\": \"data-50d2896b175a0d1b49db52b8137952e2\"}, \"mark\": {\"type\": \"bar\"}, \"encoding\": {\"color\": {\"field\": \"above_threshold\", \"type\": \"quantitative\"}, \"order\": {\"field\": \"session_id\", \"type\": \"nominal\"}, \"tooltip\": [{\"field\": \"units_group\", \"type\": \"nominal\"}, {\"field\": \"session_id\", \"type\": \"nominal\"}, {\"field\": \"n_units_with_lda_score\", \"type\": \"quantitative\"}, {\"field\": \"above_threshold\", \"type\": \"quantitative\"}], \"x\": {\"field\": \"subject_id\", \"sort\": \"x\", \"type\": \"nominal\"}, \"xOffset\": {\"field\": \"units_group\", \"sort\": [\"annotated_ks2.5\", \"predicted_ks2.5\", \"predicted_ks4\"], \"type\": \"nominal\"}, \"y\": {\"field\": \"above_threshold\", \"type\": \"quantitative\"}}, \"height\": 300, \"params\": [{\"name\": \"param_7\", \"select\": {\"type\": \"interval\", \"encodings\": [\"x\", \"y\"]}, \"bind\": \"scales\"}], \"title\": [\"Fraction of units above lda_threshold=-0.45 (FPR=0.2) (some sessions missing LDA metric for units)\", \"\", \"annotated_ks2.5 units    |    predicted_ks2.5 (all units)    |    predicted_ks4 (all units)\"], \"width\": 1800, \"$schema\": \"https://vega.github.io/schema/vega-lite/v5.20.1.json\", \"datasets\": {\"data-50d2896b175a0d1b49db52b8137952e2\": [{\"session_id\": \"702136_2024-03-07\", \"subject_id\": \"702136\", \"above_threshold\": 0.30096593797661414, \"n_units_with_lda_score\": 1967, \"subject_total_above_threshold\": 1.3226799731597763, \"units_group\": \"predicted_ks2.5\"}, {\"session_id\": \"690706_2023-11-27\", \"subject_id\": \"690706\", \"above_threshold\": 0.4490407673860911, \"n_units_with_lda_score\": 3336, \"subject_total_above_threshold\": 2.0605398882365447, \"units_group\": \"predicted_ks2.5\"}, {\"session_id\": \"714748_2024-06-25\", \"subject_id\": \"714748\", \"above_threshold\": 0.4077490774907749, \"n_units_with_lda_score\": 2168, \"subject_total_above_threshold\": 1.4808684901861722, \"units_group\": \"predicted_ks2.5\"}, {\"session_id\": \"662892_2023-08-24\", \"subject_id\": \"662892\", \"above_threshold\": 0.3074141048824593, \"n_units_with_lda_score\": 1106, \"subject_total_above_threshold\": 1.6183068608529327, \"units_group\": \"predicted_ks2.5\"}, {\"session_id\": \"726088_2024-06-21\", \"subject_id\": \"726088\", \"above_threshold\": 0.41835147744945567, \"n_units_with_lda_score\": 1286, \"subject_total_above_threshold\": 1.8689144950213954, \"units_group\": \"predicted_ks2.5\"}, {\"session_id\": \"733891_2024-09-18\", \"subject_id\": \"733891\", \"above_threshold\": 0.5390371663756548, \"n_units_with_lda_score\": 4009, \"subject_total_above_threshold\": 2.6356782741197917, \"units_group\": \"predicted_ks2.5\"}, {\"session_id\": \"703880_2024-04-15\", \"subject_id\": \"703880\", \"above_threshold\": 0.3896353166986564, \"n_units_with_lda_score\": 2084, \"subject_total_above_threshold\": 1.458246489336422, \"units_group\": \"predicted_ks2.5\"}, {\"session_id\": \"664851_2023-11-15\", \"subject_id\": \"664851\", \"above_threshold\": 0.5330440587449933, \"n_units_with_lda_score\": 2996, \"subject_total_above_threshold\": 1.9420827667685763, \"units_group\": \"predicted_ks2.5\"}, {\"session_id\": \"690706_2023-11-29\", \"subject_id\": \"690706\", \"above_threshold\": 0.5799469964664311, \"n_units_with_lda_score\": 2264, \"subject_total_above_threshold\": 2.0605398882365447, \"units_group\": \"predicted_ks2.5\"}, {\"session_id\": \"649943_2023-02-15\", \"subject_id\": \"649943\", \"above_threshold\": 0.5628099173553719, \"n_units_with_lda_score\": 2420, \"subject_total_above_threshold\": 2.353299349594054, \"units_group\": \"predicted_ks2.5\"}, {\"session_id\": \"702136_2024-03-06\", \"subject_id\": \"702136\", \"above_threshold\": 0.2511591962905719, \"n_units_with_lda_score\": 1294, \"subject_total_above_threshold\": 1.3226799731597763, \"units_group\": \"predicted_ks2.5\"}, {\"session_id\": \"664851_2023-11-16\", \"subject_id\": \"664851\", \"above_threshold\": 0.5476079888527636, \"n_units_with_lda_score\": 2153, \"subject_total_above_threshold\": 1.9420827667685763, \"units_group\": \"predicted_ks2.5\"}, {\"session_id\": \"703333_2024-04-11\", \"subject_id\": \"703333\", \"above_threshold\": 0.4546452084857352, \"n_units_with_lda_score\": 2734, \"subject_total_above_threshold\": 2.0025888041030147, \"units_group\": \"predicted_ks2.5\"}, {\"session_id\": \"649943_2023-02-16\", \"subject_id\": \"649943\", \"above_threshold\": 0.5757918552036199, \"n_units_with_lda_score\": 2652, \"subject_total_above_threshold\": 2.353299349594054, \"units_group\": \"predicted_ks2.5\"}, {\"session_id\": \"644864_2023-01-31\", \"subject_id\": \"644864\", \"above_threshold\": 0.6698194325021496, \"n_units_with_lda_score\": 3489, \"subject_total_above_threshold\": 1.8205926484197164, \"units_group\": \"predicted_ks2.5\"}, {\"session_id\": \"712815_2024-05-21\", \"subject_id\": \"712815\", \"above_threshold\": 0.44235924932975873, \"n_units_with_lda_score\": 1492, \"subject_total_above_threshold\": 1.4213138349291639, \"units_group\": \"predicted_ks2.5\"}, {\"session_id\": \"713655_2024-08-08\", \"subject_id\": \"713655\", \"above_threshold\": 0.4588204728500909, \"n_units_with_lda_score\": 3849, \"subject_total_above_threshold\": 1.8886599473799173, \"units_group\": \"predicted_ks2.5\"}, {\"session_id\": \"726088_2024-06-18\", \"subject_id\": \"726088\", \"above_threshold\": 0.3712354025814382, \"n_units_with_lda_score\": 1627, \"subject_total_above_threshold\": 1.8689144950213954, \"units_group\": \"predicted_ks2.5\"}, {\"session_id\": \"644867_2023-02-23\", \"subject_id\": \"644867\", \"above_threshold\": 0.4885704537700444, \"n_units_with_lda_score\": 2931, \"subject_total_above_threshold\": 1.6251830850619176, \"units_group\": \"predicted_ks2.5\"}, {\"session_id\": \"636766_2023-01-23\", \"subject_id\": \"636766\", \"above_threshold\": 0.5341898052217157, \"n_units_with_lda_score\": 2413, \"subject_total_above_threshold\": 2.1145563406016286, \"units_group\": \"predicted_ks2.5\"}, {\"session_id\": \"626791_2022-08-15\", \"subject_id\": \"626791\", \"above_threshold\": 0.5973847212663455, \"n_units_with_lda_score\": 2906, \"subject_total_above_threshold\": 1.8129792631766768, \"units_group\": \"predicted_ks2.5\"}, {\"session_id\": \"644866_2023-02-08\", \"subject_id\": \"644866\", \"above_threshold\": 0.6096, \"n_units_with_lda_score\": 1875, \"subject_total_above_threshold\": 1.7214166785106042, \"units_group\": \"predicted_ks2.5\"}, {\"session_id\": \"715710_2024-07-18\", \"subject_id\": \"715710\", \"above_threshold\": 0.43925678894711767, \"n_units_with_lda_score\": 4198, \"subject_total_above_threshold\": 2.5328254151951697, \"units_group\": \"predicted_ks2.5\"}, {\"session_id\": \"644867_2023-02-20\", \"subject_id\": \"644867\", \"above_threshold\": 0.562958240357029, \"n_units_with_lda_score\": 3137, \"subject_total_above_threshold\": 1.6251830850619176, \"units_group\": \"predicted_ks2.5\"}, {\"session_id\": \"681532_2023-10-17\", \"subject_id\": \"681532\", \"above_threshold\": 0.3761290322580645, \"n_units_with_lda_score\": 3100, \"subject_total_above_threshold\": 1.1523591439249317, \"units_group\": \"predicted_ks2.5\"}, {\"session_id\": \"726088_2024-06-20\", \"subject_id\": \"726088\", \"above_threshold\": 0.6310517529215359, \"n_units_with_lda_score\": 1797, \"subject_total_above_threshold\": 1.8689144950213954, \"units_group\": \"predicted_ks2.5\"}, {\"session_id\": \"703880_2024-04-16\", \"subject_id\": \"703880\", \"above_threshold\": 0.3413493653974616, \"n_units_with_lda_score\": 1497, \"subject_total_above_threshold\": 1.458246489336422, \"units_group\": \"predicted_ks2.5\"}, {\"session_id\": \"644866_2023-02-09\", \"subject_id\": \"644866\", \"above_threshold\": 0.4738926899531869, \"n_units_with_lda_score\": 2777, \"subject_total_above_threshold\": 1.7214166785106042, \"units_group\": \"predicted_ks2.5\"}, {\"session_id\": \"662892_2023-08-22\", \"subject_id\": \"662892\", \"above_threshold\": 0.41204588910133844, \"n_units_with_lda_score\": 1046, \"subject_total_above_threshold\": 1.6183068608529327, \"units_group\": \"predicted_ks2.5\"}, {\"session_id\": \"668755_2023-08-31\", \"subject_id\": \"668755\", \"above_threshold\": 0.5039970930232558, \"n_units_with_lda_score\": 2752, \"subject_total_above_threshold\": 1.4615200790677727, \"units_group\": \"predicted_ks2.5\"}, {\"session_id\": \"742903_2024-10-21\", \"subject_id\": \"742903\", \"above_threshold\": 0.4753787878787879, \"n_units_with_lda_score\": 1584, \"subject_total_above_threshold\": 2.2170048767616013, \"units_group\": \"predicted_ks2.5\"}, {\"session_id\": \"708016_2024-04-30\", \"subject_id\": \"708016\", \"above_threshold\": 0.3377049180327869, \"n_units_with_lda_score\": 610, \"subject_total_above_threshold\": 1.1511147086507192, \"units_group\": \"predicted_ks2.5\"}, {\"session_id\": \"741137_2024-10-11\", \"subject_id\": \"741137\", \"above_threshold\": 0.5385117493472585, \"n_units_with_lda_score\": 1532, \"subject_total_above_threshold\": 2.285736424941434, \"units_group\": \"predicted_ks2.5\"}, {\"session_id\": \"626791_2022-08-16\", \"subject_id\": \"626791\", \"above_threshold\": 0.6666666666666666, \"n_units_with_lda_score\": 1515, \"subject_total_above_threshold\": 1.8129792631766768, \"units_group\": \"predicted_ks2.5\"}, {\"session_id\": \"741148_2024-10-18\", \"subject_id\": \"741148\", \"above_threshold\": 0.6081992734820966, \"n_units_with_lda_score\": 1927, \"subject_total_above_threshold\": 2.2903995604540315, \"units_group\": \"predicted_ks2.5\"}, {\"session_id\": \"644864_2023-01-30\", \"subject_id\": \"644864\", \"above_threshold\": 0.7017493547462001, \"n_units_with_lda_score\": 3487, \"subject_total_above_threshold\": 1.8205926484197164, \"units_group\": \"predicted_ks2.5\"}, {\"session_id\": \"737403_2024-09-27\", \"subject_id\": \"737403\", \"above_threshold\": 0.5287544289997275, \"n_units_with_lda_score\": 3669, \"subject_total_above_threshold\": 2.1488936926064497, \"units_group\": \"predicted_ks2.5\"}, {\"session_id\": \"686740_2023-10-25\", \"subject_id\": \"686740\", \"above_threshold\": 0.5106751298326602, \"n_units_with_lda_score\": 1733, \"subject_total_above_threshold\": 1.9684003276392947, \"units_group\": \"predicted_ks2.5\"}, {\"session_id\": \"733780_2024-09-05\", \"subject_id\": \"733780\", \"above_threshold\": 0.422859830667921, \"n_units_with_lda_score\": 2126, \"subject_total_above_threshold\": 3.141512221170306, \"units_group\": \"predicted_ks2.5\"}, {\"session_id\": \"733891_2024-09-16\", \"subject_id\": \"733891\", \"above_threshold\": 0.5088212733316287, \"n_units_with_lda_score\": 3911, \"subject_total_above_threshold\": 2.6356782741197917, \"units_group\": \"predicted_ks2.5\"}, {\"session_id\": \"674562_2023-10-04\", \"subject_id\": \"674562\", \"above_threshold\": 0.45503176195252426, \"n_units_with_lda_score\": 2991, \"subject_total_above_threshold\": 1.8578555381872333, \"units_group\": \"predicted_ks2.5\"}, {\"session_id\": \"703880_2024-04-17\", \"subject_id\": \"703880\", \"above_threshold\": 0.4515265131226567, \"n_units_with_lda_score\": 1867, \"subject_total_above_threshold\": 1.458246489336422, \"units_group\": \"predicted_ks2.5\"}, {\"session_id\": \"636766_2023-01-25\", \"subject_id\": \"636766\", \"above_threshold\": 0.5576441102756893, \"n_units_with_lda_score\": 2394, \"subject_total_above_threshold\": 2.1145563406016286, \"units_group\": \"predicted_ks2.5\"}, {\"session_id\": \"714748_2024-06-27\", \"subject_id\": \"714748\", \"above_threshold\": 0.3689922480620155, \"n_units_with_lda_score\": 1935, \"subject_total_above_threshold\": 1.4808684901861722, \"units_group\": \"predicted_ks2.5\"}, {\"session_id\": \"686740_2023-10-23\", \"subject_id\": \"686740\", \"above_threshold\": 0.4174793698424606, \"n_units_with_lda_score\": 2666, \"subject_total_above_threshold\": 1.9684003276392947, \"units_group\": \"predicted_ks2.5\"}, {\"session_id\": \"737403_2024-09-24\", \"subject_id\": \"737403\", \"above_threshold\": 0.6306045704367949, \"n_units_with_lda_score\": 3457, \"subject_total_above_threshold\": 2.1488936926064497, \"units_group\": \"predicted_ks2.5\"}, {\"session_id\": \"741137_2024-10-08\", \"subject_id\": \"741137\", \"above_threshold\": 0.5467581047381546, \"n_units_with_lda_score\": 1604, \"subject_total_above_threshold\": 2.285736424941434, \"units_group\": \"predicted_ks2.5\"}, {\"session_id\": \"715710_2024-07-16\", \"subject_id\": \"715710\", \"above_threshold\": 0.49636363636363634, \"n_units_with_lda_score\": 2200, \"subject_total_above_threshold\": 2.5328254151951697, \"units_group\": \"predicted_ks2.5\"}, {\"session_id\": \"703882_2024-04-25\", \"subject_id\": \"703882\", \"above_threshold\": 0.3840889649272883, \"n_units_with_lda_score\": 1169, \"subject_total_above_threshold\": 1.5997697251447396, \"units_group\": \"predicted_ks2.5\"}, {\"session_id\": \"742903_2024-10-23\", \"subject_id\": \"742903\", \"above_threshold\": 0.6033421284080914, \"n_units_with_lda_score\": 3411, \"subject_total_above_threshold\": 2.2170048767616013, \"units_group\": \"predicted_ks2.5\"}, {\"session_id\": \"644867_2023-02-22\", \"subject_id\": \"644867\", \"above_threshold\": 0.5736543909348442, \"n_units_with_lda_score\": 2824, \"subject_total_above_threshold\": 1.6251830850619176, \"units_group\": \"predicted_ks2.5\"}, {\"session_id\": \"667252_2023-09-28\", \"subject_id\": \"667252\", \"above_threshold\": 0.4933920704845815, \"n_units_with_lda_score\": 1135, \"subject_total_above_threshold\": 1.4236525680338719, \"units_group\": \"predicted_ks2.5\"}, {\"session_id\": \"737403_2024-09-26\", \"subject_id\": \"737403\", \"above_threshold\": 0.477593984962406, \"n_units_with_lda_score\": 3325, \"subject_total_above_threshold\": 2.1488936926064497, \"units_group\": \"predicted_ks2.5\"}, {\"session_id\": \"706401_2024-04-23\", \"subject_id\": \"706401\", \"above_threshold\": 0.561578318055002, \"n_units_with_lda_score\": 2509, \"subject_total_above_threshold\": 1.2840672280090126, \"units_group\": \"predicted_ks2.5\"}, {\"session_id\": \"676909_2023-12-12\", \"subject_id\": \"676909\", \"above_threshold\": 0.4980192416525184, \"n_units_with_lda_score\": 3534, \"subject_total_above_threshold\": 2.0583128736160567, \"units_group\": \"predicted_ks2.5\"}, {\"session_id\": \"742903_2024-10-24\", \"subject_id\": \"742903\", \"above_threshold\": 0.6486320319704888, \"n_units_with_lda_score\": 3253, \"subject_total_above_threshold\": 2.2170048767616013, \"units_group\": \"predicted_ks2.5\"}, {\"session_id\": \"676909_2023-12-13\", \"subject_id\": \"676909\", \"above_threshold\": 0.7511890606420928, \"n_units_with_lda_score\": 3364, \"subject_total_above_threshold\": 2.0583128736160567, \"units_group\": \"predicted_ks2.5\"}, {\"session_id\": \"737403_2024-09-25\", \"subject_id\": \"737403\", \"above_threshold\": 0.5119407082075212, \"n_units_with_lda_score\": 3643, \"subject_total_above_threshold\": 2.1488936926064497, \"units_group\": \"predicted_ks2.5\"}, {\"session_id\": \"702131_2024-02-26\", \"subject_id\": \"702131\", \"above_threshold\": 0.3959945380063723, \"n_units_with_lda_score\": 2197, \"subject_total_above_threshold\": 0.3959945380063723, \"units_group\": \"predicted_ks2.5\"}, {\"session_id\": \"667252_2023-09-25\", \"subject_id\": \"667252\", \"above_threshold\": 0.44997974888618875, \"n_units_with_lda_score\": 2469, \"subject_total_above_threshold\": 1.4236525680338719, \"units_group\": \"predicted_ks2.5\"}, {\"session_id\": \"703333_2024-04-10\", \"subject_id\": \"703333\", \"above_threshold\": 0.5721544715447154, \"n_units_with_lda_score\": 1968, \"subject_total_above_threshold\": 2.0025888041030147, \"units_group\": \"predicted_ks2.5\"}, {\"session_id\": \"726088_2024-06-17\", \"subject_id\": \"726088\", \"above_threshold\": 0.4482758620689655, \"n_units_with_lda_score\": 2407, \"subject_total_above_threshold\": 1.8689144950213954, \"units_group\": \"predicted_ks2.5\"}, {\"session_id\": \"666986_2023-08-17\", \"subject_id\": \"666986\", \"above_threshold\": 0.46676624346527257, \"n_units_with_lda_score\": 2678, \"subject_total_above_threshold\": 1.3568682615074188, \"units_group\": \"predicted_ks2.5\"}, {\"session_id\": \"674562_2023-10-02\", \"subject_id\": \"674562\", \"above_threshold\": 0.585766940742841, \"n_units_with_lda_score\": 3527, \"subject_total_above_threshold\": 1.8578555381872333, \"units_group\": \"predicted_ks2.5\"}, {\"session_id\": \"714748_2024-06-26\", \"subject_id\": \"714748\", \"above_threshold\": 0.3848051307350765, \"n_units_with_lda_score\": 2027, \"subject_total_above_threshold\": 1.4808684901861722, \"units_group\": \"predicted_ks2.5\"}, {\"session_id\": \"703880_2024-04-18\", \"subject_id\": \"703880\", \"above_threshold\": 0.2757352941176471, \"n_units_with_lda_score\": 1904, \"subject_total_above_threshold\": 1.458246489336422, \"units_group\": \"predicted_ks2.5\"}, {\"session_id\": \"713655_2024-08-09\", \"subject_id\": \"713655\", \"above_threshold\": 0.4417659018297996, \"n_units_with_lda_score\": 3443, \"subject_total_above_threshold\": 1.8886599473799173, \"units_group\": \"predicted_ks2.5\"}, {\"session_id\": \"733891_2024-09-20\", \"subject_id\": \"733891\", \"above_threshold\": 0.516209476309227, \"n_units_with_lda_score\": 2807, \"subject_total_above_threshold\": 2.6356782741197917, \"units_group\": \"predicted_ks2.5\"}, {\"session_id\": \"733780_2024-08-29\", \"subject_id\": \"733780\", \"above_threshold\": 0.48916723087339203, \"n_units_with_lda_score\": 2954, \"subject_total_above_threshold\": 3.141512221170306, \"units_group\": \"predicted_ks2.5\"}, {\"session_id\": \"699847_2024-04-17\", \"subject_id\": \"699847\", \"above_threshold\": 0.4107445008460237, \"n_units_with_lda_score\": 2364, \"subject_total_above_threshold\": 2.3182637496468854, \"units_group\": \"predicted_ks2.5\"}, {\"session_id\": \"649943_2023-02-13\", \"subject_id\": \"649943\", \"above_threshold\": 0.4958841896111269, \"n_units_with_lda_score\": 3523, \"subject_total_above_threshold\": 2.353299349594054, \"units_group\": \"predicted_ks2.5\"}, {\"session_id\": \"664851_2023-11-14\", \"subject_id\": \"664851\", \"above_threshold\": 0.5661861074705111, \"n_units_with_lda_score\": 3052, \"subject_total_above_threshold\": 1.9420827667685763, \"units_group\": \"predicted_ks2.5\"}, {\"session_id\": \"708016_2024-04-29\", \"subject_id\": \"708016\", \"above_threshold\": 0.31385423506237686, \"n_units_with_lda_score\": 1523, \"subject_total_above_threshold\": 1.1511147086507192, \"units_group\": \"predicted_ks2.5\"}, {\"session_id\": \"664851_2023-11-13\", \"subject_id\": \"664851\", \"above_threshold\": 0.2952446117003079, \"n_units_with_lda_score\": 2923, \"subject_total_above_threshold\": 1.9420827667685763, \"units_group\": \"predicted_ks2.5\"}, {\"session_id\": \"676909_2023-12-14\", \"subject_id\": \"676909\", \"above_threshold\": 0.4266943291839557, \"n_units_with_lda_score\": 2892, \"subject_total_above_threshold\": 2.0583128736160567, \"units_group\": \"predicted_ks2.5\"}, {\"session_id\": \"713655_2024-08-07\", \"subject_id\": \"713655\", \"above_threshold\": 0.35225375626043404, \"n_units_with_lda_score\": 2995, \"subject_total_above_threshold\": 1.8886599473799173, \"units_group\": \"predicted_ks2.5\"}, {\"session_id\": \"741148_2024-10-16\", \"subject_id\": \"741148\", \"above_threshold\": 0.6428317324795446, \"n_units_with_lda_score\": 2811, \"subject_total_above_threshold\": 2.2903995604540315, \"units_group\": \"predicted_ks2.5\"}, {\"session_id\": \"699847_2024-04-18\", \"subject_id\": \"699847\", \"above_threshold\": 0.6636989073249696, \"n_units_with_lda_score\": 2471, \"subject_total_above_threshold\": 2.3182637496468854, \"units_group\": \"predicted_ks2.5\"}, {\"session_id\": \"715710_2024-07-17\", \"subject_id\": \"715710\", \"above_threshold\": 0.6040955631399317, \"n_units_with_lda_score\": 1172, \"subject_total_above_threshold\": 2.5328254151951697, \"units_group\": \"predicted_ks2.5\"}, {\"session_id\": \"741148_2024-10-17\", \"subject_id\": \"741148\", \"above_threshold\": 0.5068850018608113, \"n_units_with_lda_score\": 2687, \"subject_total_above_threshold\": 2.2903995604540315, \"units_group\": \"predicted_ks2.5\"}, {\"session_id\": \"741148_2024-10-15\", \"subject_id\": \"741148\", \"above_threshold\": 0.532483552631579, \"n_units_with_lda_score\": 2432, \"subject_total_above_threshold\": 2.2903995604540315, \"units_group\": \"predicted_ks2.5\"}, {\"session_id\": \"706401_2024-04-24\", \"subject_id\": \"706401\", \"above_threshold\": 0.35502958579881655, \"n_units_with_lda_score\": 2197, \"subject_total_above_threshold\": 1.2840672280090126, \"units_group\": \"predicted_ks2.5\"}, {\"session_id\": \"662892_2023-08-23\", \"subject_id\": \"662892\", \"above_threshold\": 0.4408014571948998, \"n_units_with_lda_score\": 1098, \"subject_total_above_threshold\": 1.6183068608529327, \"units_group\": \"predicted_ks2.5\"}, {\"session_id\": \"644866_2023-02-10\", \"subject_id\": \"644866\", \"above_threshold\": 0.6379239885574173, \"n_units_with_lda_score\": 2447, \"subject_total_above_threshold\": 1.7214166785106042, \"units_group\": \"predicted_ks2.5\"}, {\"session_id\": \"713655_2024-08-05\", \"subject_id\": \"713655\", \"above_threshold\": 0.32017823042647997, \"n_units_with_lda_score\": 3142, \"subject_total_above_threshold\": 1.8886599473799173, \"units_group\": \"predicted_ks2.5\"}, {\"session_id\": \"644864_2023-02-02\", \"subject_id\": \"644864\", \"above_threshold\": 0.4490238611713666, \"n_units_with_lda_score\": 1844, \"subject_total_above_threshold\": 1.8205926484197164, \"units_group\": \"predicted_ks2.5\"}, {\"session_id\": \"686176_2023-12-04\", \"subject_id\": \"686176\", \"above_threshold\": 0.44028316967344144, \"n_units_with_lda_score\": 4379, \"subject_total_above_threshold\": 1.4323933312162143, \"units_group\": \"predicted_ks2.5\"}, {\"session_id\": \"714753_2024-07-02\", \"subject_id\": \"714753\", \"above_threshold\": 0.4671717171717172, \"n_units_with_lda_score\": 792, \"subject_total_above_threshold\": 0.8243769573463897, \"units_group\": \"predicted_ks2.5\"}, {\"session_id\": \"686176_2023-12-05\", \"subject_id\": \"686176\", \"above_threshold\": 0.4793926247288503, \"n_units_with_lda_score\": 3227, \"subject_total_above_threshold\": 1.4323933312162143, \"units_group\": \"predicted_ks2.5\"}, {\"session_id\": \"662892_2023-08-21\", \"subject_id\": \"662892\", \"above_threshold\": 0.45804540967423496, \"n_units_with_lda_score\": 1013, \"subject_total_above_threshold\": 1.6183068608529327, \"units_group\": \"predicted_ks2.5\"}, {\"session_id\": \"681532_2023-10-18\", \"subject_id\": \"681532\", \"above_threshold\": 0.46085858585858586, \"n_units_with_lda_score\": 3960, \"subject_total_above_threshold\": 1.1523591439249317, \"units_group\": \"predicted_ks2.5\"}, {\"session_id\": \"733891_2024-09-17\", \"subject_id\": \"733891\", \"above_threshold\": 0.3961670480549199, \"n_units_with_lda_score\": 3496, \"subject_total_above_threshold\": 2.6356782741197917, \"units_group\": \"predicted_ks2.5\"}, {\"session_id\": \"674562_2023-10-05\", \"subject_id\": \"674562\", \"above_threshold\": 0.39715302491103205, \"n_units_with_lda_score\": 2810, \"subject_total_above_threshold\": 1.8578555381872333, \"units_group\": \"predicted_ks2.5\"}, {\"session_id\": \"668755_2023-08-30\", \"subject_id\": \"668755\", \"above_threshold\": 0.4884778653729533, \"n_units_with_lda_score\": 3298, \"subject_total_above_threshold\": 1.4615200790677727, \"units_group\": \"predicted_ks2.5\"}, {\"session_id\": \"681532_2023-10-16\", \"subject_id\": \"681532\", \"above_threshold\": 0.3153715258082813, \"n_units_with_lda_score\": 3526, \"subject_total_above_threshold\": 1.1523591439249317, \"units_group\": \"predicted_ks2.5\"}, {\"session_id\": \"668755_2023-08-28\", \"subject_id\": \"668755\", \"above_threshold\": 0.4690451206715635, \"n_units_with_lda_score\": 953, \"subject_total_above_threshold\": 1.4615200790677727, \"units_group\": \"predicted_ks2.5\"}, {\"session_id\": \"660023_2023-08-09\", \"subject_id\": \"660023\", \"above_threshold\": 0.45187901008249315, \"n_units_with_lda_score\": 2182, \"subject_total_above_threshold\": 0.45187901008249315, \"units_group\": \"predicted_ks2.5\"}, {\"session_id\": \"636766_2023-01-24\", \"subject_id\": \"636766\", \"above_threshold\": 0.5195876288659794, \"n_units_with_lda_score\": 1940, \"subject_total_above_threshold\": 2.1145563406016286, \"units_group\": \"predicted_ks2.5\"}, {\"session_id\": \"699847_2024-04-15\", \"subject_id\": \"699847\", \"above_threshold\": 0.6929274843330349, \"n_units_with_lda_score\": 1117, \"subject_total_above_threshold\": 2.3182637496468854, \"units_group\": \"predicted_ks2.5\"}, {\"session_id\": \"666986_2023-08-15\", \"subject_id\": \"666986\", \"above_threshold\": 0.39920948616600793, \"n_units_with_lda_score\": 2783, \"subject_total_above_threshold\": 1.3568682615074188, \"units_group\": \"predicted_ks2.5\"}, {\"session_id\": \"741137_2024-10-10\", \"subject_id\": \"741137\", \"above_threshold\": 0.5465295629820052, \"n_units_with_lda_score\": 1945, \"subject_total_above_threshold\": 2.285736424941434, \"units_group\": \"predicted_ks2.5\"}, {\"session_id\": \"703333_2024-04-08\", \"subject_id\": \"703333\", \"above_threshold\": 0.4331864904552129, \"n_units_with_lda_score\": 2043, \"subject_total_above_threshold\": 2.0025888041030147, \"units_group\": \"predicted_ks2.5\"}, {\"session_id\": \"702136_2024-03-05\", \"subject_id\": \"702136\", \"above_threshold\": 0.2941397445529677, \"n_units_with_lda_score\": 2662, \"subject_total_above_threshold\": 1.3226799731597763, \"units_group\": \"predicted_ks2.5\"}, {\"session_id\": \"714748_2024-06-24\", \"subject_id\": \"714748\", \"above_threshold\": 0.3193220338983051, \"n_units_with_lda_score\": 1475, \"subject_total_above_threshold\": 1.4808684901861722, \"units_group\": \"predicted_ks2.5\"}, {\"session_id\": \"699847_2024-04-16\", \"subject_id\": \"699847\", \"above_threshold\": 0.5508928571428572, \"n_units_with_lda_score\": 2240, \"subject_total_above_threshold\": 2.3182637496468854, \"units_group\": \"predicted_ks2.5\"}, {\"session_id\": \"708016_2024-05-01\", \"subject_id\": \"708016\", \"above_threshold\": 0.49955555555555553, \"n_units_with_lda_score\": 3375, \"subject_total_above_threshold\": 1.1511147086507192, \"units_group\": \"predicted_ks2.5\"}, {\"session_id\": \"690706_2023-11-28\", \"subject_id\": \"690706\", \"above_threshold\": 0.46775544388609713, \"n_units_with_lda_score\": 2388, \"subject_total_above_threshold\": 2.0605398882365447, \"units_group\": \"predicted_ks2.5\"}, {\"session_id\": \"686176_2023-12-07\", \"subject_id\": \"686176\", \"above_threshold\": 0.5127175368139224, \"n_units_with_lda_score\": 3735, \"subject_total_above_threshold\": 1.4323933312162143, \"units_group\": \"predicted_ks2.5\"}, {\"session_id\": \"703882_2024-04-22\", \"subject_id\": \"703882\", \"above_threshold\": 0.42505030181086517, \"n_units_with_lda_score\": 1988, \"subject_total_above_threshold\": 1.5997697251447396, \"units_group\": \"predicted_ks2.5\"}, {\"session_id\": \"715710_2024-07-19\", \"subject_id\": \"715710\", \"above_threshold\": 0.4438061041292639, \"n_units_with_lda_score\": 2785, \"subject_total_above_threshold\": 2.5328254151951697, \"units_group\": \"predicted_ks2.5\"}, {\"session_id\": \"714753_2024-07-01\", \"subject_id\": \"714753\", \"above_threshold\": 0.3572052401746725, \"n_units_with_lda_score\": 1145, \"subject_total_above_threshold\": 0.8243769573463897, \"units_group\": \"predicted_ks2.5\"}, {\"session_id\": \"626791_2022-08-17\", \"subject_id\": \"626791\", \"above_threshold\": 0.5489278752436647, \"n_units_with_lda_score\": 2565, \"subject_total_above_threshold\": 1.8129792631766768, \"units_group\": \"predicted_ks2.5\"}, {\"session_id\": \"706401_2024-04-22\", \"subject_id\": \"706401\", \"above_threshold\": 0.367459324155194, \"n_units_with_lda_score\": 3995, \"subject_total_above_threshold\": 1.2840672280090126, \"units_group\": \"predicted_ks2.5\"}, {\"session_id\": \"741137_2024-10-09\", \"subject_id\": \"741137\", \"above_threshold\": 0.6539370078740158, \"n_units_with_lda_score\": 2540, \"subject_total_above_threshold\": 2.285736424941434, \"units_group\": \"predicted_ks2.5\"}, {\"session_id\": \"686740_2023-10-24\", \"subject_id\": \"686740\", \"above_threshold\": 0.42883278448591294, \"n_units_with_lda_score\": 2733, \"subject_total_above_threshold\": 1.9684003276392947, \"units_group\": \"predicted_ks2.5\"}, {\"session_id\": \"703333_2024-04-09\", \"subject_id\": \"703333\", \"above_threshold\": 0.5426026336173508, \"n_units_with_lda_score\": 2582, \"subject_total_above_threshold\": 2.0025888041030147, \"units_group\": \"predicted_ks2.5\"}, {\"session_id\": \"712815_2024-05-22\", \"subject_id\": \"712815\", \"above_threshold\": 0.5470297029702971, \"n_units_with_lda_score\": 808, \"subject_total_above_threshold\": 1.4213138349291639, \"units_group\": \"predicted_ks2.5\"}, {\"session_id\": \"702136_2024-03-04\", \"subject_id\": \"702136\", \"above_threshold\": 0.47641509433962265, \"n_units_with_lda_score\": 1272, \"subject_total_above_threshold\": 1.3226799731597763, \"units_group\": \"predicted_ks2.5\"}, {\"session_id\": \"742903_2024-10-22\", \"subject_id\": \"742903\", \"above_threshold\": 0.4896519285042333, \"n_units_with_lda_score\": 4252, \"subject_total_above_threshold\": 2.2170048767616013, \"units_group\": \"predicted_ks2.5\"}, {\"session_id\": \"666986_2023-08-14\", \"subject_id\": \"666986\", \"above_threshold\": 0.49089253187613846, \"n_units_with_lda_score\": 2196, \"subject_total_above_threshold\": 1.3568682615074188, \"units_group\": \"predicted_ks2.5\"}, {\"session_id\": \"733780_2024-09-06\", \"subject_id\": \"733780\", \"above_threshold\": 0.37075575027382257, \"n_units_with_lda_score\": 1826, \"subject_total_above_threshold\": 3.141512221170306, \"units_group\": \"predicted_ks2.5\"}, {\"session_id\": \"703882_2024-04-24\", \"subject_id\": \"703882\", \"above_threshold\": 0.3681732580037665, \"n_units_with_lda_score\": 2124, \"subject_total_above_threshold\": 1.5997697251447396, \"units_group\": \"predicted_ks2.5\"}, {\"session_id\": \"733891_2024-09-19\", \"subject_id\": \"733891\", \"above_threshold\": 0.6754433100483611, \"n_units_with_lda_score\": 3722, \"subject_total_above_threshold\": 2.6356782741197917, \"units_group\": \"predicted_ks2.5\"}, {\"session_id\": \"715710_2024-07-15\", \"subject_id\": \"715710\", \"above_threshold\": 0.5493033226152197, \"n_units_with_lda_score\": 1866, \"subject_total_above_threshold\": 2.5328254151951697, \"units_group\": \"predicted_ks2.5\"}, {\"session_id\": \"690706_2023-11-30\", \"subject_id\": \"690706\", \"above_threshold\": 0.5637966804979253, \"n_units_with_lda_score\": 1928, \"subject_total_above_threshold\": 2.0605398882365447, \"units_group\": \"predicted_ks2.5\"}, {\"session_id\": \"713655_2024-08-06\", \"subject_id\": \"713655\", \"above_threshold\": 0.3156415860131127, \"n_units_with_lda_score\": 3203, \"subject_total_above_threshold\": 1.8886599473799173, \"units_group\": \"predicted_ks2.5\"}, {\"session_id\": \"733780_2024-08-30\", \"subject_id\": \"733780\", \"above_threshold\": 0.3663259817105971, \"n_units_with_lda_score\": 1859, \"subject_total_above_threshold\": 3.141512221170306, \"units_group\": \"predicted_ks2.5\"}, {\"session_id\": \"649943_2023-02-14\", \"subject_id\": \"649943\", \"above_threshold\": 0.7188133874239351, \"n_units_with_lda_score\": 3944, \"subject_total_above_threshold\": 2.353299349594054, \"units_group\": \"predicted_ks2.5\"}, {\"session_id\": \"733780_2024-08-26\", \"subject_id\": \"733780\", \"above_threshold\": 0.5596620908130939, \"n_units_with_lda_score\": 4735, \"subject_total_above_threshold\": 3.141512221170306, \"units_group\": \"predicted_ks2.5\"}, {\"session_id\": \"733780_2024-09-04\", \"subject_id\": \"733780\", \"above_threshold\": 0.40248541719502917, \"n_units_with_lda_score\": 3943, \"subject_total_above_threshold\": 3.141512221170306, \"units_group\": \"predicted_ks2.5\"}, {\"session_id\": \"667252_2023-09-26\", \"subject_id\": \"667252\", \"above_threshold\": 0.4802807486631016, \"n_units_with_lda_score\": 2992, \"subject_total_above_threshold\": 1.4236525680338719, \"units_group\": \"predicted_ks2.5\"}, {\"session_id\": \"686740_2023-10-26\", \"subject_id\": \"686740\", \"above_threshold\": 0.6114130434782609, \"n_units_with_lda_score\": 2576, \"subject_total_above_threshold\": 1.9684003276392947, \"units_group\": \"predicted_ks2.5\"}, {\"session_id\": \"712815_2024-05-23\", \"subject_id\": \"712815\", \"above_threshold\": 0.431924882629108, \"n_units_with_lda_score\": 852, \"subject_total_above_threshold\": 1.4213138349291639, \"units_group\": \"predicted_ks2.5\"}, {\"session_id\": \"733780_2024-09-03\", \"subject_id\": \"733780\", \"above_threshold\": 0.5302559196364506, \"n_units_with_lda_score\": 4181, \"subject_total_above_threshold\": 3.141512221170306, \"units_group\": \"predicted_ks2.5\"}, {\"session_id\": \"636766_2023-01-26\", \"subject_id\": \"636766\", \"above_threshold\": 0.5031347962382445, \"n_units_with_lda_score\": 1914, \"subject_total_above_threshold\": 2.1145563406016286, \"units_group\": \"predicted_ks2.5\"}, {\"session_id\": \"674562_2023-10-03\", \"subject_id\": \"674562\", \"above_threshold\": 0.4199038105808361, \"n_units_with_lda_score\": 2703, \"subject_total_above_threshold\": 1.8578555381872333, \"units_group\": \"predicted_ks2.5\"}, {\"session_id\": \"676909_2023-12-11\", \"subject_id\": \"676909\", \"above_threshold\": 0.3824102421374896, \"n_units_with_lda_score\": 3593, \"subject_total_above_threshold\": 2.0583128736160567, \"units_group\": \"predicted_ks2.5\"}, {\"session_id\": \"703882_2024-04-23\", \"subject_id\": \"703882\", \"above_threshold\": 0.42245720040281975, \"n_units_with_lda_score\": 1986, \"subject_total_above_threshold\": 1.5997697251447396, \"units_group\": \"predicted_ks2.5\"}, {\"session_id\": \"644867_2023-02-20\", \"subject_id\": \"644867\", \"above_threshold\": 0.6153846153846154, \"n_units_with_lda_score\": 26, \"subject_total_above_threshold\": 1.60989010989011, \"units_group\": \"annotated_ks2.5\"}, {\"session_id\": \"706401_2024-04-24\", \"subject_id\": \"706401\", \"above_threshold\": 0.2413793103448276, \"n_units_with_lda_score\": 29, \"subject_total_above_threshold\": 1.2660169915042478, \"units_group\": \"annotated_ks2.5\"}, {\"session_id\": \"715710_2024-07-19\", \"subject_id\": \"715710\", \"above_threshold\": 0.39285714285714285, \"n_units_with_lda_score\": 28, \"subject_total_above_threshold\": 2.3845238095238095, \"units_group\": \"annotated_ks2.5\"}, {\"session_id\": \"715710_2024-07-17\", \"subject_id\": \"715710\", \"above_threshold\": 0.7777777777777778, \"n_units_with_lda_score\": 27, \"subject_total_above_threshold\": 2.3845238095238095, \"units_group\": \"annotated_ks2.5\"}, {\"session_id\": \"733780_2024-08-30\", \"subject_id\": \"733780\", \"above_threshold\": 0.36, \"n_units_with_lda_score\": 25, \"subject_total_above_threshold\": 3.1007028455415555, \"units_group\": \"annotated_ks2.5\"}, {\"session_id\": \"626791_2022-08-16\", \"subject_id\": \"626791\", \"above_threshold\": 0.6, \"n_units_with_lda_score\": 25, \"subject_total_above_threshold\": 1.666937119675456, \"units_group\": \"annotated_ks2.5\"}, {\"session_id\": \"733780_2024-09-06\", \"subject_id\": \"733780\", \"above_threshold\": 0.39285714285714285, \"n_units_with_lda_score\": 28, \"subject_total_above_threshold\": 3.1007028455415555, \"units_group\": \"annotated_ks2.5\"}, {\"session_id\": \"686740_2023-10-26\", \"subject_id\": \"686740\", \"above_threshold\": 0.5454545454545454, \"n_units_with_lda_score\": 22, \"subject_total_above_threshold\": 1.785753199546303, \"units_group\": \"annotated_ks2.5\"}, {\"session_id\": \"644867_2023-02-22\", \"subject_id\": \"644867\", \"above_threshold\": 0.5714285714285714, \"n_units_with_lda_score\": 28, \"subject_total_above_threshold\": 1.60989010989011, \"units_group\": \"annotated_ks2.5\"}, {\"session_id\": \"703882_2024-04-25\", \"subject_id\": \"703882\", \"above_threshold\": 0.35714285714285715, \"n_units_with_lda_score\": 28, \"subject_total_above_threshold\": 1.4261847250977686, \"units_group\": \"annotated_ks2.5\"}, {\"session_id\": \"726088_2024-06-20\", \"subject_id\": \"726088\", \"above_threshold\": 0.5, \"n_units_with_lda_score\": 32, \"subject_total_above_threshold\": 1.6386217948717947, \"units_group\": \"annotated_ks2.5\"}, {\"session_id\": \"715710_2024-07-16\", \"subject_id\": \"715710\", \"above_threshold\": 0.45, \"n_units_with_lda_score\": 20, \"subject_total_above_threshold\": 2.3845238095238095, \"units_group\": \"annotated_ks2.5\"}, {\"session_id\": \"644864_2023-02-02\", \"subject_id\": \"644864\", \"above_threshold\": 0.34615384615384615, \"n_units_with_lda_score\": 26, \"subject_total_above_threshold\": 1.6153846153846154, \"units_group\": \"annotated_ks2.5\"}, {\"session_id\": \"726088_2024-06-21\", \"subject_id\": \"726088\", \"above_threshold\": 0.34375, \"n_units_with_lda_score\": 32, \"subject_total_above_threshold\": 1.6386217948717947, \"units_group\": \"annotated_ks2.5\"}, {\"session_id\": \"742903_2024-10-22\", \"subject_id\": \"742903\", \"above_threshold\": 0.3541666666666667, \"n_units_with_lda_score\": 3360, \"subject_total_above_threshold\": 1.922095605423095, \"units_group\": \"annotated_ks2.5\"}, {\"session_id\": \"703882_2024-04-24\", \"subject_id\": \"703882\", \"above_threshold\": 0.25925925925925924, \"n_units_with_lda_score\": 27, \"subject_total_above_threshold\": 1.4261847250977686, \"units_group\": \"annotated_ks2.5\"}, {\"session_id\": \"674562_2023-10-04\", \"subject_id\": \"674562\", \"above_threshold\": 0.40625, \"n_units_with_lda_score\": 32, \"subject_total_above_threshold\": 1.6988892779333957, \"units_group\": \"annotated_ks2.5\"}, {\"session_id\": \"741148_2024-10-15\", \"subject_id\": \"741148\", \"above_threshold\": 0.42857142857142855, \"n_units_with_lda_score\": 28, \"subject_total_above_threshold\": 2.0998700224506672, \"units_group\": \"annotated_ks2.5\"}, {\"session_id\": \"674562_2023-10-05\", \"subject_id\": \"674562\", \"above_threshold\": 0.37037037037037035, \"n_units_with_lda_score\": 27, \"subject_total_above_threshold\": 1.6988892779333957, \"units_group\": \"annotated_ks2.5\"}, {\"session_id\": \"702136_2024-03-06\", \"subject_id\": \"702136\", \"above_threshold\": 0.3235294117647059, \"n_units_with_lda_score\": 34, \"subject_total_above_threshold\": 1.366819455054749, \"units_group\": \"annotated_ks2.5\"}, {\"session_id\": \"733780_2024-08-26\", \"subject_id\": \"733780\", \"above_threshold\": 0.45454545454545453, \"n_units_with_lda_score\": 22, \"subject_total_above_threshold\": 3.1007028455415555, \"units_group\": \"annotated_ks2.5\"}, {\"session_id\": \"703880_2024-04-16\", \"subject_id\": \"703880\", \"above_threshold\": 0.5384615384615384, \"n_units_with_lda_score\": 26, \"subject_total_above_threshold\": 1.4093406593406594, \"units_group\": \"annotated_ks2.5\"}, {\"session_id\": \"644864_2023-01-31\", \"subject_id\": \"644864\", \"above_threshold\": 0.6153846153846154, \"n_units_with_lda_score\": 26, \"subject_total_above_threshold\": 1.6153846153846154, \"units_group\": \"annotated_ks2.5\"}, {\"session_id\": \"713655_2024-08-06\", \"subject_id\": \"713655\", \"above_threshold\": 0.2857142857142857, \"n_units_with_lda_score\": 21, \"subject_total_above_threshold\": 2.088763139034878, \"units_group\": \"annotated_ks2.5\"}, {\"session_id\": \"713655_2024-08-08\", \"subject_id\": \"713655\", \"above_threshold\": 0.5769230769230769, \"n_units_with_lda_score\": 26, \"subject_total_above_threshold\": 2.088763139034878, \"units_group\": \"annotated_ks2.5\"}, {\"session_id\": \"726088_2024-06-18\", \"subject_id\": \"726088\", \"above_threshold\": 0.3333333333333333, \"n_units_with_lda_score\": 27, \"subject_total_above_threshold\": 1.6386217948717947, \"units_group\": \"annotated_ks2.5\"}, {\"session_id\": \"644866_2023-02-10\", \"subject_id\": \"644866\", \"above_threshold\": 0.7586206896551724, \"n_units_with_lda_score\": 29, \"subject_total_above_threshold\": 1.914942528735632, \"units_group\": \"annotated_ks2.5\"}, {\"session_id\": \"668755_2023-08-30\", \"subject_id\": \"668755\", \"above_threshold\": 0.43333333333333335, \"n_units_with_lda_score\": 30, \"subject_total_above_threshold\": 1.2623931623931623, \"units_group\": \"annotated_ks2.5\"}, {\"session_id\": \"737403_2024-09-24\", \"subject_id\": \"737403\", \"above_threshold\": 0.5333333333333333, \"n_units_with_lda_score\": 30, \"subject_total_above_threshold\": 1.9298387096774192, \"units_group\": \"annotated_ks2.5\"}, {\"session_id\": \"702136_2024-03-04\", \"subject_id\": \"702136\", \"above_threshold\": 0.42424242424242425, \"n_units_with_lda_score\": 33, \"subject_total_above_threshold\": 1.366819455054749, \"units_group\": \"annotated_ks2.5\"}, {\"session_id\": \"666986_2023-08-15\", \"subject_id\": \"666986\", \"above_threshold\": 0.3333333333333333, \"n_units_with_lda_score\": 27, \"subject_total_above_threshold\": 1.2917511832319135, \"units_group\": \"annotated_ks2.5\"}, {\"session_id\": \"703333_2024-04-11\", \"subject_id\": \"703333\", \"above_threshold\": 0.5, \"n_units_with_lda_score\": 28, \"subject_total_above_threshold\": 1.8726495726495727, \"units_group\": \"annotated_ks2.5\"}, {\"session_id\": \"644866_2023-02-09\", \"subject_id\": \"644866\", \"above_threshold\": 0.4666666666666667, \"n_units_with_lda_score\": 30, \"subject_total_above_threshold\": 1.914942528735632, \"units_group\": \"annotated_ks2.5\"}, {\"session_id\": \"733780_2024-09-05\", \"subject_id\": \"733780\", \"above_threshold\": 0.5384615384615384, \"n_units_with_lda_score\": 26, \"subject_total_above_threshold\": 3.1007028455415555, \"units_group\": \"annotated_ks2.5\"}, {\"session_id\": \"703882_2024-04-22\", \"subject_id\": \"703882\", \"above_threshold\": 0.375, \"n_units_with_lda_score\": 24, \"subject_total_above_threshold\": 1.4261847250977686, \"units_group\": \"annotated_ks2.5\"}, {\"session_id\": \"686176_2023-12-07\", \"subject_id\": \"686176\", \"above_threshold\": 0.4666666666666667, \"n_units_with_lda_score\": 30, \"subject_total_above_threshold\": 1.313793103448276, \"units_group\": \"annotated_ks2.5\"}, {\"session_id\": \"712815_2024-05-21\", \"subject_id\": \"712815\", \"above_threshold\": 0.6666666666666666, \"n_units_with_lda_score\": 18, \"subject_total_above_threshold\": 1.5512820512820513, \"units_group\": \"annotated_ks2.5\"}, {\"session_id\": \"713655_2024-08-05\", \"subject_id\": \"713655\", \"above_threshold\": 0.42857142857142855, \"n_units_with_lda_score\": 21, \"subject_total_above_threshold\": 2.088763139034878, \"units_group\": \"annotated_ks2.5\"}, {\"session_id\": \"644864_2023-01-30\", \"subject_id\": \"644864\", \"above_threshold\": 0.6538461538461539, \"n_units_with_lda_score\": 26, \"subject_total_above_threshold\": 1.6153846153846154, \"units_group\": \"annotated_ks2.5\"}, {\"session_id\": \"676909_2023-12-11\", \"subject_id\": \"676909\", \"above_threshold\": 0.25925925925925924, \"n_units_with_lda_score\": 27, \"subject_total_above_threshold\": 2.0013436265049167, \"units_group\": \"annotated_ks2.5\"}, {\"session_id\": \"649943_2023-02-14\", \"subject_id\": \"649943\", \"above_threshold\": 0.7, \"n_units_with_lda_score\": 30, \"subject_total_above_threshold\": 2.4848214285714283, \"units_group\": \"annotated_ks2.5\"}, {\"session_id\": \"714753_2024-07-01\", \"subject_id\": \"714753\", \"above_threshold\": 0.3448275862068966, \"n_units_with_lda_score\": 29, \"subject_total_above_threshold\": 0.8648275862068966, \"units_group\": \"annotated_ks2.5\"}, {\"session_id\": \"714753_2024-07-02\", \"subject_id\": \"714753\", \"above_threshold\": 0.52, \"n_units_with_lda_score\": 25, \"subject_total_above_threshold\": 0.8648275862068966, \"units_group\": \"annotated_ks2.5\"}, {\"session_id\": \"636766_2023-01-25\", \"subject_id\": \"636766\", \"above_threshold\": 0.3333333333333333, \"n_units_with_lda_score\": 24, \"subject_total_above_threshold\": 2.0390269151138716, \"units_group\": \"annotated_ks2.5\"}, {\"session_id\": \"667252_2023-09-25\", \"subject_id\": \"667252\", \"above_threshold\": 0.32, \"n_units_with_lda_score\": 25, \"subject_total_above_threshold\": 1.4829629629629628, \"units_group\": \"annotated_ks2.5\"}, {\"session_id\": \"741137_2024-10-08\", \"subject_id\": \"741137\", \"above_threshold\": 0.5925925925925926, \"n_units_with_lda_score\": 27, \"subject_total_above_threshold\": 2.2308811671992985, \"units_group\": \"annotated_ks2.5\"}, {\"session_id\": \"741148_2024-10-18\", \"subject_id\": \"741148\", \"above_threshold\": 0.7333333333333333, \"n_units_with_lda_score\": 30, \"subject_total_above_threshold\": 2.0998700224506672, \"units_group\": \"annotated_ks2.5\"}, {\"session_id\": \"676909_2023-12-14\", \"subject_id\": \"676909\", \"above_threshold\": 0.52, \"n_units_with_lda_score\": 25, \"subject_total_above_threshold\": 2.0013436265049167, \"units_group\": \"annotated_ks2.5\"}, {\"session_id\": \"686740_2023-10-25\", \"subject_id\": \"686740\", \"above_threshold\": 0.4074074074074074, \"n_units_with_lda_score\": 27, \"subject_total_above_threshold\": 1.785753199546303, \"units_group\": \"annotated_ks2.5\"}, {\"session_id\": \"742903_2024-10-23\", \"subject_id\": \"742903\", \"above_threshold\": 0.4838709677419355, \"n_units_with_lda_score\": 31, \"subject_total_above_threshold\": 1.922095605423095, \"units_group\": \"annotated_ks2.5\"}, {\"session_id\": \"715710_2024-07-18\", \"subject_id\": \"715710\", \"above_threshold\": 0.20833333333333334, \"n_units_with_lda_score\": 24, \"subject_total_above_threshold\": 2.3845238095238095, \"units_group\": \"annotated_ks2.5\"}, {\"session_id\": \"702136_2024-03-05\", \"subject_id\": \"702136\", \"above_threshold\": 0.3333333333333333, \"n_units_with_lda_score\": 27, \"subject_total_above_threshold\": 1.366819455054749, \"units_group\": \"annotated_ks2.5\"}, {\"session_id\": \"649943_2023-02-16\", \"subject_id\": \"649943\", \"above_threshold\": 0.7, \"n_units_with_lda_score\": 30, \"subject_total_above_threshold\": 2.4848214285714283, \"units_group\": \"annotated_ks2.5\"}, {\"session_id\": \"660023_2023-08-09\", \"subject_id\": \"660023\", \"above_threshold\": 0.44, \"n_units_with_lda_score\": 25, \"subject_total_above_threshold\": 0.44, \"units_group\": \"annotated_ks2.5\"}, {\"session_id\": \"649943_2023-02-15\", \"subject_id\": \"649943\", \"above_threshold\": 0.65625, \"n_units_with_lda_score\": 32, \"subject_total_above_threshold\": 2.4848214285714283, \"units_group\": \"annotated_ks2.5\"}, {\"session_id\": \"708016_2024-05-01\", \"subject_id\": \"708016\", \"above_threshold\": 0.56, \"n_units_with_lda_score\": 25, \"subject_total_above_threshold\": 0.96, \"units_group\": \"annotated_ks2.5\"}, {\"session_id\": \"690706_2023-11-29\", \"subject_id\": \"690706\", \"above_threshold\": 0.5862068965517241, \"n_units_with_lda_score\": 29, \"subject_total_above_threshold\": 2.0347381864623246, \"units_group\": \"annotated_ks2.5\"}, {\"session_id\": \"662892_2023-08-24\", \"subject_id\": \"662892\", \"above_threshold\": 0.25, \"n_units_with_lda_score\": 28, \"subject_total_above_threshold\": 1.6071428571428572, \"units_group\": \"annotated_ks2.5\"}, {\"session_id\": \"668755_2023-08-28\", \"subject_id\": \"668755\", \"above_threshold\": 0.4444444444444444, \"n_units_with_lda_score\": 27, \"subject_total_above_threshold\": 1.2623931623931623, \"units_group\": \"annotated_ks2.5\"}, {\"session_id\": \"703880_2024-04-15\", \"subject_id\": \"703880\", \"above_threshold\": 0.2692307692307692, \"n_units_with_lda_score\": 26, \"subject_total_above_threshold\": 1.4093406593406594, \"units_group\": \"annotated_ks2.5\"}, {\"session_id\": \"733780_2024-09-03\", \"subject_id\": \"733780\", \"above_threshold\": 0.38095238095238093, \"n_units_with_lda_score\": 21, \"subject_total_above_threshold\": 3.1007028455415555, \"units_group\": \"annotated_ks2.5\"}, {\"session_id\": \"681532_2023-10-16\", \"subject_id\": \"681532\", \"above_threshold\": 0.3793103448275862, \"n_units_with_lda_score\": 29, \"subject_total_above_threshold\": 1.1075862068965519, \"units_group\": \"annotated_ks2.5\"}, {\"session_id\": \"714748_2024-06-24\", \"subject_id\": \"714748\", \"above_threshold\": 0.3448275862068966, \"n_units_with_lda_score\": 29, \"subject_total_above_threshold\": 1.4412561576354679, \"units_group\": \"annotated_ks2.5\"}, {\"session_id\": \"713655_2024-08-09\", \"subject_id\": \"713655\", \"above_threshold\": 0.40625, \"n_units_with_lda_score\": 32, \"subject_total_above_threshold\": 2.088763139034878, \"units_group\": \"annotated_ks2.5\"}, {\"session_id\": \"702136_2024-03-07\", \"subject_id\": \"702136\", \"above_threshold\": 0.2857142857142857, \"n_units_with_lda_score\": 28, \"subject_total_above_threshold\": 1.366819455054749, \"units_group\": \"annotated_ks2.5\"}, {\"session_id\": \"699847_2024-04-17\", \"subject_id\": \"699847\", \"above_threshold\": 0.2222222222222222, \"n_units_with_lda_score\": 27, \"subject_total_above_threshold\": 2.2465079365079363, \"units_group\": \"annotated_ks2.5\"}, {\"session_id\": \"714748_2024-06-26\", \"subject_id\": \"714748\", \"above_threshold\": 0.32142857142857145, \"n_units_with_lda_score\": 28, \"subject_total_above_threshold\": 1.4412561576354679, \"units_group\": \"annotated_ks2.5\"}, {\"session_id\": \"733891_2024-09-19\", \"subject_id\": \"733891\", \"above_threshold\": 0.7096774193548387, \"n_units_with_lda_score\": 31, \"subject_total_above_threshold\": 2.0763630669156736, \"units_group\": \"annotated_ks2.5\"}, {\"session_id\": \"703333_2024-04-09\", \"subject_id\": \"703333\", \"above_threshold\": 0.4666666666666667, \"n_units_with_lda_score\": 30, \"subject_total_above_threshold\": 1.8726495726495727, \"units_group\": \"annotated_ks2.5\"}, {\"session_id\": \"662892_2023-08-23\", \"subject_id\": \"662892\", \"above_threshold\": 0.35714285714285715, \"n_units_with_lda_score\": 28, \"subject_total_above_threshold\": 1.6071428571428572, \"units_group\": \"annotated_ks2.5\"}, {\"session_id\": \"733780_2024-08-29\", \"subject_id\": \"733780\", \"above_threshold\": 0.6190476190476191, \"n_units_with_lda_score\": 21, \"subject_total_above_threshold\": 3.1007028455415555, \"units_group\": \"annotated_ks2.5\"}, {\"session_id\": \"666986_2023-08-14\", \"subject_id\": \"666986\", \"above_threshold\": 0.5172413793103449, \"n_units_with_lda_score\": 29, \"subject_total_above_threshold\": 1.2917511832319135, \"units_group\": \"annotated_ks2.5\"}, {\"session_id\": \"706401_2024-04-23\", \"subject_id\": \"706401\", \"above_threshold\": 0.6333333333333333, \"n_units_with_lda_score\": 30, \"subject_total_above_threshold\": 1.2660169915042478, \"units_group\": \"annotated_ks2.5\"}, {\"session_id\": \"626791_2022-08-15\", \"subject_id\": \"626791\", \"above_threshold\": 0.6551724137931034, \"n_units_with_lda_score\": 29, \"subject_total_above_threshold\": 1.666937119675456, \"units_group\": \"annotated_ks2.5\"}, {\"session_id\": \"713655_2024-08-07\", \"subject_id\": \"713655\", \"above_threshold\": 0.391304347826087, \"n_units_with_lda_score\": 23, \"subject_total_above_threshold\": 2.088763139034878, \"units_group\": \"annotated_ks2.5\"}, {\"session_id\": \"690706_2023-11-27\", \"subject_id\": \"690706\", \"above_threshold\": 0.3448275862068966, \"n_units_with_lda_score\": 29, \"subject_total_above_threshold\": 2.0347381864623246, \"units_group\": \"annotated_ks2.5\"}, {\"session_id\": \"676909_2023-12-12\", \"subject_id\": \"676909\", \"above_threshold\": 0.5769230769230769, \"n_units_with_lda_score\": 26, \"subject_total_above_threshold\": 2.0013436265049167, \"units_group\": \"annotated_ks2.5\"}, {\"session_id\": \"733891_2024-09-20\", \"subject_id\": \"733891\", \"above_threshold\": 0.391304347826087, \"n_units_with_lda_score\": 23, \"subject_total_above_threshold\": 2.0763630669156736, \"units_group\": \"annotated_ks2.5\"}, {\"session_id\": \"699847_2024-04-18\", \"subject_id\": \"699847\", \"above_threshold\": 0.7142857142857143, \"n_units_with_lda_score\": 28, \"subject_total_above_threshold\": 2.2465079365079363, \"units_group\": \"annotated_ks2.5\"}, {\"session_id\": \"741148_2024-10-17\", \"subject_id\": \"741148\", \"above_threshold\": 0.3225806451612903, \"n_units_with_lda_score\": 31, \"subject_total_above_threshold\": 2.0998700224506672, \"units_group\": \"annotated_ks2.5\"}, {\"session_id\": \"686176_2023-12-05\", \"subject_id\": \"686176\", \"above_threshold\": 0.41379310344827586, \"n_units_with_lda_score\": 29, \"subject_total_above_threshold\": 1.313793103448276, \"units_group\": \"annotated_ks2.5\"}, {\"session_id\": \"714748_2024-06-27\", \"subject_id\": \"714748\", \"above_threshold\": 0.4, \"n_units_with_lda_score\": 25, \"subject_total_above_threshold\": 1.4412561576354679, \"units_group\": \"annotated_ks2.5\"}, {\"session_id\": \"742903_2024-10-24\", \"subject_id\": \"742903\", \"above_threshold\": 0.6666666666666666, \"n_units_with_lda_score\": 30, \"subject_total_above_threshold\": 1.922095605423095, \"units_group\": \"annotated_ks2.5\"}, {\"session_id\": \"699847_2024-04-16\", \"subject_id\": \"699847\", \"above_threshold\": 0.56, \"n_units_with_lda_score\": 25, \"subject_total_above_threshold\": 2.2465079365079363, \"units_group\": \"annotated_ks2.5\"}, {\"session_id\": \"703880_2024-04-18\", \"subject_id\": \"703880\", \"above_threshold\": 0.17857142857142858, \"n_units_with_lda_score\": 28, \"subject_total_above_threshold\": 1.4093406593406594, \"units_group\": \"annotated_ks2.5\"}, {\"session_id\": \"667252_2023-09-28\", \"subject_id\": \"667252\", \"above_threshold\": 0.5333333333333333, \"n_units_with_lda_score\": 30, \"subject_total_above_threshold\": 1.4829629629629628, \"units_group\": \"annotated_ks2.5\"}, {\"session_id\": \"690706_2023-11-28\", \"subject_id\": \"690706\", \"above_threshold\": 0.4, \"n_units_with_lda_score\": 30, \"subject_total_above_threshold\": 2.0347381864623246, \"units_group\": \"annotated_ks2.5\"}, {\"session_id\": \"737403_2024-09-25\", \"subject_id\": \"737403\", \"above_threshold\": 0.5, \"n_units_with_lda_score\": 32, \"subject_total_above_threshold\": 1.9298387096774192, \"units_group\": \"annotated_ks2.5\"}, {\"session_id\": \"636766_2023-01-23\", \"subject_id\": \"636766\", \"above_threshold\": 0.6071428571428571, \"n_units_with_lda_score\": 28, \"subject_total_above_threshold\": 2.0390269151138716, \"units_group\": \"annotated_ks2.5\"}, {\"session_id\": \"636766_2023-01-24\", \"subject_id\": \"636766\", \"above_threshold\": 0.5333333333333333, \"n_units_with_lda_score\": 30, \"subject_total_above_threshold\": 2.0390269151138716, \"units_group\": \"annotated_ks2.5\"}, {\"session_id\": \"667252_2023-09-26\", \"subject_id\": \"667252\", \"above_threshold\": 0.6296296296296297, \"n_units_with_lda_score\": 27, \"subject_total_above_threshold\": 1.4829629629629628, \"units_group\": \"annotated_ks2.5\"}, {\"session_id\": \"741148_2024-10-16\", \"subject_id\": \"741148\", \"above_threshold\": 0.6153846153846154, \"n_units_with_lda_score\": 26, \"subject_total_above_threshold\": 2.0998700224506672, \"units_group\": \"annotated_ks2.5\"}, {\"session_id\": \"668755_2023-08-31\", \"subject_id\": \"668755\", \"above_threshold\": 0.38461538461538464, \"n_units_with_lda_score\": 26, \"subject_total_above_threshold\": 1.2623931623931623, \"units_group\": \"annotated_ks2.5\"}, {\"session_id\": \"644867_2023-02-23\", \"subject_id\": \"644867\", \"above_threshold\": 0.4230769230769231, \"n_units_with_lda_score\": 26, \"subject_total_above_threshold\": 1.60989010989011, \"units_group\": \"annotated_ks2.5\"}, {\"session_id\": \"674562_2023-10-03\", \"subject_id\": \"674562\", \"above_threshold\": 0.39285714285714285, \"n_units_with_lda_score\": 28, \"subject_total_above_threshold\": 1.6988892779333957, \"units_group\": \"annotated_ks2.5\"}, {\"session_id\": \"741137_2024-10-09\", \"subject_id\": \"741137\", \"above_threshold\": 0.6071428571428571, \"n_units_with_lda_score\": 28, \"subject_total_above_threshold\": 2.2308811671992985, \"units_group\": \"annotated_ks2.5\"}, {\"session_id\": \"686740_2023-10-23\", \"subject_id\": \"686740\", \"above_threshold\": 0.38461538461538464, \"n_units_with_lda_score\": 26, \"subject_total_above_threshold\": 1.785753199546303, \"units_group\": \"annotated_ks2.5\"}, {\"session_id\": \"686176_2023-12-04\", \"subject_id\": \"686176\", \"above_threshold\": 0.43333333333333335, \"n_units_with_lda_score\": 30, \"subject_total_above_threshold\": 1.313793103448276, \"units_group\": \"annotated_ks2.5\"}, {\"session_id\": \"649943_2023-02-13\", \"subject_id\": \"649943\", \"above_threshold\": 0.42857142857142855, \"n_units_with_lda_score\": 28, \"subject_total_above_threshold\": 2.4848214285714283, \"units_group\": \"annotated_ks2.5\"}, {\"session_id\": \"699847_2024-04-15\", \"subject_id\": \"699847\", \"above_threshold\": 0.75, \"n_units_with_lda_score\": 28, \"subject_total_above_threshold\": 2.2465079365079363, \"units_group\": \"annotated_ks2.5\"}, {\"session_id\": \"674562_2023-10-02\", \"subject_id\": \"674562\", \"above_threshold\": 0.5294117647058824, \"n_units_with_lda_score\": 34, \"subject_total_above_threshold\": 1.6988892779333957, \"units_group\": \"annotated_ks2.5\"}, {\"session_id\": \"714748_2024-06-25\", \"subject_id\": \"714748\", \"above_threshold\": 0.375, \"n_units_with_lda_score\": 32, \"subject_total_above_threshold\": 1.4412561576354679, \"units_group\": \"annotated_ks2.5\"}, {\"session_id\": \"703882_2024-04-23\", \"subject_id\": \"703882\", \"above_threshold\": 0.43478260869565216, \"n_units_with_lda_score\": 23, \"subject_total_above_threshold\": 1.4261847250977686, \"units_group\": \"annotated_ks2.5\"}, {\"session_id\": \"706401_2024-04-22\", \"subject_id\": \"706401\", \"above_threshold\": 0.391304347826087, \"n_units_with_lda_score\": 23, \"subject_total_above_threshold\": 1.2660169915042478, \"units_group\": \"annotated_ks2.5\"}, {\"session_id\": \"712815_2024-05-23\", \"subject_id\": \"712815\", \"above_threshold\": 0.38461538461538464, \"n_units_with_lda_score\": 26, \"subject_total_above_threshold\": 1.5512820512820513, \"units_group\": \"annotated_ks2.5\"}, {\"session_id\": \"712815_2024-05-22\", \"subject_id\": \"712815\", \"above_threshold\": 0.5, \"n_units_with_lda_score\": 22, \"subject_total_above_threshold\": 1.5512820512820513, \"units_group\": \"annotated_ks2.5\"}, {\"session_id\": \"690706_2023-11-30\", \"subject_id\": \"690706\", \"above_threshold\": 0.7037037037037037, \"n_units_with_lda_score\": 27, \"subject_total_above_threshold\": 2.0347381864623246, \"units_group\": \"annotated_ks2.5\"}, {\"session_id\": \"741137_2024-10-10\", \"subject_id\": \"741137\", \"above_threshold\": 0.4827586206896552, \"n_units_with_lda_score\": 29, \"subject_total_above_threshold\": 2.2308811671992985, \"units_group\": \"annotated_ks2.5\"}, {\"session_id\": \"733891_2024-09-18\", \"subject_id\": \"733891\", \"above_threshold\": 0.46875, \"n_units_with_lda_score\": 32, \"subject_total_above_threshold\": 2.0763630669156736, \"units_group\": \"annotated_ks2.5\"}, {\"session_id\": \"708016_2024-04-30\", \"subject_id\": \"708016\", \"above_threshold\": 0.2, \"n_units_with_lda_score\": 25, \"subject_total_above_threshold\": 0.96, \"units_group\": \"annotated_ks2.5\"}, {\"session_id\": \"715710_2024-07-15\", \"subject_id\": \"715710\", \"above_threshold\": 0.5555555555555556, \"n_units_with_lda_score\": 27, \"subject_total_above_threshold\": 2.3845238095238095, \"units_group\": \"annotated_ks2.5\"}, {\"session_id\": \"737403_2024-09-27\", \"subject_id\": \"737403\", \"above_threshold\": 0.5416666666666666, \"n_units_with_lda_score\": 24, \"subject_total_above_threshold\": 1.9298387096774192, \"units_group\": \"annotated_ks2.5\"}, {\"session_id\": \"686740_2023-10-24\", \"subject_id\": \"686740\", \"above_threshold\": 0.4482758620689655, \"n_units_with_lda_score\": 29, \"subject_total_above_threshold\": 1.785753199546303, \"units_group\": \"annotated_ks2.5\"}, {\"session_id\": \"664851_2023-11-13\", \"subject_id\": \"664851\", \"above_threshold\": 0.3, \"n_units_with_lda_score\": 30, \"subject_total_above_threshold\": 1.8756048387096775, \"units_group\": \"annotated_ks2.5\"}, {\"session_id\": \"733891_2024-09-16\", \"subject_id\": \"733891\", \"above_threshold\": 0.27586206896551724, \"n_units_with_lda_score\": 29, \"subject_total_above_threshold\": 2.0763630669156736, \"units_group\": \"annotated_ks2.5\"}, {\"session_id\": \"662892_2023-08-21\", \"subject_id\": \"662892\", \"above_threshold\": 0.5357142857142857, \"n_units_with_lda_score\": 28, \"subject_total_above_threshold\": 1.6071428571428572, \"units_group\": \"annotated_ks2.5\"}, {\"session_id\": \"741137_2024-10-11\", \"subject_id\": \"741137\", \"above_threshold\": 0.5483870967741935, \"n_units_with_lda_score\": 31, \"subject_total_above_threshold\": 2.2308811671992985, \"units_group\": \"annotated_ks2.5\"}, {\"session_id\": \"708016_2024-04-29\", \"subject_id\": \"708016\", \"above_threshold\": 0.2, \"n_units_with_lda_score\": 25, \"subject_total_above_threshold\": 0.96, \"units_group\": \"annotated_ks2.5\"}, {\"session_id\": \"681532_2023-10-18\", \"subject_id\": \"681532\", \"above_threshold\": 0.4482758620689655, \"n_units_with_lda_score\": 29, \"subject_total_above_threshold\": 1.1075862068965519, \"units_group\": \"annotated_ks2.5\"}, {\"session_id\": \"703333_2024-04-08\", \"subject_id\": \"703333\", \"above_threshold\": 0.46153846153846156, \"n_units_with_lda_score\": 26, \"subject_total_above_threshold\": 1.8726495726495727, \"units_group\": \"annotated_ks2.5\"}, {\"session_id\": \"644866_2023-02-08\", \"subject_id\": \"644866\", \"above_threshold\": 0.6896551724137931, \"n_units_with_lda_score\": 29, \"subject_total_above_threshold\": 1.914942528735632, \"units_group\": \"annotated_ks2.5\"}, {\"session_id\": \"664851_2023-11-15\", \"subject_id\": \"664851\", \"above_threshold\": 0.59375, \"n_units_with_lda_score\": 32, \"subject_total_above_threshold\": 1.8756048387096775, \"units_group\": \"annotated_ks2.5\"}, {\"session_id\": \"742903_2024-10-21\", \"subject_id\": \"742903\", \"above_threshold\": 0.41739130434782606, \"n_units_with_lda_score\": 115, \"subject_total_above_threshold\": 1.922095605423095, \"units_group\": \"annotated_ks2.5\"}, {\"session_id\": \"681532_2023-10-17\", \"subject_id\": \"681532\", \"above_threshold\": 0.28, \"n_units_with_lda_score\": 25, \"subject_total_above_threshold\": 1.1075862068965519, \"units_group\": \"annotated_ks2.5\"}, {\"session_id\": \"662892_2023-08-22\", \"subject_id\": \"662892\", \"above_threshold\": 0.4642857142857143, \"n_units_with_lda_score\": 28, \"subject_total_above_threshold\": 1.6071428571428572, \"units_group\": \"annotated_ks2.5\"}, {\"session_id\": \"726088_2024-06-17\", \"subject_id\": \"726088\", \"above_threshold\": 0.46153846153846156, \"n_units_with_lda_score\": 26, \"subject_total_above_threshold\": 1.6386217948717947, \"units_group\": \"annotated_ks2.5\"}, {\"session_id\": \"703333_2024-04-10\", \"subject_id\": \"703333\", \"above_threshold\": 0.4444444444444444, \"n_units_with_lda_score\": 27, \"subject_total_above_threshold\": 1.8726495726495727, \"units_group\": \"annotated_ks2.5\"}, {\"session_id\": \"733891_2024-09-17\", \"subject_id\": \"733891\", \"above_threshold\": 0.23076923076923078, \"n_units_with_lda_score\": 26, \"subject_total_above_threshold\": 2.0763630669156736, \"units_group\": \"annotated_ks2.5\"}, {\"session_id\": \"702131_2024-02-26\", \"subject_id\": \"702131\", \"above_threshold\": 0.4, \"n_units_with_lda_score\": 30, \"subject_total_above_threshold\": 0.4, \"units_group\": \"annotated_ks2.5\"}, {\"session_id\": \"666986_2023-08-17\", \"subject_id\": \"666986\", \"above_threshold\": 0.4411764705882353, \"n_units_with_lda_score\": 34, \"subject_total_above_threshold\": 1.2917511832319135, \"units_group\": \"annotated_ks2.5\"}, {\"session_id\": \"703880_2024-04-17\", \"subject_id\": \"703880\", \"above_threshold\": 0.4230769230769231, \"n_units_with_lda_score\": 26, \"subject_total_above_threshold\": 1.4093406593406594, \"units_group\": \"annotated_ks2.5\"}, {\"session_id\": \"664851_2023-11-14\", \"subject_id\": \"664851\", \"above_threshold\": 0.5625, \"n_units_with_lda_score\": 32, \"subject_total_above_threshold\": 1.8756048387096775, \"units_group\": \"annotated_ks2.5\"}, {\"session_id\": \"733780_2024-09-04\", \"subject_id\": \"733780\", \"above_threshold\": 0.3548387096774194, \"n_units_with_lda_score\": 31, \"subject_total_above_threshold\": 3.1007028455415555, \"units_group\": \"annotated_ks2.5\"}, {\"session_id\": \"676909_2023-12-13\", \"subject_id\": \"676909\", \"above_threshold\": 0.6451612903225806, \"n_units_with_lda_score\": 31, \"subject_total_above_threshold\": 2.0013436265049167, \"units_group\": \"annotated_ks2.5\"}, {\"session_id\": \"636766_2023-01-26\", \"subject_id\": \"636766\", \"above_threshold\": 0.5652173913043478, \"n_units_with_lda_score\": 23, \"subject_total_above_threshold\": 2.0390269151138716, \"units_group\": \"annotated_ks2.5\"}, {\"session_id\": \"737403_2024-09-26\", \"subject_id\": \"737403\", \"above_threshold\": 0.3548387096774194, \"n_units_with_lda_score\": 31, \"subject_total_above_threshold\": 1.9298387096774192, \"units_group\": \"annotated_ks2.5\"}, {\"session_id\": \"664851_2023-11-16\", \"subject_id\": \"664851\", \"above_threshold\": 0.41935483870967744, \"n_units_with_lda_score\": 31, \"subject_total_above_threshold\": 1.8756048387096775, \"units_group\": \"annotated_ks2.5\"}, {\"session_id\": \"626791_2022-08-17\", \"subject_id\": \"626791\", \"above_threshold\": 0.4117647058823529, \"n_units_with_lda_score\": 34, \"subject_total_above_threshold\": 1.666937119675456, \"units_group\": \"annotated_ks2.5\"}, {\"session_id\": \"742903_2024-10-22\", \"subject_id\": \"742903\", \"above_threshold\": 0.327775012444002, \"n_units_with_lda_score\": 4018, \"subject_total_above_threshold\": 0.327775012444002, \"units_group\": \"predicted_ks4\"}]}}, {\"mode\": \"vega-lite\"});\n",
       "</script>"
      ],
      "text/plain": [
       "alt.Chart(...)"
      ]
     },
     "execution_count": 2,
     "metadata": {},
     "output_type": "execute_result"
    }
   ],
   "source": [
    "\n",
    "from altair import XOffset\n",
    "\n",
    "\n",
    "def fpr_to_lda_threshold(fpr_threshold: float) -> float:\n",
    "    return (\n",
    "        get_roc_curve_df(metric='lda')\n",
    "        .select(\n",
    "            pl.col('value').sort_by((pl.col('fpr') - fpr_threshold).abs())\n",
    "        )\n",
    "        .get_column('value')\n",
    "        .first()\n",
    "    )\n",
    "    \n",
    "def get_above_lda_threshold_df(df: pl.DataFrame, lda_threshold: float, drop_empty: bool = True) -> pl.DataFrame:\n",
    "    return (\n",
    "        df\n",
    "        .with_columns(\n",
    "            session_id=pl.col('unit_id').str.split('_').list.slice(0, 2).list.join('_'),\n",
    "            subject_id=pl.col('unit_id').str.split('_').list.get(0),\n",
    "        )\n",
    "        .group_by('session_id')\n",
    "        .agg(\n",
    "            pl.col('subject_id').first(),\n",
    "            above_threshold=(pl.col('lda').gt(lda_threshold)).arg_true().count().truediv(pl.col('lda').count()),\n",
    "            n_units_with_lda_score=pl.col('lda').count(),\n",
    "        )\n",
    "        .filter(\n",
    "            (pl.col('n_units_with_lda_score') > 0) if drop_empty else pl.lit(True)\n",
    "        )\n",
    "        .with_columns(\n",
    "            subject_total_above_threshold=pl.col('above_threshold').sum().over('subject_id'),\n",
    "        )\n",
    "    )\n",
    "    \n",
    "def get_sessions_above_threshold_chart(df: pl.DataFrame, fpr_threshold = 0.1) -> alt.Chart:\n",
    "    lda_threshold = fpr_to_lda_threshold(fpr_threshold)\n",
    "    return (\n",
    "        alt.Chart(df.pipe(get_above_lda_threshold_df, lda_threshold=lda_threshold)).mark_bar().encode(\n",
    "            color=alt.Color('above_threshold:Q'),#.scale(domain=[0, 1]),\n",
    "            x=alt.X('subject_id:N', sort='x'),\n",
    "            y=alt.Y('above_threshold:Q'),\n",
    "            tooltip=['session_id', 'above_threshold'],\n",
    "        ).properties(\n",
    "            title=[f'Fraction of units above {lda_threshold=:.2f} (FPR={fpr_threshold})', '(some sessions missing LDA metric for all units)'],\n",
    "            width=1600,\n",
    "            height=200,\n",
    "        )\n",
    "        .interactive()\n",
    "    )\n",
    "    \n",
    "def get_combined_above_threshold_chart(annotated_units_df: pl.DataFrame, all_units_df: pl.DataFrame, fpr_threshold = 0.1) -> alt.Chart:\n",
    "    lda_threshold = fpr_to_lda_threshold(fpr_threshold)\n",
    "    source = pl.concat([\n",
    "        (\n",
    "            all_units_df.pipe(get_above_lda_threshold_df, lda_threshold=lda_threshold)\n",
    "            .with_columns(\n",
    "                units_group=pl.lit('predicted_ks2.5'),\n",
    "            )\n",
    "        ),\n",
    "        (\n",
    "            annotated_units_df.pipe(get_above_lda_threshold_df, lda_threshold=lda_threshold)\n",
    "            .with_columns(\n",
    "                units_group=pl.lit('annotated_ks2.5'),\n",
    "            )\n",
    "        ),\n",
    "        (\n",
    "            lda_all_ks4_df.pipe(get_above_lda_threshold_df, lda_threshold=lda_threshold)\n",
    "            .with_columns(\n",
    "                units_group=pl.lit('predicted_ks4'),\n",
    "            )\n",
    "        ),\n",
    "    ])\n",
    "    order = ['annotated_ks2.5', 'predicted_ks2.5', 'predicted_ks4']\n",
    "    assert all(name in source['units_group'].unique() for name in order)\n",
    "    return (\n",
    "        alt.Chart(source).mark_bar().encode(\n",
    "            color=alt.Color('above_threshold:Q'),#.scale(domain=[0, 1]),\n",
    "            x=alt.X('subject_id:N', sort='x'),\n",
    "            y=alt.Y('above_threshold:Q'),\n",
    "            order=alt.Order('session_id:N'),\n",
    "            xOffset=alt.XOffset('units_group:N', sort=order),\n",
    "            tooltip=['units_group', 'session_id', 'n_units_with_lda_score', 'above_threshold'],\n",
    "        ).properties(\n",
    "            title=[f'Fraction of units above {lda_threshold=:.2f} (FPR={fpr_threshold}) (some sessions missing LDA metric for units)', '', '{} units    |    {} (all units)    |    {} (all units)'.format(*order)],\n",
    "            width=1800,\n",
    "            height=300,\n",
    "        )\n",
    "        .interactive()\n",
    "    )\n",
    "\n",
    "fpr_threshold = 0.2\n",
    "get_combined_above_threshold_chart(get_df().drop_nulls('drift_rating').join(lda_all_df, on='unit_id', how='left'), lda_all_df, fpr_threshold=fpr_threshold)"
   ]
  },
  {
   "cell_type": "code",
   "execution_count": 4,
   "metadata": {},
   "outputs": [
    {
     "data": {
      "text/html": [
       "<div><style>\n",
       ".dataframe > thead > tr,\n",
       ".dataframe > tbody > tr {\n",
       "  text-align: right;\n",
       "  white-space: pre-wrap;\n",
       "}\n",
       "</style>\n",
       "<small>shape: (4_018, 5)</small><table border=\"1\" class=\"dataframe\"><thead><tr><th>unit_id</th><th>vis_response_r2</th><th>aud_response_r2</th><th>presence_ratio</th><th>lda</th></tr><tr><td>str</td><td>f64</td><td>f64</td><td>f64</td><td>f64</td></tr></thead><tbody><tr><td>&quot;742903_2024-10-22_ks4_A-477_ks…</td><td>0.051758</td><td>0.033912</td><td>0.8984375</td><td>-0.491873</td></tr><tr><td>&quot;742903_2024-10-22_ks4_E-980_ks…</td><td>0.05456</td><td>0.006882</td><td>1.0</td><td>-0.57164</td></tr><tr><td>&quot;742903_2024-10-22_ks4_E-701_ks…</td><td>0.048463</td><td>0.048755</td><td>1.0</td><td>-0.544778</td></tr><tr><td>&quot;742903_2024-10-22_ks4_E-955_ks…</td><td>0.142847</td><td>0.07737</td><td>1.0</td><td>-0.469389</td></tr><tr><td>&quot;742903_2024-10-22_ks4_C-136_ks…</td><td>0.106584</td><td>0.008023</td><td>1.0</td><td>-0.540705</td></tr><tr><td>&hellip;</td><td>&hellip;</td><td>&hellip;</td><td>&hellip;</td><td>&hellip;</td></tr><tr><td>&quot;742903_2024-10-22_ks4_E-397_ks…</td><td>0.082113</td><td>0.056958</td><td>1.0</td><td>-0.519351</td></tr><tr><td>&quot;742903_2024-10-22_ks4_C-84_ks4&quot;</td><td>0.111905</td><td>0.050335</td><td>0.9921875</td><td>-0.502165</td></tr><tr><td>&quot;742903_2024-10-22_ks4_B-653_ks…</td><td>0.58447</td><td>0.343926</td><td>1.0</td><td>-0.02036</td></tr><tr><td>&quot;742903_2024-10-22_ks4_A-524_ks…</td><td>0.026501</td><td>0.028518</td><td>1.0</td><td>-0.572175</td></tr><tr><td>&quot;742903_2024-10-22_ks4_B-41_ks4&quot;</td><td>0.614481</td><td>0.326492</td><td>1.0</td><td>-0.015645</td></tr></tbody></table></div>"
      ],
      "text/plain": [
       "shape: (4_018, 5)\n",
       "┌─────────────────────────────────┬─────────────────┬─────────────────┬────────────────┬───────────┐\n",
       "│ unit_id                         ┆ vis_response_r2 ┆ aud_response_r2 ┆ presence_ratio ┆ lda       │\n",
       "│ ---                             ┆ ---             ┆ ---             ┆ ---            ┆ ---       │\n",
       "│ str                             ┆ f64             ┆ f64             ┆ f64            ┆ f64       │\n",
       "╞═════════════════════════════════╪═════════════════╪═════════════════╪════════════════╪═══════════╡\n",
       "│ 742903_2024-10-22_ks4_A-477_ks… ┆ 0.051758        ┆ 0.033912        ┆ 0.8984375      ┆ -0.491873 │\n",
       "│ 742903_2024-10-22_ks4_E-980_ks… ┆ 0.05456         ┆ 0.006882        ┆ 1.0            ┆ -0.57164  │\n",
       "│ 742903_2024-10-22_ks4_E-701_ks… ┆ 0.048463        ┆ 0.048755        ┆ 1.0            ┆ -0.544778 │\n",
       "│ 742903_2024-10-22_ks4_E-955_ks… ┆ 0.142847        ┆ 0.07737         ┆ 1.0            ┆ -0.469389 │\n",
       "│ 742903_2024-10-22_ks4_C-136_ks… ┆ 0.106584        ┆ 0.008023        ┆ 1.0            ┆ -0.540705 │\n",
       "│ …                               ┆ …               ┆ …               ┆ …              ┆ …         │\n",
       "│ 742903_2024-10-22_ks4_E-397_ks… ┆ 0.082113        ┆ 0.056958        ┆ 1.0            ┆ -0.519351 │\n",
       "│ 742903_2024-10-22_ks4_C-84_ks4  ┆ 0.111905        ┆ 0.050335        ┆ 0.9921875      ┆ -0.502165 │\n",
       "│ 742903_2024-10-22_ks4_B-653_ks… ┆ 0.58447         ┆ 0.343926        ┆ 1.0            ┆ -0.02036  │\n",
       "│ 742903_2024-10-22_ks4_A-524_ks… ┆ 0.026501        ┆ 0.028518        ┆ 1.0            ┆ -0.572175 │\n",
       "│ 742903_2024-10-22_ks4_B-41_ks4  ┆ 0.614481        ┆ 0.326492        ┆ 1.0            ┆ -0.015645 │\n",
       "└─────────────────────────────────┴─────────────────┴─────────────────┴────────────────┴───────────┘"
      ]
     },
     "execution_count": 4,
     "metadata": {},
     "output_type": "execute_result"
    }
   ],
   "source": [
    "lda_all_ks4_df"
   ]
  },
  {
   "cell_type": "code",
   "execution_count": 5,
   "metadata": {},
   "outputs": [
    {
     "data": {
      "text/html": [
       "<div><style>\n",
       ".dataframe > thead > tr,\n",
       ".dataframe > tbody > tr {\n",
       "  text-align: right;\n",
       "  white-space: pre-wrap;\n",
       "}\n",
       "</style>\n",
       "<small>shape: (6_442, 5)</small><table border=\"1\" class=\"dataframe\"><thead><tr><th>unit_id</th><th>vis_baseline_r2</th><th>aud_baseline_r2</th><th>vis_response_r2</th><th>aud_response_r2</th></tr><tr><td>str</td><td>f64</td><td>f64</td><td>f64</td><td>f64</td></tr></thead><tbody><tr><td>&quot;742903_2024-10-22_ks4_A-477_ks…</td><td>0.020005</td><td>0.005845</td><td>0.051758</td><td>0.033912</td></tr><tr><td>&quot;742903_2024-10-21_ks4_B-196_ks…</td><td>0.023002</td><td>0.020432</td><td>0.000049</td><td>0.002397</td></tr><tr><td>&quot;742903_2024-10-22_ks4_E-980_ks…</td><td>0.000512</td><td>0.00021</td><td>0.05456</td><td>0.006882</td></tr><tr><td>&quot;742903_2024-10-22_ks4_E-701_ks…</td><td>0.003312</td><td>0.045995</td><td>0.048463</td><td>0.048755</td></tr><tr><td>&quot;742903_2024-10-22_ks4_E-955_ks…</td><td>0.019101</td><td>0.014411</td><td>0.142847</td><td>0.07737</td></tr><tr><td>&hellip;</td><td>&hellip;</td><td>&hellip;</td><td>&hellip;</td><td>&hellip;</td></tr><tr><td>&quot;742903_2024-10-22_ks4_E-397_ks…</td><td>0.028598</td><td>0.018105</td><td>0.082113</td><td>0.056958</td></tr><tr><td>&quot;742903_2024-10-22_ks4_C-84_ks4&quot;</td><td>0.009422</td><td>0.006674</td><td>0.111905</td><td>0.050335</td></tr><tr><td>&quot;742903_2024-10-22_ks4_B-653_ks…</td><td>0.554296</td><td>0.195985</td><td>0.58447</td><td>0.343926</td></tr><tr><td>&quot;742903_2024-10-22_ks4_A-524_ks…</td><td>0.047194</td><td>0.007466</td><td>0.026501</td><td>0.028518</td></tr><tr><td>&quot;742903_2024-10-22_ks4_B-41_ks4&quot;</td><td>0.461427</td><td>0.474546</td><td>0.614481</td><td>0.326492</td></tr></tbody></table></div>"
      ],
      "text/plain": [
       "shape: (6_442, 5)\n",
       "┌──────────────────────────┬─────────────────┬─────────────────┬─────────────────┬─────────────────┐\n",
       "│ unit_id                  ┆ vis_baseline_r2 ┆ aud_baseline_r2 ┆ vis_response_r2 ┆ aud_response_r2 │\n",
       "│ ---                      ┆ ---             ┆ ---             ┆ ---             ┆ ---             │\n",
       "│ str                      ┆ f64             ┆ f64             ┆ f64             ┆ f64             │\n",
       "╞══════════════════════════╪═════════════════╪═════════════════╪═════════════════╪═════════════════╡\n",
       "│ 742903_2024-10-22_ks4_A- ┆ 0.020005        ┆ 0.005845        ┆ 0.051758        ┆ 0.033912        │\n",
       "│ 477_ks…                  ┆                 ┆                 ┆                 ┆                 │\n",
       "│ 742903_2024-10-21_ks4_B- ┆ 0.023002        ┆ 0.020432        ┆ 0.000049        ┆ 0.002397        │\n",
       "│ 196_ks…                  ┆                 ┆                 ┆                 ┆                 │\n",
       "│ 742903_2024-10-22_ks4_E- ┆ 0.000512        ┆ 0.00021         ┆ 0.05456         ┆ 0.006882        │\n",
       "│ 980_ks…                  ┆                 ┆                 ┆                 ┆                 │\n",
       "│ 742903_2024-10-22_ks4_E- ┆ 0.003312        ┆ 0.045995        ┆ 0.048463        ┆ 0.048755        │\n",
       "│ 701_ks…                  ┆                 ┆                 ┆                 ┆                 │\n",
       "│ 742903_2024-10-22_ks4_E- ┆ 0.019101        ┆ 0.014411        ┆ 0.142847        ┆ 0.07737         │\n",
       "│ 955_ks…                  ┆                 ┆                 ┆                 ┆                 │\n",
       "│ …                        ┆ …               ┆ …               ┆ …               ┆ …               │\n",
       "│ 742903_2024-10-22_ks4_E- ┆ 0.028598        ┆ 0.018105        ┆ 0.082113        ┆ 0.056958        │\n",
       "│ 397_ks…                  ┆                 ┆                 ┆                 ┆                 │\n",
       "│ 742903_2024-10-22_ks4_C- ┆ 0.009422        ┆ 0.006674        ┆ 0.111905        ┆ 0.050335        │\n",
       "│ 84_ks4                   ┆                 ┆                 ┆                 ┆                 │\n",
       "│ 742903_2024-10-22_ks4_B- ┆ 0.554296        ┆ 0.195985        ┆ 0.58447         ┆ 0.343926        │\n",
       "│ 653_ks…                  ┆                 ┆                 ┆                 ┆                 │\n",
       "│ 742903_2024-10-22_ks4_A- ┆ 0.047194        ┆ 0.007466        ┆ 0.026501        ┆ 0.028518        │\n",
       "│ 524_ks…                  ┆                 ┆                 ┆                 ┆                 │\n",
       "│ 742903_2024-10-22_ks4_B- ┆ 0.461427        ┆ 0.474546        ┆ 0.614481        ┆ 0.326492        │\n",
       "│ 41_ks4                   ┆                 ┆                 ┆                 ┆                 │\n",
       "└──────────────────────────┴─────────────────┴─────────────────┴─────────────────┴─────────────────┘"
      ]
     },
     "execution_count": 5,
     "metadata": {},
     "output_type": "execute_result"
    }
   ],
   "source": [
    "pl.read_parquet(\"//allen/programs/mindscope/workgroups/dynamicrouting/ben/corr_values_ks4.parquet\")"
   ]
  },
  {
   "cell_type": "code",
   "execution_count": 3,
   "metadata": {},
   "outputs": [
    {
     "data": {
      "text/html": [
       "<div><style>\n",
       ".dataframe > thead > tr,\n",
       ".dataframe > tbody > tr {\n",
       "  text-align: right;\n",
       "  white-space: pre-wrap;\n",
       "}\n",
       "</style>\n",
       "<small>shape: (1, 5)</small><table border=\"1\" class=\"dataframe\"><thead><tr><th>session_id</th><th>subject_id</th><th>above_threshold</th><th>n_units_with_lda_score</th><th>subject_total_above_threshold</th></tr><tr><td>str</td><td>str</td><td>f64</td><td>u32</td><td>f64</td></tr></thead><tbody><tr><td>&quot;742903_2024-10-22&quot;</td><td>&quot;742903&quot;</td><td>0.327775</td><td>4018</td><td>0.327775</td></tr></tbody></table></div>"
      ],
      "text/plain": [
       "shape: (1, 5)\n",
       "┌───────────────────┬────────────┬─────────────────┬───────────────────────┬───────────────────────┐\n",
       "│ session_id        ┆ subject_id ┆ above_threshold ┆ n_units_with_lda_scor ┆ subject_total_above_t │\n",
       "│ ---               ┆ ---        ┆ ---             ┆ e                     ┆ hreshold              │\n",
       "│ str               ┆ str        ┆ f64             ┆ ---                   ┆ ---                   │\n",
       "│                   ┆            ┆                 ┆ u32                   ┆ f64                   │\n",
       "╞═══════════════════╪════════════╪═════════════════╪═══════════════════════╪═══════════════════════╡\n",
       "│ 742903_2024-10-22 ┆ 742903     ┆ 0.327775        ┆ 4018                  ┆ 0.327775              │\n",
       "└───────────────────┴────────────┴─────────────────┴───────────────────────┴───────────────────────┘"
      ]
     },
     "execution_count": 3,
     "metadata": {},
     "output_type": "execute_result"
    }
   ],
   "source": [
    "lda_all_ks4_df.pipe(get_above_lda_threshold_df, lda_threshold=fpr_to_lda_threshold(fpr_threshold))"
   ]
  }
 ],
 "metadata": {
  "kernelspec": {
   "display_name": ".venv",
   "language": "python",
   "name": "python3"
  },
  "language_info": {
   "codemirror_mode": {
    "name": "ipython",
    "version": 3
   },
   "file_extension": ".py",
   "mimetype": "text/x-python",
   "name": "python",
   "nbconvert_exporter": "python",
   "pygments_lexer": "ipython3",
   "version": "3.11.5"
  }
 },
 "nbformat": 4,
 "nbformat_minor": 2
}
