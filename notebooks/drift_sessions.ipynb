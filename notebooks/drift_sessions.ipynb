{
 "cells": [
  {
   "cell_type": "markdown",
   "metadata": {},
   "source": [
    "## adding KS4 data\n",
    "1. Export spike times:\n",
    "    https://codeocean.allenneuraldynamics.org/capsule/2210357/tree\n",
    "    - attach new ks4 sorted asset\n",
    "    - use `dump_timing_info.py` with `npc_sessions` and put .json file in `/code` \n",
    "    - run capsule to create individual session parquet files in /results, and a consolidate file\n",
    "      (without spike times) at `s3://aind-scratch-data/dynamic-routing/unit-rasters-ks4/units.parquet`\n",
    "    - create asset with parquet files in `/ks4` folder\n",
    "2. https://codeocean.allenneuraldynamics.org/capsule/6421158/tree\n",
    "    - attach new asset with ks4 session unit parquet files\n",
    "    - run capsule to create R^2 values for spike count vs time\n",
    "    - download `corr_values_ks4.parquet` to `\\\\allen\\programs\\mindscope\\workgroups\\dynamicrouting\\ben`\n",
    "3. run `run_unit_drift_lda.py` \n",
    "    - uses corr values and consolidated units table (for `presence_ratio`)\n",
    "4. restart this notebook "
   ]
  },
  {
   "cell_type": "code",
   "execution_count": 5,
   "metadata": {},
   "outputs": [],
   "source": [
    "import pathlib\n",
    "import sys\n",
    "sys.path.append(str(pathlib.Path.cwd().absolute().parent))\n",
    "\n",
    "import polars as pl\n",
    "import altair as alt\n",
    "\n",
    "from app_charts import lda_all_df, get_roc_curve_df, lda_all_ks4_df\n",
    "import db_utils\n",
    "from db_utils import get_df"
   ]
  },
  {
   "cell_type": "markdown",
   "metadata": {},
   "source": [
    "---\n",
    "Annotated units"
   ]
  },
  {
   "cell_type": "code",
   "execution_count": 2,
   "metadata": {},
   "outputs": [
    {
     "data": {
      "text/html": [
       "<div><style>\n",
       ".dataframe > thead > tr,\n",
       ".dataframe > tbody > tr {\n",
       "  text-align: right;\n",
       "  white-space: pre-wrap;\n",
       "}\n",
       "</style>\n",
       "<small>shape: (3, 2)</small><table border=\"1\" class=\"dataframe\"><thead><tr><th>drift_rating</th><th>proportion</th></tr><tr><td>str</td><td>f64</td></tr></thead><tbody><tr><td>&quot;drift&quot;</td><td>0.15475</td></tr><tr><td>&quot;unsure&quot;</td><td>0.35144</td></tr><tr><td>&quot;no drift&quot;</td><td>0.49381</td></tr></tbody></table></div>"
      ],
      "text/plain": [
       "shape: (3, 2)\n",
       "┌──────────────┬────────────┐\n",
       "│ drift_rating ┆ proportion │\n",
       "│ ---          ┆ ---        │\n",
       "│ str          ┆ f64        │\n",
       "╞══════════════╪════════════╡\n",
       "│ drift        ┆ 0.15475    │\n",
       "│ unsure       ┆ 0.35144    │\n",
       "│ no drift     ┆ 0.49381    │\n",
       "└──────────────┴────────────┘"
      ]
     },
     "metadata": {},
     "output_type": "display_data"
    },
    {
     "data": {
      "text/html": [
       "\n",
       "<style>\n",
       "  #altair-viz-a3cc9e52e13b43a183c2d7006c42d589.vega-embed {\n",
       "    width: 100%;\n",
       "    display: flex;\n",
       "  }\n",
       "\n",
       "  #altair-viz-a3cc9e52e13b43a183c2d7006c42d589.vega-embed details,\n",
       "  #altair-viz-a3cc9e52e13b43a183c2d7006c42d589.vega-embed details summary {\n",
       "    position: relative;\n",
       "  }\n",
       "</style>\n",
       "<div id=\"altair-viz-a3cc9e52e13b43a183c2d7006c42d589\"></div>\n",
       "<script type=\"text/javascript\">\n",
       "  var VEGA_DEBUG = (typeof VEGA_DEBUG == \"undefined\") ? {} : VEGA_DEBUG;\n",
       "  (function(spec, embedOpt){\n",
       "    let outputDiv = document.currentScript.previousElementSibling;\n",
       "    if (outputDiv.id !== \"altair-viz-a3cc9e52e13b43a183c2d7006c42d589\") {\n",
       "      outputDiv = document.getElementById(\"altair-viz-a3cc9e52e13b43a183c2d7006c42d589\");\n",
       "    }\n",
       "    const paths = {\n",
       "      \"vega\": \"https://cdn.jsdelivr.net/npm/vega@5?noext\",\n",
       "      \"vega-lib\": \"https://cdn.jsdelivr.net/npm/vega-lib?noext\",\n",
       "      \"vega-lite\": \"https://cdn.jsdelivr.net/npm/vega-lite@5.20.1?noext\",\n",
       "      \"vega-embed\": \"https://cdn.jsdelivr.net/npm/vega-embed@6?noext\",\n",
       "    };\n",
       "\n",
       "    function maybeLoadScript(lib, version) {\n",
       "      var key = `${lib.replace(\"-\", \"\")}_version`;\n",
       "      return (VEGA_DEBUG[key] == version) ?\n",
       "        Promise.resolve(paths[lib]) :\n",
       "        new Promise(function(resolve, reject) {\n",
       "          var s = document.createElement('script');\n",
       "          document.getElementsByTagName(\"head\")[0].appendChild(s);\n",
       "          s.async = true;\n",
       "          s.onload = () => {\n",
       "            VEGA_DEBUG[key] = version;\n",
       "            return resolve(paths[lib]);\n",
       "          };\n",
       "          s.onerror = () => reject(`Error loading script: ${paths[lib]}`);\n",
       "          s.src = paths[lib];\n",
       "        });\n",
       "    }\n",
       "\n",
       "    function showError(err) {\n",
       "      outputDiv.innerHTML = `<div class=\"error\" style=\"color:red;\">${err}</div>`;\n",
       "      throw err;\n",
       "    }\n",
       "\n",
       "    function displayChart(vegaEmbed) {\n",
       "      vegaEmbed(outputDiv, spec, embedOpt)\n",
       "        .catch(err => showError(`Javascript Error: ${err.message}<br>This usually means there's a typo in your chart specification. See the javascript console for the full traceback.`));\n",
       "    }\n",
       "\n",
       "    if(typeof define === \"function\" && define.amd) {\n",
       "      requirejs.config({paths});\n",
       "      require([\"vega-embed\"], displayChart, err => showError(`Error loading script: ${err.message}`));\n",
       "    } else {\n",
       "      maybeLoadScript(\"vega\", \"5\")\n",
       "        .then(() => maybeLoadScript(\"vega-lite\", \"5.20.1\"))\n",
       "        .then(() => maybeLoadScript(\"vega-embed\", \"6\"))\n",
       "        .catch(showError)\n",
       "        .then(() => displayChart(vegaEmbed));\n",
       "    }\n",
       "  })({\"config\": {\"view\": {\"continuousWidth\": 300, \"continuousHeight\": 300}}, \"layer\": [{\"mark\": {\"type\": \"arc\", \"outerRadius\": 120}, \"encoding\": {\"color\": {\"field\": \"drift_rating\", \"legend\": null, \"scale\": {\"scheme\": \"blues\", \"reverse\": true}, \"type\": \"nominal\"}, \"theta\": {\"field\": \"proportion\", \"stack\": true, \"type\": \"quantitative\"}, \"tooltip\": [{\"field\": \"drift_rating\", \"type\": \"nominal\"}, {\"field\": \"proportion\", \"type\": \"quantitative\"}]}, \"title\": \"7916 annotated units (KS2.5)\"}, {\"mark\": {\"type\": \"text\", \"radius\": 160, \"size\": 16}, \"encoding\": {\"color\": {\"field\": \"drift_rating\", \"legend\": null, \"scale\": {\"scheme\": \"blues\", \"reverse\": true}, \"type\": \"nominal\"}, \"text\": {\"field\": \"drift_rating\", \"type\": \"nominal\"}, \"theta\": {\"field\": \"proportion\", \"stack\": true, \"type\": \"quantitative\"}, \"tooltip\": [{\"field\": \"drift_rating\", \"type\": \"nominal\"}, {\"field\": \"proportion\", \"type\": \"quantitative\"}]}, \"title\": \"7916 annotated units (KS2.5)\"}], \"data\": {\"name\": \"data-cf108a9db816478a58d88f27a2b4afa9\"}, \"$schema\": \"https://vega.github.io/schema/vega-lite/v5.20.1.json\", \"datasets\": {\"data-cf108a9db816478a58d88f27a2b4afa9\": [{\"drift_rating\": \"drift\", \"proportion\": 0.1547498736735725}, {\"drift_rating\": \"unsure\", \"proportion\": 0.3514401212733704}, {\"drift_rating\": \"no drift\", \"proportion\": 0.4938100050530571}]}}, {\"mode\": \"vega-lite\"});\n",
       "</script>"
      ],
      "text/plain": [
       "alt.LayerChart(...)"
      ]
     },
     "execution_count": 2,
     "metadata": {},
     "output_type": "execute_result"
    }
   ],
   "source": [
    "df = (\n",
    "    get_df()\n",
    "    .drop_nulls('drift_rating')\n",
    "    .with_columns(\n",
    "        drift_rating=pl.when(pl.col(\"drift_rating\") == db_utils.UnitDriftRating.YES)\n",
    "        .then(pl.lit('drift'))\n",
    "        .when(pl.col(\"drift_rating\") == db_utils.UnitDriftRating.NO)\n",
    "        .then(pl.lit('no drift'))\n",
    "        .when(pl.col(\"drift_rating\") == db_utils.UnitDriftRating.UNSURE)\n",
    "        .then(pl.lit('unsure'))\n",
    "    ) \n",
    "    .get_column('drift_rating')\n",
    "    .value_counts(normalize=True)\n",
    "    .sort('proportion')\n",
    ")\n",
    "\n",
    "display(df)\n",
    "base = (\n",
    "    alt.Chart(df)\n",
    "    .encode(\n",
    "        theta=alt.Theta(\"proportion:Q\").stack(True),\n",
    "        color=alt.Color(\"drift_rating\").scale(scheme=\"blues\", reverse=True).legend(None),\n",
    "        tooltip=[\"drift_rating\", \"proportion\"],\n",
    "    )\n",
    "    .properties(title=f\"{len(get_df().drop_nulls('drift_rating'))} annotated units (KS2.5)\")\n",
    ")\n",
    "base.mark_arc(outerRadius=120) + base.mark_text(radius=160, size=16).encode(text=\"drift_rating:N\")"
   ]
  },
  {
   "cell_type": "code",
   "execution_count": 101,
   "metadata": {},
   "outputs": [
    {
     "data": {
      "text/html": [
       "<div><style>\n",
       ".dataframe > thead > tr,\n",
       ".dataframe > tbody > tr {\n",
       "  text-align: right;\n",
       "  white-space: pre-wrap;\n",
       "}\n",
       "</style>\n",
       "<small>shape: (138, 2)</small><table border=\"1\" class=\"dataframe\"><thead><tr><th>session_id</th><th>lda_median</th></tr><tr><td>str</td><td>f64</td></tr></thead><tbody><tr><td>&quot;715710_2024-07-17&quot;</td><td>-0.204278</td></tr><tr><td>&quot;741148_2024-10-18&quot;</td><td>-0.220592</td></tr><tr><td>&quot;699847_2024-04-15&quot;</td><td>-0.244285</td></tr><tr><td>&quot;649943_2023-02-14&quot;</td><td>-0.29585</td></tr><tr><td>&quot;741148_2024-10-16&quot;</td><td>-0.31744</td></tr><tr><td>&hellip;</td><td>&hellip;</td></tr><tr><td>&quot;708016_2024-04-29&quot;</td><td>-0.533534</td></tr><tr><td>&quot;681532_2023-10-17&quot;</td><td>-0.53596</td></tr><tr><td>&quot;666986_2023-08-15&quot;</td><td>-0.536073</td></tr><tr><td>&quot;737403_2024-09-26&quot;</td><td>-0.53659</td></tr><tr><td>&quot;702136_2024-03-05&quot;</td><td>-0.54674</td></tr></tbody></table></div>"
      ],
      "text/plain": [
       "shape: (138, 2)\n",
       "┌───────────────────┬────────────┐\n",
       "│ session_id        ┆ lda_median │\n",
       "│ ---               ┆ ---        │\n",
       "│ str               ┆ f64        │\n",
       "╞═══════════════════╪════════════╡\n",
       "│ 715710_2024-07-17 ┆ -0.204278  │\n",
       "│ 741148_2024-10-18 ┆ -0.220592  │\n",
       "│ 699847_2024-04-15 ┆ -0.244285  │\n",
       "│ 649943_2023-02-14 ┆ -0.29585   │\n",
       "│ 741148_2024-10-16 ┆ -0.31744   │\n",
       "│ …                 ┆ …          │\n",
       "│ 708016_2024-04-29 ┆ -0.533534  │\n",
       "│ 681532_2023-10-17 ┆ -0.53596   │\n",
       "│ 666986_2023-08-15 ┆ -0.536073  │\n",
       "│ 737403_2024-09-26 ┆ -0.53659   │\n",
       "│ 702136_2024-03-05 ┆ -0.54674   │\n",
       "└───────────────────┴────────────┘"
      ]
     },
     "metadata": {},
     "output_type": "display_data"
    },
    {
     "data": {
      "text/html": [
       "<div><style>\n",
       ".dataframe > thead > tr,\n",
       ".dataframe > tbody > tr {\n",
       "  text-align: right;\n",
       "  white-space: pre-wrap;\n",
       "}\n",
       "</style>\n",
       "<small>shape: (8, 2)</small><table border=\"1\" class=\"dataframe\"><thead><tr><th>statistic</th><th>value</th></tr><tr><td>str</td><td>f64</td></tr></thead><tbody><tr><td>&quot;count&quot;</td><td>138.0</td></tr><tr><td>&quot;null_count&quot;</td><td>0.0</td></tr><tr><td>&quot;mean&quot;</td><td>-0.447178</td></tr><tr><td>&quot;std&quot;</td><td>0.069481</td></tr><tr><td>&quot;min&quot;</td><td>-0.54674</td></tr><tr><td>&quot;10%&quot;</td><td>-0.523033</td></tr><tr><td>&quot;90%&quot;</td><td>-0.352652</td></tr><tr><td>&quot;max&quot;</td><td>-0.204278</td></tr></tbody></table></div>"
      ],
      "text/plain": [
       "shape: (8, 2)\n",
       "┌────────────┬───────────┐\n",
       "│ statistic  ┆ value     │\n",
       "│ ---        ┆ ---       │\n",
       "│ str        ┆ f64       │\n",
       "╞════════════╪═══════════╡\n",
       "│ count      ┆ 138.0     │\n",
       "│ null_count ┆ 0.0       │\n",
       "│ mean       ┆ -0.447178 │\n",
       "│ std        ┆ 0.069481  │\n",
       "│ min        ┆ -0.54674  │\n",
       "│ 10%        ┆ -0.523033 │\n",
       "│ 90%        ┆ -0.352652 │\n",
       "│ max        ┆ -0.204278 │\n",
       "└────────────┴───────────┘"
      ]
     },
     "metadata": {},
     "output_type": "display_data"
    }
   ],
   "source": [
    "df = (\n",
    "    get_df()\n",
    "    .drop_nulls('drift_rating')\n",
    "    .join(lda_all_df, on='unit_id', how='left')\n",
    "    .group_by('session_id')\n",
    "    .agg(\n",
    "        pl.col('lda').median().alias('lda_median'),\n",
    "    )\n",
    "    .sort('lda_median', descending=True)\n",
    "    .drop_nulls('lda_median')\n",
    ")\n",
    "display(df)\n",
    "display(df['lda_median'].describe(percentiles=(0.1, 0.9)))"
   ]
  },
  {
   "cell_type": "markdown",
   "metadata": {},
   "source": [
    "---\n",
    "All units (KS2.5)"
   ]
  },
  {
   "cell_type": "code",
   "execution_count": 93,
   "metadata": {},
   "outputs": [
    {
     "data": {
      "text/html": [
       "<div><style>\n",
       ".dataframe > thead > tr,\n",
       ".dataframe > tbody > tr {\n",
       "  text-align: right;\n",
       "  white-space: pre-wrap;\n",
       "}\n",
       "</style>\n",
       "<small>shape: (138, 2)</small><table border=\"1\" class=\"dataframe\"><thead><tr><th>session_id</th><th>lda_median</th></tr><tr><td>str</td><td>f64</td></tr></thead><tbody><tr><td>&quot;715710_2024-07-17&quot;</td><td>-0.215176</td></tr><tr><td>&quot;741148_2024-10-18&quot;</td><td>-0.243859</td></tr><tr><td>&quot;699847_2024-04-15&quot;</td><td>-0.245339</td></tr><tr><td>&quot;649943_2023-02-14&quot;</td><td>-0.306642</td></tr><tr><td>&quot;741148_2024-10-16&quot;</td><td>-0.325689</td></tr><tr><td>&hellip;</td><td>&hellip;</td></tr><tr><td>&quot;708016_2024-04-29&quot;</td><td>-0.55204</td></tr><tr><td>&quot;737403_2024-09-26&quot;</td><td>-0.552929</td></tr><tr><td>&quot;681532_2023-10-17&quot;</td><td>-0.554601</td></tr><tr><td>&quot;666986_2023-08-15&quot;</td><td>-0.554789</td></tr><tr><td>&quot;702136_2024-03-05&quot;</td><td>-0.566598</td></tr></tbody></table></div>"
      ],
      "text/plain": [
       "shape: (138, 2)\n",
       "┌───────────────────┬────────────┐\n",
       "│ session_id        ┆ lda_median │\n",
       "│ ---               ┆ ---        │\n",
       "│ str               ┆ f64        │\n",
       "╞═══════════════════╪════════════╡\n",
       "│ 715710_2024-07-17 ┆ -0.215176  │\n",
       "│ 741148_2024-10-18 ┆ -0.243859  │\n",
       "│ 699847_2024-04-15 ┆ -0.245339  │\n",
       "│ 649943_2023-02-14 ┆ -0.306642  │\n",
       "│ 741148_2024-10-16 ┆ -0.325689  │\n",
       "│ …                 ┆ …          │\n",
       "│ 708016_2024-04-29 ┆ -0.55204   │\n",
       "│ 737403_2024-09-26 ┆ -0.552929  │\n",
       "│ 681532_2023-10-17 ┆ -0.554601  │\n",
       "│ 666986_2023-08-15 ┆ -0.554789  │\n",
       "│ 702136_2024-03-05 ┆ -0.566598  │\n",
       "└───────────────────┴────────────┘"
      ]
     },
     "metadata": {},
     "output_type": "display_data"
    },
    {
     "data": {
      "text/html": [
       "<div><style>\n",
       ".dataframe > thead > tr,\n",
       ".dataframe > tbody > tr {\n",
       "  text-align: right;\n",
       "  white-space: pre-wrap;\n",
       "}\n",
       "</style>\n",
       "<small>shape: (8, 2)</small><table border=\"1\" class=\"dataframe\"><thead><tr><th>statistic</th><th>value</th></tr><tr><td>str</td><td>f64</td></tr></thead><tbody><tr><td>&quot;count&quot;</td><td>138.0</td></tr><tr><td>&quot;null_count&quot;</td><td>0.0</td></tr><tr><td>&quot;mean&quot;</td><td>-0.465545</td></tr><tr><td>&quot;std&quot;</td><td>0.071457</td></tr><tr><td>&quot;min&quot;</td><td>-0.566598</td></tr><tr><td>&quot;10%&quot;</td><td>-0.539867</td></tr><tr><td>&quot;90%&quot;</td><td>-0.367935</td></tr><tr><td>&quot;max&quot;</td><td>-0.215176</td></tr></tbody></table></div>"
      ],
      "text/plain": [
       "shape: (8, 2)\n",
       "┌────────────┬───────────┐\n",
       "│ statistic  ┆ value     │\n",
       "│ ---        ┆ ---       │\n",
       "│ str        ┆ f64       │\n",
       "╞════════════╪═══════════╡\n",
       "│ count      ┆ 138.0     │\n",
       "│ null_count ┆ 0.0       │\n",
       "│ mean       ┆ -0.465545 │\n",
       "│ std        ┆ 0.071457  │\n",
       "│ min        ┆ -0.566598 │\n",
       "│ 10%        ┆ -0.539867 │\n",
       "│ 90%        ┆ -0.367935 │\n",
       "│ max        ┆ -0.215176 │\n",
       "└────────────┴───────────┘"
      ]
     },
     "metadata": {},
     "output_type": "display_data"
    }
   ],
   "source": [
    "df = (\n",
    "    lda_all_df\n",
    "    .drop_nulls('drift_rating')\n",
    "    .with_columns(\n",
    "            session_id=pl.col('unit_id').str.split('_').list.slice(0, 2).list.join('_'),\n",
    "    )\n",
    "    .group_by('session_id')\n",
    "    .agg(\n",
    "        pl.col('lda').median().alias('lda_median'),\n",
    "    )\n",
    "    .sort('lda_median', descending=True)\n",
    ")\n",
    "display(df)\n",
    "display(df['lda_median'].describe(percentiles=(0.1, 0.9)))"
   ]
  },
  {
   "cell_type": "markdown",
   "metadata": {},
   "source": [
    "---\n",
    "LDA in annotated vs whole population"
   ]
  },
  {
   "cell_type": "code",
   "execution_count": 2,
   "metadata": {},
   "outputs": [
    {
     "data": {
      "image/png": "[encoded data removed]",
      "text/plain": [
       "<Figure size 640x480 with 1 Axes>"
      ]
     },
     "metadata": {},
     "output_type": "display_data"
    }
   ],
   "source": [
    "import seaborn as sns\n",
    "\n",
    "df = (\n",
    "    get_df()\n",
    "    .drop_nulls('drift_rating')\n",
    "    .join(lda_all_df.select('unit_id', 'lda'), on='unit_id', how='left')\n",
    "    .select('lda')\n",
    "    .with_columns(units=pl.lit('annotated'))\n",
    "    .merge_sorted(\n",
    "        other=(\n",
    "            lda_all_df\n",
    "            .select('lda')\n",
    "            .with_columns(units=pl.lit('all'))\n",
    "        ),\n",
    "        key='lda',\n",
    "    )\n",
    "    .fill_nan(None)\n",
    "    .drop_nulls()\n",
    ")\n",
    "\n",
    "sns.histplot(df.to_pandas(), x='lda', hue='units', cumulative=True, stat='density', common_norm=False, element='step', fill=False);"
   ]
  },
  {
   "cell_type": "code",
   "execution_count": null,
   "metadata": {},
   "outputs": [
    {
     "data": {
      "text/html": [
       "\n",
       "<style>\n",
       "  #altair-viz-e5a21a903b2e4b0d9f3954d295edc43d.vega-embed {\n",
       "    width: 100%;\n",
       "    display: flex;\n",
       "  }\n",
       "\n",
       "  #altair-viz-e5a21a903b2e4b0d9f3954d295edc43d.vega-embed details,\n",
       "  #altair-viz-e5a21a903b2e4b0d9f3954d295edc43d.vega-embed details summary {\n",
       "    position: relative;\n",
       "  }\n",
       "</style>\n",
       "<div id=\"altair-viz-e5a21a903b2e4b0d9f3954d295edc43d\"></div>\n",
       "<script type=\"text/javascript\">\n",
       "  var VEGA_DEBUG = (typeof VEGA_DEBUG == \"undefined\") ? {} : VEGA_DEBUG;\n",
       "  (function(spec, embedOpt){\n",
       "    let outputDiv = document.currentScript.previousElementSibling;\n",
       "    if (outputDiv.id !== \"altair-viz-e5a21a903b2e4b0d9f3954d295edc43d\") {\n",
       "      outputDiv = document.getElementById(\"altair-viz-e5a21a903b2e4b0d9f3954d295edc43d\");\n",
       "    }\n",
       "    const paths = {\n",
       "      \"vega\": \"https://cdn.jsdelivr.net/npm/vega@5?noext\",\n",
       "      \"vega-lib\": \"https://cdn.jsdelivr.net/npm/vega-lib?noext\",\n",
       "      \"vega-lite\": \"https://cdn.jsdelivr.net/npm/vega-lite@5.20.1?noext\",\n",
       "      \"vega-embed\": \"https://cdn.jsdelivr.net/npm/vega-embed@6?noext\",\n",
       "    };\n",
       "\n",
       "    function maybeLoadScript(lib, version) {\n",
       "      var key = `${lib.replace(\"-\", \"\")}_version`;\n",
       "      return (VEGA_DEBUG[key] == version) ?\n",
       "        Promise.resolve(paths[lib]) :\n",
       "        new Promise(function(resolve, reject) {\n",
       "          var s = document.createElement('script');\n",
       "          document.getElementsByTagName(\"head\")[0].appendChild(s);\n",
       "          s.async = true;\n",
       "          s.onload = () => {\n",
       "            VEGA_DEBUG[key] = version;\n",
       "            return resolve(paths[lib]);\n",
       "          };\n",
       "          s.onerror = () => reject(`Error loading script: ${paths[lib]}`);\n",
       "          s.src = paths[lib];\n",
       "        });\n",
       "    }\n",
       "\n",
       "    function showError(err) {\n",
       "      outputDiv.innerHTML = `<div class=\"error\" style=\"color:red;\">${err}</div>`;\n",
       "      throw err;\n",
       "    }\n",
       "\n",
       "    function displayChart(vegaEmbed) {\n",
       "      vegaEmbed(outputDiv, spec, embedOpt)\n",
       "        .catch(err => showError(`Javascript Error: ${err.message}<br>This usually means there's a typo in your chart specification. See the javascript console for the full traceback.`));\n",
       "    }\n",
       "\n",
       "    if(typeof define === \"function\" && define.amd) {\n",
       "      requirejs.config({paths});\n",
       "      require([\"vega-embed\"], displayChart, err => showError(`Error loading script: ${err.message}`));\n",
       "    } else {\n",
       "      maybeLoadScript(\"vega\", \"5\")\n",
       "        .then(() => maybeLoadScript(\"vega-lite\", \"5.20.1\"))\n",
       "        .then(() => maybeLoadScript(\"vega-embed\", \"6\"))\n",
       "        .catch(showError)\n",
       "        .then(() => displayChart(vegaEmbed));\n",
       "    }\n",
       "  })({\"config\": {\"view\": {\"continuousWidth\": 300, \"continuousHeight\": 300}}, \"data\": {\"name\": \"data-ce99cc204f6bcff3b69e88386b01fa66\"}, \"mark\": {\"type\": \"bar\"}, \"encoding\": {\"color\": {\"field\": \"above_threshold\", \"type\": \"quantitative\"}, \"order\": {\"field\": \"session_id\", \"type\": \"nominal\"}, \"tooltip\": [{\"field\": \"units_group\", \"type\": \"nominal\"}, {\"field\": \"session_id\", \"type\": \"nominal\"}, {\"field\": \"n_units_with_lda_score\", \"type\": \"quantitative\"}, {\"field\": \"above_threshold\", \"type\": \"quantitative\"}], \"x\": {\"field\": \"subject_id\", \"sort\": \"x\", \"type\": \"nominal\"}, \"xOffset\": {\"field\": \"units_group\", \"sort\": [\"annotated_ks2.5\", \"predicted_ks2.5\", \"predicted_ks4\"], \"type\": \"nominal\"}, \"y\": {\"field\": \"above_threshold\", \"type\": \"quantitative\"}}, \"height\": 300, \"params\": [{\"name\": \"param_11\", \"select\": {\"type\": \"interval\", \"encodings\": [\"x\", \"y\"]}, \"bind\": \"scales\"}], \"title\": [\"Fraction of units above lda_threshold=-0.45 (FPR=0.2) (some sessions missing LDA metric for units)\", \"\", \"annotated_ks2.5 units    |    predicted_ks2.5 (all units)    |    predicted_ks4 (all units)\"], \"width\": 300, \"$schema\": \"https://vega.github.io/schema/vega-lite/v5.20.1.json\", \"datasets\": {\"data-ce99cc204f6bcff3b69e88386b01fa66\": [{\"session_id\": \"742903_2024-10-22\", \"subject_id\": \"742903\", \"above_threshold\": 0.3541666666666667, \"n_units_with_lda_score\": 3360, \"subject_total_above_threshold\": 1.9220956054230949, \"units_group\": \"annotated_ks2.5\"}, {\"session_id\": \"742903_2024-10-21\", \"subject_id\": \"742903\", \"above_threshold\": 0.41739130434782606, \"n_units_with_lda_score\": 115, \"subject_total_above_threshold\": 1.9220956054230949, \"units_group\": \"annotated_ks2.5\"}, {\"session_id\": \"715710_2024-07-17\", \"subject_id\": \"715710\", \"above_threshold\": 0.7777777777777778, \"n_units_with_lda_score\": 27, \"subject_total_above_threshold\": 2.3845238095238095, \"units_group\": \"annotated_ks2.5\"}, {\"session_id\": \"742903_2024-10-21\", \"subject_id\": \"742903\", \"above_threshold\": 0.4753787878787879, \"n_units_with_lda_score\": 1584, \"subject_total_above_threshold\": 2.2170048767616013, \"units_group\": \"predicted_ks2.5\"}, {\"session_id\": \"742903_2024-10-22\", \"subject_id\": \"742903\", \"above_threshold\": 0.4896519285042333, \"n_units_with_lda_score\": 4252, \"subject_total_above_threshold\": 2.2170048767616013, \"units_group\": \"predicted_ks2.5\"}, {\"session_id\": \"715710_2024-07-17\", \"subject_id\": \"715710\", \"above_threshold\": 0.6040955631399317, \"n_units_with_lda_score\": 1172, \"subject_total_above_threshold\": 2.5328254151951697, \"units_group\": \"predicted_ks2.5\"}, {\"session_id\": \"742903_2024-10-21\", \"subject_id\": \"742903\", \"above_threshold\": 0.3194312796208531, \"n_units_with_lda_score\": 2110, \"subject_total_above_threshold\": 0.6472062920648551, \"units_group\": \"predicted_ks4\"}, {\"session_id\": \"715710_2024-07-17\", \"subject_id\": \"715710\", \"above_threshold\": 0.404121110176619, \"n_units_with_lda_score\": 2378, \"subject_total_above_threshold\": 0.404121110176619, \"units_group\": \"predicted_ks4\"}, {\"session_id\": \"742903_2024-10-22\", \"subject_id\": \"742903\", \"above_threshold\": 0.327775012444002, \"n_units_with_lda_score\": 4018, \"subject_total_above_threshold\": 0.6472062920648551, \"units_group\": \"predicted_ks4\"}]}}, {\"mode\": \"vega-lite\"});\n",
       "</script>"
      ],
      "text/plain": [
       "alt.Chart(...)"
      ]
     },
     "execution_count": 10,
     "metadata": {},
     "output_type": "execute_result"
    }
   ],
   "source": [
    "def fpr_to_lda_threshold(fpr_threshold: float) -> float:\n",
    "    return (\n",
    "        get_roc_curve_df(metric='lda')\n",
    "        .select(\n",
    "            pl.col('value').sort_by((pl.col('fpr') - fpr_threshold).abs())\n",
    "        )\n",
    "        .get_column('value')\n",
    "        .first()\n",
    "    )\n",
    "    \n",
    "def get_above_lda_threshold_df(df: pl.DataFrame, lda_threshold: float, drop_empty: bool = True) -> pl.DataFrame:\n",
    "    return (\n",
    "        df\n",
    "        .with_columns(\n",
    "            session_id=pl.col('unit_id').str.split('_').list.slice(0, 2).list.join('_'),\n",
    "            subject_id=pl.col('unit_id').str.split('_').list.get(0),\n",
    "        )\n",
    "        .group_by('session_id')\n",
    "        .agg(\n",
    "            pl.col('subject_id').first(),\n",
    "            above_threshold=pl.col('lda').ge(lda_threshold).sum().truediv(pl.col('lda').count()),\n",
    "            n_units_with_lda_score=pl.col('lda').count(),\n",
    "        )\n",
    "        .filter(\n",
    "            (pl.col('n_units_with_lda_score') > 0) if drop_empty else pl.lit(True)\n",
    "        )\n",
    "        .with_columns(\n",
    "            subject_total_above_threshold=pl.col('above_threshold').sum().over('subject_id'),\n",
    "        )\n",
    "    )\n",
    "    \n",
    "def get_sessions_above_threshold_chart(df: pl.DataFrame, fpr_threshold: float) -> alt.Chart:\n",
    "    lda_threshold = fpr_to_lda_threshold(fpr_threshold)\n",
    "    return (\n",
    "        alt.Chart(df.pipe(get_above_lda_threshold_df, lda_threshold=lda_threshold)).mark_bar().encode(\n",
    "            color=alt.Color('above_threshold:Q'),#.scale(domain=[0, 1]),\n",
    "            x=alt.X('subject_id:N', sort='x'),\n",
    "            y=alt.Y('above_threshold:Q'),\n",
    "            tooltip=['session_id', 'above_threshold'],\n",
    "        ).properties(\n",
    "            title=[f'Fraction of units above {lda_threshold=:.2f} (FPR={fpr_threshold})', '(some sessions missing LDA metric for all units)'],\n",
    "            width=1600,\n",
    "            height=200,\n",
    "        )\n",
    "        .interactive()\n",
    "    )\n",
    "    \n",
    "def get_combined_above_threshold_chart(fpr_threshold: float, with_ks4_only: bool = False) -> alt.Chart:\n",
    "    lda_threshold = fpr_to_lda_threshold(fpr_threshold)\n",
    "    source = pl.concat(\n",
    "        [\n",
    "            # annotated ks2.5 units -------------------------------------------- #\n",
    "            get_df()\n",
    "            .drop_nulls('drift_rating')\n",
    "            .join(lda_all_df, on='unit_id', how='left')\n",
    "            .pipe(get_above_lda_threshold_df, lda_threshold=lda_threshold)\n",
    "            .with_columns(\n",
    "                units_group=pl.lit('annotated_ks2.5'),\n",
    "            ),\n",
    "            # all ks2.5 units -------------------------------------------------- #\n",
    "            lda_all_df\n",
    "            .pipe(get_above_lda_threshold_df, lda_threshold=lda_threshold)\n",
    "            .with_columns(\n",
    "                units_group=pl.lit('predicted_ks2.5'),\n",
    "            ),\n",
    "            # all ks4 units ---------------------------------------------------- #\n",
    "            lda_all_ks4_df\n",
    "            .pipe(get_above_lda_threshold_df, lda_threshold=lda_threshold)\n",
    "            .with_columns(\n",
    "                units_group=pl.lit('predicted_ks4'),\n",
    "            ),\n",
    "        ]\n",
    "    )\n",
    "    if with_ks4_only:\n",
    "        source = source.filter(pl.col('session_id').is_in(pl.col('session_id').filter(pl.col('units_group') == 'predicted_ks4')))\n",
    "        \n",
    "    order = ['annotated_ks2.5', 'predicted_ks2.5', 'predicted_ks4']\n",
    "    assert all(name in source['units_group'].unique() for name in order)\n",
    "    return (\n",
    "        alt.Chart(source).mark_bar().encode(\n",
    "            color=alt.Color('above_threshold:Q'),#.scale(domain=[0, 1]),\n",
    "            x=alt.X('subject_id:N', sort='x'),\n",
    "            y=alt.Y('above_threshold:Q'),\n",
    "            order=alt.Order('session_id:N'),\n",
    "            xOffset=alt.XOffset('units_group:N', sort=order),\n",
    "            tooltip=['units_group', 'session_id', 'n_units_with_lda_score', 'above_threshold'],\n",
    "        ).properties(\n",
    "            title=[f'Fraction of units above {lda_threshold=:.2f} (FPR={fpr_threshold}) (some sessions missing LDA metric for units)', '', '{} units    |    {} (all units)    |    {} (all units)'.format(*order)],\n",
    "            width=1800 if not with_ks4_only else 300,\n",
    "            height=300,\n",
    "        )\n",
    "        .interactive()\n",
    "    )\n",
    "\n",
    "fpr_threshold = 0.2\n",
    "get_combined_above_threshold_chart(\n",
    "    fpr_threshold=fpr_threshold,\n",
    "    with_ks4_only=True,\n",
    ")"
   ]
  },
  {
   "cell_type": "markdown",
   "metadata": {},
   "source": [
    "---\n",
    "LDA in KS2.5 vs KS4"
   ]
  },
  {
   "cell_type": "code",
   "execution_count": 10,
   "metadata": {},
   "outputs": [
    {
     "data": {
      "image/png": "[encoded data removed]",
      "text/plain": [
       "<Figure size 640x480 with 1 Axes>"
      ]
     },
     "metadata": {},
     "output_type": "display_data"
    }
   ],
   "source": [
    "import seaborn as sns\n",
    "\n",
    "df = (\n",
    "    lda_all_ks4_df\n",
    "    .select('lda')\n",
    "    .with_columns(sorter=pl.lit('ks4'))\n",
    "    .merge_sorted(\n",
    "        other=(\n",
    "            lda_all_df\n",
    "            .select('lda')\n",
    "            .with_columns(sorter=pl.lit('ks2.5'))\n",
    "        ),\n",
    "        key='lda',\n",
    "    )\n",
    "    .fill_nan(None)\n",
    "    .drop_nulls()\n",
    "    .sort('lda')\n",
    "    .with_columns(\n",
    "        cdf=(pl.col('lda').cum_count() / pl.col('lda').count()).over('sorter'),\n",
    "    )\n",
    ")\n",
    "sns.histplot(df.to_pandas(), x='lda', hue='sorter', cumulative=True, stat='density', common_norm=False, element='step', fill=False);"
   ]
  },
  {
   "cell_type": "code",
   "execution_count": 27,
   "metadata": {},
   "outputs": [
    {
     "data": {
      "image/png": "[encoded data removed]",
      "text/plain": [
       "<Figure size 640x480 with 1 Axes>"
      ]
     },
     "metadata": {},
     "output_type": "display_data"
    }
   ],
   "source": [
    "import seaborn as sns\n",
    "\n",
    "metric = 'presence_ratio'\n",
    "df = (\n",
    "    pl.scan_parquet(\"s3://aind-scratch-data/dynamic-routing/unit-rasters-ks4/units.parquet\")\n",
    "    .select('unit_id', metric) \n",
    "    .with_columns(sorter=pl.lit('ks4'))\n",
    "    .merge_sorted(\n",
    "        other=(\n",
    "            pl.scan_parquet(\"s3://aind-scratch-data/dynamic-routing/cache/nwb_components/v0.0.261/consolidated/units.parquet\")\n",
    "            .select('unit_id', metric)\n",
    "            # .drop_nans(metric)\n",
    "            .with_columns(sorter=pl.lit('ks2.5'))\n",
    "        ),\n",
    "        key=metric,\n",
    "    )\n",
    "    .collect()\n",
    ")\n",
    "sns.histplot(df.to_pandas(), x=metric, hue='sorter', cumulative=True, stat='density', common_norm=False, element='step', fill=False);"
   ]
  },
  {
   "cell_type": "code",
   "execution_count": 23,
   "metadata": {},
   "outputs": [
    {
     "data": {
      "image/png": "[encoded data removed]",
      "text/plain": [
       "<Figure size 640x480 with 1 Axes>"
      ]
     },
     "metadata": {},
     "output_type": "display_data"
    }
   ],
   "source": [
    "import seaborn as sns\n",
    "\n",
    "metric = 'num_spikes'\n",
    "df = (\n",
    "    pl.scan_parquet(\"s3://aind-scratch-data/dynamic-routing/unit-rasters-ks4/units.parquet\")\n",
    "    .select('unit_id', metric) \n",
    "    .with_columns(sorter=pl.lit('ks4'))\n",
    "    .merge_sorted(\n",
    "        other=(\n",
    "            pl.scan_parquet(\"s3://aind-scratch-data/dynamic-routing/cache/nwb_components/v0.0.261/consolidated/units.parquet\")\n",
    "            .select('unit_id', metric)\n",
    "            .drop_nans(metric)\n",
    "            .cast({metric: pl.Int64})\n",
    "            .with_columns(sorter=pl.lit('ks2.5'))\n",
    "        ),\n",
    "        key=metric,\n",
    "    )\n",
    "    .collect()\n",
    ")\n",
    "sns.histplot(df.to_pandas(), x=metric, hue='sorter', cumulative=True, stat='density', common_norm=False, element='step', fill=False);"
   ]
  },
  {
   "cell_type": "code",
   "execution_count": 16,
   "metadata": {},
   "outputs": [
    {
     "name": "stderr",
     "output_type": "stream",
     "text": [
      "C:\\Users\\ben.hardcastle\\AppData\\Local\\Temp\\ipykernel_20792\\832720853.py:1: PerformanceWarning: Resolving the schema of a LazyFrame is a potentially expensive operation. Use `LazyFrame.collect_schema()` to get the schema without this warning.\n",
      "  pl.scan_parquet(\"s3://aind-scratch-data/dynamic-routing/unit-rasters-ks4/units.parquet\").schema\n"
     ]
    },
    {
     "data": {
      "text/plain": [
       "Schema([('sync_spike_2', Float64),\n",
       "        ('sync_spike_8', Float64),\n",
       "        ('amplitude_cv_median', Float64),\n",
       "        ('isolation_distance', Float64),\n",
       "        ('rp_violations', Int64),\n",
       "        ('rp_contamination', Float64),\n",
       "        ('nn_miss_rate', Float64),\n",
       "        ('sliding_rp_violation', Float64),\n",
       "        ('presence_ratio', Float64),\n",
       "        ('snr', Float64),\n",
       "        ('peak_trough_ratio', Float64),\n",
       "        ('shank', String),\n",
       "        ('isi_violations_count', Int64),\n",
       "        ('peak_to_valley', Float64),\n",
       "        ('depth', Float64),\n",
       "        ('firing_rate', Float64),\n",
       "        ('firing_range', Float64),\n",
       "        ('amplitude_cv_range', Float64),\n",
       "        ('amplitude', Float64),\n",
       "        ('velocity_below', Float64),\n",
       "        ('repolarization_slope', Float64),\n",
       "        ('estimated_y', Float64),\n",
       "        ('original_cluster_id', Int64),\n",
       "        ('d_prime', Float64),\n",
       "        ('velocity_above', Float64),\n",
       "        ('decoder_label', String),\n",
       "        ('ks_unit_id', Int64),\n",
       "        ('spread', Int64),\n",
       "        ('isi_violations_ratio', Float64),\n",
       "        ('decoder_probability', Float64),\n",
       "        ('estimated_z', Float64),\n",
       "        ('amplitude_cutoff', Float64),\n",
       "        ('num_positive_peaks', Int64),\n",
       "        ('device_name', String),\n",
       "        ('amplitude_median', Float64),\n",
       "        ('half_width', Float64),\n",
       "        ('sync_spike_4', Float64),\n",
       "        ('exp_decay', Float64),\n",
       "        ('num_negative_peaks', Int64),\n",
       "        ('default_qc', Boolean),\n",
       "        ('l_ratio', Float64),\n",
       "        ('num_spikes', Int64),\n",
       "        ('drift_mad', Float64),\n",
       "        ('estimated_x', Float64),\n",
       "        ('silhouette', Float64),\n",
       "        ('unit_name', String),\n",
       "        ('drift_ptp', Float64),\n",
       "        ('nn_hit_rate', Float64),\n",
       "        ('drift_std', Float64),\n",
       "        ('recovery_slope', Float64),\n",
       "        ('id', Int64),\n",
       "        ('_nwb_path', String),\n",
       "        ('_table_path', String),\n",
       "        ('_table_index', Int64),\n",
       "        ('session_id', String),\n",
       "        ('unit_id', String)])"
      ]
     },
     "execution_count": 16,
     "metadata": {},
     "output_type": "execute_result"
    }
   ],
   "source": [
    "pl.scan_parquet(\"s3://aind-scratch-data/dynamic-routing/unit-rasters-ks4/units.parquet\").schema"
   ]
  },
  {
   "cell_type": "code",
   "execution_count": null,
   "metadata": {},
   "outputs": [],
   "source": []
  }
 ],
 "metadata": {
  "kernelspec": {
   "display_name": ".venv",
   "language": "python",
   "name": "python3"
  },
  "language_info": {
   "codemirror_mode": {
    "name": "ipython",
    "version": 3
   },
   "file_extension": ".py",
   "mimetype": "text/x-python",
   "name": "python",
   "nbconvert_exporter": "python",
   "pygments_lexer": "ipython3",
   "version": "3.11.5"
  }
 },
 "nbformat": 4,
 "nbformat_minor": 2
}
