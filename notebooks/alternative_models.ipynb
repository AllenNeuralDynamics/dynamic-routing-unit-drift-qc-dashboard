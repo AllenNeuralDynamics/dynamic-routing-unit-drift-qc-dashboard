{
 "cells": [
  {
   "cell_type": "code",
   "execution_count": 1,
   "metadata": {},
   "outputs": [],
   "source": [
    "import pathlib\n",
    "import sys\n",
    "sys.path.append(str(pathlib.Path.cwd().absolute().parent))\n",
    "\n",
    "import polars as pl\n",
    "import altair as alt\n",
    "\n",
    "from app_charts import lda_all_df, get_roc_curve_df, lda_all_ks4_df\n",
    "import db_utils\n",
    "from db_utils import get_df, KS4_UNITS_DF_PATH\n",
    "\n",
    "from scripts.run_unit_drift_lda import load_annotation_and_metrics_df, get_x, get_x_y, z_score, get_annotations_df"
   ]
  },
  {
   "cell_type": "code",
   "execution_count": null,
   "metadata": {},
   "outputs": [
    {
     "name": "stderr",
     "output_type": "stream",
     "text": [
      "INFO:run_unit_drift_lda:Loading data from parquet files\n",
      "INFO:botocore.credentials:Found credentials in environment variables.\n",
      "INFO:botocore.credentials:Found credentials in environment variables.\n",
      "INFO:run_unit_drift_lda:Loaded data from parquet files in 0.68 seconds\n"
     ]
    },
    {
     "name": "stdout",
     "output_type": "stream",
     "text": [
      "shape: (9, 9)\n",
      "┌───────────┬───────────┬───────────┬───────────┬───┬───────────┬───────────┬───────────┬──────────┐\n",
      "│ statistic ┆ unit_id   ┆ drift_rat ┆ session_i ┆ … ┆ aud_basel ┆ vis_respo ┆ aud_respo ┆ presence │\n",
      "│ ---       ┆ ---       ┆ ing       ┆ d         ┆   ┆ ine_r2    ┆ nse_r2    ┆ nse_r2    ┆ _ratio   │\n",
      "│ str       ┆ str       ┆ ---       ┆ ---       ┆   ┆ ---       ┆ ---       ┆ ---       ┆ ---      │\n",
      "│           ┆           ┆ f64       ┆ str       ┆   ┆ f64       ┆ f64       ┆ f64       ┆ f64      │\n",
      "╞═══════════╪═══════════╪═══════════╪═══════════╪═══╪═══════════╪═══════════╪═══════════╪══════════╡\n",
      "│ count     ┆ 411218    ┆ 7905.0    ┆ 411218    ┆ … ┆ 397359.0  ┆ 368483.0  ┆ 397359.0  ┆ 411218.0 │\n",
      "│ null_coun ┆ 0         ┆ 403313.0  ┆ 0         ┆ … ┆ 13859.0   ┆ 42735.0   ┆ 13859.0   ┆ 0.0      │\n",
      "│ t         ┆           ┆           ┆           ┆   ┆           ┆           ┆           ┆          │\n",
      "│ mean      ┆ null      ┆ 1.914611  ┆ null      ┆ … ┆ NaN       ┆ NaN       ┆ NaN       ┆ 0.839308 │\n",
      "│ std       ┆ null      ┆ 2.299593  ┆ null      ┆ … ┆ NaN       ┆ NaN       ┆ NaN       ┆ 0.241103 │\n",
      "│ min       ┆ 620263_20 ┆ 0.0       ┆ 620263_20 ┆ … ┆ 1.4274e-1 ┆ 3.1414e-1 ┆ 1.7442e-1 ┆ 0.007937 │\n",
      "│           ┆ 22-07-26_ ┆           ┆ 22-07-26  ┆   ┆ 2         ┆ 2         ┆ 4         ┆          │\n",
      "│           ┆ B-0       ┆           ┆           ┆   ┆           ┆           ┆           ┆          │\n",
      "│ 25%       ┆ null      ┆ 0.0       ┆ null      ┆ … ┆ 0.004409  ┆ 0.005256  ┆ 0.005595  ┆ 0.732759 │\n",
      "│ 50%       ┆ null      ┆ 1.0       ┆ null      ┆ … ┆ 0.022244  ┆ 0.027866  ┆ 0.029673  ┆ 0.991525 │\n",
      "│ 75%       ┆ null      ┆ 5.0       ┆ null      ┆ … ┆ 0.104254  ┆ 0.120591  ┆ 0.127125  ┆ 1.0      │\n",
      "│ max       ┆ 742903_20 ┆ 5.0       ┆ 742903_20 ┆ … ┆ 1.0       ┆ 1.0       ┆ 1.0       ┆ 1.0      │\n",
      "│           ┆ 24-10-24_ ┆           ┆ 24-10-24  ┆   ┆           ┆           ┆           ┆          │\n",
      "│           ┆ F-99      ┆           ┆           ┆   ┆           ┆           ┆           ┆          │\n",
      "└───────────┴───────────┴───────────┴───────────┴───┴───────────┴───────────┴───────────┴──────────┘\n"
     ]
    },
    {
     "name": "stderr",
     "output_type": "stream",
     "text": [
      "Predicting RandomForestClassifier: 100%|████████████████████| 4719/4719 [00:44<00:00, 104.99units/s]\n"
     ]
    },
    {
     "data": {
      "text/html": [
       "<div><style>\n",
       ".dataframe > thead > tr,\n",
       ".dataframe > tbody > tr {\n",
       "  text-align: right;\n",
       "  white-space: pre-wrap;\n",
       "}\n",
       "</style>\n",
       "<small>shape: (1, 4)</small><table border=\"1\" class=\"dataframe\"><thead><tr><th>tpr</th><th>fpr</th><th>tnr</th><th>fnr</th></tr><tr><td>f64</td><td>f64</td><td>f64</td><td>f64</td></tr></thead><tbody><tr><td>1.0</td><td>0.0</td><td>1.0</td><td>0.0</td></tr></tbody></table></div>"
      ],
      "text/plain": [
       "shape: (1, 4)\n",
       "┌─────┬─────┬─────┬─────┐\n",
       "│ tpr ┆ fpr ┆ tnr ┆ fnr │\n",
       "│ --- ┆ --- ┆ --- ┆ --- │\n",
       "│ f64 ┆ f64 ┆ f64 ┆ f64 │\n",
       "╞═════╪═════╪═════╪═════╡\n",
       "│ 1.0 ┆ 0.0 ┆ 1.0 ┆ 0.0 │\n",
       "└─────┴─────┴─────┴─────┘"
      ]
     },
     "metadata": {},
     "output_type": "display_data"
    },
    {
     "name": "stderr",
     "output_type": "stream",
     "text": [
      "Predicting GradientBoostingClassifier: 100%|████████████████| 4719/4719 [00:06<00:00, 786.24units/s]\n"
     ]
    },
    {
     "data": {
      "text/html": [
       "<div><style>\n",
       ".dataframe > thead > tr,\n",
       ".dataframe > tbody > tr {\n",
       "  text-align: right;\n",
       "  white-space: pre-wrap;\n",
       "}\n",
       "</style>\n",
       "<small>shape: (1, 4)</small><table border=\"1\" class=\"dataframe\"><thead><tr><th>tpr</th><th>fpr</th><th>tnr</th><th>fnr</th></tr><tr><td>f64</td><td>f64</td><td>f64</td><td>f64</td></tr></thead><tbody><tr><td>0.75808</td><td>0.038399</td><td>0.961601</td><td>0.24192</td></tr></tbody></table></div>"
      ],
      "text/plain": [
       "shape: (1, 4)\n",
       "┌─────────┬──────────┬──────────┬─────────┐\n",
       "│ tpr     ┆ fpr      ┆ tnr      ┆ fnr     │\n",
       "│ ---     ┆ ---      ┆ ---      ┆ ---     │\n",
       "│ f64     ┆ f64      ┆ f64      ┆ f64     │\n",
       "╞═════════╪══════════╪══════════╪═════════╡\n",
       "│ 0.75808 ┆ 0.038399 ┆ 0.961601 ┆ 0.24192 │\n",
       "└─────────┴──────────┴──────────┴─────────┘"
      ]
     },
     "metadata": {},
     "output_type": "display_data"
    },
    {
     "name": "stderr",
     "output_type": "stream",
     "text": [
      "Predicting QuadraticDiscriminantAnalysis: 100%|████████████| 4719/4719 [00:04<00:00, 1155.77units/s]\n"
     ]
    },
    {
     "data": {
      "text/html": [
       "<div><style>\n",
       ".dataframe > thead > tr,\n",
       ".dataframe > tbody > tr {\n",
       "  text-align: right;\n",
       "  white-space: pre-wrap;\n",
       "}\n",
       "</style>\n",
       "<small>shape: (1, 4)</small><table border=\"1\" class=\"dataframe\"><thead><tr><th>tpr</th><th>fpr</th><th>tnr</th><th>fnr</th></tr><tr><td>f64</td><td>f64</td><td>f64</td><td>f64</td></tr></thead><tbody><tr><td>0.718903</td><td>0.072742</td><td>0.927258</td><td>0.281097</td></tr></tbody></table></div>"
      ],
      "text/plain": [
       "shape: (1, 4)\n",
       "┌──────────┬──────────┬──────────┬──────────┐\n",
       "│ tpr      ┆ fpr      ┆ tnr      ┆ fnr      │\n",
       "│ ---      ┆ ---      ┆ ---      ┆ ---      │\n",
       "│ f64      ┆ f64      ┆ f64      ┆ f64      │\n",
       "╞══════════╪══════════╪══════════╪══════════╡\n",
       "│ 0.718903 ┆ 0.072742 ┆ 0.927258 ┆ 0.281097 │\n",
       "└──────────┴──────────┴──────────┴──────────┘"
      ]
     },
     "metadata": {},
     "output_type": "display_data"
    },
    {
     "name": "stderr",
     "output_type": "stream",
     "text": [
      "Predicting LinearDiscriminantAnalysis: 100%|███████████████| 4719/4719 [00:04<00:00, 1161.46units/s]\n"
     ]
    },
    {
     "data": {
      "text/html": [
       "<div><style>\n",
       ".dataframe > thead > tr,\n",
       ".dataframe > tbody > tr {\n",
       "  text-align: right;\n",
       "  white-space: pre-wrap;\n",
       "}\n",
       "</style>\n",
       "<small>shape: (1, 4)</small><table border=\"1\" class=\"dataframe\"><thead><tr><th>tpr</th><th>fpr</th><th>tnr</th><th>fnr</th></tr><tr><td>f64</td><td>f64</td><td>f64</td><td>f64</td></tr></thead><tbody><tr><td>0.622919</td><td>0.034884</td><td>0.965116</td><td>0.377081</td></tr></tbody></table></div>"
      ],
      "text/plain": [
       "shape: (1, 4)\n",
       "┌──────────┬──────────┬──────────┬──────────┐\n",
       "│ tpr      ┆ fpr      ┆ tnr      ┆ fnr      │\n",
       "│ ---      ┆ ---      ┆ ---      ┆ ---      │\n",
       "│ f64      ┆ f64      ┆ f64      ┆ f64      │\n",
       "╞══════════╪══════════╪══════════╪══════════╡\n",
       "│ 0.622919 ┆ 0.034884 ┆ 0.965116 ┆ 0.377081 │\n",
       "└──────────┴──────────┴──────────┴──────────┘"
      ]
     },
     "metadata": {},
     "output_type": "display_data"
    }
   ],
   "source": [
    "import pathlib\n",
    "import sys\n",
    "sys.path.append(str(pathlib.Path.cwd().absolute().parent))\n",
    "\n",
    "import polars as pl\n",
    "import altair as alt\n",
    "from sklearn.discriminant_analysis import QuadraticDiscriminantAnalysis, LinearDiscriminantAnalysis\n",
    "from sklearn.ensemble import RandomForestClassifier, GradientBoostingClassifier\n",
    "import tqdm\n",
    "\n",
    "from scripts.run_unit_drift_lda import load_annotation_and_metrics_df, get_x, get_x_y, z_score, get_annotations_df\n",
    "\n",
    "df = load_annotation_and_metrics_df()\n",
    "METRICS_TO_KEEP = {'presence_ratio', 'vis_response_r2', 'aud_response_r2'} #, 'vis_baseline_r2', 'aud_baseline_r2'} # , 'ancova_t_time', 'ancova_coef_time'\n",
    "COLUMNS_TO_DROP = set(df.columns) - METRICS_TO_KEEP - {'unit_id', 'drift_rating'}\n",
    "\n",
    "leave_one_out = True\n",
    "\n",
    "model_to_results = {}\n",
    "for model_class in (RandomForestClassifier, GradientBoostingClassifier, QuadraticDiscriminantAnalysis, LinearDiscriminantAnalysis):\n",
    "\n",
    "    model = model_class()\n",
    "    annotated = get_annotations_df().drop(COLUMNS_TO_DROP).pipe(z_score).drop_nans()\n",
    "    unit_id_to_value = {}\n",
    "    if leave_one_out:\n",
    "        for unit_id in tqdm.tqdm(annotated['unit_id'], total=len(annotated), unit='units', ncols=100, desc=f\"Cross-validating {model_class.__name__}\"):\n",
    "            train = annotated.filter(pl.col('unit_id') != unit_id)\n",
    "            test = annotated.filter(pl.col('unit_id') == unit_id)\n",
    "            model.fit(*get_x_y(train))\n",
    "            unit_id_to_value[unit_id] = model.predict(get_x(test)).item()\n",
    "    else:\n",
    "        model.fit(*get_x_y(annotated))\n",
    "        for unit_id in tqdm.tqdm(annotated['unit_id'], total=len(annotated), unit='units', ncols=100, desc=f\"Predicting {model_class.__name__}\"):\n",
    "            test = annotated.filter(pl.col('unit_id') == unit_id)\n",
    "            unit_id_to_value[unit_id] = model.predict(get_x(test)).item()\n",
    "                \n",
    "    annotated.insert_column(-1,  pl.Series('prediction', unit_id_to_value.values()))\n",
    "    results = pl.DataFrame(\n",
    "        dict(\n",
    "            tpr = annotated.filter(pl.col('drift_rating') == 1, pl.col('prediction') == 1).height / annotated.filter(pl.col('drift_rating') == 1).height,\n",
    "            fpr = annotated.filter(pl.col('drift_rating') == 0, pl.col('prediction') == 1).height / annotated.filter(pl.col('drift_rating') == 0).height,\n",
    "            tnr = annotated.filter(pl.col('drift_rating') == 0, pl.col('prediction') == 0).height / annotated.filter(pl.col('drift_rating') == 0).height,\n",
    "            fnr = annotated.filter(pl.col('drift_rating') == 1, pl.col('prediction') == 0).height / annotated.filter(pl.col('drift_rating') == 1).height,\n",
    "        )\n",
    "    )\n",
    "    display(results)\n",
    "    model_to_results[model_class] = results"
   ]
  },
  {
   "cell_type": "code",
   "execution_count": null,
   "metadata": {},
   "outputs": [],
   "source": []
  }
 ],
 "metadata": {
  "kernelspec": {
   "display_name": ".venv",
   "language": "python",
   "name": "python3"
  },
  "language_info": {
   "codemirror_mode": {
    "name": "ipython",
    "version": 3
   },
   "file_extension": ".py",
   "mimetype": "text/x-python",
   "name": "python",
   "nbconvert_exporter": "python",
   "pygments_lexer": "ipython3",
   "version": "3.11.5"
  }
 },
 "nbformat": 4,
 "nbformat_minor": 2
}
