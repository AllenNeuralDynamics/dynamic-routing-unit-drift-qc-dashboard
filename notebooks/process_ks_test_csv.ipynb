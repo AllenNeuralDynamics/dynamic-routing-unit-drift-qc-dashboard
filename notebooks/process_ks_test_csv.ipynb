{
 "cells": [
  {
   "cell_type": "code",
   "execution_count": null,
   "metadata": {},
   "outputs": [
    {
     "name": "stdout",
     "output_type": "stream",
     "text": [
      "wrote parquet file\n",
      "wrote parquet file\n",
      "wrote parquet file\n"
     ]
    },
    {
     "data": {
      "text/html": [
       "<div><style>\n",
       ".dataframe > thead > tr,\n",
       ".dataframe > tbody > tr {\n",
       "  text-align: right;\n",
       "  white-space: pre-wrap;\n",
       "}\n",
       "</style>\n",
       "<small>shape: (892_089, 11)</small><table border=\"1\" class=\"dataframe\"><thead><tr><th>test</th><th>unit_id</th><th>p_min_trial</th><th>p_min_response</th><th>p_min_baseline</th><th>D_max_trial</th><th>D_max_response</th><th>D_max_baseline</th><th>F_max_trial</th><th>F_max_response</th><th>F_max_baseline</th></tr><tr><td>str</td><td>str</td><td>f64</td><td>f64</td><td>f64</td><td>f64</td><td>f64</td><td>f64</td><td>f64</td><td>f64</td><td>f64</td></tr></thead><tbody><tr><td>&quot;med&quot;</td><td>&quot;714748_2024-06-25_E-192&quot;</td><td>0.000008</td><td>0.000674</td><td>0.002604</td><td>20.009333</td><td>11.558601</td><td>9.066036</td><td>null</td><td>null</td><td>null</td></tr><tr><td>&quot;med&quot;</td><td>&quot;664851_2023-11-16_E-188&quot;</td><td>8.5460e-19</td><td>8.1823e-12</td><td>7.8279e-17</td><td>78.369534</td><td>46.72158</td><td>69.452441</td><td>null</td><td>null</td><td>null</td></tr><tr><td>&quot;ks&quot;</td><td>&quot;664851_2023-11-14_C-10&quot;</td><td>1.0</td><td>1.0</td><td>1.0</td><td>0.017442</td><td>0.022989</td><td>0.011765</td><td>null</td><td>null</td><td>null</td></tr><tr><td>&quot;med&quot;</td><td>&quot;737403_2024-09-27_E-616&quot;</td><td>5.6741e-27</td><td>3.5499e-24</td><td>2.3057e-23</td><td>115.648689</td><td>102.886051</td><td>99.179963</td><td>null</td><td>null</td><td>null</td></tr><tr><td>&quot;med&quot;</td><td>&quot;715710_2024-07-17_B-175&quot;</td><td>2.1307e-7</td><td>0.000002</td><td>0.016167</td><td>26.910785</td><td>22.813051</td><td>5.784649</td><td>null</td><td>null</td><td>null</td></tr><tr><td>&hellip;</td><td>&hellip;</td><td>&hellip;</td><td>&hellip;</td><td>&hellip;</td><td>&hellip;</td><td>&hellip;</td><td>&hellip;</td><td>&hellip;</td><td>&hellip;</td><td>&hellip;</td></tr><tr><td>&quot;ks&quot;</td><td>&quot;703882_2024-04-25_A-562&quot;</td><td>0.831458</td><td>0.956195</td><td>1.0</td><td>0.078196</td><td>0.063522</td><td>0.026337</td><td>null</td><td>null</td><td>null</td></tr><tr><td>&quot;ks&quot;</td><td>&quot;649943_2023-02-13_F-449&quot;</td><td>0.000007</td><td>0.000012</td><td>2.1800e-8</td><td>0.324408</td><td>0.317174</td><td>0.38764</td><td>null</td><td>null</td><td>null</td></tr><tr><td>&quot;kw&quot;</td><td>&quot;626791_2022-08-17_F-226&quot;</td><td>1.6272e-35</td><td>2.1299e-34</td><td>2.9684e-30</td><td>null</td><td>null</td><td>null</td><td>154.701489</td><td>149.590988</td><td>130.639973</td></tr><tr><td>&quot;ks&quot;</td><td>&quot;666986_2023-08-17_C-325&quot;</td><td>0.000005</td><td>0.000041</td><td>0.000984</td><td>0.320115</td><td>0.292702</td><td>0.245939</td><td>null</td><td>null</td><td>null</td></tr><tr><td>&quot;med&quot;</td><td>&quot;681532_2023-10-16_A-246&quot;</td><td>0.001295</td><td>0.044779</td><td>0.005359</td><td>10.349749</td><td>4.026955</td><td>7.75429</td><td>null</td><td>null</td><td>null</td></tr></tbody></table></div>"
      ],
      "text/plain": [
       "shape: (892_089, 11)\n",
       "┌──────┬────────────┬────────────┬────────────┬───┬────────────┬───────────┬───────────┬───────────┐\n",
       "│ test ┆ unit_id    ┆ p_min_tria ┆ p_min_resp ┆ … ┆ D_max_base ┆ F_max_tri ┆ F_max_res ┆ F_max_bas │\n",
       "│ ---  ┆ ---        ┆ l          ┆ onse       ┆   ┆ line       ┆ al        ┆ ponse     ┆ eline     │\n",
       "│ str  ┆ str        ┆ ---        ┆ ---        ┆   ┆ ---        ┆ ---       ┆ ---       ┆ ---       │\n",
       "│      ┆            ┆ f64        ┆ f64        ┆   ┆ f64        ┆ f64       ┆ f64       ┆ f64       │\n",
       "╞══════╪════════════╪════════════╪════════════╪═══╪════════════╪═══════════╪═══════════╪═══════════╡\n",
       "│ med  ┆ 714748_202 ┆ 0.000008   ┆ 0.000674   ┆ … ┆ 9.066036   ┆ null      ┆ null      ┆ null      │\n",
       "│      ┆ 4-06-25_E- ┆            ┆            ┆   ┆            ┆           ┆           ┆           │\n",
       "│      ┆ 192        ┆            ┆            ┆   ┆            ┆           ┆           ┆           │\n",
       "│ med  ┆ 664851_202 ┆ 8.5460e-19 ┆ 8.1823e-12 ┆ … ┆ 69.452441  ┆ null      ┆ null      ┆ null      │\n",
       "│      ┆ 3-11-16_E- ┆            ┆            ┆   ┆            ┆           ┆           ┆           │\n",
       "│      ┆ 188        ┆            ┆            ┆   ┆            ┆           ┆           ┆           │\n",
       "│ ks   ┆ 664851_202 ┆ 1.0        ┆ 1.0        ┆ … ┆ 0.011765   ┆ null      ┆ null      ┆ null      │\n",
       "│      ┆ 3-11-14_C- ┆            ┆            ┆   ┆            ┆           ┆           ┆           │\n",
       "│      ┆ 10         ┆            ┆            ┆   ┆            ┆           ┆           ┆           │\n",
       "│ med  ┆ 737403_202 ┆ 5.6741e-27 ┆ 3.5499e-24 ┆ … ┆ 99.179963  ┆ null      ┆ null      ┆ null      │\n",
       "│      ┆ 4-09-27_E- ┆            ┆            ┆   ┆            ┆           ┆           ┆           │\n",
       "│      ┆ 616        ┆            ┆            ┆   ┆            ┆           ┆           ┆           │\n",
       "│ med  ┆ 715710_202 ┆ 2.1307e-7  ┆ 0.000002   ┆ … ┆ 5.784649   ┆ null      ┆ null      ┆ null      │\n",
       "│      ┆ 4-07-17_B- ┆            ┆            ┆   ┆            ┆           ┆           ┆           │\n",
       "│      ┆ 175        ┆            ┆            ┆   ┆            ┆           ┆           ┆           │\n",
       "│ …    ┆ …          ┆ …          ┆ …          ┆ … ┆ …          ┆ …         ┆ …         ┆ …         │\n",
       "│ ks   ┆ 703882_202 ┆ 0.831458   ┆ 0.956195   ┆ … ┆ 0.026337   ┆ null      ┆ null      ┆ null      │\n",
       "│      ┆ 4-04-25_A- ┆            ┆            ┆   ┆            ┆           ┆           ┆           │\n",
       "│      ┆ 562        ┆            ┆            ┆   ┆            ┆           ┆           ┆           │\n",
       "│ ks   ┆ 649943_202 ┆ 0.000007   ┆ 0.000012   ┆ … ┆ 0.38764    ┆ null      ┆ null      ┆ null      │\n",
       "│      ┆ 3-02-13_F- ┆            ┆            ┆   ┆            ┆           ┆           ┆           │\n",
       "│      ┆ 449        ┆            ┆            ┆   ┆            ┆           ┆           ┆           │\n",
       "│ kw   ┆ 626791_202 ┆ 1.6272e-35 ┆ 2.1299e-34 ┆ … ┆ null       ┆ 154.70148 ┆ 149.59098 ┆ 130.63997 │\n",
       "│      ┆ 2-08-17_F- ┆            ┆            ┆   ┆            ┆ 9         ┆ 8         ┆ 3         │\n",
       "│      ┆ 226        ┆            ┆            ┆   ┆            ┆           ┆           ┆           │\n",
       "│ ks   ┆ 666986_202 ┆ 0.000005   ┆ 0.000041   ┆ … ┆ 0.245939   ┆ null      ┆ null      ┆ null      │\n",
       "│      ┆ 3-08-17_C- ┆            ┆            ┆   ┆            ┆           ┆           ┆           │\n",
       "│      ┆ 325        ┆            ┆            ┆   ┆            ┆           ┆           ┆           │\n",
       "│ med  ┆ 681532_202 ┆ 0.001295   ┆ 0.044779   ┆ … ┆ 7.75429    ┆ null      ┆ null      ┆ null      │\n",
       "│      ┆ 3-10-16_A- ┆            ┆            ┆   ┆            ┆           ┆           ┆           │\n",
       "│      ┆ 246        ┆            ┆            ┆   ┆            ┆           ┆           ┆           │\n",
       "└──────┴────────────┴────────────┴────────────┴───┴────────────┴───────────┴───────────┴───────────┘"
      ]
     },
     "execution_count": 10,
     "metadata": {},
     "output_type": "execute_result"
    }
   ],
   "source": [
    "import polars as pl\n",
    "\n",
    "stat_cols = pl.selectors.ends_with('_ks', '_kw', '_med')\n",
    "\n",
    "df = (\n",
    "    pl.read_csv(\"C:/Users/ben.hardcastle/Downloads/fit_non_paramertic_trial_all.csv\")\n",
    "    .select('unit_id', stat_cols, pl.lit('trial').alias('interval'))\n",
    "    # ----------------------------------------------------------------- #\n",
    "    .vstack(\n",
    "        pl.read_csv(\"C:/Users/ben.hardcastle/Downloads/fit_non_paramertic_quiescent_all.csv\")\n",
    "        .select('unit_id', stat_cols, pl.lit('baseline').alias('interval'))\n",
    "    )\n",
    "    .vstack(\n",
    "        pl.read_csv(\"C:/Users/ben.hardcastle/Downloads/fit_non_paramertic_response_all.csv\")\n",
    "        .select('unit_id', stat_cols, pl.lit('response').alias('interval'))\n",
    "    )\n",
    "    .unpivot(\n",
    "        index=['unit_id' ,'interval'],\n",
    "        variable_name='label',\n",
    "    )\n",
    "    .with_columns(\n",
    "        pl.col('label').str.split('_').list.get(0).alias('result_type'),\n",
    "        pl.col('label').str.split('_').list.get(1).str.strip_prefix('block').cast(pl.Int8).alias('block_index'),\n",
    "        pl.col('label').str.split('_').list.get(-1).alias('test')\n",
    "    )\n",
    "    .drop('label')\n",
    "    .pivot(\n",
    "        on='result_type',\n",
    "        values='value',\n",
    "    )\n",
    "    .group_by('test', 'unit_id', 'interval')\n",
    "    .agg(\n",
    "        pl.col('p').min().alias('p_min'),\n",
    "        pl.col('D').max().alias('D_max'),\n",
    "        pl.col('F').max().alias('F_max'),\n",
    "    )\n",
    "    .pivot(\n",
    "        on=['interval'],\n",
    "        values=['p_min', 'D_max', 'F_max'],\n",
    "    )\n",
    ")\n",
    "def get_rename_map(test: str, drop: str) -> dict:\n",
    "    return {\n",
    "        f'{stat}_{interval}': f'{test}_{stat}_{interval}'\n",
    "        for interval in ['trial', 'baseline', 'response']\n",
    "        for stat in [s for s in ('p_min', 'D_max', 'F_max') if not s.startswith(drop)]\n",
    "    }\n",
    "\n",
    "for test, drop in [('ks', 'F_'), ('kw', 'D_'), ('med', 'F_')]:\n",
    "    df.filter(pl.col('test') == test).drop('test', pl.selectors.starts_with(drop)).rename(get_rename_map(test, drop)).write_parquet(f\"//allen/programs/mindscope/workgroups/dynamicrouting/ben/{test}_test.parquet\")\n",
    "df"
   ]
  },
  {
   "cell_type": "code",
   "execution_count": null,
   "metadata": {},
   "outputs": [
    {
     "data": {
      "text/plain": [
       "{'p_min_trial': 'ks_p_min_trial',\n",
       " 'D_max_trial': 'ks_D_max_trial',\n",
       " 'F_max_trial': 'ks_F_max_trial',\n",
       " 'p_min_baseline': 'ks_p_min_baseline',\n",
       " 'D_max_baseline': 'ks_D_max_baseline',\n",
       " 'F_max_baseline': 'ks_F_max_baseline',\n",
       " 'p_min_response': 'ks_p_min_response',\n",
       " 'D_max_response': 'ks_D_max_response',\n",
       " 'F_max_response': 'ks_F_max_response'}"
      ]
     },
     "execution_count": 32,
     "metadata": {},
     "output_type": "execute_result"
    }
   ],
   "source": [
    "get_rename_map('ks')"
   ]
  },
  {
   "cell_type": "code",
   "execution_count": null,
   "metadata": {},
   "outputs": [
    {
     "data": {
      "text/html": [
       "<div><style>\n",
       ".dataframe > thead > tr,\n",
       ".dataframe > tbody > tr {\n",
       "  text-align: right;\n",
       "  white-space: pre-wrap;\n",
       "}\n",
       "</style>\n",
       "<small>shape: (297_363, 7)</small><table border=\"1\" class=\"dataframe\"><thead><tr><th>unit_id</th><th>ks_p_min_trial</th><th>ks_p_min_response</th><th>ks_p_min_baseline</th><th>ks_D_max_trial</th><th>ks_D_max_response</th><th>ks_D_max_baseline</th></tr><tr><td>str</td><td>f64</td><td>f64</td><td>f64</td><td>f64</td><td>f64</td><td>f64</td></tr></thead><tbody><tr><td>&quot;664851_2023-11-14_C-10&quot;</td><td>1.0</td><td>1.0</td><td>1.0</td><td>0.017442</td><td>0.022989</td><td>0.011765</td></tr><tr><td>&quot;626791_2022-08-15_F-210&quot;</td><td>1.8347e-12</td><td>3.1094e-10</td><td>0.004286</td><td>0.475583</td><td>0.429739</td><td>0.244722</td></tr><tr><td>&quot;668755_2023-08-31_F-44&quot;</td><td>2.5926e-25</td><td>2.9667e-19</td><td>7.9815e-18</td><td>0.662921</td><td>0.578836</td><td>0.557721</td></tr><tr><td>&quot;733780_2024-09-04_E-282&quot;</td><td>0.993409</td><td>0.983241</td><td>1.0</td><td>0.050924</td><td>0.055517</td><td>0.030295</td></tr><tr><td>&quot;649943_2023-02-14_D-692&quot;</td><td>3.5735e-10</td><td>3.3295e-8</td><td>3.5735e-10</td><td>0.423077</td><td>0.379121</td><td>0.423077</td></tr><tr><td>&hellip;</td><td>&hellip;</td><td>&hellip;</td><td>&hellip;</td><td>&hellip;</td><td>&hellip;</td><td>&hellip;</td></tr><tr><td>&quot;674562_2023-10-04_B-255&quot;</td><td>6.2704e-10</td><td>0.000002</td><td>2.1859e-10</td><td>0.558187</td><td>0.450731</td><td>0.570906</td></tr><tr><td>&quot;708016_2024-05-01_F-142&quot;</td><td>2.2063e-30</td><td>8.5076e-23</td><td>9.9488e-12</td><td>0.718616</td><td>0.630004</td><td>0.468398</td></tr><tr><td>&quot;703882_2024-04-25_A-562&quot;</td><td>0.831458</td><td>0.956195</td><td>1.0</td><td>0.078196</td><td>0.063522</td><td>0.026337</td></tr><tr><td>&quot;649943_2023-02-13_F-449&quot;</td><td>0.000007</td><td>0.000012</td><td>2.1800e-8</td><td>0.324408</td><td>0.317174</td><td>0.38764</td></tr><tr><td>&quot;666986_2023-08-17_C-325&quot;</td><td>0.000005</td><td>0.000041</td><td>0.000984</td><td>0.320115</td><td>0.292702</td><td>0.245939</td></tr></tbody></table></div>"
      ],
      "text/plain": [
       "shape: (297_363, 7)\n",
       "┌──────────────┬─────────────┬─────────────┬─────────────┬─────────────┬─────────────┬─────────────┐\n",
       "│ unit_id      ┆ ks_p_min_tr ┆ ks_p_min_re ┆ ks_p_min_ba ┆ ks_D_max_tr ┆ ks_D_max_re ┆ ks_D_max_ba │\n",
       "│ ---          ┆ ial         ┆ sponse      ┆ seline      ┆ ial         ┆ sponse      ┆ seline      │\n",
       "│ str          ┆ ---         ┆ ---         ┆ ---         ┆ ---         ┆ ---         ┆ ---         │\n",
       "│              ┆ f64         ┆ f64         ┆ f64         ┆ f64         ┆ f64         ┆ f64         │\n",
       "╞══════════════╪═════════════╪═════════════╪═════════════╪═════════════╪═════════════╪═════════════╡\n",
       "│ 664851_2023- ┆ 1.0         ┆ 1.0         ┆ 1.0         ┆ 0.017442    ┆ 0.022989    ┆ 0.011765    │\n",
       "│ 11-14_C-10   ┆             ┆             ┆             ┆             ┆             ┆             │\n",
       "│ 626791_2022- ┆ 1.8347e-12  ┆ 3.1094e-10  ┆ 0.004286    ┆ 0.475583    ┆ 0.429739    ┆ 0.244722    │\n",
       "│ 08-15_F-210  ┆             ┆             ┆             ┆             ┆             ┆             │\n",
       "│ 668755_2023- ┆ 2.5926e-25  ┆ 2.9667e-19  ┆ 7.9815e-18  ┆ 0.662921    ┆ 0.578836    ┆ 0.557721    │\n",
       "│ 08-31_F-44   ┆             ┆             ┆             ┆             ┆             ┆             │\n",
       "│ 733780_2024- ┆ 0.993409    ┆ 0.983241    ┆ 1.0         ┆ 0.050924    ┆ 0.055517    ┆ 0.030295    │\n",
       "│ 09-04_E-282  ┆             ┆             ┆             ┆             ┆             ┆             │\n",
       "│ 649943_2023- ┆ 3.5735e-10  ┆ 3.3295e-8   ┆ 3.5735e-10  ┆ 0.423077    ┆ 0.379121    ┆ 0.423077    │\n",
       "│ 02-14_D-692  ┆             ┆             ┆             ┆             ┆             ┆             │\n",
       "│ …            ┆ …           ┆ …           ┆ …           ┆ …           ┆ …           ┆ …           │\n",
       "│ 674562_2023- ┆ 6.2704e-10  ┆ 0.000002    ┆ 2.1859e-10  ┆ 0.558187    ┆ 0.450731    ┆ 0.570906    │\n",
       "│ 10-04_B-255  ┆             ┆             ┆             ┆             ┆             ┆             │\n",
       "│ 708016_2024- ┆ 2.2063e-30  ┆ 8.5076e-23  ┆ 9.9488e-12  ┆ 0.718616    ┆ 0.630004    ┆ 0.468398    │\n",
       "│ 05-01_F-142  ┆             ┆             ┆             ┆             ┆             ┆             │\n",
       "│ 703882_2024- ┆ 0.831458    ┆ 0.956195    ┆ 1.0         ┆ 0.078196    ┆ 0.063522    ┆ 0.026337    │\n",
       "│ 04-25_A-562  ┆             ┆             ┆             ┆             ┆             ┆             │\n",
       "│ 649943_2023- ┆ 0.000007    ┆ 0.000012    ┆ 2.1800e-8   ┆ 0.324408    ┆ 0.317174    ┆ 0.38764     │\n",
       "│ 02-13_F-449  ┆             ┆             ┆             ┆             ┆             ┆             │\n",
       "│ 666986_2023- ┆ 0.000005    ┆ 0.000041    ┆ 0.000984    ┆ 0.320115    ┆ 0.292702    ┆ 0.245939    │\n",
       "│ 08-17_C-325  ┆             ┆             ┆             ┆             ┆             ┆             │\n",
       "└──────────────┴─────────────┴─────────────┴─────────────┴─────────────┴─────────────┴─────────────┘"
      ]
     },
     "execution_count": 21,
     "metadata": {},
     "output_type": "execute_result"
    },
    {
     "ename": "",
     "evalue": "",
     "output_type": "error",
     "traceback": [
      "\u001b[1;31mThe Kernel crashed while executing code in the current cell or a previous cell. \n",
      "\u001b[1;31mPlease review the code in the cell(s) to identify a possible cause of the failure. \n",
      "\u001b[1;31mClick <a href='https://aka.ms/vscodeJupyterKernelCrash'>here</a> for more info. \n",
      "\u001b[1;31mView Jupyter <a href='command:jupyter.viewOutput'>log</a> for further details."
     ]
    }
   ],
   "source": [
    "pl.read_parquet(\n",
    "    \"//allen/programs/mindscope/workgroups/dynamicrouting/ben/ks_test.parquet\"\n",
    ")"
   ]
  }
 ],
 "metadata": {
  "kernelspec": {
   "display_name": ".venv",
   "language": "python",
   "name": "python3"
  },
  "language_info": {
   "codemirror_mode": {
    "name": "ipython",
    "version": 3
   },
   "file_extension": ".py",
   "mimetype": "text/x-python",
   "name": "python",
   "nbconvert_exporter": "python",
   "pygments_lexer": "ipython3",
   "version": "3.11.5"
  }
 },
 "nbformat": 4,
 "nbformat_minor": 2
}
