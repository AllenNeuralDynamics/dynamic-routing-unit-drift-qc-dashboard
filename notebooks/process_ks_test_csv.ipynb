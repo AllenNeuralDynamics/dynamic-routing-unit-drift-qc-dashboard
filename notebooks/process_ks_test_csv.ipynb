{
 "cells": [
  {
   "cell_type": "code",
   "execution_count": null,
   "metadata": {},
   "outputs": [
    {
     "data": {
      "text/html": [
       "col(\"^.*(_ks)$\")"
      ],
      "text/plain": [
       "cs.ends_with((_ks))"
      ]
     },
     "execution_count": 9,
     "metadata": {},
     "output_type": "execute_result"
    }
   ],
   "source": [
    "ks_cols \n"
   ]
  },
  {
   "cell_type": "code",
   "execution_count": null,
   "metadata": {},
   "outputs": [
    {
     "data": {
      "text/html": [
       "<div><style>\n",
       ".dataframe > thead > tr,\n",
       ".dataframe > tbody > tr {\n",
       "  text-align: right;\n",
       "  white-space: pre-wrap;\n",
       "}\n",
       "</style>\n",
       "<small>shape: (247_362, 11)</small><table border=\"1\" class=\"dataframe\"><thead><tr><th>test</th><th>unit_id</th><th>p_min_baseline</th><th>p_min_response</th><th>p_min_trial</th><th>D_max_baseline</th><th>D_max_response</th><th>D_max_trial</th><th>F_max_baseline</th><th>F_max_response</th><th>F_max_trial</th></tr><tr><td>str</td><td>str</td><td>f64</td><td>f64</td><td>f64</td><td>f64</td><td>f64</td><td>f64</td><td>f64</td><td>f64</td><td>f64</td></tr></thead><tbody><tr><td>&quot;kw&quot;</td><td>&quot;715710_2024-07-16_B-104&quot;</td><td>0.015902</td><td>0.000039</td><td>0.000022</td><td>null</td><td>null</td><td>null</td><td>5.813666</td><td>16.898001</td><td>17.977588</td></tr><tr><td>&quot;ks&quot;</td><td>&quot;668755_2023-08-30_D-59&quot;</td><td>0.00684</td><td>0.006274</td><td>0.015459</td><td>0.2181</td><td>0.219743</td><td>0.20167</td><td>null</td><td>null</td><td>null</td></tr><tr><td>&quot;ks&quot;</td><td>&quot;649943_2023-02-13_A-94&quot;</td><td>0.007748</td><td>0.056317</td><td>0.064442</td><td>0.215035</td><td>0.172404</td><td>0.171638</td><td>null</td><td>null</td><td>null</td></tr><tr><td>&quot;kw&quot;</td><td>&quot;702136_2024-03-05_B-244&quot;</td><td>0.003366</td><td>0.000091</td><td>0.000005</td><td>null</td><td>null</td><td>null</td><td>8.597515</td><td>15.324463</td><td>20.969585</td></tr><tr><td>&quot;kw&quot;</td><td>&quot;726088_2024-06-20_A-519&quot;</td><td>6.3415e-39</td><td>2.9673e-39</td><td>3.4385e-39</td><td>null</td><td>null</td><td>null</td><td>170.306646</td><td>171.81683</td><td>171.523743</td></tr><tr><td>&hellip;</td><td>&hellip;</td><td>&hellip;</td><td>&hellip;</td><td>&hellip;</td><td>&hellip;</td><td>&hellip;</td><td>&hellip;</td><td>&hellip;</td><td>&hellip;</td><td>&hellip;</td></tr><tr><td>&quot;ks&quot;</td><td>&quot;666986_2023-08-17_F-416&quot;</td><td>0.281651</td><td>0.429842</td><td>0.632149</td><td>0.125</td><td>0.108696</td><td>0.092093</td><td>null</td><td>null</td><td>null</td></tr><tr><td>&quot;med&quot;</td><td>&quot;681532_2023-10-18_C-369&quot;</td><td>0.000317</td><td>0.546526</td><td>0.405322</td><td>12.964471</td><td>0.363577</td><td>0.692481</td><td>null</td><td>null</td><td>null</td></tr><tr><td>&quot;kw&quot;</td><td>&quot;686176_2023-12-04_E-220&quot;</td><td>3.6336e-26</td><td>3.0413e-21</td><td>1.4486e-27</td><td>null</td><td>null</td><td>null</td><td>111.966714</td><td>89.516237</td><td>118.356576</td></tr><tr><td>&quot;kw&quot;</td><td>&quot;690706_2023-11-27_D-544&quot;</td><td>2.4500e-37</td><td>3.4057e-37</td><td>3.9394e-37</td><td>null</td><td>null</td><td>null</td><td>163.04142</td><td>162.386697</td><td>162.097314</td></tr><tr><td>&quot;kw&quot;</td><td>&quot;681532_2023-10-17_C-226&quot;</td><td>0.000074</td><td>1.6505e-7</td><td>4.2086e-8</td><td>null</td><td>null</td><td>null</td><td>15.714322</td><td>27.404404</td><td>30.05088</td></tr></tbody></table></div>"
      ],
      "text/plain": [
       "shape: (247_362, 11)\n",
       "┌──────┬────────────┬────────────┬────────────┬───┬────────────┬───────────┬───────────┬───────────┐\n",
       "│ test ┆ unit_id    ┆ p_min_base ┆ p_min_resp ┆ … ┆ D_max_tria ┆ F_max_bas ┆ F_max_res ┆ F_max_tri │\n",
       "│ ---  ┆ ---        ┆ line       ┆ onse       ┆   ┆ l          ┆ eline     ┆ ponse     ┆ al        │\n",
       "│ str  ┆ str        ┆ ---        ┆ ---        ┆   ┆ ---        ┆ ---       ┆ ---       ┆ ---       │\n",
       "│      ┆            ┆ f64        ┆ f64        ┆   ┆ f64        ┆ f64       ┆ f64       ┆ f64       │\n",
       "╞══════╪════════════╪════════════╪════════════╪═══╪════════════╪═══════════╪═══════════╪═══════════╡\n",
       "│ kw   ┆ 715710_202 ┆ 0.015902   ┆ 0.000039   ┆ … ┆ null       ┆ 5.813666  ┆ 16.898001 ┆ 17.977588 │\n",
       "│      ┆ 4-07-16_B- ┆            ┆            ┆   ┆            ┆           ┆           ┆           │\n",
       "│      ┆ 104        ┆            ┆            ┆   ┆            ┆           ┆           ┆           │\n",
       "│ ks   ┆ 668755_202 ┆ 0.00684    ┆ 0.006274   ┆ … ┆ 0.20167    ┆ null      ┆ null      ┆ null      │\n",
       "│      ┆ 3-08-30_D- ┆            ┆            ┆   ┆            ┆           ┆           ┆           │\n",
       "│      ┆ 59         ┆            ┆            ┆   ┆            ┆           ┆           ┆           │\n",
       "│ ks   ┆ 649943_202 ┆ 0.007748   ┆ 0.056317   ┆ … ┆ 0.171638   ┆ null      ┆ null      ┆ null      │\n",
       "│      ┆ 3-02-13_A- ┆            ┆            ┆   ┆            ┆           ┆           ┆           │\n",
       "│      ┆ 94         ┆            ┆            ┆   ┆            ┆           ┆           ┆           │\n",
       "│ kw   ┆ 702136_202 ┆ 0.003366   ┆ 0.000091   ┆ … ┆ null       ┆ 8.597515  ┆ 15.324463 ┆ 20.969585 │\n",
       "│      ┆ 4-03-05_B- ┆            ┆            ┆   ┆            ┆           ┆           ┆           │\n",
       "│      ┆ 244        ┆            ┆            ┆   ┆            ┆           ┆           ┆           │\n",
       "│ kw   ┆ 726088_202 ┆ 6.3415e-39 ┆ 2.9673e-39 ┆ … ┆ null       ┆ 170.30664 ┆ 171.81683 ┆ 171.52374 │\n",
       "│      ┆ 4-06-20_A- ┆            ┆            ┆   ┆            ┆ 6         ┆           ┆ 3         │\n",
       "│      ┆ 519        ┆            ┆            ┆   ┆            ┆           ┆           ┆           │\n",
       "│ …    ┆ …          ┆ …          ┆ …          ┆ … ┆ …          ┆ …         ┆ …         ┆ …         │\n",
       "│ ks   ┆ 666986_202 ┆ 0.281651   ┆ 0.429842   ┆ … ┆ 0.092093   ┆ null      ┆ null      ┆ null      │\n",
       "│      ┆ 3-08-17_F- ┆            ┆            ┆   ┆            ┆           ┆           ┆           │\n",
       "│      ┆ 416        ┆            ┆            ┆   ┆            ┆           ┆           ┆           │\n",
       "│ med  ┆ 681532_202 ┆ 0.000317   ┆ 0.546526   ┆ … ┆ 0.692481   ┆ null      ┆ null      ┆ null      │\n",
       "│      ┆ 3-10-18_C- ┆            ┆            ┆   ┆            ┆           ┆           ┆           │\n",
       "│      ┆ 369        ┆            ┆            ┆   ┆            ┆           ┆           ┆           │\n",
       "│ kw   ┆ 686176_202 ┆ 3.6336e-26 ┆ 3.0413e-21 ┆ … ┆ null       ┆ 111.96671 ┆ 89.516237 ┆ 118.35657 │\n",
       "│      ┆ 3-12-04_E- ┆            ┆            ┆   ┆            ┆ 4         ┆           ┆ 6         │\n",
       "│      ┆ 220        ┆            ┆            ┆   ┆            ┆           ┆           ┆           │\n",
       "│ kw   ┆ 690706_202 ┆ 2.4500e-37 ┆ 3.4057e-37 ┆ … ┆ null       ┆ 163.04142 ┆ 162.38669 ┆ 162.09731 │\n",
       "│      ┆ 3-11-27_D- ┆            ┆            ┆   ┆            ┆           ┆ 7         ┆ 4         │\n",
       "│      ┆ 544        ┆            ┆            ┆   ┆            ┆           ┆           ┆           │\n",
       "│ kw   ┆ 681532_202 ┆ 0.000074   ┆ 1.6505e-7  ┆ … ┆ null       ┆ 15.714322 ┆ 27.404404 ┆ 30.05088  │\n",
       "│      ┆ 3-10-17_C- ┆            ┆            ┆   ┆            ┆           ┆           ┆           │\n",
       "│      ┆ 226        ┆            ┆            ┆   ┆            ┆           ┆           ┆           │\n",
       "└──────┴────────────┴────────────┴────────────┴───┴────────────┴───────────┴───────────┴───────────┘"
      ]
     },
     "execution_count": 35,
     "metadata": {},
     "output_type": "execute_result"
    }
   ],
   "source": [
    "import polars as pl\n",
    "\n",
    "stat_cols = pl.selectors.ends_with('_ks', '_kw', '_med')\n",
    "\n",
    "df = (\n",
    "    pl.read_csv(\"C:/Users/ben.hardcastle/Downloads/fit_non_paramertic_trial.csv\")\n",
    "    .select('unit_id', stat_cols, pl.lit('trial').alias('interval'))\n",
    "    # ----------------------------------------------------------------- #\n",
    "    .vstack(\n",
    "        pl.read_csv(\"C:/Users/ben.hardcastle/Downloads/fit_non_paramertic_quiescent.csv\")\n",
    "        .select('unit_id', stat_cols, pl.lit('baseline').alias('interval'))\n",
    "    )\n",
    "    .vstack(\n",
    "        pl.read_csv(\"C:/Users/ben.hardcastle/Downloads/fit_non_paramertic_response.csv\")\n",
    "        .select('unit_id', stat_cols, pl.lit('response').alias('interval'))\n",
    "    )\n",
    "    .unpivot(\n",
    "        index=['unit_id' ,'interval'],\n",
    "        variable_name='label',\n",
    "    )\n",
    "    .with_columns(\n",
    "        pl.col('label').str.split('_').list.get(0).alias('result_type'),\n",
    "        pl.col('label').str.split('_').list.get(1).str.strip_prefix('block').cast(pl.Int8).alias('block_index'),\n",
    "        pl.col('label').str.split('_').list.get(-1).alias('test')\n",
    "    )\n",
    "    .drop('label')\n",
    "    .pivot(\n",
    "        on='result_type',\n",
    "        values='value',\n",
    "    )\n",
    "    .group_by('test', 'unit_id', 'interval')\n",
    "    .agg(\n",
    "        pl.col('p').min().alias('p_min'),\n",
    "        pl.col('D').max().alias('D_max'),\n",
    "        pl.col('F').max().alias('F_max'),\n",
    "    )\n",
    "    .pivot(\n",
    "        on=['interval'],\n",
    "        values=['p_min', 'D_max', 'F_max'],\n",
    "    )\n",
    ")\n",
    "def get_rename_map(test: str, drop: str) -> dict:\n",
    "    return {\n",
    "        f'{stat}_{interval}': f'{test}_{stat}_{interval}'\n",
    "        for interval in ['trial', 'baseline', 'response']\n",
    "        for stat in [s for s in ('p_min', 'D_max', 'F_max') if not s.startswith(drop)]\n",
    "    }\n",
    "\n",
    "for test, drop in [('ks', 'F_'), ('kw', 'D_'), ('med', 'F_')]:\n",
    "    df.filter(pl.col('test') == test).drop('test', pl.selectors.starts_with(drop)).rename(get_rename_map(test, drop)).write_parquet(f\"//allen/programs/mindscope/workgroups/dynamicrouting/ben/{test}_test.parquet\")\n",
    "df"
   ]
  },
  {
   "cell_type": "code",
   "execution_count": 32,
   "metadata": {},
   "outputs": [
    {
     "data": {
      "text/plain": [
       "{'p_min_trial': 'ks_p_min_trial',\n",
       " 'D_max_trial': 'ks_D_max_trial',\n",
       " 'F_max_trial': 'ks_F_max_trial',\n",
       " 'p_min_baseline': 'ks_p_min_baseline',\n",
       " 'D_max_baseline': 'ks_D_max_baseline',\n",
       " 'F_max_baseline': 'ks_F_max_baseline',\n",
       " 'p_min_response': 'ks_p_min_response',\n",
       " 'D_max_response': 'ks_D_max_response',\n",
       " 'F_max_response': 'ks_F_max_response'}"
      ]
     },
     "execution_count": 32,
     "metadata": {},
     "output_type": "execute_result"
    }
   ],
   "source": [
    "def get_rename_map(test: str) -> dict:\n",
    "    return {\n",
    "        f'{stat}_{interval}': f'{test}_{stat}_{interval}'\n",
    "        for interval in ['trial', 'baseline', 'response']\n",
    "        for stat in ['p_min', 'D_max', 'F_max']\n",
    "    }\n",
    "get_rename_map('ks')"
   ]
  }
 ],
 "metadata": {
  "kernelspec": {
   "display_name": ".venv",
   "language": "python",
   "name": "python3"
  },
  "language_info": {
   "codemirror_mode": {
    "name": "ipython",
    "version": 3
   },
   "file_extension": ".py",
   "mimetype": "text/x-python",
   "name": "python",
   "nbconvert_exporter": "python",
   "pygments_lexer": "ipython3",
   "version": "3.11.5"
  }
 },
 "nbformat": 4,
 "nbformat_minor": 2
}
