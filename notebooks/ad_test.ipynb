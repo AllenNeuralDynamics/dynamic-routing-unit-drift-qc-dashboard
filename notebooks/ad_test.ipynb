{
 "cells": [
  {
   "cell_type": "code",
   "execution_count": 9,
   "metadata": {},
   "outputs": [],
   "source": [
    "import scipy.stats\n",
    "\n",
    "import polars as pl\n",
    "\n",
    "\n",
    "df = (\n",
    "    pl.scan_parquet(\"//allen/programs/mindscope/workgroups/dynamicrouting/ben/unit_drift.parquet\")\n",
    "    .select('unit_id', 'drift_rating')\n",
    "    .filter(pl.col('unit_id').str.ends_with('_ks4').not_())\n",
    "    .with_columns(\n",
    "        session_id=pl.col('unit_id').str.split('_').list.slice(0, 2).list.join('_'),\n",
    "    )\n",
    "    .drop_nulls('drift_rating')\n",
    "    # get spike-counts ------------------------------------------------- #\n",
    "    .join(\n",
    "        other=(\n",
    "            pl.scan_parquet(\"//allen/programs/mindscope/workgroups/dynamicrouting/ben/spike_counts.parquet\")\n",
    "        ),\n",
    "        on='unit_id',\n",
    "        how='left',\n",
    "    )\n",
    "    .join(\n",
    "        other=(\n",
    "            pl.scan_parquet(\"s3://aind-scratch-data/dynamic-routing/cache/nwb_components/v0.0.261/consolidated/trials.parquet\")\n",
    "            .select('session_id', 'trial_index', 'block_index', 'context_name', 'start_time', 'stim_name')\n",
    "        ),\n",
    "        on=['session_id', 'trial_index',],\n",
    "        how='inner',\n",
    "    )\n",
    ").collect()"
   ]
  },
  {
   "cell_type": "code",
   "execution_count": 3,
   "metadata": {},
   "outputs": [
    {
     "data": {
      "text/html": [
       "<div><style>\n",
       ".dataframe > thead > tr,\n",
       ".dataframe > tbody > tr {\n",
       "  text-align: right;\n",
       "  white-space: pre-wrap;\n",
       "}\n",
       "</style>\n",
       "<small>shape: (4_249_679, 9)</small><table border=\"1\" class=\"dataframe\"><thead><tr><th>unit_id</th><th>drift_rating</th><th>session_id</th><th>trial_index</th><th>baseline</th><th>response</th><th>block_index</th><th>context_name</th><th>start_time</th></tr><tr><td>str</td><td>i32</td><td>str</td><td>i64</td><td>i64</td><td>i64</td><td>i64</td><td>str</td><td>f64</td></tr></thead><tbody><tr><td>&quot;620263_2022-07-26_F-225&quot;</td><td>0</td><td>&quot;620263_2022-07-26&quot;</td><td>0</td><td>6</td><td>46</td><td>0</td><td>&quot;vis&quot;</td><td>111.21154</td></tr><tr><td>&quot;620263_2022-07-26_F-225&quot;</td><td>0</td><td>&quot;620263_2022-07-26&quot;</td><td>1</td><td>7</td><td>48</td><td>0</td><td>&quot;vis&quot;</td><td>116.09859</td></tr><tr><td>&quot;620263_2022-07-26_F-225&quot;</td><td>0</td><td>&quot;620263_2022-07-26&quot;</td><td>2</td><td>10</td><td>40</td><td>0</td><td>&quot;vis&quot;</td><td>120.78591</td></tr><tr><td>&quot;620263_2022-07-26_F-225&quot;</td><td>0</td><td>&quot;620263_2022-07-26&quot;</td><td>3</td><td>0</td><td>43</td><td>0</td><td>&quot;vis&quot;</td><td>126.04027</td></tr><tr><td>&quot;620263_2022-07-26_F-225&quot;</td><td>0</td><td>&quot;620263_2022-07-26&quot;</td><td>4</td><td>0</td><td>79</td><td>0</td><td>&quot;vis&quot;</td><td>130.66081</td></tr><tr><td>&hellip;</td><td>&hellip;</td><td>&hellip;</td><td>&hellip;</td><td>&hellip;</td><td>&hellip;</td><td>&hellip;</td><td>&hellip;</td><td>&hellip;</td></tr><tr><td>&quot;742903_2024-10-24_C-153&quot;</td><td>1</td><td>&quot;742903_2024-10-24&quot;</td><td>528</td><td>1</td><td>0</td><td>5</td><td>&quot;vis&quot;</td><td>6019.56103</td></tr><tr><td>&quot;742903_2024-10-24_C-153&quot;</td><td>1</td><td>&quot;742903_2024-10-24&quot;</td><td>529</td><td>0</td><td>1</td><td>5</td><td>&quot;vis&quot;</td><td>6025.69953</td></tr><tr><td>&quot;742903_2024-10-24_C-153&quot;</td><td>1</td><td>&quot;742903_2024-10-24&quot;</td><td>530</td><td>0</td><td>0</td><td>5</td><td>&quot;vis&quot;</td><td>6033.33927</td></tr><tr><td>&quot;742903_2024-10-24_C-153&quot;</td><td>1</td><td>&quot;742903_2024-10-24&quot;</td><td>531</td><td>0</td><td>0</td><td>5</td><td>&quot;vis&quot;</td><td>6039.0774</td></tr><tr><td>&quot;742903_2024-10-24_C-153&quot;</td><td>1</td><td>&quot;742903_2024-10-24&quot;</td><td>532</td><td>0</td><td>0</td><td>5</td><td>&quot;vis&quot;</td><td>6045.61619</td></tr></tbody></table></div>"
      ],
      "text/plain": [
       "shape: (4_249_679, 9)\n",
       "┌───────────┬───────────┬───────────┬───────────┬───┬──────────┬───────────┬───────────┬───────────┐\n",
       "│ unit_id   ┆ drift_rat ┆ session_i ┆ trial_ind ┆ … ┆ response ┆ block_ind ┆ context_n ┆ start_tim │\n",
       "│ ---       ┆ ing       ┆ d         ┆ ex        ┆   ┆ ---      ┆ ex        ┆ ame       ┆ e         │\n",
       "│ str       ┆ ---       ┆ ---       ┆ ---       ┆   ┆ i64      ┆ ---       ┆ ---       ┆ ---       │\n",
       "│           ┆ i32       ┆ str       ┆ i64       ┆   ┆          ┆ i64       ┆ str       ┆ f64       │\n",
       "╞═══════════╪═══════════╪═══════════╪═══════════╪═══╪══════════╪═══════════╪═══════════╪═══════════╡\n",
       "│ 620263_20 ┆ 0         ┆ 620263_20 ┆ 0         ┆ … ┆ 46       ┆ 0         ┆ vis       ┆ 111.21154 │\n",
       "│ 22-07-26_ ┆           ┆ 22-07-26  ┆           ┆   ┆          ┆           ┆           ┆           │\n",
       "│ F-225     ┆           ┆           ┆           ┆   ┆          ┆           ┆           ┆           │\n",
       "│ 620263_20 ┆ 0         ┆ 620263_20 ┆ 1         ┆ … ┆ 48       ┆ 0         ┆ vis       ┆ 116.09859 │\n",
       "│ 22-07-26_ ┆           ┆ 22-07-26  ┆           ┆   ┆          ┆           ┆           ┆           │\n",
       "│ F-225     ┆           ┆           ┆           ┆   ┆          ┆           ┆           ┆           │\n",
       "│ 620263_20 ┆ 0         ┆ 620263_20 ┆ 2         ┆ … ┆ 40       ┆ 0         ┆ vis       ┆ 120.78591 │\n",
       "│ 22-07-26_ ┆           ┆ 22-07-26  ┆           ┆   ┆          ┆           ┆           ┆           │\n",
       "│ F-225     ┆           ┆           ┆           ┆   ┆          ┆           ┆           ┆           │\n",
       "│ 620263_20 ┆ 0         ┆ 620263_20 ┆ 3         ┆ … ┆ 43       ┆ 0         ┆ vis       ┆ 126.04027 │\n",
       "│ 22-07-26_ ┆           ┆ 22-07-26  ┆           ┆   ┆          ┆           ┆           ┆           │\n",
       "│ F-225     ┆           ┆           ┆           ┆   ┆          ┆           ┆           ┆           │\n",
       "│ 620263_20 ┆ 0         ┆ 620263_20 ┆ 4         ┆ … ┆ 79       ┆ 0         ┆ vis       ┆ 130.66081 │\n",
       "│ 22-07-26_ ┆           ┆ 22-07-26  ┆           ┆   ┆          ┆           ┆           ┆           │\n",
       "│ F-225     ┆           ┆           ┆           ┆   ┆          ┆           ┆           ┆           │\n",
       "│ …         ┆ …         ┆ …         ┆ …         ┆ … ┆ …        ┆ …         ┆ …         ┆ …         │\n",
       "│ 742903_20 ┆ 1         ┆ 742903_20 ┆ 528       ┆ … ┆ 0        ┆ 5         ┆ vis       ┆ 6019.5610 │\n",
       "│ 24-10-24_ ┆           ┆ 24-10-24  ┆           ┆   ┆          ┆           ┆           ┆ 3         │\n",
       "│ C-153     ┆           ┆           ┆           ┆   ┆          ┆           ┆           ┆           │\n",
       "│ 742903_20 ┆ 1         ┆ 742903_20 ┆ 529       ┆ … ┆ 1        ┆ 5         ┆ vis       ┆ 6025.6995 │\n",
       "│ 24-10-24_ ┆           ┆ 24-10-24  ┆           ┆   ┆          ┆           ┆           ┆ 3         │\n",
       "│ C-153     ┆           ┆           ┆           ┆   ┆          ┆           ┆           ┆           │\n",
       "│ 742903_20 ┆ 1         ┆ 742903_20 ┆ 530       ┆ … ┆ 0        ┆ 5         ┆ vis       ┆ 6033.3392 │\n",
       "│ 24-10-24_ ┆           ┆ 24-10-24  ┆           ┆   ┆          ┆           ┆           ┆ 7         │\n",
       "│ C-153     ┆           ┆           ┆           ┆   ┆          ┆           ┆           ┆           │\n",
       "│ 742903_20 ┆ 1         ┆ 742903_20 ┆ 531       ┆ … ┆ 0        ┆ 5         ┆ vis       ┆ 6039.0774 │\n",
       "│ 24-10-24_ ┆           ┆ 24-10-24  ┆           ┆   ┆          ┆           ┆           ┆           │\n",
       "│ C-153     ┆           ┆           ┆           ┆   ┆          ┆           ┆           ┆           │\n",
       "│ 742903_20 ┆ 1         ┆ 742903_20 ┆ 532       ┆ … ┆ 0        ┆ 5         ┆ vis       ┆ 6045.6161 │\n",
       "│ 24-10-24_ ┆           ┆ 24-10-24  ┆           ┆   ┆          ┆           ┆           ┆ 9         │\n",
       "│ C-153     ┆           ┆           ┆           ┆   ┆          ┆           ┆           ┆           │\n",
       "└───────────┴───────────┴───────────┴───────────┴───┴──────────┴───────────┴───────────┴───────────┘"
      ]
     },
     "execution_count": 3,
     "metadata": {},
     "output_type": "execute_result"
    }
   ],
   "source": [
    "df"
   ]
  },
  {
   "cell_type": "code",
   "execution_count": null,
   "metadata": {},
   "outputs": [],
   "source": [
    "import tqdm\n",
    "import scipy.stats\n",
    "\n",
    "class NullResult:\n",
    "    statistic = None\n",
    "    pvalue = None\n",
    "\n",
    "null_result = NullResult()\n",
    "\n",
    "# pvalue_method = scipy.stats.PermutationMethod(n_resamples=1_000)\n",
    "pvalue_method = None\n",
    "results = []\n",
    "iterable = tuple(df.drop_nulls(['baseline', 'response']).group_by('unit_id', 'context_name', 'stim_name'))\n",
    "for (unit_id, context_name, stim_name, *_), unit_df in tqdm.tqdm(iterable):\n",
    "    if unit_df.n_unique('block_index') < 2:\n",
    "        # for Templeton we need spike counts for segments of time\n",
    "        continue\n",
    "    if unit_df['baseline'].sum() == 0:\n",
    "        baseline = null_result\n",
    "    else:\n",
    "        baseline = scipy.stats.anderson_ksamp(unit_df.group_by('block_index').agg(pl.col('baseline')).get_column('baseline'), method=pvalue_method)\n",
    "    if unit_df['response'].sum() == 0:\n",
    "        response = null_result\n",
    "    else:\n",
    "        response = scipy.stats.anderson_ksamp(unit_df.group_by('block_index').agg(pl.col('response')).get_column('response'), method=pvalue_method)\n",
    "    if response == null_result and baseline == null_result:\n",
    "        trial = null_result\n",
    "    else:\n",
    "        trial = scipy.stats.anderson_ksamp(unit_df.group_by('block_index').agg((pl.col('baseline') + pl.col('response')).alias('trial')).get_column('trial'), method=pvalue_method)\n",
    "    result = dict(\n",
    "        unit_id=unit_id,\n",
    "        context_name=context_name,\n",
    "        stim_name=stim_name,\n",
    "        ad_stat_baseline=baseline.statistic,\n",
    "        ad_stat_response=response.statistic,\n",
    "        ad_stat_trial=trial.statistic,\n",
    "        ad_p_baseline=baseline.pvalue,\n",
    "        ad_p_response=response.pvalue,\n",
    "        ad_p_trial=trial.pvalue,\n",
    "    )\n",
    "    results.append(result)\n",
    "    # break\n",
    "result_df = pl.DataFrame(results)\n",
    "max_min_df = (\n",
    "    result_df\n",
    "    .select(\n",
    "        'unit_id',\n",
    "        ad_stat_max_baseline=pl.col('ad_stat_baseline').max().over('unit_id'),\n",
    "        ad_stat_max_response=pl.col('ad_stat_response').max().over('unit_id'),\n",
    "        ad_stat_max_trial=pl.col('ad_stat_trial').max().over('unit_id'),\n",
    "        ad_p_min_baseline=pl.col('ad_p_baseline').min().over('unit_id'),\n",
    "        ad_p_min_response=pl.col('ad_p_response').min().over('unit_id'),\n",
    "        ad_p_min_trial=pl.col('ad_p_trial').min().over('unit_id'),\n",
    "    )\n",
    "    .unique('unit_id')\n",
    ")\n",
    "max_min_df.write_parquet('//allen/programs/mindscope/workgroups/dynamicrouting/ben/ad_test.parquet')\n",
    "max_min_df"
   ]
  },
  {
   "cell_type": "code",
   "execution_count": null,
   "metadata": {},
   "outputs": [],
   "source": [
    "len(result_df), len(max_min_df)"
   ]
  },
  {
   "cell_type": "code",
   "execution_count": 17,
   "metadata": {},
   "outputs": [
    {
     "data": {
      "text/plain": [
       "(14547, 7290)"
      ]
     },
     "execution_count": 17,
     "metadata": {},
     "output_type": "execute_result"
    }
   ],
   "source": [
    "len(result_df), len(max_min_df)"
   ]
  },
  {
   "cell_type": "code",
   "execution_count": 11,
   "metadata": {},
   "outputs": [
    {
     "data": {
      "text/html": [
       "<div><style>\n",
       ".dataframe > thead > tr,\n",
       ".dataframe > tbody > tr {\n",
       "  text-align: right;\n",
       "  white-space: pre-wrap;\n",
       "}\n",
       "</style>\n",
       "<small>shape: (10, 9)</small><table border=\"1\" class=\"dataframe\"><thead><tr><th>unit_id</th><th>context_name</th><th>stim_name</th><th>ad_stat_baseline</th><th>ad_stat_response</th><th>ad_stat_trial</th><th>ad_p_baseline</th><th>ad_p_response</th><th>ad_p_trial</th></tr><tr><td>str</td><td>str</td><td>str</td><td>f64</td><td>f64</td><td>f64</td><td>f64</td><td>f64</td><td>f64</td></tr></thead><tbody><tr><td>&quot;741137_2024-10-09_E-223&quot;</td><td>&quot;aud&quot;</td><td>&quot;sound2&quot;</td><td>0.639378</td><td>3.154024</td><td>0.906961</td><td>0.204525</td><td>0.013418</td><td>0.152958</td></tr><tr><td>&quot;741137_2024-10-09_E-223&quot;</td><td>&quot;aud&quot;</td><td>&quot;catch&quot;</td><td>1.087416</td><td>2.064874</td><td>1.093305</td><td>0.125753</td><td>0.043587</td><td>0.124952</td></tr><tr><td>&quot;741137_2024-10-09_E-223&quot;</td><td>&quot;aud&quot;</td><td>&quot;vis2&quot;</td><td>-0.9903</td><td>1.889781</td><td>-0.535186</td><td>0.25</td><td>0.052689</td><td>0.25</td></tr><tr><td>&quot;741137_2024-10-09_E-223&quot;</td><td>&quot;vis&quot;</td><td>&quot;catch&quot;</td><td>1.814996</td><td>5.037134</td><td>4.209285</td><td>0.057136</td><td>0.001761</td><td>0.004296</td></tr><tr><td>&quot;741137_2024-10-09_E-223&quot;</td><td>&quot;vis&quot;</td><td>&quot;vis2&quot;</td><td>8.953638</td><td>8.717206</td><td>14.320727</td><td>0.001</td><td>0.001</td><td>0.001</td></tr><tr><td>&quot;741137_2024-10-09_E-223&quot;</td><td>&quot;vis&quot;</td><td>&quot;sound1&quot;</td><td>10.020753</td><td>7.594551</td><td>15.535587</td><td>0.001</td><td>0.001</td><td>0.001</td></tr><tr><td>&quot;741137_2024-10-09_E-223&quot;</td><td>&quot;vis&quot;</td><td>&quot;vis1&quot;</td><td>2.599881</td><td>7.867481</td><td>5.783227</td><td>0.024428</td><td>0.001</td><td>0.001</td></tr><tr><td>&quot;741137_2024-10-09_E-223&quot;</td><td>&quot;aud&quot;</td><td>&quot;vis1&quot;</td><td>1.599188</td><td>6.490163</td><td>7.933298</td><td>0.07219</td><td>0.001</td><td>0.001</td></tr><tr><td>&quot;741137_2024-10-09_E-223&quot;</td><td>&quot;aud&quot;</td><td>&quot;sound1&quot;</td><td>0.836414</td><td>25.777405</td><td>24.543309</td><td>0.165132</td><td>0.001</td><td>0.001</td></tr><tr><td>&quot;741137_2024-10-09_E-223&quot;</td><td>&quot;vis&quot;</td><td>&quot;sound2&quot;</td><td>7.481738</td><td>5.377495</td><td>10.243103</td><td>0.001</td><td>0.001221</td><td>0.001</td></tr></tbody></table></div>"
      ],
      "text/plain": [
       "shape: (10, 9)\n",
       "┌───────────┬───────────┬───────────┬───────────┬───┬───────────┬───────────┬───────────┬──────────┐\n",
       "│ unit_id   ┆ context_n ┆ stim_name ┆ ad_stat_b ┆ … ┆ ad_stat_t ┆ ad_p_base ┆ ad_p_resp ┆ ad_p_tri │\n",
       "│ ---       ┆ ame       ┆ ---       ┆ aseline   ┆   ┆ rial      ┆ line      ┆ onse      ┆ al       │\n",
       "│ str       ┆ ---       ┆ str       ┆ ---       ┆   ┆ ---       ┆ ---       ┆ ---       ┆ ---      │\n",
       "│           ┆ str       ┆           ┆ f64       ┆   ┆ f64       ┆ f64       ┆ f64       ┆ f64      │\n",
       "╞═══════════╪═══════════╪═══════════╪═══════════╪═══╪═══════════╪═══════════╪═══════════╪══════════╡\n",
       "│ 741137_20 ┆ aud       ┆ sound2    ┆ 0.639378  ┆ … ┆ 0.906961  ┆ 0.204525  ┆ 0.013418  ┆ 0.152958 │\n",
       "│ 24-10-09_ ┆           ┆           ┆           ┆   ┆           ┆           ┆           ┆          │\n",
       "│ E-223     ┆           ┆           ┆           ┆   ┆           ┆           ┆           ┆          │\n",
       "│ 741137_20 ┆ aud       ┆ catch     ┆ 1.087416  ┆ … ┆ 1.093305  ┆ 0.125753  ┆ 0.043587  ┆ 0.124952 │\n",
       "│ 24-10-09_ ┆           ┆           ┆           ┆   ┆           ┆           ┆           ┆          │\n",
       "│ E-223     ┆           ┆           ┆           ┆   ┆           ┆           ┆           ┆          │\n",
       "│ 741137_20 ┆ aud       ┆ vis2      ┆ -0.9903   ┆ … ┆ -0.535186 ┆ 0.25      ┆ 0.052689  ┆ 0.25     │\n",
       "│ 24-10-09_ ┆           ┆           ┆           ┆   ┆           ┆           ┆           ┆          │\n",
       "│ E-223     ┆           ┆           ┆           ┆   ┆           ┆           ┆           ┆          │\n",
       "│ 741137_20 ┆ vis       ┆ catch     ┆ 1.814996  ┆ … ┆ 4.209285  ┆ 0.057136  ┆ 0.001761  ┆ 0.004296 │\n",
       "│ 24-10-09_ ┆           ┆           ┆           ┆   ┆           ┆           ┆           ┆          │\n",
       "│ E-223     ┆           ┆           ┆           ┆   ┆           ┆           ┆           ┆          │\n",
       "│ 741137_20 ┆ vis       ┆ vis2      ┆ 8.953638  ┆ … ┆ 14.320727 ┆ 0.001     ┆ 0.001     ┆ 0.001    │\n",
       "│ 24-10-09_ ┆           ┆           ┆           ┆   ┆           ┆           ┆           ┆          │\n",
       "│ E-223     ┆           ┆           ┆           ┆   ┆           ┆           ┆           ┆          │\n",
       "│ 741137_20 ┆ vis       ┆ sound1    ┆ 10.020753 ┆ … ┆ 15.535587 ┆ 0.001     ┆ 0.001     ┆ 0.001    │\n",
       "│ 24-10-09_ ┆           ┆           ┆           ┆   ┆           ┆           ┆           ┆          │\n",
       "│ E-223     ┆           ┆           ┆           ┆   ┆           ┆           ┆           ┆          │\n",
       "│ 741137_20 ┆ vis       ┆ vis1      ┆ 2.599881  ┆ … ┆ 5.783227  ┆ 0.024428  ┆ 0.001     ┆ 0.001    │\n",
       "│ 24-10-09_ ┆           ┆           ┆           ┆   ┆           ┆           ┆           ┆          │\n",
       "│ E-223     ┆           ┆           ┆           ┆   ┆           ┆           ┆           ┆          │\n",
       "│ 741137_20 ┆ aud       ┆ vis1      ┆ 1.599188  ┆ … ┆ 7.933298  ┆ 0.07219   ┆ 0.001     ┆ 0.001    │\n",
       "│ 24-10-09_ ┆           ┆           ┆           ┆   ┆           ┆           ┆           ┆          │\n",
       "│ E-223     ┆           ┆           ┆           ┆   ┆           ┆           ┆           ┆          │\n",
       "│ 741137_20 ┆ aud       ┆ sound1    ┆ 0.836414  ┆ … ┆ 24.543309 ┆ 0.165132  ┆ 0.001     ┆ 0.001    │\n",
       "│ 24-10-09_ ┆           ┆           ┆           ┆   ┆           ┆           ┆           ┆          │\n",
       "│ E-223     ┆           ┆           ┆           ┆   ┆           ┆           ┆           ┆          │\n",
       "│ 741137_20 ┆ vis       ┆ sound2    ┆ 7.481738  ┆ … ┆ 10.243103 ┆ 0.001     ┆ 0.001221  ┆ 0.001    │\n",
       "│ 24-10-09_ ┆           ┆           ┆           ┆   ┆           ┆           ┆           ┆          │\n",
       "│ E-223     ┆           ┆           ┆           ┆   ┆           ┆           ┆           ┆          │\n",
       "└───────────┴───────────┴───────────┴───────────┴───┴───────────┴───────────┴───────────┴──────────┘"
      ]
     },
     "execution_count": 11,
     "metadata": {},
     "output_type": "execute_result"
    }
   ],
   "source": [
    "result_df.filter(pl.col('unit_id') == '741137_2024-10-09_E-223')"
   ]
  },
  {
   "cell_type": "code",
   "execution_count": 13,
   "metadata": {},
   "outputs": [
    {
     "data": {
      "text/html": [
       "<div><style>\n",
       ".dataframe > thead > tr,\n",
       ".dataframe > tbody > tr {\n",
       "  text-align: right;\n",
       "  white-space: pre-wrap;\n",
       "}\n",
       "</style>\n",
       "<small>shape: (1, 7)</small><table border=\"1\" class=\"dataframe\"><thead><tr><th>unit_id</th><th>ad_stat_max_baseline</th><th>ad_stat_max_response</th><th>ad_stat_max_trial</th><th>ad_p_min_baseline</th><th>ad_p_min_response</th><th>ad_p_min_trial</th></tr><tr><td>str</td><td>f64</td><td>f64</td><td>f64</td><td>f64</td><td>f64</td><td>f64</td></tr></thead><tbody><tr><td>&quot;741137_2024-10-09_E-223&quot;</td><td>10.020753</td><td>25.777405</td><td>24.543309</td><td>0.001</td><td>0.001</td><td>0.001</td></tr></tbody></table></div>"
      ],
      "text/plain": [
       "shape: (1, 7)\n",
       "┌──────────────┬─────────────┬─────────────┬─────────────┬─────────────┬─────────────┬─────────────┐\n",
       "│ unit_id      ┆ ad_stat_max ┆ ad_stat_max ┆ ad_stat_max ┆ ad_p_min_ba ┆ ad_p_min_re ┆ ad_p_min_tr │\n",
       "│ ---          ┆ _baseline   ┆ _response   ┆ _trial      ┆ seline      ┆ sponse      ┆ ial         │\n",
       "│ str          ┆ ---         ┆ ---         ┆ ---         ┆ ---         ┆ ---         ┆ ---         │\n",
       "│              ┆ f64         ┆ f64         ┆ f64         ┆ f64         ┆ f64         ┆ f64         │\n",
       "╞══════════════╪═════════════╪═════════════╪═════════════╪═════════════╪═════════════╪═════════════╡\n",
       "│ 741137_2024- ┆ 10.020753   ┆ 25.777405   ┆ 24.543309   ┆ 0.001       ┆ 0.001       ┆ 0.001       │\n",
       "│ 10-09_E-223  ┆             ┆             ┆             ┆             ┆             ┆             │\n",
       "└──────────────┴─────────────┴─────────────┴─────────────┴─────────────┴─────────────┴─────────────┘"
      ]
     },
     "execution_count": 13,
     "metadata": {},
     "output_type": "execute_result"
    }
   ],
   "source": [
    "max_min_df.filter(pl.col('unit_id') == '741137_2024-10-09_E-223')"
   ]
  }
 ],
 "metadata": {
  "kernelspec": {
   "display_name": ".venv",
   "language": "python",
   "name": "python3"
  },
  "language_info": {
   "codemirror_mode": {
    "name": "ipython",
    "version": 3
   },
   "file_extension": ".py",
   "mimetype": "text/x-python",
   "name": "python",
   "nbconvert_exporter": "python",
   "pygments_lexer": "ipython3",
   "version": "3.11.5"
  }
 },
 "nbformat": 4,
 "nbformat_minor": 2
}
