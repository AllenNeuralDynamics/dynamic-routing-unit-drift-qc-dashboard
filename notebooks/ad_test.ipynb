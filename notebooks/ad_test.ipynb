{
 "cells": [
  {
   "cell_type": "code",
   "execution_count": null,
   "metadata": {},
   "outputs": [],
   "source": [
    "import scipy.stats\n",
    "\n",
    "import polars as pl\n",
    "\n",
    "\n",
    "annotations_df = (\n",
    "    pl.scan_parquet(\"//allen/programs/mindscope/workgroups/dynamicrouting/ben/unit_drift.parquet\")\n",
    "    .select('unit_id', 'drift_rating')\n",
    "    .filter(pl.col('unit_id').str.ends_with('_ks4').not_())\n",
    "    .with_columns(\n",
    "        session_id=pl.col('unit_id').str.split('_').list.slice(0, 2).list.join('_'),\n",
    "    )\n",
    "    .drop_nulls('drift_rating')\n",
    "    # get spike-counts ------------------------------------------------- #\n",
    "    .join(\n",
    "        other=(\n",
    "            pl.scan_parquet(\"//allen/programs/mindscope/workgroups/dynamicrouting/ben/spike_counts.parquet\")\n",
    "        ),\n",
    "        on='unit_id',\n",
    "        how='left',\n",
    "    )\n",
    "    .join(\n",
    "        other=(\n",
    "            pl.scan_parquet(\"s3://aind-scratch-data/dynamic-routing/cache/nwb_components/v0.0.261/consolidated/trials.parquet\")\n",
    "            .select('session_id', 'trial_index', 'block_index', 'context_name', 'start_time', 'stim_name')\n",
    "        ),\n",
    "        on=['session_id', 'trial_index',],\n",
    "        how='inner',\n",
    "    )\n",
    ").collect()"
   ]
  },
  {
   "cell_type": "code",
   "execution_count": null,
   "metadata": {},
   "outputs": [
    {
     "data": {
      "text/html": [
       "<div><style>\n",
       ".dataframe > thead > tr,\n",
       ".dataframe > tbody > tr {\n",
       "  text-align: right;\n",
       "  white-space: pre-wrap;\n",
       "}\n",
       "</style>\n",
       "<small>shape: (7_936, 3)</small><table border=\"1\" class=\"dataframe\"><thead><tr><th>unit_id</th><th>drift_rating</th><th>session_id</th></tr><tr><td>str</td><td>i32</td><td>str</td></tr></thead><tbody><tr><td>&quot;620263_2022-07-26_F-225&quot;</td><td>0</td><td>&quot;620263_2022-07-26&quot;</td></tr><tr><td>&quot;620263_2022-07-26_F-343&quot;</td><td>1</td><td>&quot;620263_2022-07-26&quot;</td></tr><tr><td>&quot;620263_2022-07-26_F-356&quot;</td><td>5</td><td>&quot;620263_2022-07-26&quot;</td></tr><tr><td>&quot;620263_2022-07-26_F-659&quot;</td><td>1</td><td>&quot;620263_2022-07-26&quot;</td></tr><tr><td>&quot;620263_2022-07-26_F-400&quot;</td><td>5</td><td>&quot;620263_2022-07-26&quot;</td></tr><tr><td>&hellip;</td><td>&hellip;</td><td>&hellip;</td></tr><tr><td>&quot;742903_2024-10-24_B-268&quot;</td><td>1</td><td>&quot;742903_2024-10-24&quot;</td></tr><tr><td>&quot;742903_2024-10-24_A-402&quot;</td><td>0</td><td>&quot;742903_2024-10-24&quot;</td></tr><tr><td>&quot;742903_2024-10-24_B-146&quot;</td><td>5</td><td>&quot;742903_2024-10-24&quot;</td></tr><tr><td>&quot;742903_2024-10-24_C-355&quot;</td><td>5</td><td>&quot;742903_2024-10-24&quot;</td></tr><tr><td>&quot;742903_2024-10-24_C-153&quot;</td><td>1</td><td>&quot;742903_2024-10-24&quot;</td></tr></tbody></table></div>"
      ],
      "text/plain": [
       "shape: (7_936, 3)\n",
       "┌─────────────────────────┬──────────────┬───────────────────┐\n",
       "│ unit_id                 ┆ drift_rating ┆ session_id        │\n",
       "│ ---                     ┆ ---          ┆ ---               │\n",
       "│ str                     ┆ i32          ┆ str               │\n",
       "╞═════════════════════════╪══════════════╪═══════════════════╡\n",
       "│ 620263_2022-07-26_F-225 ┆ 0            ┆ 620263_2022-07-26 │\n",
       "│ 620263_2022-07-26_F-343 ┆ 1            ┆ 620263_2022-07-26 │\n",
       "│ 620263_2022-07-26_F-356 ┆ 5            ┆ 620263_2022-07-26 │\n",
       "│ 620263_2022-07-26_F-659 ┆ 1            ┆ 620263_2022-07-26 │\n",
       "│ 620263_2022-07-26_F-400 ┆ 5            ┆ 620263_2022-07-26 │\n",
       "│ …                       ┆ …            ┆ …                 │\n",
       "│ 742903_2024-10-24_B-268 ┆ 1            ┆ 742903_2024-10-24 │\n",
       "│ 742903_2024-10-24_A-402 ┆ 0            ┆ 742903_2024-10-24 │\n",
       "│ 742903_2024-10-24_B-146 ┆ 5            ┆ 742903_2024-10-24 │\n",
       "│ 742903_2024-10-24_C-355 ┆ 5            ┆ 742903_2024-10-24 │\n",
       "│ 742903_2024-10-24_C-153 ┆ 1            ┆ 742903_2024-10-24 │\n",
       "└─────────────────────────┴──────────────┴───────────────────┘"
      ]
     },
     "execution_count": 7,
     "metadata": {},
     "output_type": "execute_result"
    },
    {
     "ename": "",
     "evalue": "",
     "output_type": "error",
     "traceback": [
      "\u001b[1;31mThe Kernel crashed while executing code in the current cell or a previous cell. \n",
      "\u001b[1;31mPlease review the code in the cell(s) to identify a possible cause of the failure. \n",
      "\u001b[1;31mClick <a href='https://aka.ms/vscodeJupyterKernelCrash'>here</a> for more info. \n",
      "\u001b[1;31mView Jupyter <a href='command:jupyter.viewOutput'>log</a> for further details."
     ]
    }
   ],
   "source": [
    "df"
   ]
  },
  {
   "cell_type": "code",
   "execution_count": null,
   "metadata": {},
   "outputs": [
    {
     "name": "stderr",
     "output_type": "stream",
     "text": [
      "  2%|▏         | 4/222 [02:02<1:58:54, 32.73s/sessions]"
     ]
    }
   ],
   "source": [
    "import polars as pl\n",
    "import tqdm\n",
    "\n",
    "all_trials_df = pl.read_parquet(f\"s3://aind-scratch-data/dynamic-routing/cache/nwb_components/v0.0.261/consolidated/trials.parquet\")\n",
    "dfs = []\n",
    "for (session_id, *_), session_df in tqdm.tqdm(all_trials_df.group_by('session_id'), total=all_trials_df.n_unique('session_id'), unit='sessions'):\n",
    "    \n",
    "    intervals_with_counts_df = insert_spike_counts_per_interval(\n",
    "        trials_frame=pl.read_parquet(f\"s3://aind-scratch-data/dynamic-routing/cache/nwb_components/v0.0.261/trials/{session_id}.parquet\"),\n",
    "        starts=(pl.col(\"stim_start_time\") - 2, pl.col(\"stim_start_time\"), ),\n",
    "        ends=(pl.col(\"stim_start_time\"), pl.col('stim_start_time') + 3, ),\n",
    "        col_names=(\"baseline\", 'response'),\n",
    "        units_frame=pl.scan_parquet(f\"s3://aind-scratch-data/dynamic-routing/cache/nwb_components/v0.0.261/units/{session_id}.parquet\"),\n",
    "    )\n",
    "    dfs.append(intervals_with_counts_df)\n",
    "\n",
    "df: pl.DataFrame = pl.concat(dfs)\n",
    "df.select('unit_id', 'basline', 'response').write_parquet('//allen/programs/mindscope/workgroups/dynamicrouting/ben/spike_counts.parquet')"
   ]
  },
  {
   "cell_type": "code",
   "execution_count": 5,
   "metadata": {},
   "outputs": [
    {
     "data": {
      "text/html": [
       "<div><style>\n",
       ".dataframe > thead > tr,\n",
       ".dataframe > tbody > tr {\n",
       "  text-align: right;\n",
       "  white-space: pre-wrap;\n",
       "}\n",
       "</style>\n",
       "<small>shape: (899_232, 54)</small><table border=\"1\" class=\"dataframe\"><thead><tr><th>unit_id</th><th>start_time</th><th>stop_time</th><th>quiescent_start_time</th><th>quiescent_stop_time</th><th>stim_start_time</th><th>stim_stop_time</th><th>response_window_start_time</th><th>response_window_stop_time</th><th>task_control_response_time</th><th>response_time</th><th>reward_time</th><th>post_response_window_start_time</th><th>post_response_window_stop_time</th><th>stim_name</th><th>block_index</th><th>context_name</th><th>trial_index</th><th>trial_index_in_block</th><th>repeat_index</th><th>is_response</th><th>is_correct</th><th>is_incorrect</th><th>is_hit</th><th>is_false_alarm</th><th>is_correct_reject</th><th>is_miss</th><th>is_go</th><th>is_nogo</th><th>is_rewarded</th><th>is_noncontingent_reward</th><th>is_contingent_reward</th><th>is_reward_scheduled</th><th>is_aud_stim</th><th>is_vis_stim</th><th>is_catch</th><th>is_target</th><th>is_aud_target</th><th>is_vis_target</th><th>is_nontarget</th><th>is_aud_nontarget</th><th>is_vis_nontarget</th><th>is_vis_context</th><th>is_aud_context</th><th>is_context_switch</th><th>is_repeat</th><th>is_opto</th><th>session_idx</th><th>date</th><th>subject_id</th><th>session_id</th><th>id</th><th>baseline</th><th>response</th></tr><tr><td>str</td><td>f64</td><td>f64</td><td>f64</td><td>f64</td><td>f64</td><td>f64</td><td>f64</td><td>f64</td><td>f64</td><td>f64</td><td>f64</td><td>f64</td><td>f64</td><td>str</td><td>i64</td><td>str</td><td>i64</td><td>f64</td><td>f64</td><td>bool</td><td>bool</td><td>bool</td><td>bool</td><td>bool</td><td>bool</td><td>bool</td><td>bool</td><td>bool</td><td>bool</td><td>bool</td><td>bool</td><td>bool</td><td>bool</td><td>bool</td><td>bool</td><td>bool</td><td>bool</td><td>bool</td><td>bool</td><td>bool</td><td>bool</td><td>bool</td><td>bool</td><td>bool</td><td>bool</td><td>bool</td><td>i64</td><td>date</td><td>i64</td><td>str</td><td>i64</td><td>i64</td><td>i64</td></tr></thead><tbody><tr><td>&quot;741137_2024-10-08_B-180&quot;</td><td>5698.17385</td><td>5703.69511</td><td>5698.17385</td><td>5699.67508</td><td>5699.68329</td><td>5700.18329</td><td>5699.75847</td><td>5700.67588</td><td>5700.5258</td><td>5700.51571</td><td>5700.54321</td><td>5700.706257</td><td>5703.725497</td><td>&quot;sound1&quot;</td><td>5</td><td>&quot;aud&quot;</td><td>529</td><td>75.0</td><td>0.0</td><td>true</td><td>true</td><td>false</td><td>true</td><td>false</td><td>false</td><td>false</td><td>true</td><td>false</td><td>true</td><td>false</td><td>true</td><td>false</td><td>true</td><td>false</td><td>false</td><td>true</td><td>true</td><td>false</td><td>false</td><td>false</td><td>false</td><td>false</td><td>true</td><td>false</td><td>false</td><td>false</td><td>0</td><td>2024-10-08</td><td>741137</td><td>&quot;741137_2024-10-08&quot;</td><td>529</td><td>0</td><td>0</td></tr><tr><td>&quot;741137_2024-10-08_B-150&quot;</td><td>2330.85339</td><td>2336.35804</td><td>2330.85339</td><td>2332.35464</td><td>2332.36248</td><td>2332.86248</td><td>2332.43807</td><td>2333.35548</td><td>null</td><td>null</td><td>null</td><td>2333.385823</td><td>2336.388343</td><td>&quot;sound1&quot;</td><td>0</td><td>&quot;vis&quot;</td><td>27</td><td>27.0</td><td>0.0</td><td>false</td><td>true</td><td>false</td><td>false</td><td>false</td><td>true</td><td>false</td><td>false</td><td>true</td><td>false</td><td>false</td><td>false</td><td>false</td><td>true</td><td>false</td><td>false</td><td>true</td><td>true</td><td>false</td><td>false</td><td>false</td><td>false</td><td>true</td><td>false</td><td>false</td><td>false</td><td>false</td><td>0</td><td>2024-10-08</td><td>741137</td><td>&quot;741137_2024-10-08&quot;</td><td>27</td><td>74</td><td>121</td></tr><tr><td>&quot;741137_2024-10-08_F-236&quot;</td><td>3555.1622</td><td>3560.66678</td><td>3555.1622</td><td>3556.66342</td><td>3556.6715</td><td>3557.1715</td><td>3556.74686</td><td>3557.6643</td><td>null</td><td>null</td><td>null</td><td>3557.694687</td><td>3560.697197</td><td>&quot;sound1&quot;</td><td>2</td><td>&quot;vis&quot;</td><td>210</td><td>28.0</td><td>0.0</td><td>false</td><td>true</td><td>false</td><td>false</td><td>false</td><td>true</td><td>false</td><td>false</td><td>true</td><td>false</td><td>false</td><td>false</td><td>false</td><td>true</td><td>false</td><td>false</td><td>true</td><td>true</td><td>false</td><td>false</td><td>false</td><td>false</td><td>true</td><td>false</td><td>false</td><td>false</td><td>false</td><td>0</td><td>2024-10-08</td><td>741137</td><td>&quot;741137_2024-10-08&quot;</td><td>210</td><td>0</td><td>7</td></tr><tr><td>&quot;741137_2024-10-08_A-130&quot;</td><td>4808.91237</td><td>4814.46695</td><td>4808.91237</td><td>4810.43036</td><td>4810.460733</td><td>4810.961123</td><td>4810.51365</td><td>4811.43108</td><td>4811.28098</td><td>4811.27212</td><td>4811.2984</td><td>4811.461513</td><td>4814.497393</td><td>&quot;vis1&quot;</td><td>4</td><td>&quot;vis&quot;</td><td>398</td><td>33.0</td><td>0.0</td><td>true</td><td>true</td><td>false</td><td>true</td><td>false</td><td>false</td><td>false</td><td>true</td><td>false</td><td>true</td><td>false</td><td>true</td><td>false</td><td>false</td><td>true</td><td>false</td><td>true</td><td>false</td><td>true</td><td>false</td><td>false</td><td>false</td><td>true</td><td>false</td><td>false</td><td>false</td><td>false</td><td>0</td><td>2024-10-08</td><td>741137</td><td>&quot;741137_2024-10-08&quot;</td><td>398</td><td>10</td><td>3</td></tr><tr><td>&quot;741137_2024-10-08_E-325&quot;</td><td>4061.3362</td><td>4066.85743</td><td>4061.3362</td><td>4062.83745</td><td>4062.84517</td><td>4063.34517</td><td>4062.92083</td><td>4063.83829</td><td>null</td><td>null</td><td>null</td><td>4063.868667</td><td>4066.887777</td><td>&quot;sound2&quot;</td><td>3</td><td>&quot;aud&quot;</td><td>286</td><td>13.0</td><td>0.0</td><td>false</td><td>true</td><td>false</td><td>false</td><td>false</td><td>true</td><td>false</td><td>false</td><td>true</td><td>false</td><td>false</td><td>false</td><td>false</td><td>true</td><td>false</td><td>false</td><td>false</td><td>false</td><td>false</td><td>true</td><td>true</td><td>false</td><td>false</td><td>true</td><td>false</td><td>false</td><td>false</td><td>0</td><td>2024-10-08</td><td>741137</td><td>&quot;741137_2024-10-08&quot;</td><td>286</td><td>0</td><td>1</td></tr><tr><td>&hellip;</td><td>&hellip;</td><td>&hellip;</td><td>&hellip;</td><td>&hellip;</td><td>&hellip;</td><td>&hellip;</td><td>&hellip;</td><td>&hellip;</td><td>&hellip;</td><td>&hellip;</td><td>&hellip;</td><td>&hellip;</td><td>&hellip;</td><td>&hellip;</td><td>&hellip;</td><td>&hellip;</td><td>&hellip;</td><td>&hellip;</td><td>&hellip;</td><td>&hellip;</td><td>&hellip;</td><td>&hellip;</td><td>&hellip;</td><td>&hellip;</td><td>&hellip;</td><td>&hellip;</td><td>&hellip;</td><td>&hellip;</td><td>&hellip;</td><td>&hellip;</td><td>&hellip;</td><td>&hellip;</td><td>&hellip;</td><td>&hellip;</td><td>&hellip;</td><td>&hellip;</td><td>&hellip;</td><td>&hellip;</td><td>&hellip;</td><td>&hellip;</td><td>&hellip;</td><td>&hellip;</td><td>&hellip;</td><td>&hellip;</td><td>&hellip;</td><td>&hellip;</td><td>&hellip;</td><td>&hellip;</td><td>&hellip;</td><td>&hellip;</td><td>&hellip;</td><td>&hellip;</td><td>&hellip;</td></tr><tr><td>&quot;741137_2024-10-08_E-25&quot;</td><td>4442.75562</td><td>4448.26025</td><td>4442.75562</td><td>4444.25694</td><td>4444.26413</td><td>4444.76413</td><td>4444.3403</td><td>4445.25774</td><td>null</td><td>null</td><td>null</td><td>4445.288107</td><td>4448.290637</td><td>&quot;sound2&quot;</td><td>3</td><td>&quot;aud&quot;</td><td>343</td><td>70.0</td><td>0.0</td><td>false</td><td>true</td><td>false</td><td>false</td><td>false</td><td>true</td><td>false</td><td>false</td><td>true</td><td>false</td><td>false</td><td>false</td><td>false</td><td>true</td><td>false</td><td>false</td><td>false</td><td>false</td><td>false</td><td>true</td><td>true</td><td>false</td><td>false</td><td>true</td><td>false</td><td>false</td><td>false</td><td>0</td><td>2024-10-08</td><td>741137</td><td>&quot;741137_2024-10-08&quot;</td><td>343</td><td>35</td><td>34</td></tr><tr><td>&quot;741137_2024-10-08_E-125&quot;</td><td>4751.08059</td><td>4756.6185</td><td>4751.08059</td><td>4752.59849</td><td>4752.628857</td><td>4753.129267</td><td>4752.68188</td><td>4753.59933</td><td>null</td><td>null</td><td>null</td><td>4753.629697</td><td>4756.648897</td><td>&quot;vis2&quot;</td><td>4</td><td>&quot;vis&quot;</td><td>390</td><td>25.0</td><td>0.0</td><td>false</td><td>true</td><td>false</td><td>false</td><td>false</td><td>true</td><td>false</td><td>false</td><td>true</td><td>false</td><td>false</td><td>false</td><td>false</td><td>false</td><td>true</td><td>false</td><td>false</td><td>false</td><td>false</td><td>true</td><td>false</td><td>true</td><td>true</td><td>false</td><td>false</td><td>false</td><td>false</td><td>0</td><td>2024-10-08</td><td>741137</td><td>&quot;741137_2024-10-08&quot;</td><td>390</td><td>0</td><td>0</td></tr><tr><td>&quot;741137_2024-10-08_B-205&quot;</td><td>4967.54516</td><td>4973.08315</td><td>4967.54516</td><td>4969.04645</td><td>4969.05434</td><td>4969.55434</td><td>4969.12988</td><td>4970.06396</td><td>null</td><td>null</td><td>null</td><td>4970.094303</td><td>4973.113563</td><td>&quot;sound2&quot;</td><td>4</td><td>&quot;vis&quot;</td><td>421</td><td>56.0</td><td>0.0</td><td>false</td><td>true</td><td>false</td><td>false</td><td>false</td><td>true</td><td>false</td><td>false</td><td>true</td><td>false</td><td>false</td><td>false</td><td>false</td><td>true</td><td>false</td><td>false</td><td>false</td><td>false</td><td>false</td><td>true</td><td>true</td><td>false</td><td>true</td><td>false</td><td>false</td><td>false</td><td>false</td><td>0</td><td>2024-10-08</td><td>741137</td><td>&quot;741137_2024-10-08&quot;</td><td>421</td><td>0</td><td>0</td></tr><tr><td>&quot;741137_2024-10-08_E-363&quot;</td><td>3642.15169</td><td>3647.68966</td><td>3642.15169</td><td>3643.66964</td><td>3643.700003</td><td>3644.200403</td><td>3643.75305</td><td>3644.67047</td><td>null</td><td>null</td><td>null</td><td>3644.700853</td><td>3647.720143</td><td>&quot;vis2&quot;</td><td>2</td><td>&quot;vis&quot;</td><td>224</td><td>42.0</td><td>0.0</td><td>false</td><td>true</td><td>false</td><td>false</td><td>false</td><td>true</td><td>false</td><td>false</td><td>true</td><td>false</td><td>false</td><td>false</td><td>false</td><td>false</td><td>true</td><td>false</td><td>false</td><td>false</td><td>false</td><td>true</td><td>false</td><td>true</td><td>true</td><td>false</td><td>false</td><td>false</td><td>false</td><td>0</td><td>2024-10-08</td><td>741137</td><td>&quot;741137_2024-10-08&quot;</td><td>224</td><td>2</td><td>6</td></tr><tr><td>&quot;741137_2024-10-08_E-213&quot;</td><td>3739.11627</td><td>3744.65421</td><td>3739.11627</td><td>3740.61754</td><td>3740.647877</td><td>3741.165027</td><td>3740.70094</td><td>3741.63504</td><td>null</td><td>null</td><td>null</td><td>3741.665437</td><td>3744.684587</td><td>&quot;vis2&quot;</td><td>2</td><td>&quot;vis&quot;</td><td>238</td><td>56.0</td><td>0.0</td><td>false</td><td>true</td><td>false</td><td>false</td><td>false</td><td>true</td><td>false</td><td>false</td><td>true</td><td>false</td><td>false</td><td>false</td><td>false</td><td>false</td><td>true</td><td>false</td><td>false</td><td>false</td><td>false</td><td>true</td><td>false</td><td>true</td><td>true</td><td>false</td><td>false</td><td>false</td><td>false</td><td>0</td><td>2024-10-08</td><td>741137</td><td>&quot;741137_2024-10-08&quot;</td><td>238</td><td>4</td><td>3</td></tr></tbody></table></div>"
      ],
      "text/plain": [
       "shape: (899_232, 54)\n",
       "┌─────────────┬────────────┬────────────┬─────────────┬───┬────────────┬─────┬──────────┬──────────┐\n",
       "│ unit_id     ┆ start_time ┆ stop_time  ┆ quiescent_s ┆ … ┆ session_id ┆ id  ┆ baseline ┆ response │\n",
       "│ ---         ┆ ---        ┆ ---        ┆ tart_time   ┆   ┆ ---        ┆ --- ┆ ---      ┆ ---      │\n",
       "│ str         ┆ f64        ┆ f64        ┆ ---         ┆   ┆ str        ┆ i64 ┆ i64      ┆ i64      │\n",
       "│             ┆            ┆            ┆ f64         ┆   ┆            ┆     ┆          ┆          │\n",
       "╞═════════════╪════════════╪════════════╪═════════════╪═══╪════════════╪═════╪══════════╪══════════╡\n",
       "│ 741137_2024 ┆ 5698.17385 ┆ 5703.69511 ┆ 5698.17385  ┆ … ┆ 741137_202 ┆ 529 ┆ 0        ┆ 0        │\n",
       "│ -10-08_B-18 ┆            ┆            ┆             ┆   ┆ 4-10-08    ┆     ┆          ┆          │\n",
       "│ 0           ┆            ┆            ┆             ┆   ┆            ┆     ┆          ┆          │\n",
       "│ 741137_2024 ┆ 2330.85339 ┆ 2336.35804 ┆ 2330.85339  ┆ … ┆ 741137_202 ┆ 27  ┆ 74       ┆ 121      │\n",
       "│ -10-08_B-15 ┆            ┆            ┆             ┆   ┆ 4-10-08    ┆     ┆          ┆          │\n",
       "│ 0           ┆            ┆            ┆             ┆   ┆            ┆     ┆          ┆          │\n",
       "│ 741137_2024 ┆ 3555.1622  ┆ 3560.66678 ┆ 3555.1622   ┆ … ┆ 741137_202 ┆ 210 ┆ 0        ┆ 7        │\n",
       "│ -10-08_F-23 ┆            ┆            ┆             ┆   ┆ 4-10-08    ┆     ┆          ┆          │\n",
       "│ 6           ┆            ┆            ┆             ┆   ┆            ┆     ┆          ┆          │\n",
       "│ 741137_2024 ┆ 4808.91237 ┆ 4814.46695 ┆ 4808.91237  ┆ … ┆ 741137_202 ┆ 398 ┆ 10       ┆ 3        │\n",
       "│ -10-08_A-13 ┆            ┆            ┆             ┆   ┆ 4-10-08    ┆     ┆          ┆          │\n",
       "│ 0           ┆            ┆            ┆             ┆   ┆            ┆     ┆          ┆          │\n",
       "│ 741137_2024 ┆ 4061.3362  ┆ 4066.85743 ┆ 4061.3362   ┆ … ┆ 741137_202 ┆ 286 ┆ 0        ┆ 1        │\n",
       "│ -10-08_E-32 ┆            ┆            ┆             ┆   ┆ 4-10-08    ┆     ┆          ┆          │\n",
       "│ 5           ┆            ┆            ┆             ┆   ┆            ┆     ┆          ┆          │\n",
       "│ …           ┆ …          ┆ …          ┆ …           ┆ … ┆ …          ┆ …   ┆ …        ┆ …        │\n",
       "│ 741137_2024 ┆ 4442.75562 ┆ 4448.26025 ┆ 4442.75562  ┆ … ┆ 741137_202 ┆ 343 ┆ 35       ┆ 34       │\n",
       "│ -10-08_E-25 ┆            ┆            ┆             ┆   ┆ 4-10-08    ┆     ┆          ┆          │\n",
       "│ 741137_2024 ┆ 4751.08059 ┆ 4756.6185  ┆ 4751.08059  ┆ … ┆ 741137_202 ┆ 390 ┆ 0        ┆ 0        │\n",
       "│ -10-08_E-12 ┆            ┆            ┆             ┆   ┆ 4-10-08    ┆     ┆          ┆          │\n",
       "│ 5           ┆            ┆            ┆             ┆   ┆            ┆     ┆          ┆          │\n",
       "│ 741137_2024 ┆ 4967.54516 ┆ 4973.08315 ┆ 4967.54516  ┆ … ┆ 741137_202 ┆ 421 ┆ 0        ┆ 0        │\n",
       "│ -10-08_B-20 ┆            ┆            ┆             ┆   ┆ 4-10-08    ┆     ┆          ┆          │\n",
       "│ 5           ┆            ┆            ┆             ┆   ┆            ┆     ┆          ┆          │\n",
       "│ 741137_2024 ┆ 3642.15169 ┆ 3647.68966 ┆ 3642.15169  ┆ … ┆ 741137_202 ┆ 224 ┆ 2        ┆ 6        │\n",
       "│ -10-08_E-36 ┆            ┆            ┆             ┆   ┆ 4-10-08    ┆     ┆          ┆          │\n",
       "│ 3           ┆            ┆            ┆             ┆   ┆            ┆     ┆          ┆          │\n",
       "│ 741137_2024 ┆ 3739.11627 ┆ 3744.65421 ┆ 3739.11627  ┆ … ┆ 741137_202 ┆ 238 ┆ 4        ┆ 3        │\n",
       "│ -10-08_E-21 ┆            ┆            ┆             ┆   ┆ 4-10-08    ┆     ┆          ┆          │\n",
       "│ 3           ┆            ┆            ┆             ┆   ┆            ┆     ┆          ┆          │\n",
       "└─────────────┴────────────┴────────────┴─────────────┴───┴────────────┴─────┴──────────┴──────────┘"
      ]
     },
     "execution_count": 5,
     "metadata": {},
     "output_type": "execute_result"
    }
   ],
   "source": [
    "len(result_df), len(max_min_df)"
   ]
  },
  {
   "cell_type": "code",
   "execution_count": 4,
   "metadata": {},
   "outputs": [
    {
     "name": "stderr",
     "output_type": "stream",
     "text": [
      "  0%|          | 0/159 [00:00<?, ?sessions/s]"
     ]
    },
    {
     "name": "stderr",
     "output_type": "stream",
     "text": []
    },
    {
     "ename": "",
     "evalue": "",
     "output_type": "error",
     "traceback": [
      "\u001b[1;31mThe Kernel crashed while executing code in the current cell or a previous cell. \n",
      "\u001b[1;31mPlease review the code in the cell(s) to identify a possible cause of the failure. \n",
      "\u001b[1;31mClick <a href='https://aka.ms/vscodeJupyterKernelCrash'>here</a> for more info. \n",
      "\u001b[1;31mView Jupyter <a href='command:jupyter.viewOutput'>log</a> for further details."
     ]
    }
   ],
   "source": [
    "import math\n",
    "import tqdm\n",
    "import scipy.stats\n",
    "\n",
    "class NullResult:\n",
    "    statistic = None\n",
    "    pvalue = None\n",
    "\n",
    "null_result = NullResult()\n",
    "\n",
    "def get_samples(unit_df: pl.DataFrame, interval: str) -> list[pl.Series] | None:\n",
    "    if interval == 'trial' and 'trial' not in unit_df.columns:\n",
    "        unit_df = unit_df.with_columns(trial=pl.col('baseline') + pl.col('response'))\n",
    "    if unit_df[interval].sum() == 0:\n",
    "        # cannot perform test if all samples are the same (zero spikes is a common case)\n",
    "        return None\n",
    "    if unit_df.n_unique('block_index') < 2:\n",
    "        # for Templeton we chunk spike counts into 3 segments of time\n",
    "        return list(s[interval] for s in unit_df.sort('trial_index').iter_slices(math.ceil(len(unit_df) / 3)))\n",
    "    return unit_df.group_by('block_index').agg(pl.col(interval)).get_column(interval)\n",
    "\n",
    "pvalue_method = None\n",
    "pvalue_method = scipy.stats.PermutationMethod(n_resamples=1_000)\n",
    "midrank = False\n",
    "results = []\n",
    "\n",
    "for (session_id, *_), session_df in tqdm.tqdm(annotations_df.group_by('session_id'), total=annotations_df.n_unique('session_id'), unit='sessions'):\n",
    "    \n",
    "    intervals_with_counts_df = insert_spike_counts_per_interval(\n",
    "        trials_frame=pl.read_parquet(f\"s3://aind-scratch-data/dynamic-routing/cache/nwb_components/v0.0.261/trials/{session_id}.parquet\"),\n",
    "        starts=(pl.col(\"stim_start_time\") - 2, pl.col(\"stim_start_time\"), ),\n",
    "        ends=(pl.col(\"stim_start_time\"), pl.col('stim_start_time') + 3, ),\n",
    "        col_names=(\"baseline\", 'response'),\n",
    "        units_frame=pl.scan_parquet(f\"s3://aind-scratch-data/dynamic-routing/cache/nwb_components/v0.0.261/units/{session_id}.parquet\").filter(pl.col('unit_id').is_in(session_df['unit_id'])),\n",
    "    )\n",
    "    \n",
    "    iterable = tuple(intervals_with_counts_df.drop_nulls(['baseline', 'response']).sort('unit_id').group_by('unit_id', 'context_name', maintain_order=True ))\n",
    "    for (unit_id, context_name, *_), unit_df in tqdm.tqdm(iterable):\n",
    "        result = dict(\n",
    "            unit_id=unit_id,\n",
    "            context_name=context_name,\n",
    "        )\n",
    "        for interval in ('baseline', 'response', 'trial'):\n",
    "            samples = get_samples(unit_df, interval)\n",
    "            if samples is None:\n",
    "                stats = null_result\n",
    "            else:\n",
    "                stats = scipy.stats.anderson_ksamp(samples, midrank=midrank, method=pvalue_method)\n",
    "            result[f'ad_stat_{interval}'] = stats.statistic\n",
    "            result[f'ad_p_{interval}'] = stats.pvalue\n",
    "        results.append(result)\n",
    "    \n",
    "result_df = pl.DataFrame(results)\n",
    "max_min_df = (\n",
    "    result_df\n",
    "    .select(\n",
    "        'unit_id',\n",
    "        ad_stat_max_baseline=pl.col('ad_stat_baseline').max().over('unit_id'),\n",
    "        ad_stat_max_response=pl.col('ad_stat_response').max().over('unit_id'),\n",
    "        ad_stat_max_trial=pl.col('ad_stat_trial').max().over('unit_id'),\n",
    "        ad_p_min_baseline=pl.col('ad_p_baseline').min().over('unit_id'),\n",
    "        ad_p_min_response=pl.col('ad_p_response').min().over('unit_id'),\n",
    "        ad_p_min_trial=pl.col('ad_p_trial').min().over('unit_id'),\n",
    "    )\n",
    "    .unique('unit_id')\n",
    ")\n",
    "max_min_df.write_parquet('//allen/programs/mindscope/workgroups/dynamicrouting/ben/ad_test.parquet')\n",
    "max_min_df"
   ]
  },
  {
   "cell_type": "code",
   "execution_count": 85,
   "metadata": {},
   "outputs": [
    {
     "data": {
      "text/html": [
       "<div><style>\n",
       ".dataframe > thead > tr,\n",
       ".dataframe > tbody > tr {\n",
       "  text-align: right;\n",
       "  white-space: pre-wrap;\n",
       "}\n",
       "</style>\n",
       "<small>shape: (1, 1)</small><table border=\"1\" class=\"dataframe\"><thead><tr><th>obs_intervals</th></tr><tr><td>list[list[f64]]</td></tr></thead><tbody><tr><td>[[14.975021, 4767.923937]]</td></tr></tbody></table></div>"
      ],
      "text/plain": [
       "shape: (1, 1)\n",
       "┌────────────────────────────┐\n",
       "│ obs_intervals              │\n",
       "│ ---                        │\n",
       "│ list[list[f64]]            │\n",
       "╞════════════════════════════╡\n",
       "│ [[14.975021, 4767.923937]] │\n",
       "└────────────────────────────┘"
      ]
     },
     "execution_count": 85,
     "metadata": {},
     "output_type": "execute_result"
    }
   ],
   "source": [
    "pl.scan_parquet(\"s3://aind-scratch-data/dynamic-routing/cache/nwb_components/v0.0.261/consolidated/units.parquet\").filter(pl.col('unit_id') == unit_id).select('obs_intervals').collect()"
   ]
  },
  {
   "cell_type": "code",
   "execution_count": 88,
   "metadata": {},
   "outputs": [
    {
     "data": {
      "text/html": [
       "<div><style>\n",
       ".dataframe > thead > tr,\n",
       ".dataframe > tbody > tr {\n",
       "  text-align: right;\n",
       "  white-space: pre-wrap;\n",
       "}\n",
       "</style>\n",
       "<small>shape: (94, 4)</small><table border=\"1\" class=\"dataframe\"><thead><tr><th>trial_index</th><th>unit_id</th><th>baseline</th><th>response</th></tr><tr><td>i64</td><td>str</td><td>i64</td><td>i64</td></tr></thead><tbody><tr><td>0</td><td>&quot;636766_2023-01-23_C-168&quot;</td><td>0</td><td>0</td></tr><tr><td>1</td><td>&quot;636766_2023-01-23_C-168&quot;</td><td>0</td><td>0</td></tr><tr><td>2</td><td>&quot;636766_2023-01-23_C-168&quot;</td><td>0</td><td>0</td></tr><tr><td>3</td><td>&quot;636766_2023-01-23_C-168&quot;</td><td>0</td><td>1</td></tr><tr><td>4</td><td>&quot;636766_2023-01-23_C-168&quot;</td><td>0</td><td>0</td></tr><tr><td>&hellip;</td><td>&hellip;</td><td>&hellip;</td><td>&hellip;</td></tr><tr><td>89</td><td>&quot;636766_2023-01-23_C-168&quot;</td><td>0</td><td>0</td></tr><tr><td>90</td><td>&quot;636766_2023-01-23_C-168&quot;</td><td>0</td><td>0</td></tr><tr><td>91</td><td>&quot;636766_2023-01-23_C-168&quot;</td><td>0</td><td>0</td></tr><tr><td>92</td><td>&quot;636766_2023-01-23_C-168&quot;</td><td>0</td><td>0</td></tr><tr><td>93</td><td>&quot;636766_2023-01-23_C-168&quot;</td><td>0</td><td>1</td></tr></tbody></table></div>"
      ],
      "text/plain": [
       "shape: (94, 4)\n",
       "┌─────────────┬─────────────────────────┬──────────┬──────────┐\n",
       "│ trial_index ┆ unit_id                 ┆ baseline ┆ response │\n",
       "│ ---         ┆ ---                     ┆ ---      ┆ ---      │\n",
       "│ i64         ┆ str                     ┆ i64      ┆ i64      │\n",
       "╞═════════════╪═════════════════════════╪══════════╪══════════╡\n",
       "│ 0           ┆ 636766_2023-01-23_C-168 ┆ 0        ┆ 0        │\n",
       "│ 1           ┆ 636766_2023-01-23_C-168 ┆ 0        ┆ 0        │\n",
       "│ 2           ┆ 636766_2023-01-23_C-168 ┆ 0        ┆ 0        │\n",
       "│ 3           ┆ 636766_2023-01-23_C-168 ┆ 0        ┆ 1        │\n",
       "│ 4           ┆ 636766_2023-01-23_C-168 ┆ 0        ┆ 0        │\n",
       "│ …           ┆ …                       ┆ …        ┆ …        │\n",
       "│ 89          ┆ 636766_2023-01-23_C-168 ┆ 0        ┆ 0        │\n",
       "│ 90          ┆ 636766_2023-01-23_C-168 ┆ 0        ┆ 0        │\n",
       "│ 91          ┆ 636766_2023-01-23_C-168 ┆ 0        ┆ 0        │\n",
       "│ 92          ┆ 636766_2023-01-23_C-168 ┆ 0        ┆ 0        │\n",
       "│ 93          ┆ 636766_2023-01-23_C-168 ┆ 0        ┆ 1        │\n",
       "└─────────────┴─────────────────────────┴──────────┴──────────┘"
      ]
     },
     "execution_count": 88,
     "metadata": {},
     "output_type": "execute_result"
    }
   ],
   "source": [
    "pl.scan_parquet(\"//allen/programs/mindscope/workgroups/dynamicrouting/ben/spike_counts.parquet\").filter(pl.col('unit_id') == unit_id).collect().drop_nulls()"
   ]
  },
  {
   "cell_type": "code",
   "execution_count": 80,
   "metadata": {},
   "outputs": [
    {
     "data": {
      "text/plain": [
       "'response'"
      ]
     },
     "execution_count": 80,
     "metadata": {},
     "output_type": "execute_result"
    }
   ],
   "source": [
    "interval"
   ]
  },
  {
   "cell_type": "code",
   "execution_count": 78,
   "metadata": {},
   "outputs": [
    {
     "data": {
      "text/html": [
       "<div><style>\n",
       ".dataframe > thead > tr,\n",
       ".dataframe > tbody > tr {\n",
       "  text-align: right;\n",
       "  white-space: pre-wrap;\n",
       "}\n",
       "</style>\n",
       "<small>shape: (3, 10)</small><table border=\"1\" class=\"dataframe\"><thead><tr><th>unit_id</th><th>drift_rating</th><th>session_id</th><th>trial_index</th><th>baseline</th><th>response</th><th>block_index</th><th>context_name</th><th>start_time</th><th>stim_name</th></tr><tr><td>str</td><td>i32</td><td>str</td><td>i64</td><td>i64</td><td>i64</td><td>i64</td><td>str</td><td>f64</td><td>str</td></tr></thead><tbody><tr><td>&quot;636766_2023-01-23_C-168&quot;</td><td>5</td><td>&quot;636766_2023-01-23&quot;</td><td>91</td><td>0</td><td>0</td><td>1</td><td>&quot;aud&quot;</td><td>1564.68196</td><td>&quot;sound1&quot;</td></tr><tr><td>&quot;636766_2023-01-23_C-168&quot;</td><td>5</td><td>&quot;636766_2023-01-23&quot;</td><td>92</td><td>0</td><td>0</td><td>1</td><td>&quot;aud&quot;</td><td>1570.26992</td><td>&quot;sound1&quot;</td></tr><tr><td>&quot;636766_2023-01-23_C-168&quot;</td><td>5</td><td>&quot;636766_2023-01-23&quot;</td><td>93</td><td>0</td><td>1</td><td>1</td><td>&quot;aud&quot;</td><td>1577.64278</td><td>&quot;sound1&quot;</td></tr></tbody></table></div>"
      ],
      "text/plain": [
       "shape: (3, 10)\n",
       "┌───────────┬───────────┬───────────┬───────────┬───┬───────────┬───────────┬───────────┬──────────┐\n",
       "│ unit_id   ┆ drift_rat ┆ session_i ┆ trial_ind ┆ … ┆ block_ind ┆ context_n ┆ start_tim ┆ stim_nam │\n",
       "│ ---       ┆ ing       ┆ d         ┆ ex        ┆   ┆ ex        ┆ ame       ┆ e         ┆ e        │\n",
       "│ str       ┆ ---       ┆ ---       ┆ ---       ┆   ┆ ---       ┆ ---       ┆ ---       ┆ ---      │\n",
       "│           ┆ i32       ┆ str       ┆ i64       ┆   ┆ i64       ┆ str       ┆ f64       ┆ str      │\n",
       "╞═══════════╪═══════════╪═══════════╪═══════════╪═══╪═══════════╪═══════════╪═══════════╪══════════╡\n",
       "│ 636766_20 ┆ 5         ┆ 636766_20 ┆ 91        ┆ … ┆ 1         ┆ aud       ┆ 1564.6819 ┆ sound1   │\n",
       "│ 23-01-23_ ┆           ┆ 23-01-23  ┆           ┆   ┆           ┆           ┆ 6         ┆          │\n",
       "│ C-168     ┆           ┆           ┆           ┆   ┆           ┆           ┆           ┆          │\n",
       "│ 636766_20 ┆ 5         ┆ 636766_20 ┆ 92        ┆ … ┆ 1         ┆ aud       ┆ 1570.2699 ┆ sound1   │\n",
       "│ 23-01-23_ ┆           ┆ 23-01-23  ┆           ┆   ┆           ┆           ┆ 2         ┆          │\n",
       "│ C-168     ┆           ┆           ┆           ┆   ┆           ┆           ┆           ┆          │\n",
       "│ 636766_20 ┆ 5         ┆ 636766_20 ┆ 93        ┆ … ┆ 1         ┆ aud       ┆ 1577.6427 ┆ sound1   │\n",
       "│ 23-01-23_ ┆           ┆ 23-01-23  ┆           ┆   ┆           ┆           ┆ 8         ┆          │\n",
       "│ C-168     ┆           ┆           ┆           ┆   ┆           ┆           ┆           ┆          │\n",
       "└───────────┴───────────┴───────────┴───────────┴───┴───────────┴───────────┴───────────┴──────────┘"
      ]
     },
     "execution_count": 78,
     "metadata": {},
     "output_type": "execute_result"
    }
   ],
   "source": [
    "unit_df"
   ]
  },
  {
   "cell_type": "code",
   "execution_count": 23,
   "metadata": {},
   "outputs": [
    {
     "data": {
      "text/html": [
       "<div><style>\n",
       ".dataframe > thead > tr,\n",
       ".dataframe > tbody > tr {\n",
       "  text-align: right;\n",
       "  white-space: pre-wrap;\n",
       "}\n",
       "</style>\n",
       "<small>shape: (9, 8)</small><table border=\"1\" class=\"dataframe\"><thead><tr><th>statistic</th><th>unit_id</th><th>ad_stat_max_baseline</th><th>ad_stat_max_response</th><th>ad_stat_max_trial</th><th>ad_p_min_baseline</th><th>ad_p_min_response</th><th>ad_p_min_trial</th></tr><tr><td>str</td><td>str</td><td>f64</td><td>f64</td><td>f64</td><td>f64</td><td>f64</td><td>f64</td></tr></thead><tbody><tr><td>&quot;count&quot;</td><td>&quot;7290&quot;</td><td>7249.0</td><td>7279.0</td><td>7284.0</td><td>7249.0</td><td>7279.0</td><td>7284.0</td></tr><tr><td>&quot;null_count&quot;</td><td>&quot;0&quot;</td><td>41.0</td><td>11.0</td><td>6.0</td><td>41.0</td><td>11.0</td><td>6.0</td></tr><tr><td>&quot;mean&quot;</td><td>null</td><td>22.887552</td><td>25.844388</td><td>30.347851</td><td>0.038323</td><td>0.027792</td><td>0.022533</td></tr><tr><td>&quot;std&quot;</td><td>null</td><td>31.344237</td><td>32.790018</td><td>34.912484</td><td>0.078592</td><td>0.067013</td><td>0.06085</td></tr><tr><td>&quot;min&quot;</td><td>&quot;626791_2022-08-15_A-124&quot;</td><td>-1.870859</td><td>-1.697056</td><td>-1.874194</td><td>0.001</td><td>0.000999</td><td>0.001</td></tr><tr><td>&quot;25%&quot;</td><td>null</td><td>2.9653</td><td>4.094793</td><td>5.461257</td><td>0.001</td><td>0.001</td><td>0.001</td></tr><tr><td>&quot;50%&quot;</td><td>null</td><td>10.020355</td><td>11.997118</td><td>15.868298</td><td>0.001</td><td>0.001</td><td>0.001</td></tr><tr><td>&quot;75%&quot;</td><td>null</td><td>28.876063</td><td>34.20802</td><td>43.36421</td><td>0.016482</td><td>0.004861</td><td>0.00114</td></tr><tr><td>&quot;max&quot;</td><td>&quot;742903_2024-10-24_F-593&quot;</td><td>200.927871</td><td>189.769959</td><td>189.991276</td><td>0.25</td><td>0.25</td><td>0.25</td></tr></tbody></table></div>"
      ],
      "text/plain": [
       "shape: (9, 8)\n",
       "┌────────────┬────────────┬────────────┬───────────┬───────────┬───────────┬───────────┬───────────┐\n",
       "│ statistic  ┆ unit_id    ┆ ad_stat_ma ┆ ad_stat_m ┆ ad_stat_m ┆ ad_p_min_ ┆ ad_p_min_ ┆ ad_p_min_ │\n",
       "│ ---        ┆ ---        ┆ x_baseline ┆ ax_respon ┆ ax_trial  ┆ baseline  ┆ response  ┆ trial     │\n",
       "│ str        ┆ str        ┆ ---        ┆ se        ┆ ---       ┆ ---       ┆ ---       ┆ ---       │\n",
       "│            ┆            ┆ f64        ┆ ---       ┆ f64       ┆ f64       ┆ f64       ┆ f64       │\n",
       "│            ┆            ┆            ┆ f64       ┆           ┆           ┆           ┆           │\n",
       "╞════════════╪════════════╪════════════╪═══════════╪═══════════╪═══════════╪═══════════╪═══════════╡\n",
       "│ count      ┆ 7290       ┆ 7249.0     ┆ 7279.0    ┆ 7284.0    ┆ 7249.0    ┆ 7279.0    ┆ 7284.0    │\n",
       "│ null_count ┆ 0          ┆ 41.0       ┆ 11.0      ┆ 6.0       ┆ 41.0      ┆ 11.0      ┆ 6.0       │\n",
       "│ mean       ┆ null       ┆ 22.887552  ┆ 25.844388 ┆ 30.347851 ┆ 0.038323  ┆ 0.027792  ┆ 0.022533  │\n",
       "│ std        ┆ null       ┆ 31.344237  ┆ 32.790018 ┆ 34.912484 ┆ 0.078592  ┆ 0.067013  ┆ 0.06085   │\n",
       "│ min        ┆ 626791_202 ┆ -1.870859  ┆ -1.697056 ┆ -1.874194 ┆ 0.001     ┆ 0.000999  ┆ 0.001     │\n",
       "│            ┆ 2-08-15_A- ┆            ┆           ┆           ┆           ┆           ┆           │\n",
       "│            ┆ 124        ┆            ┆           ┆           ┆           ┆           ┆           │\n",
       "│ 25%        ┆ null       ┆ 2.9653     ┆ 4.094793  ┆ 5.461257  ┆ 0.001     ┆ 0.001     ┆ 0.001     │\n",
       "│ 50%        ┆ null       ┆ 10.020355  ┆ 11.997118 ┆ 15.868298 ┆ 0.001     ┆ 0.001     ┆ 0.001     │\n",
       "│ 75%        ┆ null       ┆ 28.876063  ┆ 34.20802  ┆ 43.36421  ┆ 0.016482  ┆ 0.004861  ┆ 0.00114   │\n",
       "│ max        ┆ 742903_202 ┆ 200.927871 ┆ 189.76995 ┆ 189.99127 ┆ 0.25      ┆ 0.25      ┆ 0.25      │\n",
       "│            ┆ 4-10-24_F- ┆            ┆ 9         ┆ 6         ┆           ┆           ┆           │\n",
       "│            ┆ 593        ┆            ┆           ┆           ┆           ┆           ┆           │\n",
       "└────────────┴────────────┴────────────┴───────────┴───────────┴───────────┴───────────┴───────────┘"
      ]
     },
     "execution_count": 23,
     "metadata": {},
     "output_type": "execute_result"
    }
   ],
   "source": [
    "max_min_df.describe()"
   ]
  },
  {
   "cell_type": "code",
   "execution_count": 19,
   "metadata": {},
   "outputs": [
    {
     "data": {
      "text/plain": [
       "(72722, 7290)"
      ]
     },
     "execution_count": 19,
     "metadata": {},
     "output_type": "execute_result"
    }
   ],
   "source": [
    "len(result_df), len(max_min_df)"
   ]
  },
  {
   "cell_type": "code",
   "execution_count": null,
   "metadata": {},
   "outputs": [],
   "source": []
  },
  {
   "cell_type": "code",
   "execution_count": 17,
   "metadata": {},
   "outputs": [
    {
     "data": {
      "text/plain": [
       "(14547, 7290)"
      ]
     },
     "execution_count": 17,
     "metadata": {},
     "output_type": "execute_result"
    }
   ],
   "source": [
    "len(result_df), len(max_min_df)"
   ]
  },
  {
   "cell_type": "code",
   "execution_count": 11,
   "metadata": {},
   "outputs": [
    {
     "data": {
      "text/html": [
       "<div><style>\n",
       ".dataframe > thead > tr,\n",
       ".dataframe > tbody > tr {\n",
       "  text-align: right;\n",
       "  white-space: pre-wrap;\n",
       "}\n",
       "</style>\n",
       "<small>shape: (10, 9)</small><table border=\"1\" class=\"dataframe\"><thead><tr><th>unit_id</th><th>context_name</th><th>stim_name</th><th>ad_stat_baseline</th><th>ad_stat_response</th><th>ad_stat_trial</th><th>ad_p_baseline</th><th>ad_p_response</th><th>ad_p_trial</th></tr><tr><td>str</td><td>str</td><td>str</td><td>f64</td><td>f64</td><td>f64</td><td>f64</td><td>f64</td><td>f64</td></tr></thead><tbody><tr><td>&quot;741137_2024-10-09_E-223&quot;</td><td>&quot;aud&quot;</td><td>&quot;sound2&quot;</td><td>0.639378</td><td>3.154024</td><td>0.906961</td><td>0.204525</td><td>0.013418</td><td>0.152958</td></tr><tr><td>&quot;741137_2024-10-09_E-223&quot;</td><td>&quot;aud&quot;</td><td>&quot;catch&quot;</td><td>1.087416</td><td>2.064874</td><td>1.093305</td><td>0.125753</td><td>0.043587</td><td>0.124952</td></tr><tr><td>&quot;741137_2024-10-09_E-223&quot;</td><td>&quot;aud&quot;</td><td>&quot;vis2&quot;</td><td>-0.9903</td><td>1.889781</td><td>-0.535186</td><td>0.25</td><td>0.052689</td><td>0.25</td></tr><tr><td>&quot;741137_2024-10-09_E-223&quot;</td><td>&quot;vis&quot;</td><td>&quot;catch&quot;</td><td>1.814996</td><td>5.037134</td><td>4.209285</td><td>0.057136</td><td>0.001761</td><td>0.004296</td></tr><tr><td>&quot;741137_2024-10-09_E-223&quot;</td><td>&quot;vis&quot;</td><td>&quot;vis2&quot;</td><td>8.953638</td><td>8.717206</td><td>14.320727</td><td>0.001</td><td>0.001</td><td>0.001</td></tr><tr><td>&quot;741137_2024-10-09_E-223&quot;</td><td>&quot;vis&quot;</td><td>&quot;sound1&quot;</td><td>10.020753</td><td>7.594551</td><td>15.535587</td><td>0.001</td><td>0.001</td><td>0.001</td></tr><tr><td>&quot;741137_2024-10-09_E-223&quot;</td><td>&quot;vis&quot;</td><td>&quot;vis1&quot;</td><td>2.599881</td><td>7.867481</td><td>5.783227</td><td>0.024428</td><td>0.001</td><td>0.001</td></tr><tr><td>&quot;741137_2024-10-09_E-223&quot;</td><td>&quot;aud&quot;</td><td>&quot;vis1&quot;</td><td>1.599188</td><td>6.490163</td><td>7.933298</td><td>0.07219</td><td>0.001</td><td>0.001</td></tr><tr><td>&quot;741137_2024-10-09_E-223&quot;</td><td>&quot;aud&quot;</td><td>&quot;sound1&quot;</td><td>0.836414</td><td>25.777405</td><td>24.543309</td><td>0.165132</td><td>0.001</td><td>0.001</td></tr><tr><td>&quot;741137_2024-10-09_E-223&quot;</td><td>&quot;vis&quot;</td><td>&quot;sound2&quot;</td><td>7.481738</td><td>5.377495</td><td>10.243103</td><td>0.001</td><td>0.001221</td><td>0.001</td></tr></tbody></table></div>"
      ],
      "text/plain": [
       "shape: (10, 9)\n",
       "┌───────────┬───────────┬───────────┬───────────┬───┬───────────┬───────────┬───────────┬──────────┐\n",
       "│ unit_id   ┆ context_n ┆ stim_name ┆ ad_stat_b ┆ … ┆ ad_stat_t ┆ ad_p_base ┆ ad_p_resp ┆ ad_p_tri │\n",
       "│ ---       ┆ ame       ┆ ---       ┆ aseline   ┆   ┆ rial      ┆ line      ┆ onse      ┆ al       │\n",
       "│ str       ┆ ---       ┆ str       ┆ ---       ┆   ┆ ---       ┆ ---       ┆ ---       ┆ ---      │\n",
       "│           ┆ str       ┆           ┆ f64       ┆   ┆ f64       ┆ f64       ┆ f64       ┆ f64      │\n",
       "╞═══════════╪═══════════╪═══════════╪═══════════╪═══╪═══════════╪═══════════╪═══════════╪══════════╡\n",
       "│ 741137_20 ┆ aud       ┆ sound2    ┆ 0.639378  ┆ … ┆ 0.906961  ┆ 0.204525  ┆ 0.013418  ┆ 0.152958 │\n",
       "│ 24-10-09_ ┆           ┆           ┆           ┆   ┆           ┆           ┆           ┆          │\n",
       "│ E-223     ┆           ┆           ┆           ┆   ┆           ┆           ┆           ┆          │\n",
       "│ 741137_20 ┆ aud       ┆ catch     ┆ 1.087416  ┆ … ┆ 1.093305  ┆ 0.125753  ┆ 0.043587  ┆ 0.124952 │\n",
       "│ 24-10-09_ ┆           ┆           ┆           ┆   ┆           ┆           ┆           ┆          │\n",
       "│ E-223     ┆           ┆           ┆           ┆   ┆           ┆           ┆           ┆          │\n",
       "│ 741137_20 ┆ aud       ┆ vis2      ┆ -0.9903   ┆ … ┆ -0.535186 ┆ 0.25      ┆ 0.052689  ┆ 0.25     │\n",
       "│ 24-10-09_ ┆           ┆           ┆           ┆   ┆           ┆           ┆           ┆          │\n",
       "│ E-223     ┆           ┆           ┆           ┆   ┆           ┆           ┆           ┆          │\n",
       "│ 741137_20 ┆ vis       ┆ catch     ┆ 1.814996  ┆ … ┆ 4.209285  ┆ 0.057136  ┆ 0.001761  ┆ 0.004296 │\n",
       "│ 24-10-09_ ┆           ┆           ┆           ┆   ┆           ┆           ┆           ┆          │\n",
       "│ E-223     ┆           ┆           ┆           ┆   ┆           ┆           ┆           ┆          │\n",
       "│ 741137_20 ┆ vis       ┆ vis2      ┆ 8.953638  ┆ … ┆ 14.320727 ┆ 0.001     ┆ 0.001     ┆ 0.001    │\n",
       "│ 24-10-09_ ┆           ┆           ┆           ┆   ┆           ┆           ┆           ┆          │\n",
       "│ E-223     ┆           ┆           ┆           ┆   ┆           ┆           ┆           ┆          │\n",
       "│ 741137_20 ┆ vis       ┆ sound1    ┆ 10.020753 ┆ … ┆ 15.535587 ┆ 0.001     ┆ 0.001     ┆ 0.001    │\n",
       "│ 24-10-09_ ┆           ┆           ┆           ┆   ┆           ┆           ┆           ┆          │\n",
       "│ E-223     ┆           ┆           ┆           ┆   ┆           ┆           ┆           ┆          │\n",
       "│ 741137_20 ┆ vis       ┆ vis1      ┆ 2.599881  ┆ … ┆ 5.783227  ┆ 0.024428  ┆ 0.001     ┆ 0.001    │\n",
       "│ 24-10-09_ ┆           ┆           ┆           ┆   ┆           ┆           ┆           ┆          │\n",
       "│ E-223     ┆           ┆           ┆           ┆   ┆           ┆           ┆           ┆          │\n",
       "│ 741137_20 ┆ aud       ┆ vis1      ┆ 1.599188  ┆ … ┆ 7.933298  ┆ 0.07219   ┆ 0.001     ┆ 0.001    │\n",
       "│ 24-10-09_ ┆           ┆           ┆           ┆   ┆           ┆           ┆           ┆          │\n",
       "│ E-223     ┆           ┆           ┆           ┆   ┆           ┆           ┆           ┆          │\n",
       "│ 741137_20 ┆ aud       ┆ sound1    ┆ 0.836414  ┆ … ┆ 24.543309 ┆ 0.165132  ┆ 0.001     ┆ 0.001    │\n",
       "│ 24-10-09_ ┆           ┆           ┆           ┆   ┆           ┆           ┆           ┆          │\n",
       "│ E-223     ┆           ┆           ┆           ┆   ┆           ┆           ┆           ┆          │\n",
       "│ 741137_20 ┆ vis       ┆ sound2    ┆ 7.481738  ┆ … ┆ 10.243103 ┆ 0.001     ┆ 0.001221  ┆ 0.001    │\n",
       "│ 24-10-09_ ┆           ┆           ┆           ┆   ┆           ┆           ┆           ┆          │\n",
       "│ E-223     ┆           ┆           ┆           ┆   ┆           ┆           ┆           ┆          │\n",
       "└───────────┴───────────┴───────────┴───────────┴───┴───────────┴───────────┴───────────┴──────────┘"
      ]
     },
     "execution_count": 11,
     "metadata": {},
     "output_type": "execute_result"
    }
   ],
   "source": [
    "result_df.filter(pl.col('unit_id') == '741137_2024-10-09_E-223')"
   ]
  },
  {
   "cell_type": "code",
   "execution_count": 13,
   "metadata": {},
   "outputs": [
    {
     "data": {
      "text/html": [
       "<div><style>\n",
       ".dataframe > thead > tr,\n",
       ".dataframe > tbody > tr {\n",
       "  text-align: right;\n",
       "  white-space: pre-wrap;\n",
       "}\n",
       "</style>\n",
       "<small>shape: (1, 7)</small><table border=\"1\" class=\"dataframe\"><thead><tr><th>unit_id</th><th>ad_stat_max_baseline</th><th>ad_stat_max_response</th><th>ad_stat_max_trial</th><th>ad_p_min_baseline</th><th>ad_p_min_response</th><th>ad_p_min_trial</th></tr><tr><td>str</td><td>f64</td><td>f64</td><td>f64</td><td>f64</td><td>f64</td><td>f64</td></tr></thead><tbody><tr><td>&quot;741137_2024-10-09_E-223&quot;</td><td>10.020753</td><td>25.777405</td><td>24.543309</td><td>0.001</td><td>0.001</td><td>0.001</td></tr></tbody></table></div>"
      ],
      "text/plain": [
       "shape: (1, 7)\n",
       "┌──────────────┬─────────────┬─────────────┬─────────────┬─────────────┬─────────────┬─────────────┐\n",
       "│ unit_id      ┆ ad_stat_max ┆ ad_stat_max ┆ ad_stat_max ┆ ad_p_min_ba ┆ ad_p_min_re ┆ ad_p_min_tr │\n",
       "│ ---          ┆ _baseline   ┆ _response   ┆ _trial      ┆ seline      ┆ sponse      ┆ ial         │\n",
       "│ str          ┆ ---         ┆ ---         ┆ ---         ┆ ---         ┆ ---         ┆ ---         │\n",
       "│              ┆ f64         ┆ f64         ┆ f64         ┆ f64         ┆ f64         ┆ f64         │\n",
       "╞══════════════╪═════════════╪═════════════╪═════════════╪═════════════╪═════════════╪═════════════╡\n",
       "│ 741137_2024- ┆ 10.020753   ┆ 25.777405   ┆ 24.543309   ┆ 0.001       ┆ 0.001       ┆ 0.001       │\n",
       "│ 10-09_E-223  ┆             ┆             ┆             ┆             ┆             ┆             │\n",
       "└──────────────┴─────────────┴─────────────┴─────────────┴─────────────┴─────────────┴─────────────┘"
      ]
     },
     "execution_count": 13,
     "metadata": {},
     "output_type": "execute_result"
    }
   ],
   "source": [
    "max_min_df.filter(pl.col('unit_id') == '741137_2024-10-09_E-223')"
   ]
  }
 ],
 "metadata": {
  "kernelspec": {
   "display_name": ".venv",
   "language": "python",
   "name": "python3"
  },
  "language_info": {
   "codemirror_mode": {
    "name": "ipython",
    "version": 3
   },
   "file_extension": ".py",
   "mimetype": "text/x-python",
   "name": "python",
   "nbconvert_exporter": "python",
   "pygments_lexer": "ipython3",
   "version": "3.11.5"
  }
 },
 "nbformat": 4,
 "nbformat_minor": 2
}
