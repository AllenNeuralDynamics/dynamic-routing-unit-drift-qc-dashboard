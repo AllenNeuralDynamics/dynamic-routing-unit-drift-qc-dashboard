{
 "cells": [
  {
   "cell_type": "markdown",
   "metadata": {},
   "source": [
    "- matches well in the first block, with slight shift in spike times (no technical explanation for\n",
    "  this)\n",
    "- doesn't match well in blocks 2:6\n",
    "- ks4 unit is marked \"mua\" (probabilty = 0.76)\n",
    "- similar estimated y\n",
    "    - ks4: 1656 um\n",
    "    - ks25: (1674, 1662)"
   ]
  },
  {
   "cell_type": "code",
   "execution_count": 20,
   "metadata": {},
   "outputs": [
    {
     "data": {
      "text/html": [
       "\n",
       "<div style=\"display: flex; justify-content: space-around;\">\n",
       "    <img src=\"742903_2024-10-21_E-179.png\" width=\"600\">\n",
       "    <img src=\"742903_2024-10-21_E-180.png\" width=\"600\">\n",
       "    <img src=\"742903_2024-10-21_E-293_ks4.png\" width=\"600\">\n",
       "</div>\n"
      ],
      "text/plain": [
       "<IPython.core.display.HTML object>"
      ]
     },
     "metadata": {},
     "output_type": "display_data"
    }
   ],
   "source": [
    "import pathlib\n",
    "import sys\n",
    "\n",
    "import PIL.Image\n",
    "sys.path.append(str(pathlib.Path.cwd().absolute().parent))\n",
    "\n",
    "import PIL\n",
    "from IPython.display import HTML\n",
    "from app_rating import display_image, get_raster\n",
    "\n",
    "split_unit_id_1 = '742903_2024-10-21_E-179'\n",
    "split_unit_id_2 = '742903_2024-10-21_E-180'\n",
    "\n",
    "ks4_candidate = '742903_2024-10-21_E-293_ks4'\n",
    "\n",
    "for unit_id in (\n",
    "    split_unit_id_1,\n",
    "    split_unit_id_2,\n",
    "):\n",
    "    path = pathlib.Path(f'{unit_id}.png')\n",
    "    if not path.exists():\n",
    "        path.write_bytes(get_raster(unit_id))\n",
    "\n",
    "width = 600\n",
    "html = f\"\"\"\n",
    "<div style=\"display: flex; justify-content: space-around;\">\n",
    "    <img src=\"{split_unit_id_1}.png\" width=\"{width}\">\n",
    "    <img src=\"{split_unit_id_2}.png\" width=\"{width}\">\n",
    "    <img src=\"{ks4_candidate}.png\" width=\"{width}\">\n",
    "</div>\n",
    "\"\"\"\n",
    "display(HTML(html))"
   ]
  }
 ],
 "metadata": {
  "kernelspec": {
   "display_name": ".venv",
   "language": "python",
   "name": "python3"
  },
  "language_info": {
   "codemirror_mode": {
    "name": "ipython",
    "version": 3
   },
   "file_extension": ".py",
   "mimetype": "text/x-python",
   "name": "python",
   "nbconvert_exporter": "python",
   "pygments_lexer": "ipython3",
   "version": "3.11.5"
  }
 },
 "nbformat": 4,
 "nbformat_minor": 2
}
