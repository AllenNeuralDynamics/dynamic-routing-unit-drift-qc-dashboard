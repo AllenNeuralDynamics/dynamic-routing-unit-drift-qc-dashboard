{
 "cells": [
  {
   "cell_type": "code",
   "execution_count": 5,
   "metadata": {},
   "outputs": [],
   "source": [
    "import pathlib\n",
    "import sys\n",
    "sys.path.append(str(pathlib.Path.cwd().absolute().parent))\n",
    "\n",
    "import polars as pl\n",
    "import altair as alt\n",
    "import panel as pn\n",
    "\n",
    "from db_utils import get_df\n"
   ]
  },
  {
   "cell_type": "code",
   "execution_count": 11,
   "metadata": {},
   "outputs": [
    {
     "data": {
      "text/html": [
       "<div><style>\n",
       ".dataframe > thead > tr,\n",
       ".dataframe > tbody > tr {\n",
       "  text-align: right;\n",
       "  white-space: pre-wrap;\n",
       "}\n",
       "</style>\n",
       "<small>shape: (5, 2)</small><table border=\"1\" class=\"dataframe\"><thead><tr><th>session_id</th><th>count</th></tr><tr><td>str</td><td>u32</td></tr></thead><tbody><tr><td>&quot;742903_2024-10-22&quot;</td><td>3375</td></tr><tr><td>&quot;742903_2024-10-21&quot;</td><td>116</td></tr><tr><td>&quot;626791_2022-08-17&quot;</td><td>35</td></tr><tr><td>&quot;702136_2024-03-04&quot;</td><td>34</td></tr><tr><td>&quot;702136_2024-03-06&quot;</td><td>34</td></tr></tbody></table></div>"
      ],
      "text/plain": [
       "shape: (5, 2)\n",
       "┌───────────────────┬───────┐\n",
       "│ session_id        ┆ count │\n",
       "│ ---               ┆ ---   │\n",
       "│ str               ┆ u32   │\n",
       "╞═══════════════════╪═══════╡\n",
       "│ 742903_2024-10-22 ┆ 3375  │\n",
       "│ 742903_2024-10-21 ┆ 116   │\n",
       "│ 626791_2022-08-17 ┆ 35    │\n",
       "│ 702136_2024-03-04 ┆ 34    │\n",
       "│ 702136_2024-03-06 ┆ 34    │\n",
       "└───────────────────┴───────┘"
      ]
     },
     "execution_count": 11,
     "metadata": {},
     "output_type": "execute_result"
    }
   ],
   "source": [
    "(\n",
    "    get_df()\n",
    "    .drop_nulls('drift_rating')\n",
    "    .group_by('session_id')\n",
    "    .agg(pl.col('drift_rating').count().alias('count'))\n",
    "    .sort('count', descending=True)\n",
    ").head(5)"
   ]
  }
 ],
 "metadata": {
  "kernelspec": {
   "display_name": ".venv",
   "language": "python",
   "name": "python3"
  },
  "language_info": {
   "codemirror_mode": {
    "name": "ipython",
    "version": 3
   },
   "file_extension": ".py",
   "mimetype": "text/x-python",
   "name": "python",
   "nbconvert_exporter": "python",
   "pygments_lexer": "ipython3",
   "version": "3.11.5"
  }
 },
 "nbformat": 4,
 "nbformat_minor": 2
}
