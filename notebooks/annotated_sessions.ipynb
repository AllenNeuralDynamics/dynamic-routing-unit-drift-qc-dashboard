{
 "cells": [
  {
   "cell_type": "code",
   "execution_count": null,
   "metadata": {},
   "outputs": [
    {
     "ename": "",
     "evalue": "",
     "output_type": "error",
     "traceback": [
      "\u001b[1;31mFailed to start the Kernel. \n",
      "\u001b[1;31mThe kernel died. Error: ... View Jupyter <a href='command:jupyter.viewOutput'>log</a> for further details."
     ]
    }
   ],
   "source": [
    "import pathlib\n",
    "import sys\n",
    "sys.path.append(str(pathlib.Path.cwd().absolute().parent))\n",
    "\n",
    "import polars as pl\n",
    "import altair as alt\n",
    "import panel as pn\n",
    "\n",
    "from db_utils import get_units_df\n"
   ]
  },
  {
   "cell_type": "code",
   "execution_count": null,
   "metadata": {},
   "outputs": [],
   "source": [
    "df = (\n",
    "    get_units_df()\n",
    "    .drop_nulls('drift_rating')\n",
    "    .group_by('session_id')\n",
    "    .agg(pl.col('drift_rating').count().alias('count'))\n",
    "    .sort('count')\n",
    ")\n",
    "df.plot.bar('session_id', 'count', width=1600)"
   ]
  }
 ],
 "metadata": {
  "kernelspec": {
   "display_name": ".venv",
   "language": "python",
   "name": "python3"
  },
  "language_info": {
   "name": "python",
   "version": "3.11.5"
  }
 },
 "nbformat": 4,
 "nbformat_minor": 2
}
